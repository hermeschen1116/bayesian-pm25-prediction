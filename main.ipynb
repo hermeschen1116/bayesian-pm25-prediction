{
 "cells": [
  {
   "cell_type": "code",
   "execution_count": 1,
   "metadata": {
    "collapsed": true,
    "ExecuteTime": {
     "end_time": "2023-06-10T15:08:02.328915Z",
     "start_time": "2023-06-10T15:07:50.481640Z"
    }
   },
   "outputs": [
    {
     "name": "stderr",
     "output_type": "stream",
     "text": [
      "WARNING (pytensor.tensor.blas): Using NumPy C-API based implementation for BLAS functions.\n"
     ]
    }
   ],
   "source": [
    "import arviz as az\n",
    "import numpy as np\n",
    "import polars as ps\n",
    "import pymc as pm\n",
    "from pytensor import shared\n",
    "from sklearn.model_selection import train_test_split"
   ]
  },
  {
   "cell_type": "code",
   "execution_count": 2,
   "outputs": [],
   "source": [
    "%matplotlib inline\n",
    "%config InlineBackend.figure_format = 'retina'"
   ],
   "metadata": {
    "collapsed": false,
    "ExecuteTime": {
     "end_time": "2023-06-10T15:08:02.370998Z",
     "start_time": "2023-06-10T15:08:02.333149Z"
    }
   }
  },
  {
   "cell_type": "markdown",
   "source": [
    "# Load Data"
   ],
   "metadata": {
    "collapsed": false
   }
  },
  {
   "cell_type": "code",
   "execution_count": 3,
   "outputs": [],
   "source": [
    "type_map: list = [ps.Int32, ps.Int32, ps.Int32, ps.Int32, ps.Int32, ps.Int32, ps.Int32, \n",
    "                  ps.Int32, ps.Float32, ps.Float32, ps.Float32, ps.Float32, ps.Float32, \n",
    "                  ps.Float32, ps.Float32, ps.Float32, ps.Float32, ps.Float32, \n",
    "                  ps.Float32, ps.Int32, ps.Float32, ps.Float32, ps.Float32]"
   ],
   "metadata": {
    "collapsed": false,
    "ExecuteTime": {
     "end_time": "2023-06-10T15:08:18.136748Z",
     "start_time": "2023-06-10T15:08:18.108445Z"
    }
   }
  },
  {
   "cell_type": "code",
   "execution_count": 4,
   "outputs": [],
   "source": [
    "dataset: ps.DataFrame = ps.read_csv('full_dataset_train.csv', dtypes=type_map, encoding='utf8', n_threads=8, use_pyarrow=True)"
   ],
   "metadata": {
    "collapsed": false,
    "ExecuteTime": {
     "end_time": "2023-06-10T15:08:19.545957Z",
     "start_time": "2023-06-10T15:08:19.542402Z"
    }
   }
  },
  {
   "cell_type": "code",
   "execution_count": 5,
   "outputs": [],
   "source": [
    "dataset = dataset[:1000]"
   ],
   "metadata": {
    "collapsed": false,
    "ExecuteTime": {
     "end_time": "2023-06-10T15:08:19.907005Z",
     "start_time": "2023-06-10T15:08:19.889225Z"
    }
   }
  },
  {
   "cell_type": "code",
   "execution_count": 6,
   "outputs": [
    {
     "data": {
      "text/plain": "shape: (5, 23)\n┌────────┬─────────────┬──────────────┬────────────┬───┬───────────┬───────────┬───────┬───────────┐\n│ SiteId ┆ PublishYear ┆ PublishMonth ┆ PublishDay ┆ … ┆ WindDirec ┆ WindSpeed ┆ PM2.5 ┆ PM2.5_AVG │\n│ ---    ┆ ---         ┆ ---          ┆ ---        ┆   ┆ ---       ┆ ---       ┆ ---   ┆ ---       │\n│ i32    ┆ i32         ┆ i32          ┆ i32        ┆   ┆ i32       ┆ f32       ┆ f32   ┆ f32       │\n╞════════╪═════════════╪══════════════╪════════════╪═══╪═══════════╪═══════════╪═══════╪═══════════╡\n│ 48     ┆ 2022        ┆ 6            ┆ 1          ┆ … ┆ 85        ┆ 0.9       ┆ 7.0   ┆ 5.0       │\n│ 58     ┆ 2022        ┆ 6            ┆ 1          ┆ … ┆ 237       ┆ 0.4       ┆ 13.0  ┆ 8.0       │\n│ 71     ┆ 2022        ┆ 6            ┆ 1          ┆ … ┆ 253       ┆ 0.5       ┆ 8.0   ┆ 7.0       │\n│ 15     ┆ 2022        ┆ 6            ┆ 1          ┆ … ┆ 70        ┆ 0.3       ┆ 9.0   ┆ 7.0       │\n│ 8      ┆ 2022        ┆ 6            ┆ 1          ┆ … ┆ 161       ┆ 0.9       ┆ 8.0   ┆ 7.0       │\n└────────┴─────────────┴──────────────┴────────────┴───┴───────────┴───────────┴───────┴───────────┘",
      "text/html": "<div><style>\n.dataframe > thead > tr > th,\n.dataframe > tbody > tr > td {\n  text-align: right;\n}\n</style>\n<small>shape: (5, 23)</small><table border=\"1\" class=\"dataframe\"><thead><tr><th>SiteId</th><th>PublishYear</th><th>PublishMonth</th><th>PublishDay</th><th>PublishHour</th><th>AQI</th><th>Pollutant</th><th>Status</th><th>SO2</th><th>SO2_AVG</th><th>CO</th><th>CO_8hr</th><th>O3</th><th>O3_8hr</th><th>PM10</th><th>PM10_AVG</th><th>NO</th><th>NO2</th><th>NOx</th><th>WindDirec</th><th>WindSpeed</th><th>PM2.5</th><th>PM2.5_AVG</th></tr><tr><td>i32</td><td>i32</td><td>i32</td><td>i32</td><td>i32</td><td>i32</td><td>i32</td><td>i32</td><td>f32</td><td>f32</td><td>f32</td><td>f32</td><td>f32</td><td>f32</td><td>f32</td><td>f32</td><td>f32</td><td>f32</td><td>f32</td><td>i32</td><td>f32</td><td>f32</td><td>f32</td></tr></thead><tbody><tr><td>48</td><td>2022</td><td>6</td><td>1</td><td>0</td><td>27</td><td>0</td><td>0</td><td>0.9</td><td>1.0</td><td>0.3</td><td>0.1</td><td>1.7</td><td>14.3</td><td>19.0</td><td>17.0</td><td>3.9</td><td>16.5</td><td>20.4</td><td>85</td><td>0.9</td><td>7.0</td><td>5.0</td></tr><tr><td>58</td><td>2022</td><td>6</td><td>1</td><td>1</td><td>40</td><td>0</td><td>0</td><td>2.1</td><td>3.0</td><td>0.1</td><td>0.1</td><td>0.4</td><td>3.3</td><td>21.0</td><td>16.0</td><td>22.4</td><td>24.6</td><td>47.0</td><td>237</td><td>0.4</td><td>13.0</td><td>8.0</td></tr><tr><td>71</td><td>2022</td><td>6</td><td>1</td><td>1</td><td>37</td><td>0</td><td>0</td><td>2.1</td><td>1.0</td><td>0.3</td><td>0.2</td><td>0.0</td><td>7.2</td><td>22.0</td><td>18.0</td><td>6.0</td><td>22.200001</td><td>28.200001</td><td>253</td><td>0.5</td><td>8.0</td><td>7.0</td></tr><tr><td>15</td><td>2022</td><td>6</td><td>1</td><td>2</td><td>23</td><td>1</td><td>0</td><td>0.7</td><td>1.0</td><td>0.4</td><td>0.5</td><td>0.7</td><td>3.4</td><td>16.0</td><td>13.0</td><td>3.7</td><td>14.0</td><td>17.799999</td><td>70</td><td>0.3</td><td>9.0</td><td>7.0</td></tr><tr><td>8</td><td>2022</td><td>6</td><td>1</td><td>4</td><td>23</td><td>1</td><td>0</td><td>0.6</td><td>0.0</td><td>0.3</td><td>0.5</td><td>4.2</td><td>3.6</td><td>14.0</td><td>12.0</td><td>1.5</td><td>10.3</td><td>11.8</td><td>161</td><td>0.9</td><td>8.0</td><td>7.0</td></tr></tbody></table></div>"
     },
     "execution_count": 6,
     "metadata": {},
     "output_type": "execute_result"
    }
   ],
   "source": [
    "dataset.head()"
   ],
   "metadata": {
    "collapsed": false,
    "ExecuteTime": {
     "end_time": "2023-06-10T15:08:20.986476Z",
     "start_time": "2023-06-10T15:08:20.961702Z"
    }
   }
  },
  {
   "cell_type": "markdown",
   "source": [
    "# Features"
   ],
   "metadata": {
    "collapsed": false
   }
  },
  {
   "cell_type": "code",
   "execution_count": 7,
   "outputs": [],
   "source": [
    "features: list = ['AQI', 'Status', 'PM10', 'PM10_AVG', 'PM2.5_AVG']\n",
    "target_feature: str = 'PM2.5'"
   ],
   "metadata": {
    "collapsed": false,
    "ExecuteTime": {
     "end_time": "2023-06-10T15:08:24.328002Z",
     "start_time": "2023-06-10T15:08:24.324358Z"
    }
   }
  },
  {
   "cell_type": "code",
   "execution_count": 8,
   "outputs": [],
   "source": [
    "variables: np.array = np.array([dataset[feature].to_numpy() for feature in features])\n",
    "variables = variables.transpose()"
   ],
   "metadata": {
    "collapsed": false,
    "ExecuteTime": {
     "end_time": "2023-06-10T15:08:25.144954Z",
     "start_time": "2023-06-10T15:08:25.123431Z"
    }
   }
  },
  {
   "cell_type": "code",
   "execution_count": 9,
   "outputs": [],
   "source": [
    "target: np.array = dataset[target_feature].to_numpy().reshape(1, -1)\n",
    "target = target.transpose()"
   ],
   "metadata": {
    "collapsed": false,
    "ExecuteTime": {
     "end_time": "2023-06-10T15:08:26.416565Z",
     "start_time": "2023-06-10T15:08:26.402353Z"
    }
   }
  },
  {
   "cell_type": "code",
   "execution_count": 10,
   "outputs": [],
   "source": [
    "train_variables, test_variables, train_target, test_target = train_test_split(variables, target, test_size=0.4, random_state=37710, shuffle=True)"
   ],
   "metadata": {
    "collapsed": false,
    "ExecuteTime": {
     "end_time": "2023-06-10T15:08:27.400705Z",
     "start_time": "2023-06-10T15:08:27.384750Z"
    }
   }
  },
  {
   "cell_type": "code",
   "execution_count": 11,
   "outputs": [],
   "source": [
    "train_variables = shared(train_variables.transpose())\n",
    "train_target = train_target.transpose()\n",
    "test_variables = test_variables\n",
    "test_target = test_target"
   ],
   "metadata": {
    "collapsed": false,
    "ExecuteTime": {
     "end_time": "2023-06-10T15:08:28.040462Z",
     "start_time": "2023-06-10T15:08:27.979070Z"
    }
   }
  },
  {
   "cell_type": "markdown",
   "source": [
    "# Model"
   ],
   "metadata": {
    "collapsed": false,
    "ExecuteTime": {
     "end_time": "2023-05-31T12:58:15.912996Z",
     "start_time": "2023-05-31T12:58:15.906233Z"
    }
   }
  },
  {
   "cell_type": "code",
   "execution_count": 12,
   "outputs": [
    {
     "name": "stderr",
     "output_type": "stream",
     "text": [
      "ERROR (pytensor.graph.rewriting.basic): Rewrite failure due to: constant_folding\n",
      "ERROR (pytensor.graph.rewriting.basic): node: InplaceDimShuffle{}(TensorConstant{(1,) of 5})\n",
      "ERROR (pytensor.graph.rewriting.basic): TRACEBACK:\n",
      "ERROR (pytensor.graph.rewriting.basic): Traceback (most recent call last):\n",
      "  File \"/usr/local/Caskroom/miniconda/base/envs/BDA/lib/python3.11/site-packages/pytensor/graph/rewriting/basic.py\", line 1918, in process_node\n",
      "    replacements = node_rewriter.transform(fgraph, node)\n",
      "                   ^^^^^^^^^^^^^^^^^^^^^^^^^^^^^^^^^^^^^\n",
      "  File \"/usr/local/Caskroom/miniconda/base/envs/BDA/lib/python3.11/site-packages/pytensor/graph/rewriting/basic.py\", line 1078, in transform\n",
      "    return self.fn(fgraph, node)\n",
      "           ^^^^^^^^^^^^^^^^^^^^^\n",
      "  File \"/usr/local/Caskroom/miniconda/base/envs/BDA/lib/python3.11/site-packages/pytensor/tensor/rewriting/basic.py\", line 1138, in constant_folding\n",
      "    thunk = node.op.make_thunk(node, storage_map, compute_map, no_recycling=[])\n",
      "            ^^^^^^^^^^^^^^^^^^^^^^^^^^^^^^^^^^^^^^^^^^^^^^^^^^^^^^^^^^^^^^^^^^^\n",
      "  File \"/usr/local/Caskroom/miniconda/base/envs/BDA/lib/python3.11/site-packages/pytensor/link/c/op.py\", line 131, in make_thunk\n",
      "    return self.make_c_thunk(node, storage_map, compute_map, no_recycling)\n",
      "           ^^^^^^^^^^^^^^^^^^^^^^^^^^^^^^^^^^^^^^^^^^^^^^^^^^^^^^^^^^^^^^^\n",
      "  File \"/usr/local/Caskroom/miniconda/base/envs/BDA/lib/python3.11/site-packages/pytensor/link/c/op.py\", line 96, in make_c_thunk\n",
      "    outputs = cl.make_thunk(\n",
      "              ^^^^^^^^^^^^^^\n",
      "  File \"/usr/local/Caskroom/miniconda/base/envs/BDA/lib/python3.11/site-packages/pytensor/link/c/basic.py\", line 1200, in make_thunk\n",
      "    cthunk, module, in_storage, out_storage, error_storage = self.__compile__(\n",
      "                                                             ^^^^^^^^^^^^^^^^^\n",
      "  File \"/usr/local/Caskroom/miniconda/base/envs/BDA/lib/python3.11/site-packages/pytensor/link/c/basic.py\", line 1120, in __compile__\n",
      "    thunk, module = self.cthunk_factory(\n",
      "                    ^^^^^^^^^^^^^^^^^^^^\n",
      "  File \"/usr/local/Caskroom/miniconda/base/envs/BDA/lib/python3.11/site-packages/pytensor/link/c/basic.py\", line 1644, in cthunk_factory\n",
      "    module = cache.module_from_key(key=key, lnk=self)\n",
      "             ^^^^^^^^^^^^^^^^^^^^^^^^^^^^^^^^^^^^^^^^\n",
      "  File \"/usr/local/Caskroom/miniconda/base/envs/BDA/lib/python3.11/site-packages/pytensor/link/c/cmodule.py\", line 1240, in module_from_key\n",
      "    module = lnk.compile_cmodule(location)\n",
      "             ^^^^^^^^^^^^^^^^^^^^^^^^^^^^^\n",
      "  File \"/usr/local/Caskroom/miniconda/base/envs/BDA/lib/python3.11/site-packages/pytensor/link/c/basic.py\", line 1543, in compile_cmodule\n",
      "    module = c_compiler.compile_str(\n",
      "             ^^^^^^^^^^^^^^^^^^^^^^^\n",
      "  File \"/usr/local/Caskroom/miniconda/base/envs/BDA/lib/python3.11/site-packages/pytensor/link/c/cmodule.py\", line 2649, in compile_str\n",
      "    raise CompileError(\n",
      "pytensor.link.c.exceptions.CompileError: Compilation failed (return status=1):\n",
      "/usr/local/Caskroom/miniconda/base/envs/BDA/bin/clang++ -dynamiclib -g -O3 -fno-math-errno -Wno-unused-label -Wno-unused-variable -Wno-write-strings -Wno-c++11-narrowing -fno-exceptions -fno-unwind-tables -fno-asynchronous-unwind-tables -DNPY_NO_DEPRECATED_API=NPY_1_7_API_VERSION -m64 -fPIC -undefined dynamic_lookup -I/usr/local/Caskroom/miniconda/base/envs/BDA/lib/python3.11/site-packages/numpy/core/include -I/usr/local/Caskroom/miniconda/base/envs/BDA/include/python3.11 -I/usr/local/Caskroom/miniconda/base/envs/BDA/lib/python3.11/site-packages/pytensor/link/c/c_code -L/usr/local/Caskroom/miniconda/base/envs/BDA/lib -fvisibility=hidden -o /Users/hermeschen/.pytensor/compiledir_macOS-14.0-x86_64-i386-64bit-i386-3.11.3-64/tmp2lwa59vb/mdb3a1a186c6e0c789bc6494774a591ac6d8ab11d3ed19bf02a4ff96ab64fa9ba.so /Users/hermeschen/.pytensor/compiledir_macOS-14.0-x86_64-i386-64bit-i386-3.11.3-64/tmp2lwa59vb/mod.cpp\n",
      "ld: library not found for -lSystem\n",
      "clang-15: error: linker command failed with exit code 1 (use -v to see invocation)\n",
      "\n",
      "\n"
     ]
    },
    {
     "name": "stdout",
     "output_type": "stream",
     "text": [
      "\n",
      "You can find the C code in this temporary file: /var/folders/vv/93wphtyn4w15b8hssz_f1c500000gn/T/pytensor_compilation_error__z3v9gac\n",
      "library System is not found.\n"
     ]
    },
    {
     "name": "stderr",
     "output_type": "stream",
     "text": [
      "ERROR (pytensor.graph.rewriting.basic): Rewrite failure due to: constant_folding\n",
      "ERROR (pytensor.graph.rewriting.basic): node: InplaceDimShuffle{}(TensorConstant{(1,) of 5})\n",
      "ERROR (pytensor.graph.rewriting.basic): TRACEBACK:\n",
      "ERROR (pytensor.graph.rewriting.basic): Traceback (most recent call last):\n",
      "  File \"/usr/local/Caskroom/miniconda/base/envs/BDA/lib/python3.11/site-packages/pytensor/graph/rewriting/basic.py\", line 1918, in process_node\n",
      "    replacements = node_rewriter.transform(fgraph, node)\n",
      "                   ^^^^^^^^^^^^^^^^^^^^^^^^^^^^^^^^^^^^^\n",
      "  File \"/usr/local/Caskroom/miniconda/base/envs/BDA/lib/python3.11/site-packages/pytensor/graph/rewriting/basic.py\", line 1078, in transform\n",
      "    return self.fn(fgraph, node)\n",
      "           ^^^^^^^^^^^^^^^^^^^^^\n",
      "  File \"/usr/local/Caskroom/miniconda/base/envs/BDA/lib/python3.11/site-packages/pytensor/tensor/rewriting/basic.py\", line 1138, in constant_folding\n",
      "    thunk = node.op.make_thunk(node, storage_map, compute_map, no_recycling=[])\n",
      "            ^^^^^^^^^^^^^^^^^^^^^^^^^^^^^^^^^^^^^^^^^^^^^^^^^^^^^^^^^^^^^^^^^^^\n",
      "  File \"/usr/local/Caskroom/miniconda/base/envs/BDA/lib/python3.11/site-packages/pytensor/link/c/op.py\", line 131, in make_thunk\n",
      "    return self.make_c_thunk(node, storage_map, compute_map, no_recycling)\n",
      "           ^^^^^^^^^^^^^^^^^^^^^^^^^^^^^^^^^^^^^^^^^^^^^^^^^^^^^^^^^^^^^^^\n",
      "  File \"/usr/local/Caskroom/miniconda/base/envs/BDA/lib/python3.11/site-packages/pytensor/link/c/op.py\", line 96, in make_c_thunk\n",
      "    outputs = cl.make_thunk(\n",
      "              ^^^^^^^^^^^^^^\n",
      "  File \"/usr/local/Caskroom/miniconda/base/envs/BDA/lib/python3.11/site-packages/pytensor/link/c/basic.py\", line 1200, in make_thunk\n",
      "    cthunk, module, in_storage, out_storage, error_storage = self.__compile__(\n",
      "                                                             ^^^^^^^^^^^^^^^^^\n",
      "  File \"/usr/local/Caskroom/miniconda/base/envs/BDA/lib/python3.11/site-packages/pytensor/link/c/basic.py\", line 1120, in __compile__\n",
      "    thunk, module = self.cthunk_factory(\n",
      "                    ^^^^^^^^^^^^^^^^^^^^\n",
      "  File \"/usr/local/Caskroom/miniconda/base/envs/BDA/lib/python3.11/site-packages/pytensor/link/c/basic.py\", line 1644, in cthunk_factory\n",
      "    module = cache.module_from_key(key=key, lnk=self)\n",
      "             ^^^^^^^^^^^^^^^^^^^^^^^^^^^^^^^^^^^^^^^^\n",
      "  File \"/usr/local/Caskroom/miniconda/base/envs/BDA/lib/python3.11/site-packages/pytensor/link/c/cmodule.py\", line 1240, in module_from_key\n",
      "    module = lnk.compile_cmodule(location)\n",
      "             ^^^^^^^^^^^^^^^^^^^^^^^^^^^^^\n",
      "  File \"/usr/local/Caskroom/miniconda/base/envs/BDA/lib/python3.11/site-packages/pytensor/link/c/basic.py\", line 1543, in compile_cmodule\n",
      "    module = c_compiler.compile_str(\n",
      "             ^^^^^^^^^^^^^^^^^^^^^^^\n",
      "  File \"/usr/local/Caskroom/miniconda/base/envs/BDA/lib/python3.11/site-packages/pytensor/link/c/cmodule.py\", line 2649, in compile_str\n",
      "    raise CompileError(\n",
      "pytensor.link.c.exceptions.CompileError: Compilation failed (return status=1):\n",
      "/usr/local/Caskroom/miniconda/base/envs/BDA/bin/clang++ -dynamiclib -g -O3 -fno-math-errno -Wno-unused-label -Wno-unused-variable -Wno-write-strings -Wno-c++11-narrowing -fno-exceptions -fno-unwind-tables -fno-asynchronous-unwind-tables -DNPY_NO_DEPRECATED_API=NPY_1_7_API_VERSION -m64 -fPIC -undefined dynamic_lookup -I/usr/local/Caskroom/miniconda/base/envs/BDA/lib/python3.11/site-packages/numpy/core/include -I/usr/local/Caskroom/miniconda/base/envs/BDA/include/python3.11 -I/usr/local/Caskroom/miniconda/base/envs/BDA/lib/python3.11/site-packages/pytensor/link/c/c_code -L/usr/local/Caskroom/miniconda/base/envs/BDA/lib -fvisibility=hidden -o /Users/hermeschen/.pytensor/compiledir_macOS-14.0-x86_64-i386-64bit-i386-3.11.3-64/tmp62bhb9au/mdb3a1a186c6e0c789bc6494774a591ac6d8ab11d3ed19bf02a4ff96ab64fa9ba.so /Users/hermeschen/.pytensor/compiledir_macOS-14.0-x86_64-i386-64bit-i386-3.11.3-64/tmp62bhb9au/mod.cpp\n",
      "ld: library not found for -lSystem\n",
      "clang-15: error: linker command failed with exit code 1 (use -v to see invocation)\n",
      "\n",
      "\n"
     ]
    },
    {
     "name": "stdout",
     "output_type": "stream",
     "text": [
      "\n",
      "You can find the C code in this temporary file: /var/folders/vv/93wphtyn4w15b8hssz_f1c500000gn/T/pytensor_compilation_error_sv84kfuy\n",
      "library System is not found.\n"
     ]
    },
    {
     "name": "stderr",
     "output_type": "stream",
     "text": [
      "ERROR (pytensor.graph.rewriting.basic): Rewrite failure due to: constant_folding\n",
      "ERROR (pytensor.graph.rewriting.basic): node: InplaceDimShuffle{}(TensorConstant{(1,) of 5})\n",
      "ERROR (pytensor.graph.rewriting.basic): TRACEBACK:\n",
      "ERROR (pytensor.graph.rewriting.basic): Traceback (most recent call last):\n",
      "  File \"/usr/local/Caskroom/miniconda/base/envs/BDA/lib/python3.11/site-packages/pytensor/graph/rewriting/basic.py\", line 1918, in process_node\n",
      "    replacements = node_rewriter.transform(fgraph, node)\n",
      "                   ^^^^^^^^^^^^^^^^^^^^^^^^^^^^^^^^^^^^^\n",
      "  File \"/usr/local/Caskroom/miniconda/base/envs/BDA/lib/python3.11/site-packages/pytensor/graph/rewriting/basic.py\", line 1078, in transform\n",
      "    return self.fn(fgraph, node)\n",
      "           ^^^^^^^^^^^^^^^^^^^^^\n",
      "  File \"/usr/local/Caskroom/miniconda/base/envs/BDA/lib/python3.11/site-packages/pytensor/tensor/rewriting/basic.py\", line 1138, in constant_folding\n",
      "    thunk = node.op.make_thunk(node, storage_map, compute_map, no_recycling=[])\n",
      "            ^^^^^^^^^^^^^^^^^^^^^^^^^^^^^^^^^^^^^^^^^^^^^^^^^^^^^^^^^^^^^^^^^^^\n",
      "  File \"/usr/local/Caskroom/miniconda/base/envs/BDA/lib/python3.11/site-packages/pytensor/link/c/op.py\", line 131, in make_thunk\n",
      "    return self.make_c_thunk(node, storage_map, compute_map, no_recycling)\n",
      "           ^^^^^^^^^^^^^^^^^^^^^^^^^^^^^^^^^^^^^^^^^^^^^^^^^^^^^^^^^^^^^^^\n",
      "  File \"/usr/local/Caskroom/miniconda/base/envs/BDA/lib/python3.11/site-packages/pytensor/link/c/op.py\", line 96, in make_c_thunk\n",
      "    outputs = cl.make_thunk(\n",
      "              ^^^^^^^^^^^^^^\n",
      "  File \"/usr/local/Caskroom/miniconda/base/envs/BDA/lib/python3.11/site-packages/pytensor/link/c/basic.py\", line 1200, in make_thunk\n",
      "    cthunk, module, in_storage, out_storage, error_storage = self.__compile__(\n",
      "                                                             ^^^^^^^^^^^^^^^^^\n",
      "  File \"/usr/local/Caskroom/miniconda/base/envs/BDA/lib/python3.11/site-packages/pytensor/link/c/basic.py\", line 1120, in __compile__\n",
      "    thunk, module = self.cthunk_factory(\n",
      "                    ^^^^^^^^^^^^^^^^^^^^\n",
      "  File \"/usr/local/Caskroom/miniconda/base/envs/BDA/lib/python3.11/site-packages/pytensor/link/c/basic.py\", line 1644, in cthunk_factory\n",
      "    module = cache.module_from_key(key=key, lnk=self)\n",
      "             ^^^^^^^^^^^^^^^^^^^^^^^^^^^^^^^^^^^^^^^^\n",
      "  File \"/usr/local/Caskroom/miniconda/base/envs/BDA/lib/python3.11/site-packages/pytensor/link/c/cmodule.py\", line 1240, in module_from_key\n",
      "    module = lnk.compile_cmodule(location)\n",
      "             ^^^^^^^^^^^^^^^^^^^^^^^^^^^^^\n",
      "  File \"/usr/local/Caskroom/miniconda/base/envs/BDA/lib/python3.11/site-packages/pytensor/link/c/basic.py\", line 1543, in compile_cmodule\n",
      "    module = c_compiler.compile_str(\n",
      "             ^^^^^^^^^^^^^^^^^^^^^^^\n",
      "  File \"/usr/local/Caskroom/miniconda/base/envs/BDA/lib/python3.11/site-packages/pytensor/link/c/cmodule.py\", line 2649, in compile_str\n",
      "    raise CompileError(\n",
      "pytensor.link.c.exceptions.CompileError: Compilation failed (return status=1):\n",
      "/usr/local/Caskroom/miniconda/base/envs/BDA/bin/clang++ -dynamiclib -g -O3 -fno-math-errno -Wno-unused-label -Wno-unused-variable -Wno-write-strings -Wno-c++11-narrowing -fno-exceptions -fno-unwind-tables -fno-asynchronous-unwind-tables -DNPY_NO_DEPRECATED_API=NPY_1_7_API_VERSION -m64 -fPIC -undefined dynamic_lookup -I/usr/local/Caskroom/miniconda/base/envs/BDA/lib/python3.11/site-packages/numpy/core/include -I/usr/local/Caskroom/miniconda/base/envs/BDA/include/python3.11 -I/usr/local/Caskroom/miniconda/base/envs/BDA/lib/python3.11/site-packages/pytensor/link/c/c_code -L/usr/local/Caskroom/miniconda/base/envs/BDA/lib -fvisibility=hidden -o /Users/hermeschen/.pytensor/compiledir_macOS-14.0-x86_64-i386-64bit-i386-3.11.3-64/tmpxlrr7wre/mdb3a1a186c6e0c789bc6494774a591ac6d8ab11d3ed19bf02a4ff96ab64fa9ba.so /Users/hermeschen/.pytensor/compiledir_macOS-14.0-x86_64-i386-64bit-i386-3.11.3-64/tmpxlrr7wre/mod.cpp\n",
      "ld: library not found for -lSystem\n",
      "clang-15: error: linker command failed with exit code 1 (use -v to see invocation)\n",
      "\n",
      "\n"
     ]
    },
    {
     "name": "stdout",
     "output_type": "stream",
     "text": [
      "\n",
      "You can find the C code in this temporary file: /var/folders/vv/93wphtyn4w15b8hssz_f1c500000gn/T/pytensor_compilation_error_il5h3qzs\n",
      "library System is not found.\n"
     ]
    },
    {
     "name": "stderr",
     "output_type": "stream",
     "text": [
      "ERROR (pytensor.graph.rewriting.basic): Rewrite failure due to: constant_folding\n",
      "ERROR (pytensor.graph.rewriting.basic): node: Subtensor{int64}(TensorConstant{[  1 600]}, ScalarConstant{0})\n",
      "ERROR (pytensor.graph.rewriting.basic): TRACEBACK:\n",
      "ERROR (pytensor.graph.rewriting.basic): Traceback (most recent call last):\n",
      "  File \"/usr/local/Caskroom/miniconda/base/envs/BDA/lib/python3.11/site-packages/pytensor/graph/rewriting/basic.py\", line 1918, in process_node\n",
      "    replacements = node_rewriter.transform(fgraph, node)\n",
      "                   ^^^^^^^^^^^^^^^^^^^^^^^^^^^^^^^^^^^^^\n",
      "  File \"/usr/local/Caskroom/miniconda/base/envs/BDA/lib/python3.11/site-packages/pytensor/graph/rewriting/basic.py\", line 1078, in transform\n",
      "    return self.fn(fgraph, node)\n",
      "           ^^^^^^^^^^^^^^^^^^^^^\n",
      "  File \"/usr/local/Caskroom/miniconda/base/envs/BDA/lib/python3.11/site-packages/pytensor/tensor/rewriting/basic.py\", line 1138, in constant_folding\n",
      "    thunk = node.op.make_thunk(node, storage_map, compute_map, no_recycling=[])\n",
      "            ^^^^^^^^^^^^^^^^^^^^^^^^^^^^^^^^^^^^^^^^^^^^^^^^^^^^^^^^^^^^^^^^^^^\n",
      "  File \"/usr/local/Caskroom/miniconda/base/envs/BDA/lib/python3.11/site-packages/pytensor/link/c/op.py\", line 131, in make_thunk\n",
      "    return self.make_c_thunk(node, storage_map, compute_map, no_recycling)\n",
      "           ^^^^^^^^^^^^^^^^^^^^^^^^^^^^^^^^^^^^^^^^^^^^^^^^^^^^^^^^^^^^^^^\n",
      "  File \"/usr/local/Caskroom/miniconda/base/envs/BDA/lib/python3.11/site-packages/pytensor/link/c/op.py\", line 96, in make_c_thunk\n",
      "    outputs = cl.make_thunk(\n",
      "              ^^^^^^^^^^^^^^\n",
      "  File \"/usr/local/Caskroom/miniconda/base/envs/BDA/lib/python3.11/site-packages/pytensor/link/c/basic.py\", line 1200, in make_thunk\n",
      "    cthunk, module, in_storage, out_storage, error_storage = self.__compile__(\n",
      "                                                             ^^^^^^^^^^^^^^^^^\n",
      "  File \"/usr/local/Caskroom/miniconda/base/envs/BDA/lib/python3.11/site-packages/pytensor/link/c/basic.py\", line 1120, in __compile__\n",
      "    thunk, module = self.cthunk_factory(\n",
      "                    ^^^^^^^^^^^^^^^^^^^^\n",
      "  File \"/usr/local/Caskroom/miniconda/base/envs/BDA/lib/python3.11/site-packages/pytensor/link/c/basic.py\", line 1644, in cthunk_factory\n",
      "    module = cache.module_from_key(key=key, lnk=self)\n",
      "             ^^^^^^^^^^^^^^^^^^^^^^^^^^^^^^^^^^^^^^^^\n",
      "  File \"/usr/local/Caskroom/miniconda/base/envs/BDA/lib/python3.11/site-packages/pytensor/link/c/cmodule.py\", line 1240, in module_from_key\n",
      "    module = lnk.compile_cmodule(location)\n",
      "             ^^^^^^^^^^^^^^^^^^^^^^^^^^^^^\n",
      "  File \"/usr/local/Caskroom/miniconda/base/envs/BDA/lib/python3.11/site-packages/pytensor/link/c/basic.py\", line 1543, in compile_cmodule\n",
      "    module = c_compiler.compile_str(\n",
      "             ^^^^^^^^^^^^^^^^^^^^^^^\n",
      "  File \"/usr/local/Caskroom/miniconda/base/envs/BDA/lib/python3.11/site-packages/pytensor/link/c/cmodule.py\", line 2649, in compile_str\n",
      "    raise CompileError(\n",
      "pytensor.link.c.exceptions.CompileError: Compilation failed (return status=1):\n",
      "/usr/local/Caskroom/miniconda/base/envs/BDA/bin/clang++ -dynamiclib -g -O3 -fno-math-errno -Wno-unused-label -Wno-unused-variable -Wno-write-strings -Wno-c++11-narrowing -fno-exceptions -fno-unwind-tables -fno-asynchronous-unwind-tables -DNPY_NO_DEPRECATED_API=NPY_1_7_API_VERSION -m64 -fPIC -undefined dynamic_lookup -I/usr/local/Caskroom/miniconda/base/envs/BDA/lib/python3.11/site-packages/numpy/core/include -I/usr/local/Caskroom/miniconda/base/envs/BDA/include/python3.11 -I/usr/local/Caskroom/miniconda/base/envs/BDA/lib/python3.11/site-packages/pytensor/link/c/c_code -L/usr/local/Caskroom/miniconda/base/envs/BDA/lib -fvisibility=hidden -o /Users/hermeschen/.pytensor/compiledir_macOS-14.0-x86_64-i386-64bit-i386-3.11.3-64/tmpnn7r4g4o/m6fd1c484d580fa59c661a41ec3cabca2b3c7f6630a101cbab41b87c88570792c.so /Users/hermeschen/.pytensor/compiledir_macOS-14.0-x86_64-i386-64bit-i386-3.11.3-64/tmpnn7r4g4o/mod.cpp\n",
      "ld: library not found for -lSystem\n",
      "clang-15: error: linker command failed with exit code 1 (use -v to see invocation)\n",
      "\n",
      "\n"
     ]
    },
    {
     "name": "stdout",
     "output_type": "stream",
     "text": [
      "\n",
      "You can find the C code in this temporary file: /var/folders/vv/93wphtyn4w15b8hssz_f1c500000gn/T/pytensor_compilation_error_fuw7mwl0\n",
      "library System is not found.\n"
     ]
    },
    {
     "name": "stderr",
     "output_type": "stream",
     "text": [
      "ERROR (pytensor.graph.rewriting.basic): Rewrite failure due to: constant_folding\n",
      "ERROR (pytensor.graph.rewriting.basic): node: Subtensor{int64}(TensorConstant{[  1 600]}, ScalarConstant{1})\n",
      "ERROR (pytensor.graph.rewriting.basic): TRACEBACK:\n",
      "ERROR (pytensor.graph.rewriting.basic): Traceback (most recent call last):\n",
      "  File \"/usr/local/Caskroom/miniconda/base/envs/BDA/lib/python3.11/site-packages/pytensor/graph/rewriting/basic.py\", line 1918, in process_node\n",
      "    replacements = node_rewriter.transform(fgraph, node)\n",
      "                   ^^^^^^^^^^^^^^^^^^^^^^^^^^^^^^^^^^^^^\n",
      "  File \"/usr/local/Caskroom/miniconda/base/envs/BDA/lib/python3.11/site-packages/pytensor/graph/rewriting/basic.py\", line 1078, in transform\n",
      "    return self.fn(fgraph, node)\n",
      "           ^^^^^^^^^^^^^^^^^^^^^\n",
      "  File \"/usr/local/Caskroom/miniconda/base/envs/BDA/lib/python3.11/site-packages/pytensor/tensor/rewriting/basic.py\", line 1138, in constant_folding\n",
      "    thunk = node.op.make_thunk(node, storage_map, compute_map, no_recycling=[])\n",
      "            ^^^^^^^^^^^^^^^^^^^^^^^^^^^^^^^^^^^^^^^^^^^^^^^^^^^^^^^^^^^^^^^^^^^\n",
      "  File \"/usr/local/Caskroom/miniconda/base/envs/BDA/lib/python3.11/site-packages/pytensor/link/c/op.py\", line 131, in make_thunk\n",
      "    return self.make_c_thunk(node, storage_map, compute_map, no_recycling)\n",
      "           ^^^^^^^^^^^^^^^^^^^^^^^^^^^^^^^^^^^^^^^^^^^^^^^^^^^^^^^^^^^^^^^\n",
      "  File \"/usr/local/Caskroom/miniconda/base/envs/BDA/lib/python3.11/site-packages/pytensor/link/c/op.py\", line 96, in make_c_thunk\n",
      "    outputs = cl.make_thunk(\n",
      "              ^^^^^^^^^^^^^^\n",
      "  File \"/usr/local/Caskroom/miniconda/base/envs/BDA/lib/python3.11/site-packages/pytensor/link/c/basic.py\", line 1200, in make_thunk\n",
      "    cthunk, module, in_storage, out_storage, error_storage = self.__compile__(\n",
      "                                                             ^^^^^^^^^^^^^^^^^\n",
      "  File \"/usr/local/Caskroom/miniconda/base/envs/BDA/lib/python3.11/site-packages/pytensor/link/c/basic.py\", line 1120, in __compile__\n",
      "    thunk, module = self.cthunk_factory(\n",
      "                    ^^^^^^^^^^^^^^^^^^^^\n",
      "  File \"/usr/local/Caskroom/miniconda/base/envs/BDA/lib/python3.11/site-packages/pytensor/link/c/basic.py\", line 1644, in cthunk_factory\n",
      "    module = cache.module_from_key(key=key, lnk=self)\n",
      "             ^^^^^^^^^^^^^^^^^^^^^^^^^^^^^^^^^^^^^^^^\n",
      "  File \"/usr/local/Caskroom/miniconda/base/envs/BDA/lib/python3.11/site-packages/pytensor/link/c/cmodule.py\", line 1240, in module_from_key\n",
      "    module = lnk.compile_cmodule(location)\n",
      "             ^^^^^^^^^^^^^^^^^^^^^^^^^^^^^\n",
      "  File \"/usr/local/Caskroom/miniconda/base/envs/BDA/lib/python3.11/site-packages/pytensor/link/c/basic.py\", line 1543, in compile_cmodule\n",
      "    module = c_compiler.compile_str(\n",
      "             ^^^^^^^^^^^^^^^^^^^^^^^\n",
      "  File \"/usr/local/Caskroom/miniconda/base/envs/BDA/lib/python3.11/site-packages/pytensor/link/c/cmodule.py\", line 2649, in compile_str\n",
      "    raise CompileError(\n",
      "pytensor.link.c.exceptions.CompileError: Compilation failed (return status=1):\n",
      "/usr/local/Caskroom/miniconda/base/envs/BDA/bin/clang++ -dynamiclib -g -O3 -fno-math-errno -Wno-unused-label -Wno-unused-variable -Wno-write-strings -Wno-c++11-narrowing -fno-exceptions -fno-unwind-tables -fno-asynchronous-unwind-tables -DNPY_NO_DEPRECATED_API=NPY_1_7_API_VERSION -m64 -fPIC -undefined dynamic_lookup -I/usr/local/Caskroom/miniconda/base/envs/BDA/lib/python3.11/site-packages/numpy/core/include -I/usr/local/Caskroom/miniconda/base/envs/BDA/include/python3.11 -I/usr/local/Caskroom/miniconda/base/envs/BDA/lib/python3.11/site-packages/pytensor/link/c/c_code -L/usr/local/Caskroom/miniconda/base/envs/BDA/lib -fvisibility=hidden -o /Users/hermeschen/.pytensor/compiledir_macOS-14.0-x86_64-i386-64bit-i386-3.11.3-64/tmpw3bdkd6k/m6fd1c484d580fa59c661a41ec3cabca2b3c7f6630a101cbab41b87c88570792c.so /Users/hermeschen/.pytensor/compiledir_macOS-14.0-x86_64-i386-64bit-i386-3.11.3-64/tmpw3bdkd6k/mod.cpp\n",
      "ld: library not found for -lSystem\n",
      "clang-15: error: linker command failed with exit code 1 (use -v to see invocation)\n",
      "\n",
      "\n"
     ]
    },
    {
     "name": "stdout",
     "output_type": "stream",
     "text": [
      "\n",
      "You can find the C code in this temporary file: /var/folders/vv/93wphtyn4w15b8hssz_f1c500000gn/T/pytensor_compilation_error_rkmaboeq\n",
      "library System is not found.\n"
     ]
    },
    {
     "name": "stderr",
     "output_type": "stream",
     "text": [
      "ERROR (pytensor.graph.rewriting.basic): Rewrite failure due to: constant_folding\n",
      "ERROR (pytensor.graph.rewriting.basic): node: Subtensor{int64}(TensorConstant{[  1 600]}, ScalarConstant{0})\n",
      "ERROR (pytensor.graph.rewriting.basic): TRACEBACK:\n",
      "ERROR (pytensor.graph.rewriting.basic): Traceback (most recent call last):\n",
      "  File \"/usr/local/Caskroom/miniconda/base/envs/BDA/lib/python3.11/site-packages/pytensor/graph/rewriting/basic.py\", line 1918, in process_node\n",
      "    replacements = node_rewriter.transform(fgraph, node)\n",
      "                   ^^^^^^^^^^^^^^^^^^^^^^^^^^^^^^^^^^^^^\n",
      "  File \"/usr/local/Caskroom/miniconda/base/envs/BDA/lib/python3.11/site-packages/pytensor/graph/rewriting/basic.py\", line 1078, in transform\n",
      "    return self.fn(fgraph, node)\n",
      "           ^^^^^^^^^^^^^^^^^^^^^\n",
      "  File \"/usr/local/Caskroom/miniconda/base/envs/BDA/lib/python3.11/site-packages/pytensor/tensor/rewriting/basic.py\", line 1138, in constant_folding\n",
      "    thunk = node.op.make_thunk(node, storage_map, compute_map, no_recycling=[])\n",
      "            ^^^^^^^^^^^^^^^^^^^^^^^^^^^^^^^^^^^^^^^^^^^^^^^^^^^^^^^^^^^^^^^^^^^\n",
      "  File \"/usr/local/Caskroom/miniconda/base/envs/BDA/lib/python3.11/site-packages/pytensor/link/c/op.py\", line 131, in make_thunk\n",
      "    return self.make_c_thunk(node, storage_map, compute_map, no_recycling)\n",
      "           ^^^^^^^^^^^^^^^^^^^^^^^^^^^^^^^^^^^^^^^^^^^^^^^^^^^^^^^^^^^^^^^\n",
      "  File \"/usr/local/Caskroom/miniconda/base/envs/BDA/lib/python3.11/site-packages/pytensor/link/c/op.py\", line 96, in make_c_thunk\n",
      "    outputs = cl.make_thunk(\n",
      "              ^^^^^^^^^^^^^^\n",
      "  File \"/usr/local/Caskroom/miniconda/base/envs/BDA/lib/python3.11/site-packages/pytensor/link/c/basic.py\", line 1200, in make_thunk\n",
      "    cthunk, module, in_storage, out_storage, error_storage = self.__compile__(\n",
      "                                                             ^^^^^^^^^^^^^^^^^\n",
      "  File \"/usr/local/Caskroom/miniconda/base/envs/BDA/lib/python3.11/site-packages/pytensor/link/c/basic.py\", line 1120, in __compile__\n",
      "    thunk, module = self.cthunk_factory(\n",
      "                    ^^^^^^^^^^^^^^^^^^^^\n",
      "  File \"/usr/local/Caskroom/miniconda/base/envs/BDA/lib/python3.11/site-packages/pytensor/link/c/basic.py\", line 1644, in cthunk_factory\n",
      "    module = cache.module_from_key(key=key, lnk=self)\n",
      "             ^^^^^^^^^^^^^^^^^^^^^^^^^^^^^^^^^^^^^^^^\n",
      "  File \"/usr/local/Caskroom/miniconda/base/envs/BDA/lib/python3.11/site-packages/pytensor/link/c/cmodule.py\", line 1240, in module_from_key\n",
      "    module = lnk.compile_cmodule(location)\n",
      "             ^^^^^^^^^^^^^^^^^^^^^^^^^^^^^\n",
      "  File \"/usr/local/Caskroom/miniconda/base/envs/BDA/lib/python3.11/site-packages/pytensor/link/c/basic.py\", line 1543, in compile_cmodule\n",
      "    module = c_compiler.compile_str(\n",
      "             ^^^^^^^^^^^^^^^^^^^^^^^\n",
      "  File \"/usr/local/Caskroom/miniconda/base/envs/BDA/lib/python3.11/site-packages/pytensor/link/c/cmodule.py\", line 2649, in compile_str\n",
      "    raise CompileError(\n",
      "pytensor.link.c.exceptions.CompileError: Compilation failed (return status=1):\n",
      "/usr/local/Caskroom/miniconda/base/envs/BDA/bin/clang++ -dynamiclib -g -O3 -fno-math-errno -Wno-unused-label -Wno-unused-variable -Wno-write-strings -Wno-c++11-narrowing -fno-exceptions -fno-unwind-tables -fno-asynchronous-unwind-tables -DNPY_NO_DEPRECATED_API=NPY_1_7_API_VERSION -m64 -fPIC -undefined dynamic_lookup -I/usr/local/Caskroom/miniconda/base/envs/BDA/lib/python3.11/site-packages/numpy/core/include -I/usr/local/Caskroom/miniconda/base/envs/BDA/include/python3.11 -I/usr/local/Caskroom/miniconda/base/envs/BDA/lib/python3.11/site-packages/pytensor/link/c/c_code -L/usr/local/Caskroom/miniconda/base/envs/BDA/lib -fvisibility=hidden -o /Users/hermeschen/.pytensor/compiledir_macOS-14.0-x86_64-i386-64bit-i386-3.11.3-64/tmpdmg9o_48/m6fd1c484d580fa59c661a41ec3cabca2b3c7f6630a101cbab41b87c88570792c.so /Users/hermeschen/.pytensor/compiledir_macOS-14.0-x86_64-i386-64bit-i386-3.11.3-64/tmpdmg9o_48/mod.cpp\n",
      "ld: library not found for -lSystem\n",
      "clang-15: error: linker command failed with exit code 1 (use -v to see invocation)\n",
      "\n",
      "\n"
     ]
    },
    {
     "name": "stdout",
     "output_type": "stream",
     "text": [
      "\n",
      "You can find the C code in this temporary file: /var/folders/vv/93wphtyn4w15b8hssz_f1c500000gn/T/pytensor_compilation_error_vbw3i11w\n",
      "library System is not found.\n"
     ]
    },
    {
     "name": "stderr",
     "output_type": "stream",
     "text": [
      "ERROR (pytensor.graph.rewriting.basic): Rewrite failure due to: constant_folding\n",
      "ERROR (pytensor.graph.rewriting.basic): node: Subtensor{int64}(TensorConstant{[  1 600]}, ScalarConstant{1})\n",
      "ERROR (pytensor.graph.rewriting.basic): TRACEBACK:\n",
      "ERROR (pytensor.graph.rewriting.basic): Traceback (most recent call last):\n",
      "  File \"/usr/local/Caskroom/miniconda/base/envs/BDA/lib/python3.11/site-packages/pytensor/graph/rewriting/basic.py\", line 1918, in process_node\n",
      "    replacements = node_rewriter.transform(fgraph, node)\n",
      "                   ^^^^^^^^^^^^^^^^^^^^^^^^^^^^^^^^^^^^^\n",
      "  File \"/usr/local/Caskroom/miniconda/base/envs/BDA/lib/python3.11/site-packages/pytensor/graph/rewriting/basic.py\", line 1078, in transform\n",
      "    return self.fn(fgraph, node)\n",
      "           ^^^^^^^^^^^^^^^^^^^^^\n",
      "  File \"/usr/local/Caskroom/miniconda/base/envs/BDA/lib/python3.11/site-packages/pytensor/tensor/rewriting/basic.py\", line 1138, in constant_folding\n",
      "    thunk = node.op.make_thunk(node, storage_map, compute_map, no_recycling=[])\n",
      "            ^^^^^^^^^^^^^^^^^^^^^^^^^^^^^^^^^^^^^^^^^^^^^^^^^^^^^^^^^^^^^^^^^^^\n",
      "  File \"/usr/local/Caskroom/miniconda/base/envs/BDA/lib/python3.11/site-packages/pytensor/link/c/op.py\", line 131, in make_thunk\n",
      "    return self.make_c_thunk(node, storage_map, compute_map, no_recycling)\n",
      "           ^^^^^^^^^^^^^^^^^^^^^^^^^^^^^^^^^^^^^^^^^^^^^^^^^^^^^^^^^^^^^^^\n",
      "  File \"/usr/local/Caskroom/miniconda/base/envs/BDA/lib/python3.11/site-packages/pytensor/link/c/op.py\", line 96, in make_c_thunk\n",
      "    outputs = cl.make_thunk(\n",
      "              ^^^^^^^^^^^^^^\n",
      "  File \"/usr/local/Caskroom/miniconda/base/envs/BDA/lib/python3.11/site-packages/pytensor/link/c/basic.py\", line 1200, in make_thunk\n",
      "    cthunk, module, in_storage, out_storage, error_storage = self.__compile__(\n",
      "                                                             ^^^^^^^^^^^^^^^^^\n",
      "  File \"/usr/local/Caskroom/miniconda/base/envs/BDA/lib/python3.11/site-packages/pytensor/link/c/basic.py\", line 1120, in __compile__\n",
      "    thunk, module = self.cthunk_factory(\n",
      "                    ^^^^^^^^^^^^^^^^^^^^\n",
      "  File \"/usr/local/Caskroom/miniconda/base/envs/BDA/lib/python3.11/site-packages/pytensor/link/c/basic.py\", line 1644, in cthunk_factory\n",
      "    module = cache.module_from_key(key=key, lnk=self)\n",
      "             ^^^^^^^^^^^^^^^^^^^^^^^^^^^^^^^^^^^^^^^^\n",
      "  File \"/usr/local/Caskroom/miniconda/base/envs/BDA/lib/python3.11/site-packages/pytensor/link/c/cmodule.py\", line 1240, in module_from_key\n",
      "    module = lnk.compile_cmodule(location)\n",
      "             ^^^^^^^^^^^^^^^^^^^^^^^^^^^^^\n",
      "  File \"/usr/local/Caskroom/miniconda/base/envs/BDA/lib/python3.11/site-packages/pytensor/link/c/basic.py\", line 1543, in compile_cmodule\n",
      "    module = c_compiler.compile_str(\n",
      "             ^^^^^^^^^^^^^^^^^^^^^^^\n",
      "  File \"/usr/local/Caskroom/miniconda/base/envs/BDA/lib/python3.11/site-packages/pytensor/link/c/cmodule.py\", line 2649, in compile_str\n",
      "    raise CompileError(\n",
      "pytensor.link.c.exceptions.CompileError: Compilation failed (return status=1):\n",
      "/usr/local/Caskroom/miniconda/base/envs/BDA/bin/clang++ -dynamiclib -g -O3 -fno-math-errno -Wno-unused-label -Wno-unused-variable -Wno-write-strings -Wno-c++11-narrowing -fno-exceptions -fno-unwind-tables -fno-asynchronous-unwind-tables -DNPY_NO_DEPRECATED_API=NPY_1_7_API_VERSION -m64 -fPIC -undefined dynamic_lookup -I/usr/local/Caskroom/miniconda/base/envs/BDA/lib/python3.11/site-packages/numpy/core/include -I/usr/local/Caskroom/miniconda/base/envs/BDA/include/python3.11 -I/usr/local/Caskroom/miniconda/base/envs/BDA/lib/python3.11/site-packages/pytensor/link/c/c_code -L/usr/local/Caskroom/miniconda/base/envs/BDA/lib -fvisibility=hidden -o /Users/hermeschen/.pytensor/compiledir_macOS-14.0-x86_64-i386-64bit-i386-3.11.3-64/tmpzlocpofj/m6fd1c484d580fa59c661a41ec3cabca2b3c7f6630a101cbab41b87c88570792c.so /Users/hermeschen/.pytensor/compiledir_macOS-14.0-x86_64-i386-64bit-i386-3.11.3-64/tmpzlocpofj/mod.cpp\n",
      "ld: library not found for -lSystem\n",
      "clang-15: error: linker command failed with exit code 1 (use -v to see invocation)\n",
      "\n",
      "\n"
     ]
    },
    {
     "name": "stdout",
     "output_type": "stream",
     "text": [
      "\n",
      "You can find the C code in this temporary file: /var/folders/vv/93wphtyn4w15b8hssz_f1c500000gn/T/pytensor_compilation_error_wjq50xnc\n",
      "library System is not found.\n"
     ]
    },
    {
     "name": "stderr",
     "output_type": "stream",
     "text": [
      "ERROR (pytensor.graph.rewriting.basic): Rewrite failure due to: constant_folding\n",
      "ERROR (pytensor.graph.rewriting.basic): node: InplaceDimShuffle{}(TensorConstant{(1,) of 5})\n",
      "ERROR (pytensor.graph.rewriting.basic): TRACEBACK:\n",
      "ERROR (pytensor.graph.rewriting.basic): Traceback (most recent call last):\n",
      "  File \"/usr/local/Caskroom/miniconda/base/envs/BDA/lib/python3.11/site-packages/pytensor/graph/rewriting/basic.py\", line 1918, in process_node\n",
      "    replacements = node_rewriter.transform(fgraph, node)\n",
      "                   ^^^^^^^^^^^^^^^^^^^^^^^^^^^^^^^^^^^^^\n",
      "  File \"/usr/local/Caskroom/miniconda/base/envs/BDA/lib/python3.11/site-packages/pytensor/graph/rewriting/basic.py\", line 1078, in transform\n",
      "    return self.fn(fgraph, node)\n",
      "           ^^^^^^^^^^^^^^^^^^^^^\n",
      "  File \"/usr/local/Caskroom/miniconda/base/envs/BDA/lib/python3.11/site-packages/pytensor/tensor/rewriting/basic.py\", line 1138, in constant_folding\n",
      "    thunk = node.op.make_thunk(node, storage_map, compute_map, no_recycling=[])\n",
      "            ^^^^^^^^^^^^^^^^^^^^^^^^^^^^^^^^^^^^^^^^^^^^^^^^^^^^^^^^^^^^^^^^^^^\n",
      "  File \"/usr/local/Caskroom/miniconda/base/envs/BDA/lib/python3.11/site-packages/pytensor/link/c/op.py\", line 131, in make_thunk\n",
      "    return self.make_c_thunk(node, storage_map, compute_map, no_recycling)\n",
      "           ^^^^^^^^^^^^^^^^^^^^^^^^^^^^^^^^^^^^^^^^^^^^^^^^^^^^^^^^^^^^^^^\n",
      "  File \"/usr/local/Caskroom/miniconda/base/envs/BDA/lib/python3.11/site-packages/pytensor/link/c/op.py\", line 96, in make_c_thunk\n",
      "    outputs = cl.make_thunk(\n",
      "              ^^^^^^^^^^^^^^\n",
      "  File \"/usr/local/Caskroom/miniconda/base/envs/BDA/lib/python3.11/site-packages/pytensor/link/c/basic.py\", line 1200, in make_thunk\n",
      "    cthunk, module, in_storage, out_storage, error_storage = self.__compile__(\n",
      "                                                             ^^^^^^^^^^^^^^^^^\n",
      "  File \"/usr/local/Caskroom/miniconda/base/envs/BDA/lib/python3.11/site-packages/pytensor/link/c/basic.py\", line 1120, in __compile__\n",
      "    thunk, module = self.cthunk_factory(\n",
      "                    ^^^^^^^^^^^^^^^^^^^^\n",
      "  File \"/usr/local/Caskroom/miniconda/base/envs/BDA/lib/python3.11/site-packages/pytensor/link/c/basic.py\", line 1644, in cthunk_factory\n",
      "    module = cache.module_from_key(key=key, lnk=self)\n",
      "             ^^^^^^^^^^^^^^^^^^^^^^^^^^^^^^^^^^^^^^^^\n",
      "  File \"/usr/local/Caskroom/miniconda/base/envs/BDA/lib/python3.11/site-packages/pytensor/link/c/cmodule.py\", line 1240, in module_from_key\n",
      "    module = lnk.compile_cmodule(location)\n",
      "             ^^^^^^^^^^^^^^^^^^^^^^^^^^^^^\n",
      "  File \"/usr/local/Caskroom/miniconda/base/envs/BDA/lib/python3.11/site-packages/pytensor/link/c/basic.py\", line 1543, in compile_cmodule\n",
      "    module = c_compiler.compile_str(\n",
      "             ^^^^^^^^^^^^^^^^^^^^^^^\n",
      "  File \"/usr/local/Caskroom/miniconda/base/envs/BDA/lib/python3.11/site-packages/pytensor/link/c/cmodule.py\", line 2649, in compile_str\n",
      "    raise CompileError(\n",
      "pytensor.link.c.exceptions.CompileError: Compilation failed (return status=1):\n",
      "/usr/local/Caskroom/miniconda/base/envs/BDA/bin/clang++ -dynamiclib -g -O3 -fno-math-errno -Wno-unused-label -Wno-unused-variable -Wno-write-strings -Wno-c++11-narrowing -fno-exceptions -fno-unwind-tables -fno-asynchronous-unwind-tables -DNPY_NO_DEPRECATED_API=NPY_1_7_API_VERSION -m64 -fPIC -undefined dynamic_lookup -I/usr/local/Caskroom/miniconda/base/envs/BDA/lib/python3.11/site-packages/numpy/core/include -I/usr/local/Caskroom/miniconda/base/envs/BDA/include/python3.11 -I/usr/local/Caskroom/miniconda/base/envs/BDA/lib/python3.11/site-packages/pytensor/link/c/c_code -L/usr/local/Caskroom/miniconda/base/envs/BDA/lib -fvisibility=hidden -o /Users/hermeschen/.pytensor/compiledir_macOS-14.0-x86_64-i386-64bit-i386-3.11.3-64/tmpqxgoliz6/mdb3a1a186c6e0c789bc6494774a591ac6d8ab11d3ed19bf02a4ff96ab64fa9ba.so /Users/hermeschen/.pytensor/compiledir_macOS-14.0-x86_64-i386-64bit-i386-3.11.3-64/tmpqxgoliz6/mod.cpp\n",
      "ld: library not found for -lSystem\n",
      "clang-15: error: linker command failed with exit code 1 (use -v to see invocation)\n",
      "\n",
      "\n"
     ]
    },
    {
     "name": "stdout",
     "output_type": "stream",
     "text": [
      "\n",
      "You can find the C code in this temporary file: /var/folders/vv/93wphtyn4w15b8hssz_f1c500000gn/T/pytensor_compilation_error_sb8v7paq\n",
      "library System is not found.\n"
     ]
    },
    {
     "name": "stderr",
     "output_type": "stream",
     "text": [
      "ERROR (pytensor.graph.rewriting.basic): Rewrite failure due to: constant_folding\n",
      "ERROR (pytensor.graph.rewriting.basic): node: InplaceDimShuffle{}(TensorConstant{(1,) of 5})\n",
      "ERROR (pytensor.graph.rewriting.basic): TRACEBACK:\n",
      "ERROR (pytensor.graph.rewriting.basic): Traceback (most recent call last):\n",
      "  File \"/usr/local/Caskroom/miniconda/base/envs/BDA/lib/python3.11/site-packages/pytensor/graph/rewriting/basic.py\", line 1918, in process_node\n",
      "    replacements = node_rewriter.transform(fgraph, node)\n",
      "                   ^^^^^^^^^^^^^^^^^^^^^^^^^^^^^^^^^^^^^\n",
      "  File \"/usr/local/Caskroom/miniconda/base/envs/BDA/lib/python3.11/site-packages/pytensor/graph/rewriting/basic.py\", line 1078, in transform\n",
      "    return self.fn(fgraph, node)\n",
      "           ^^^^^^^^^^^^^^^^^^^^^\n",
      "  File \"/usr/local/Caskroom/miniconda/base/envs/BDA/lib/python3.11/site-packages/pytensor/tensor/rewriting/basic.py\", line 1138, in constant_folding\n",
      "    thunk = node.op.make_thunk(node, storage_map, compute_map, no_recycling=[])\n",
      "            ^^^^^^^^^^^^^^^^^^^^^^^^^^^^^^^^^^^^^^^^^^^^^^^^^^^^^^^^^^^^^^^^^^^\n",
      "  File \"/usr/local/Caskroom/miniconda/base/envs/BDA/lib/python3.11/site-packages/pytensor/link/c/op.py\", line 131, in make_thunk\n",
      "    return self.make_c_thunk(node, storage_map, compute_map, no_recycling)\n",
      "           ^^^^^^^^^^^^^^^^^^^^^^^^^^^^^^^^^^^^^^^^^^^^^^^^^^^^^^^^^^^^^^^\n",
      "  File \"/usr/local/Caskroom/miniconda/base/envs/BDA/lib/python3.11/site-packages/pytensor/link/c/op.py\", line 96, in make_c_thunk\n",
      "    outputs = cl.make_thunk(\n",
      "              ^^^^^^^^^^^^^^\n",
      "  File \"/usr/local/Caskroom/miniconda/base/envs/BDA/lib/python3.11/site-packages/pytensor/link/c/basic.py\", line 1200, in make_thunk\n",
      "    cthunk, module, in_storage, out_storage, error_storage = self.__compile__(\n",
      "                                                             ^^^^^^^^^^^^^^^^^\n",
      "  File \"/usr/local/Caskroom/miniconda/base/envs/BDA/lib/python3.11/site-packages/pytensor/link/c/basic.py\", line 1120, in __compile__\n",
      "    thunk, module = self.cthunk_factory(\n",
      "                    ^^^^^^^^^^^^^^^^^^^^\n",
      "  File \"/usr/local/Caskroom/miniconda/base/envs/BDA/lib/python3.11/site-packages/pytensor/link/c/basic.py\", line 1644, in cthunk_factory\n",
      "    module = cache.module_from_key(key=key, lnk=self)\n",
      "             ^^^^^^^^^^^^^^^^^^^^^^^^^^^^^^^^^^^^^^^^\n",
      "  File \"/usr/local/Caskroom/miniconda/base/envs/BDA/lib/python3.11/site-packages/pytensor/link/c/cmodule.py\", line 1240, in module_from_key\n",
      "    module = lnk.compile_cmodule(location)\n",
      "             ^^^^^^^^^^^^^^^^^^^^^^^^^^^^^\n",
      "  File \"/usr/local/Caskroom/miniconda/base/envs/BDA/lib/python3.11/site-packages/pytensor/link/c/basic.py\", line 1543, in compile_cmodule\n",
      "    module = c_compiler.compile_str(\n",
      "             ^^^^^^^^^^^^^^^^^^^^^^^\n",
      "  File \"/usr/local/Caskroom/miniconda/base/envs/BDA/lib/python3.11/site-packages/pytensor/link/c/cmodule.py\", line 2649, in compile_str\n",
      "    raise CompileError(\n",
      "pytensor.link.c.exceptions.CompileError: Compilation failed (return status=1):\n",
      "/usr/local/Caskroom/miniconda/base/envs/BDA/bin/clang++ -dynamiclib -g -O3 -fno-math-errno -Wno-unused-label -Wno-unused-variable -Wno-write-strings -Wno-c++11-narrowing -fno-exceptions -fno-unwind-tables -fno-asynchronous-unwind-tables -DNPY_NO_DEPRECATED_API=NPY_1_7_API_VERSION -m64 -fPIC -undefined dynamic_lookup -I/usr/local/Caskroom/miniconda/base/envs/BDA/lib/python3.11/site-packages/numpy/core/include -I/usr/local/Caskroom/miniconda/base/envs/BDA/include/python3.11 -I/usr/local/Caskroom/miniconda/base/envs/BDA/lib/python3.11/site-packages/pytensor/link/c/c_code -L/usr/local/Caskroom/miniconda/base/envs/BDA/lib -fvisibility=hidden -o /Users/hermeschen/.pytensor/compiledir_macOS-14.0-x86_64-i386-64bit-i386-3.11.3-64/tmp5njz1ak1/mdb3a1a186c6e0c789bc6494774a591ac6d8ab11d3ed19bf02a4ff96ab64fa9ba.so /Users/hermeschen/.pytensor/compiledir_macOS-14.0-x86_64-i386-64bit-i386-3.11.3-64/tmp5njz1ak1/mod.cpp\n",
      "ld: library not found for -lSystem\n",
      "clang-15: error: linker command failed with exit code 1 (use -v to see invocation)\n",
      "\n",
      "\n"
     ]
    },
    {
     "name": "stdout",
     "output_type": "stream",
     "text": [
      "\n",
      "You can find the C code in this temporary file: /var/folders/vv/93wphtyn4w15b8hssz_f1c500000gn/T/pytensor_compilation_error_5l30zqlc\n",
      "library System is not found.\n"
     ]
    },
    {
     "name": "stderr",
     "output_type": "stream",
     "text": [
      "ERROR (pytensor.graph.rewriting.basic): Rewrite failure due to: constant_folding\n",
      "ERROR (pytensor.graph.rewriting.basic): node: InplaceDimShuffle{}(TensorConstant{(1,) of 5})\n",
      "ERROR (pytensor.graph.rewriting.basic): TRACEBACK:\n",
      "ERROR (pytensor.graph.rewriting.basic): Traceback (most recent call last):\n",
      "  File \"/usr/local/Caskroom/miniconda/base/envs/BDA/lib/python3.11/site-packages/pytensor/graph/rewriting/basic.py\", line 1918, in process_node\n",
      "    replacements = node_rewriter.transform(fgraph, node)\n",
      "                   ^^^^^^^^^^^^^^^^^^^^^^^^^^^^^^^^^^^^^\n",
      "  File \"/usr/local/Caskroom/miniconda/base/envs/BDA/lib/python3.11/site-packages/pytensor/graph/rewriting/basic.py\", line 1078, in transform\n",
      "    return self.fn(fgraph, node)\n",
      "           ^^^^^^^^^^^^^^^^^^^^^\n",
      "  File \"/usr/local/Caskroom/miniconda/base/envs/BDA/lib/python3.11/site-packages/pytensor/tensor/rewriting/basic.py\", line 1138, in constant_folding\n",
      "    thunk = node.op.make_thunk(node, storage_map, compute_map, no_recycling=[])\n",
      "            ^^^^^^^^^^^^^^^^^^^^^^^^^^^^^^^^^^^^^^^^^^^^^^^^^^^^^^^^^^^^^^^^^^^\n",
      "  File \"/usr/local/Caskroom/miniconda/base/envs/BDA/lib/python3.11/site-packages/pytensor/link/c/op.py\", line 131, in make_thunk\n",
      "    return self.make_c_thunk(node, storage_map, compute_map, no_recycling)\n",
      "           ^^^^^^^^^^^^^^^^^^^^^^^^^^^^^^^^^^^^^^^^^^^^^^^^^^^^^^^^^^^^^^^\n",
      "  File \"/usr/local/Caskroom/miniconda/base/envs/BDA/lib/python3.11/site-packages/pytensor/link/c/op.py\", line 96, in make_c_thunk\n",
      "    outputs = cl.make_thunk(\n",
      "              ^^^^^^^^^^^^^^\n",
      "  File \"/usr/local/Caskroom/miniconda/base/envs/BDA/lib/python3.11/site-packages/pytensor/link/c/basic.py\", line 1200, in make_thunk\n",
      "    cthunk, module, in_storage, out_storage, error_storage = self.__compile__(\n",
      "                                                             ^^^^^^^^^^^^^^^^^\n",
      "  File \"/usr/local/Caskroom/miniconda/base/envs/BDA/lib/python3.11/site-packages/pytensor/link/c/basic.py\", line 1120, in __compile__\n",
      "    thunk, module = self.cthunk_factory(\n",
      "                    ^^^^^^^^^^^^^^^^^^^^\n",
      "  File \"/usr/local/Caskroom/miniconda/base/envs/BDA/lib/python3.11/site-packages/pytensor/link/c/basic.py\", line 1644, in cthunk_factory\n",
      "    module = cache.module_from_key(key=key, lnk=self)\n",
      "             ^^^^^^^^^^^^^^^^^^^^^^^^^^^^^^^^^^^^^^^^\n",
      "  File \"/usr/local/Caskroom/miniconda/base/envs/BDA/lib/python3.11/site-packages/pytensor/link/c/cmodule.py\", line 1240, in module_from_key\n",
      "    module = lnk.compile_cmodule(location)\n",
      "             ^^^^^^^^^^^^^^^^^^^^^^^^^^^^^\n",
      "  File \"/usr/local/Caskroom/miniconda/base/envs/BDA/lib/python3.11/site-packages/pytensor/link/c/basic.py\", line 1543, in compile_cmodule\n",
      "    module = c_compiler.compile_str(\n",
      "             ^^^^^^^^^^^^^^^^^^^^^^^\n",
      "  File \"/usr/local/Caskroom/miniconda/base/envs/BDA/lib/python3.11/site-packages/pytensor/link/c/cmodule.py\", line 2649, in compile_str\n",
      "    raise CompileError(\n",
      "pytensor.link.c.exceptions.CompileError: Compilation failed (return status=1):\n",
      "/usr/local/Caskroom/miniconda/base/envs/BDA/bin/clang++ -dynamiclib -g -O3 -fno-math-errno -Wno-unused-label -Wno-unused-variable -Wno-write-strings -Wno-c++11-narrowing -fno-exceptions -fno-unwind-tables -fno-asynchronous-unwind-tables -DNPY_NO_DEPRECATED_API=NPY_1_7_API_VERSION -m64 -fPIC -undefined dynamic_lookup -I/usr/local/Caskroom/miniconda/base/envs/BDA/lib/python3.11/site-packages/numpy/core/include -I/usr/local/Caskroom/miniconda/base/envs/BDA/include/python3.11 -I/usr/local/Caskroom/miniconda/base/envs/BDA/lib/python3.11/site-packages/pytensor/link/c/c_code -L/usr/local/Caskroom/miniconda/base/envs/BDA/lib -fvisibility=hidden -o /Users/hermeschen/.pytensor/compiledir_macOS-14.0-x86_64-i386-64bit-i386-3.11.3-64/tmpjf7i0le6/mdb3a1a186c6e0c789bc6494774a591ac6d8ab11d3ed19bf02a4ff96ab64fa9ba.so /Users/hermeschen/.pytensor/compiledir_macOS-14.0-x86_64-i386-64bit-i386-3.11.3-64/tmpjf7i0le6/mod.cpp\n",
      "ld: library not found for -lSystem\n",
      "clang-15: error: linker command failed with exit code 1 (use -v to see invocation)\n",
      "\n",
      "\n"
     ]
    },
    {
     "name": "stdout",
     "output_type": "stream",
     "text": [
      "\n",
      "You can find the C code in this temporary file: /var/folders/vv/93wphtyn4w15b8hssz_f1c500000gn/T/pytensor_compilation_error_z8vj2f0o\n",
      "library System is not found.\n"
     ]
    },
    {
     "name": "stderr",
     "output_type": "stream",
     "text": [
      "ERROR (pytensor.graph.rewriting.basic): Rewrite failure due to: constant_folding\n",
      "ERROR (pytensor.graph.rewriting.basic): node: Elemwise{Cast{float64}}(TensorConstant{0})\n",
      "ERROR (pytensor.graph.rewriting.basic): TRACEBACK:\n",
      "ERROR (pytensor.graph.rewriting.basic): Traceback (most recent call last):\n",
      "  File \"/usr/local/Caskroom/miniconda/base/envs/BDA/lib/python3.11/site-packages/pytensor/graph/rewriting/basic.py\", line 1918, in process_node\n",
      "    replacements = node_rewriter.transform(fgraph, node)\n",
      "                   ^^^^^^^^^^^^^^^^^^^^^^^^^^^^^^^^^^^^^\n",
      "  File \"/usr/local/Caskroom/miniconda/base/envs/BDA/lib/python3.11/site-packages/pytensor/graph/rewriting/basic.py\", line 1078, in transform\n",
      "    return self.fn(fgraph, node)\n",
      "           ^^^^^^^^^^^^^^^^^^^^^\n",
      "  File \"/usr/local/Caskroom/miniconda/base/envs/BDA/lib/python3.11/site-packages/pytensor/tensor/rewriting/basic.py\", line 1138, in constant_folding\n",
      "    thunk = node.op.make_thunk(node, storage_map, compute_map, no_recycling=[])\n",
      "            ^^^^^^^^^^^^^^^^^^^^^^^^^^^^^^^^^^^^^^^^^^^^^^^^^^^^^^^^^^^^^^^^^^^\n",
      "  File \"/usr/local/Caskroom/miniconda/base/envs/BDA/lib/python3.11/site-packages/pytensor/link/c/op.py\", line 131, in make_thunk\n",
      "    return self.make_c_thunk(node, storage_map, compute_map, no_recycling)\n",
      "           ^^^^^^^^^^^^^^^^^^^^^^^^^^^^^^^^^^^^^^^^^^^^^^^^^^^^^^^^^^^^^^^\n",
      "  File \"/usr/local/Caskroom/miniconda/base/envs/BDA/lib/python3.11/site-packages/pytensor/link/c/op.py\", line 96, in make_c_thunk\n",
      "    outputs = cl.make_thunk(\n",
      "              ^^^^^^^^^^^^^^\n",
      "  File \"/usr/local/Caskroom/miniconda/base/envs/BDA/lib/python3.11/site-packages/pytensor/link/c/basic.py\", line 1200, in make_thunk\n",
      "    cthunk, module, in_storage, out_storage, error_storage = self.__compile__(\n",
      "                                                             ^^^^^^^^^^^^^^^^^\n",
      "  File \"/usr/local/Caskroom/miniconda/base/envs/BDA/lib/python3.11/site-packages/pytensor/link/c/basic.py\", line 1120, in __compile__\n",
      "    thunk, module = self.cthunk_factory(\n",
      "                    ^^^^^^^^^^^^^^^^^^^^\n",
      "  File \"/usr/local/Caskroom/miniconda/base/envs/BDA/lib/python3.11/site-packages/pytensor/link/c/basic.py\", line 1644, in cthunk_factory\n",
      "    module = cache.module_from_key(key=key, lnk=self)\n",
      "             ^^^^^^^^^^^^^^^^^^^^^^^^^^^^^^^^^^^^^^^^\n",
      "  File \"/usr/local/Caskroom/miniconda/base/envs/BDA/lib/python3.11/site-packages/pytensor/link/c/cmodule.py\", line 1240, in module_from_key\n",
      "    module = lnk.compile_cmodule(location)\n",
      "             ^^^^^^^^^^^^^^^^^^^^^^^^^^^^^\n",
      "  File \"/usr/local/Caskroom/miniconda/base/envs/BDA/lib/python3.11/site-packages/pytensor/link/c/basic.py\", line 1543, in compile_cmodule\n",
      "    module = c_compiler.compile_str(\n",
      "             ^^^^^^^^^^^^^^^^^^^^^^^\n",
      "  File \"/usr/local/Caskroom/miniconda/base/envs/BDA/lib/python3.11/site-packages/pytensor/link/c/cmodule.py\", line 2649, in compile_str\n",
      "    raise CompileError(\n",
      "pytensor.link.c.exceptions.CompileError: Compilation failed (return status=1):\n",
      "/usr/local/Caskroom/miniconda/base/envs/BDA/bin/clang++ -dynamiclib -g -O3 -fno-math-errno -Wno-unused-label -Wno-unused-variable -Wno-write-strings -Wno-c++11-narrowing -fno-exceptions -fno-unwind-tables -fno-asynchronous-unwind-tables -DNPY_NO_DEPRECATED_API=NPY_1_7_API_VERSION -m64 -fPIC -undefined dynamic_lookup -I/usr/local/Caskroom/miniconda/base/envs/BDA/lib/python3.11/site-packages/numpy/core/include -I/usr/local/Caskroom/miniconda/base/envs/BDA/include/python3.11 -I/usr/local/Caskroom/miniconda/base/envs/BDA/lib/python3.11/site-packages/pytensor/link/c/c_code -L/usr/local/Caskroom/miniconda/base/envs/BDA/lib -fvisibility=hidden -o /Users/hermeschen/.pytensor/compiledir_macOS-14.0-x86_64-i386-64bit-i386-3.11.3-64/tmp2lr5jilm/maf7dfc2b98019ae231490759913de9c7eae2cf26062201cb60a34079dffa7f98.so /Users/hermeschen/.pytensor/compiledir_macOS-14.0-x86_64-i386-64bit-i386-3.11.3-64/tmp2lr5jilm/mod.cpp\n",
      "ld: library not found for -lSystem\n",
      "clang-15: error: linker command failed with exit code 1 (use -v to see invocation)\n",
      "\n",
      "\n"
     ]
    },
    {
     "name": "stdout",
     "output_type": "stream",
     "text": [
      "\n",
      "You can find the C code in this temporary file: /var/folders/vv/93wphtyn4w15b8hssz_f1c500000gn/T/pytensor_compilation_error_vutyv396\n",
      "library System is not found.\n"
     ]
    },
    {
     "name": "stderr",
     "output_type": "stream",
     "text": [
      "ERROR (pytensor.graph.rewriting.basic): Rewrite failure due to: constant_folding\n",
      "ERROR (pytensor.graph.rewriting.basic): node: InplaceDimShuffle{}(TensorConstant{(1,) of 5})\n",
      "ERROR (pytensor.graph.rewriting.basic): TRACEBACK:\n",
      "ERROR (pytensor.graph.rewriting.basic): Traceback (most recent call last):\n",
      "  File \"/usr/local/Caskroom/miniconda/base/envs/BDA/lib/python3.11/site-packages/pytensor/graph/rewriting/basic.py\", line 1918, in process_node\n",
      "    replacements = node_rewriter.transform(fgraph, node)\n",
      "                   ^^^^^^^^^^^^^^^^^^^^^^^^^^^^^^^^^^^^^\n",
      "  File \"/usr/local/Caskroom/miniconda/base/envs/BDA/lib/python3.11/site-packages/pytensor/graph/rewriting/basic.py\", line 1078, in transform\n",
      "    return self.fn(fgraph, node)\n",
      "           ^^^^^^^^^^^^^^^^^^^^^\n",
      "  File \"/usr/local/Caskroom/miniconda/base/envs/BDA/lib/python3.11/site-packages/pytensor/tensor/rewriting/basic.py\", line 1138, in constant_folding\n",
      "    thunk = node.op.make_thunk(node, storage_map, compute_map, no_recycling=[])\n",
      "            ^^^^^^^^^^^^^^^^^^^^^^^^^^^^^^^^^^^^^^^^^^^^^^^^^^^^^^^^^^^^^^^^^^^\n",
      "  File \"/usr/local/Caskroom/miniconda/base/envs/BDA/lib/python3.11/site-packages/pytensor/link/c/op.py\", line 131, in make_thunk\n",
      "    return self.make_c_thunk(node, storage_map, compute_map, no_recycling)\n",
      "           ^^^^^^^^^^^^^^^^^^^^^^^^^^^^^^^^^^^^^^^^^^^^^^^^^^^^^^^^^^^^^^^\n",
      "  File \"/usr/local/Caskroom/miniconda/base/envs/BDA/lib/python3.11/site-packages/pytensor/link/c/op.py\", line 96, in make_c_thunk\n",
      "    outputs = cl.make_thunk(\n",
      "              ^^^^^^^^^^^^^^\n",
      "  File \"/usr/local/Caskroom/miniconda/base/envs/BDA/lib/python3.11/site-packages/pytensor/link/c/basic.py\", line 1200, in make_thunk\n",
      "    cthunk, module, in_storage, out_storage, error_storage = self.__compile__(\n",
      "                                                             ^^^^^^^^^^^^^^^^^\n",
      "  File \"/usr/local/Caskroom/miniconda/base/envs/BDA/lib/python3.11/site-packages/pytensor/link/c/basic.py\", line 1120, in __compile__\n",
      "    thunk, module = self.cthunk_factory(\n",
      "                    ^^^^^^^^^^^^^^^^^^^^\n",
      "  File \"/usr/local/Caskroom/miniconda/base/envs/BDA/lib/python3.11/site-packages/pytensor/link/c/basic.py\", line 1644, in cthunk_factory\n",
      "    module = cache.module_from_key(key=key, lnk=self)\n",
      "             ^^^^^^^^^^^^^^^^^^^^^^^^^^^^^^^^^^^^^^^^\n",
      "  File \"/usr/local/Caskroom/miniconda/base/envs/BDA/lib/python3.11/site-packages/pytensor/link/c/cmodule.py\", line 1240, in module_from_key\n",
      "    module = lnk.compile_cmodule(location)\n",
      "             ^^^^^^^^^^^^^^^^^^^^^^^^^^^^^\n",
      "  File \"/usr/local/Caskroom/miniconda/base/envs/BDA/lib/python3.11/site-packages/pytensor/link/c/basic.py\", line 1543, in compile_cmodule\n",
      "    module = c_compiler.compile_str(\n",
      "             ^^^^^^^^^^^^^^^^^^^^^^^\n",
      "  File \"/usr/local/Caskroom/miniconda/base/envs/BDA/lib/python3.11/site-packages/pytensor/link/c/cmodule.py\", line 2649, in compile_str\n",
      "    raise CompileError(\n",
      "pytensor.link.c.exceptions.CompileError: Compilation failed (return status=1):\n",
      "/usr/local/Caskroom/miniconda/base/envs/BDA/bin/clang++ -dynamiclib -g -O3 -fno-math-errno -Wno-unused-label -Wno-unused-variable -Wno-write-strings -Wno-c++11-narrowing -fno-exceptions -fno-unwind-tables -fno-asynchronous-unwind-tables -DNPY_NO_DEPRECATED_API=NPY_1_7_API_VERSION -m64 -fPIC -undefined dynamic_lookup -I/usr/local/Caskroom/miniconda/base/envs/BDA/lib/python3.11/site-packages/numpy/core/include -I/usr/local/Caskroom/miniconda/base/envs/BDA/include/python3.11 -I/usr/local/Caskroom/miniconda/base/envs/BDA/lib/python3.11/site-packages/pytensor/link/c/c_code -L/usr/local/Caskroom/miniconda/base/envs/BDA/lib -fvisibility=hidden -o /Users/hermeschen/.pytensor/compiledir_macOS-14.0-x86_64-i386-64bit-i386-3.11.3-64/tmputmlbf4t/mdb3a1a186c6e0c789bc6494774a591ac6d8ab11d3ed19bf02a4ff96ab64fa9ba.so /Users/hermeschen/.pytensor/compiledir_macOS-14.0-x86_64-i386-64bit-i386-3.11.3-64/tmputmlbf4t/mod.cpp\n",
      "ld: library not found for -lSystem\n",
      "clang-15: error: linker command failed with exit code 1 (use -v to see invocation)\n",
      "\n",
      "\n"
     ]
    },
    {
     "name": "stdout",
     "output_type": "stream",
     "text": [
      "\n",
      "You can find the C code in this temporary file: /var/folders/vv/93wphtyn4w15b8hssz_f1c500000gn/T/pytensor_compilation_error_5_xoh104\n",
      "library System is not found.\n"
     ]
    },
    {
     "name": "stderr",
     "output_type": "stream",
     "text": [
      "ERROR (pytensor.graph.rewriting.basic): Rewrite failure due to: constant_folding\n",
      "ERROR (pytensor.graph.rewriting.basic): node: Elemwise{log,no_inplace}(TensorConstant{5.0})\n",
      "ERROR (pytensor.graph.rewriting.basic): TRACEBACK:\n",
      "ERROR (pytensor.graph.rewriting.basic): Traceback (most recent call last):\n",
      "  File \"/usr/local/Caskroom/miniconda/base/envs/BDA/lib/python3.11/site-packages/pytensor/graph/rewriting/basic.py\", line 1918, in process_node\n",
      "    replacements = node_rewriter.transform(fgraph, node)\n",
      "                   ^^^^^^^^^^^^^^^^^^^^^^^^^^^^^^^^^^^^^\n",
      "  File \"/usr/local/Caskroom/miniconda/base/envs/BDA/lib/python3.11/site-packages/pytensor/graph/rewriting/basic.py\", line 1078, in transform\n",
      "    return self.fn(fgraph, node)\n",
      "           ^^^^^^^^^^^^^^^^^^^^^\n",
      "  File \"/usr/local/Caskroom/miniconda/base/envs/BDA/lib/python3.11/site-packages/pytensor/tensor/rewriting/basic.py\", line 1138, in constant_folding\n",
      "    thunk = node.op.make_thunk(node, storage_map, compute_map, no_recycling=[])\n",
      "            ^^^^^^^^^^^^^^^^^^^^^^^^^^^^^^^^^^^^^^^^^^^^^^^^^^^^^^^^^^^^^^^^^^^\n",
      "  File \"/usr/local/Caskroom/miniconda/base/envs/BDA/lib/python3.11/site-packages/pytensor/link/c/op.py\", line 131, in make_thunk\n",
      "    return self.make_c_thunk(node, storage_map, compute_map, no_recycling)\n",
      "           ^^^^^^^^^^^^^^^^^^^^^^^^^^^^^^^^^^^^^^^^^^^^^^^^^^^^^^^^^^^^^^^\n",
      "  File \"/usr/local/Caskroom/miniconda/base/envs/BDA/lib/python3.11/site-packages/pytensor/link/c/op.py\", line 96, in make_c_thunk\n",
      "    outputs = cl.make_thunk(\n",
      "              ^^^^^^^^^^^^^^\n",
      "  File \"/usr/local/Caskroom/miniconda/base/envs/BDA/lib/python3.11/site-packages/pytensor/link/c/basic.py\", line 1200, in make_thunk\n",
      "    cthunk, module, in_storage, out_storage, error_storage = self.__compile__(\n",
      "                                                             ^^^^^^^^^^^^^^^^^\n",
      "  File \"/usr/local/Caskroom/miniconda/base/envs/BDA/lib/python3.11/site-packages/pytensor/link/c/basic.py\", line 1120, in __compile__\n",
      "    thunk, module = self.cthunk_factory(\n",
      "                    ^^^^^^^^^^^^^^^^^^^^\n",
      "  File \"/usr/local/Caskroom/miniconda/base/envs/BDA/lib/python3.11/site-packages/pytensor/link/c/basic.py\", line 1644, in cthunk_factory\n",
      "    module = cache.module_from_key(key=key, lnk=self)\n",
      "             ^^^^^^^^^^^^^^^^^^^^^^^^^^^^^^^^^^^^^^^^\n",
      "  File \"/usr/local/Caskroom/miniconda/base/envs/BDA/lib/python3.11/site-packages/pytensor/link/c/cmodule.py\", line 1240, in module_from_key\n",
      "    module = lnk.compile_cmodule(location)\n",
      "             ^^^^^^^^^^^^^^^^^^^^^^^^^^^^^\n",
      "  File \"/usr/local/Caskroom/miniconda/base/envs/BDA/lib/python3.11/site-packages/pytensor/link/c/basic.py\", line 1543, in compile_cmodule\n",
      "    module = c_compiler.compile_str(\n",
      "             ^^^^^^^^^^^^^^^^^^^^^^^\n",
      "  File \"/usr/local/Caskroom/miniconda/base/envs/BDA/lib/python3.11/site-packages/pytensor/link/c/cmodule.py\", line 2649, in compile_str\n",
      "    raise CompileError(\n",
      "pytensor.link.c.exceptions.CompileError: Compilation failed (return status=1):\n",
      "/usr/local/Caskroom/miniconda/base/envs/BDA/bin/clang++ -dynamiclib -g -O3 -fno-math-errno -Wno-unused-label -Wno-unused-variable -Wno-write-strings -Wno-c++11-narrowing -fno-exceptions -fno-unwind-tables -fno-asynchronous-unwind-tables -DNPY_NO_DEPRECATED_API=NPY_1_7_API_VERSION -m64 -fPIC -undefined dynamic_lookup -I/usr/local/Caskroom/miniconda/base/envs/BDA/lib/python3.11/site-packages/numpy/core/include -I/usr/local/Caskroom/miniconda/base/envs/BDA/include/python3.11 -I/usr/local/Caskroom/miniconda/base/envs/BDA/lib/python3.11/site-packages/pytensor/link/c/c_code -L/usr/local/Caskroom/miniconda/base/envs/BDA/lib -fvisibility=hidden -o /Users/hermeschen/.pytensor/compiledir_macOS-14.0-x86_64-i386-64bit-i386-3.11.3-64/tmp5lb0apsc/m73fbe7df58ef19075d64bb4cc94c017c722377f29ba137062e457ac34ef01995.so /Users/hermeschen/.pytensor/compiledir_macOS-14.0-x86_64-i386-64bit-i386-3.11.3-64/tmp5lb0apsc/mod.cpp\n",
      "ld: library not found for -lSystem\n",
      "clang-15: error: linker command failed with exit code 1 (use -v to see invocation)\n",
      "\n",
      "\n"
     ]
    },
    {
     "name": "stdout",
     "output_type": "stream",
     "text": [
      "\n",
      "You can find the C code in this temporary file: /var/folders/vv/93wphtyn4w15b8hssz_f1c500000gn/T/pytensor_compilation_error_fauy5pyr\n",
      "library System is not found.\n"
     ]
    },
    {
     "name": "stderr",
     "output_type": "stream",
     "text": [
      "ERROR (pytensor.graph.rewriting.basic): Rewrite failure due to: constant_folding\n",
      "ERROR (pytensor.graph.rewriting.basic): node: Elemwise{Cast{float64}}(TensorConstant{0})\n",
      "ERROR (pytensor.graph.rewriting.basic): TRACEBACK:\n",
      "ERROR (pytensor.graph.rewriting.basic): Traceback (most recent call last):\n",
      "  File \"/usr/local/Caskroom/miniconda/base/envs/BDA/lib/python3.11/site-packages/pytensor/graph/rewriting/basic.py\", line 1918, in process_node\n",
      "    replacements = node_rewriter.transform(fgraph, node)\n",
      "                   ^^^^^^^^^^^^^^^^^^^^^^^^^^^^^^^^^^^^^\n",
      "  File \"/usr/local/Caskroom/miniconda/base/envs/BDA/lib/python3.11/site-packages/pytensor/graph/rewriting/basic.py\", line 1078, in transform\n",
      "    return self.fn(fgraph, node)\n",
      "           ^^^^^^^^^^^^^^^^^^^^^\n",
      "  File \"/usr/local/Caskroom/miniconda/base/envs/BDA/lib/python3.11/site-packages/pytensor/tensor/rewriting/basic.py\", line 1138, in constant_folding\n",
      "    thunk = node.op.make_thunk(node, storage_map, compute_map, no_recycling=[])\n",
      "            ^^^^^^^^^^^^^^^^^^^^^^^^^^^^^^^^^^^^^^^^^^^^^^^^^^^^^^^^^^^^^^^^^^^\n",
      "  File \"/usr/local/Caskroom/miniconda/base/envs/BDA/lib/python3.11/site-packages/pytensor/link/c/op.py\", line 131, in make_thunk\n",
      "    return self.make_c_thunk(node, storage_map, compute_map, no_recycling)\n",
      "           ^^^^^^^^^^^^^^^^^^^^^^^^^^^^^^^^^^^^^^^^^^^^^^^^^^^^^^^^^^^^^^^\n",
      "  File \"/usr/local/Caskroom/miniconda/base/envs/BDA/lib/python3.11/site-packages/pytensor/link/c/op.py\", line 96, in make_c_thunk\n",
      "    outputs = cl.make_thunk(\n",
      "              ^^^^^^^^^^^^^^\n",
      "  File \"/usr/local/Caskroom/miniconda/base/envs/BDA/lib/python3.11/site-packages/pytensor/link/c/basic.py\", line 1200, in make_thunk\n",
      "    cthunk, module, in_storage, out_storage, error_storage = self.__compile__(\n",
      "                                                             ^^^^^^^^^^^^^^^^^\n",
      "  File \"/usr/local/Caskroom/miniconda/base/envs/BDA/lib/python3.11/site-packages/pytensor/link/c/basic.py\", line 1120, in __compile__\n",
      "    thunk, module = self.cthunk_factory(\n",
      "                    ^^^^^^^^^^^^^^^^^^^^\n",
      "  File \"/usr/local/Caskroom/miniconda/base/envs/BDA/lib/python3.11/site-packages/pytensor/link/c/basic.py\", line 1644, in cthunk_factory\n",
      "    module = cache.module_from_key(key=key, lnk=self)\n",
      "             ^^^^^^^^^^^^^^^^^^^^^^^^^^^^^^^^^^^^^^^^\n",
      "  File \"/usr/local/Caskroom/miniconda/base/envs/BDA/lib/python3.11/site-packages/pytensor/link/c/cmodule.py\", line 1240, in module_from_key\n",
      "    module = lnk.compile_cmodule(location)\n",
      "             ^^^^^^^^^^^^^^^^^^^^^^^^^^^^^\n",
      "  File \"/usr/local/Caskroom/miniconda/base/envs/BDA/lib/python3.11/site-packages/pytensor/link/c/basic.py\", line 1543, in compile_cmodule\n",
      "    module = c_compiler.compile_str(\n",
      "             ^^^^^^^^^^^^^^^^^^^^^^^\n",
      "  File \"/usr/local/Caskroom/miniconda/base/envs/BDA/lib/python3.11/site-packages/pytensor/link/c/cmodule.py\", line 2649, in compile_str\n",
      "    raise CompileError(\n",
      "pytensor.link.c.exceptions.CompileError: Compilation failed (return status=1):\n",
      "/usr/local/Caskroom/miniconda/base/envs/BDA/bin/clang++ -dynamiclib -g -O3 -fno-math-errno -Wno-unused-label -Wno-unused-variable -Wno-write-strings -Wno-c++11-narrowing -fno-exceptions -fno-unwind-tables -fno-asynchronous-unwind-tables -DNPY_NO_DEPRECATED_API=NPY_1_7_API_VERSION -m64 -fPIC -undefined dynamic_lookup -I/usr/local/Caskroom/miniconda/base/envs/BDA/lib/python3.11/site-packages/numpy/core/include -I/usr/local/Caskroom/miniconda/base/envs/BDA/include/python3.11 -I/usr/local/Caskroom/miniconda/base/envs/BDA/lib/python3.11/site-packages/pytensor/link/c/c_code -L/usr/local/Caskroom/miniconda/base/envs/BDA/lib -fvisibility=hidden -o /Users/hermeschen/.pytensor/compiledir_macOS-14.0-x86_64-i386-64bit-i386-3.11.3-64/tmp4w5h6ftp/maf7dfc2b98019ae231490759913de9c7eae2cf26062201cb60a34079dffa7f98.so /Users/hermeschen/.pytensor/compiledir_macOS-14.0-x86_64-i386-64bit-i386-3.11.3-64/tmp4w5h6ftp/mod.cpp\n",
      "ld: library not found for -lSystem\n",
      "clang-15: error: linker command failed with exit code 1 (use -v to see invocation)\n",
      "\n",
      "\n"
     ]
    },
    {
     "name": "stdout",
     "output_type": "stream",
     "text": [
      "\n",
      "You can find the C code in this temporary file: /var/folders/vv/93wphtyn4w15b8hssz_f1c500000gn/T/pytensor_compilation_error_8ekt2tel\n",
      "library System is not found.\n"
     ]
    },
    {
     "name": "stderr",
     "output_type": "stream",
     "text": [
      "ERROR (pytensor.graph.rewriting.basic): Rewrite failure due to: constant_folding\n",
      "ERROR (pytensor.graph.rewriting.basic): node: InplaceDimShuffle{}(TensorConstant{(1,) of 5})\n",
      "ERROR (pytensor.graph.rewriting.basic): TRACEBACK:\n",
      "ERROR (pytensor.graph.rewriting.basic): Traceback (most recent call last):\n",
      "  File \"/usr/local/Caskroom/miniconda/base/envs/BDA/lib/python3.11/site-packages/pytensor/graph/rewriting/basic.py\", line 1918, in process_node\n",
      "    replacements = node_rewriter.transform(fgraph, node)\n",
      "                   ^^^^^^^^^^^^^^^^^^^^^^^^^^^^^^^^^^^^^\n",
      "  File \"/usr/local/Caskroom/miniconda/base/envs/BDA/lib/python3.11/site-packages/pytensor/graph/rewriting/basic.py\", line 1078, in transform\n",
      "    return self.fn(fgraph, node)\n",
      "           ^^^^^^^^^^^^^^^^^^^^^\n",
      "  File \"/usr/local/Caskroom/miniconda/base/envs/BDA/lib/python3.11/site-packages/pytensor/tensor/rewriting/basic.py\", line 1138, in constant_folding\n",
      "    thunk = node.op.make_thunk(node, storage_map, compute_map, no_recycling=[])\n",
      "            ^^^^^^^^^^^^^^^^^^^^^^^^^^^^^^^^^^^^^^^^^^^^^^^^^^^^^^^^^^^^^^^^^^^\n",
      "  File \"/usr/local/Caskroom/miniconda/base/envs/BDA/lib/python3.11/site-packages/pytensor/link/c/op.py\", line 131, in make_thunk\n",
      "    return self.make_c_thunk(node, storage_map, compute_map, no_recycling)\n",
      "           ^^^^^^^^^^^^^^^^^^^^^^^^^^^^^^^^^^^^^^^^^^^^^^^^^^^^^^^^^^^^^^^\n",
      "  File \"/usr/local/Caskroom/miniconda/base/envs/BDA/lib/python3.11/site-packages/pytensor/link/c/op.py\", line 96, in make_c_thunk\n",
      "    outputs = cl.make_thunk(\n",
      "              ^^^^^^^^^^^^^^\n",
      "  File \"/usr/local/Caskroom/miniconda/base/envs/BDA/lib/python3.11/site-packages/pytensor/link/c/basic.py\", line 1200, in make_thunk\n",
      "    cthunk, module, in_storage, out_storage, error_storage = self.__compile__(\n",
      "                                                             ^^^^^^^^^^^^^^^^^\n",
      "  File \"/usr/local/Caskroom/miniconda/base/envs/BDA/lib/python3.11/site-packages/pytensor/link/c/basic.py\", line 1120, in __compile__\n",
      "    thunk, module = self.cthunk_factory(\n",
      "                    ^^^^^^^^^^^^^^^^^^^^\n",
      "  File \"/usr/local/Caskroom/miniconda/base/envs/BDA/lib/python3.11/site-packages/pytensor/link/c/basic.py\", line 1644, in cthunk_factory\n",
      "    module = cache.module_from_key(key=key, lnk=self)\n",
      "             ^^^^^^^^^^^^^^^^^^^^^^^^^^^^^^^^^^^^^^^^\n",
      "  File \"/usr/local/Caskroom/miniconda/base/envs/BDA/lib/python3.11/site-packages/pytensor/link/c/cmodule.py\", line 1240, in module_from_key\n",
      "    module = lnk.compile_cmodule(location)\n",
      "             ^^^^^^^^^^^^^^^^^^^^^^^^^^^^^\n",
      "  File \"/usr/local/Caskroom/miniconda/base/envs/BDA/lib/python3.11/site-packages/pytensor/link/c/basic.py\", line 1543, in compile_cmodule\n",
      "    module = c_compiler.compile_str(\n",
      "             ^^^^^^^^^^^^^^^^^^^^^^^\n",
      "  File \"/usr/local/Caskroom/miniconda/base/envs/BDA/lib/python3.11/site-packages/pytensor/link/c/cmodule.py\", line 2649, in compile_str\n",
      "    raise CompileError(\n",
      "pytensor.link.c.exceptions.CompileError: Compilation failed (return status=1):\n",
      "/usr/local/Caskroom/miniconda/base/envs/BDA/bin/clang++ -dynamiclib -g -O3 -fno-math-errno -Wno-unused-label -Wno-unused-variable -Wno-write-strings -Wno-c++11-narrowing -fno-exceptions -fno-unwind-tables -fno-asynchronous-unwind-tables -DNPY_NO_DEPRECATED_API=NPY_1_7_API_VERSION -m64 -fPIC -undefined dynamic_lookup -I/usr/local/Caskroom/miniconda/base/envs/BDA/lib/python3.11/site-packages/numpy/core/include -I/usr/local/Caskroom/miniconda/base/envs/BDA/include/python3.11 -I/usr/local/Caskroom/miniconda/base/envs/BDA/lib/python3.11/site-packages/pytensor/link/c/c_code -L/usr/local/Caskroom/miniconda/base/envs/BDA/lib -fvisibility=hidden -o /Users/hermeschen/.pytensor/compiledir_macOS-14.0-x86_64-i386-64bit-i386-3.11.3-64/tmpa5n7z597/mdb3a1a186c6e0c789bc6494774a591ac6d8ab11d3ed19bf02a4ff96ab64fa9ba.so /Users/hermeschen/.pytensor/compiledir_macOS-14.0-x86_64-i386-64bit-i386-3.11.3-64/tmpa5n7z597/mod.cpp\n",
      "ld: library not found for -lSystem\n",
      "clang-15: error: linker command failed with exit code 1 (use -v to see invocation)\n",
      "\n",
      "\n"
     ]
    },
    {
     "name": "stdout",
     "output_type": "stream",
     "text": [
      "\n",
      "You can find the C code in this temporary file: /var/folders/vv/93wphtyn4w15b8hssz_f1c500000gn/T/pytensor_compilation_error_s03p9mob\n",
      "library System is not found.\n"
     ]
    },
    {
     "name": "stderr",
     "output_type": "stream",
     "text": [
      "ERROR (pytensor.graph.rewriting.basic): Rewrite failure due to: constant_folding\n",
      "ERROR (pytensor.graph.rewriting.basic): node: Elemwise{log,no_inplace}(TensorConstant{5.0})\n",
      "ERROR (pytensor.graph.rewriting.basic): TRACEBACK:\n",
      "ERROR (pytensor.graph.rewriting.basic): Traceback (most recent call last):\n",
      "  File \"/usr/local/Caskroom/miniconda/base/envs/BDA/lib/python3.11/site-packages/pytensor/graph/rewriting/basic.py\", line 1918, in process_node\n",
      "    replacements = node_rewriter.transform(fgraph, node)\n",
      "                   ^^^^^^^^^^^^^^^^^^^^^^^^^^^^^^^^^^^^^\n",
      "  File \"/usr/local/Caskroom/miniconda/base/envs/BDA/lib/python3.11/site-packages/pytensor/graph/rewriting/basic.py\", line 1078, in transform\n",
      "    return self.fn(fgraph, node)\n",
      "           ^^^^^^^^^^^^^^^^^^^^^\n",
      "  File \"/usr/local/Caskroom/miniconda/base/envs/BDA/lib/python3.11/site-packages/pytensor/tensor/rewriting/basic.py\", line 1138, in constant_folding\n",
      "    thunk = node.op.make_thunk(node, storage_map, compute_map, no_recycling=[])\n",
      "            ^^^^^^^^^^^^^^^^^^^^^^^^^^^^^^^^^^^^^^^^^^^^^^^^^^^^^^^^^^^^^^^^^^^\n",
      "  File \"/usr/local/Caskroom/miniconda/base/envs/BDA/lib/python3.11/site-packages/pytensor/link/c/op.py\", line 131, in make_thunk\n",
      "    return self.make_c_thunk(node, storage_map, compute_map, no_recycling)\n",
      "           ^^^^^^^^^^^^^^^^^^^^^^^^^^^^^^^^^^^^^^^^^^^^^^^^^^^^^^^^^^^^^^^\n",
      "  File \"/usr/local/Caskroom/miniconda/base/envs/BDA/lib/python3.11/site-packages/pytensor/link/c/op.py\", line 96, in make_c_thunk\n",
      "    outputs = cl.make_thunk(\n",
      "              ^^^^^^^^^^^^^^\n",
      "  File \"/usr/local/Caskroom/miniconda/base/envs/BDA/lib/python3.11/site-packages/pytensor/link/c/basic.py\", line 1200, in make_thunk\n",
      "    cthunk, module, in_storage, out_storage, error_storage = self.__compile__(\n",
      "                                                             ^^^^^^^^^^^^^^^^^\n",
      "  File \"/usr/local/Caskroom/miniconda/base/envs/BDA/lib/python3.11/site-packages/pytensor/link/c/basic.py\", line 1120, in __compile__\n",
      "    thunk, module = self.cthunk_factory(\n",
      "                    ^^^^^^^^^^^^^^^^^^^^\n",
      "  File \"/usr/local/Caskroom/miniconda/base/envs/BDA/lib/python3.11/site-packages/pytensor/link/c/basic.py\", line 1644, in cthunk_factory\n",
      "    module = cache.module_from_key(key=key, lnk=self)\n",
      "             ^^^^^^^^^^^^^^^^^^^^^^^^^^^^^^^^^^^^^^^^\n",
      "  File \"/usr/local/Caskroom/miniconda/base/envs/BDA/lib/python3.11/site-packages/pytensor/link/c/cmodule.py\", line 1240, in module_from_key\n",
      "    module = lnk.compile_cmodule(location)\n",
      "             ^^^^^^^^^^^^^^^^^^^^^^^^^^^^^\n",
      "  File \"/usr/local/Caskroom/miniconda/base/envs/BDA/lib/python3.11/site-packages/pytensor/link/c/basic.py\", line 1543, in compile_cmodule\n",
      "    module = c_compiler.compile_str(\n",
      "             ^^^^^^^^^^^^^^^^^^^^^^^\n",
      "  File \"/usr/local/Caskroom/miniconda/base/envs/BDA/lib/python3.11/site-packages/pytensor/link/c/cmodule.py\", line 2649, in compile_str\n",
      "    raise CompileError(\n",
      "pytensor.link.c.exceptions.CompileError: Compilation failed (return status=1):\n",
      "/usr/local/Caskroom/miniconda/base/envs/BDA/bin/clang++ -dynamiclib -g -O3 -fno-math-errno -Wno-unused-label -Wno-unused-variable -Wno-write-strings -Wno-c++11-narrowing -fno-exceptions -fno-unwind-tables -fno-asynchronous-unwind-tables -DNPY_NO_DEPRECATED_API=NPY_1_7_API_VERSION -m64 -fPIC -undefined dynamic_lookup -I/usr/local/Caskroom/miniconda/base/envs/BDA/lib/python3.11/site-packages/numpy/core/include -I/usr/local/Caskroom/miniconda/base/envs/BDA/include/python3.11 -I/usr/local/Caskroom/miniconda/base/envs/BDA/lib/python3.11/site-packages/pytensor/link/c/c_code -L/usr/local/Caskroom/miniconda/base/envs/BDA/lib -fvisibility=hidden -o /Users/hermeschen/.pytensor/compiledir_macOS-14.0-x86_64-i386-64bit-i386-3.11.3-64/tmp44ldep2y/m73fbe7df58ef19075d64bb4cc94c017c722377f29ba137062e457ac34ef01995.so /Users/hermeschen/.pytensor/compiledir_macOS-14.0-x86_64-i386-64bit-i386-3.11.3-64/tmp44ldep2y/mod.cpp\n",
      "ld: library not found for -lSystem\n",
      "clang-15: error: linker command failed with exit code 1 (use -v to see invocation)\n",
      "\n",
      "\n"
     ]
    },
    {
     "name": "stdout",
     "output_type": "stream",
     "text": [
      "\n",
      "You can find the C code in this temporary file: /var/folders/vv/93wphtyn4w15b8hssz_f1c500000gn/T/pytensor_compilation_error_55z7d9pe\n",
      "library System is not found.\n"
     ]
    },
    {
     "name": "stderr",
     "output_type": "stream",
     "text": [
      "ERROR (pytensor.graph.rewriting.basic): Rewrite failure due to: constant_folding\n",
      "ERROR (pytensor.graph.rewriting.basic): node: Elemwise{Cast{float64}}(TensorConstant{0})\n",
      "ERROR (pytensor.graph.rewriting.basic): TRACEBACK:\n",
      "ERROR (pytensor.graph.rewriting.basic): Traceback (most recent call last):\n",
      "  File \"/usr/local/Caskroom/miniconda/base/envs/BDA/lib/python3.11/site-packages/pytensor/graph/rewriting/basic.py\", line 1918, in process_node\n",
      "    replacements = node_rewriter.transform(fgraph, node)\n",
      "                   ^^^^^^^^^^^^^^^^^^^^^^^^^^^^^^^^^^^^^\n",
      "  File \"/usr/local/Caskroom/miniconda/base/envs/BDA/lib/python3.11/site-packages/pytensor/graph/rewriting/basic.py\", line 1078, in transform\n",
      "    return self.fn(fgraph, node)\n",
      "           ^^^^^^^^^^^^^^^^^^^^^\n",
      "  File \"/usr/local/Caskroom/miniconda/base/envs/BDA/lib/python3.11/site-packages/pytensor/tensor/rewriting/basic.py\", line 1138, in constant_folding\n",
      "    thunk = node.op.make_thunk(node, storage_map, compute_map, no_recycling=[])\n",
      "            ^^^^^^^^^^^^^^^^^^^^^^^^^^^^^^^^^^^^^^^^^^^^^^^^^^^^^^^^^^^^^^^^^^^\n",
      "  File \"/usr/local/Caskroom/miniconda/base/envs/BDA/lib/python3.11/site-packages/pytensor/link/c/op.py\", line 131, in make_thunk\n",
      "    return self.make_c_thunk(node, storage_map, compute_map, no_recycling)\n",
      "           ^^^^^^^^^^^^^^^^^^^^^^^^^^^^^^^^^^^^^^^^^^^^^^^^^^^^^^^^^^^^^^^\n",
      "  File \"/usr/local/Caskroom/miniconda/base/envs/BDA/lib/python3.11/site-packages/pytensor/link/c/op.py\", line 96, in make_c_thunk\n",
      "    outputs = cl.make_thunk(\n",
      "              ^^^^^^^^^^^^^^\n",
      "  File \"/usr/local/Caskroom/miniconda/base/envs/BDA/lib/python3.11/site-packages/pytensor/link/c/basic.py\", line 1200, in make_thunk\n",
      "    cthunk, module, in_storage, out_storage, error_storage = self.__compile__(\n",
      "                                                             ^^^^^^^^^^^^^^^^^\n",
      "  File \"/usr/local/Caskroom/miniconda/base/envs/BDA/lib/python3.11/site-packages/pytensor/link/c/basic.py\", line 1120, in __compile__\n",
      "    thunk, module = self.cthunk_factory(\n",
      "                    ^^^^^^^^^^^^^^^^^^^^\n",
      "  File \"/usr/local/Caskroom/miniconda/base/envs/BDA/lib/python3.11/site-packages/pytensor/link/c/basic.py\", line 1644, in cthunk_factory\n",
      "    module = cache.module_from_key(key=key, lnk=self)\n",
      "             ^^^^^^^^^^^^^^^^^^^^^^^^^^^^^^^^^^^^^^^^\n",
      "  File \"/usr/local/Caskroom/miniconda/base/envs/BDA/lib/python3.11/site-packages/pytensor/link/c/cmodule.py\", line 1240, in module_from_key\n",
      "    module = lnk.compile_cmodule(location)\n",
      "             ^^^^^^^^^^^^^^^^^^^^^^^^^^^^^\n",
      "  File \"/usr/local/Caskroom/miniconda/base/envs/BDA/lib/python3.11/site-packages/pytensor/link/c/basic.py\", line 1543, in compile_cmodule\n",
      "    module = c_compiler.compile_str(\n",
      "             ^^^^^^^^^^^^^^^^^^^^^^^\n",
      "  File \"/usr/local/Caskroom/miniconda/base/envs/BDA/lib/python3.11/site-packages/pytensor/link/c/cmodule.py\", line 2649, in compile_str\n",
      "    raise CompileError(\n",
      "pytensor.link.c.exceptions.CompileError: Compilation failed (return status=1):\n",
      "/usr/local/Caskroom/miniconda/base/envs/BDA/bin/clang++ -dynamiclib -g -O3 -fno-math-errno -Wno-unused-label -Wno-unused-variable -Wno-write-strings -Wno-c++11-narrowing -fno-exceptions -fno-unwind-tables -fno-asynchronous-unwind-tables -DNPY_NO_DEPRECATED_API=NPY_1_7_API_VERSION -m64 -fPIC -undefined dynamic_lookup -I/usr/local/Caskroom/miniconda/base/envs/BDA/lib/python3.11/site-packages/numpy/core/include -I/usr/local/Caskroom/miniconda/base/envs/BDA/include/python3.11 -I/usr/local/Caskroom/miniconda/base/envs/BDA/lib/python3.11/site-packages/pytensor/link/c/c_code -L/usr/local/Caskroom/miniconda/base/envs/BDA/lib -fvisibility=hidden -o /Users/hermeschen/.pytensor/compiledir_macOS-14.0-x86_64-i386-64bit-i386-3.11.3-64/tmpxn2afd4h/maf7dfc2b98019ae231490759913de9c7eae2cf26062201cb60a34079dffa7f98.so /Users/hermeschen/.pytensor/compiledir_macOS-14.0-x86_64-i386-64bit-i386-3.11.3-64/tmpxn2afd4h/mod.cpp\n",
      "ld: library not found for -lSystem\n",
      "clang-15: error: linker command failed with exit code 1 (use -v to see invocation)\n",
      "\n",
      "\n"
     ]
    },
    {
     "name": "stdout",
     "output_type": "stream",
     "text": [
      "\n",
      "You can find the C code in this temporary file: /var/folders/vv/93wphtyn4w15b8hssz_f1c500000gn/T/pytensor_compilation_error_5n0r6ra_\n",
      "library System is not found.\n"
     ]
    },
    {
     "name": "stderr",
     "output_type": "stream",
     "text": [
      "ERROR (pytensor.graph.rewriting.basic): Rewrite failure due to: constant_folding\n",
      "ERROR (pytensor.graph.rewriting.basic): node: InplaceDimShuffle{}(TensorConstant{(1,) of 5})\n",
      "ERROR (pytensor.graph.rewriting.basic): TRACEBACK:\n",
      "ERROR (pytensor.graph.rewriting.basic): Traceback (most recent call last):\n",
      "  File \"/usr/local/Caskroom/miniconda/base/envs/BDA/lib/python3.11/site-packages/pytensor/graph/rewriting/basic.py\", line 1918, in process_node\n",
      "    replacements = node_rewriter.transform(fgraph, node)\n",
      "                   ^^^^^^^^^^^^^^^^^^^^^^^^^^^^^^^^^^^^^\n",
      "  File \"/usr/local/Caskroom/miniconda/base/envs/BDA/lib/python3.11/site-packages/pytensor/graph/rewriting/basic.py\", line 1078, in transform\n",
      "    return self.fn(fgraph, node)\n",
      "           ^^^^^^^^^^^^^^^^^^^^^\n",
      "  File \"/usr/local/Caskroom/miniconda/base/envs/BDA/lib/python3.11/site-packages/pytensor/tensor/rewriting/basic.py\", line 1138, in constant_folding\n",
      "    thunk = node.op.make_thunk(node, storage_map, compute_map, no_recycling=[])\n",
      "            ^^^^^^^^^^^^^^^^^^^^^^^^^^^^^^^^^^^^^^^^^^^^^^^^^^^^^^^^^^^^^^^^^^^\n",
      "  File \"/usr/local/Caskroom/miniconda/base/envs/BDA/lib/python3.11/site-packages/pytensor/link/c/op.py\", line 131, in make_thunk\n",
      "    return self.make_c_thunk(node, storage_map, compute_map, no_recycling)\n",
      "           ^^^^^^^^^^^^^^^^^^^^^^^^^^^^^^^^^^^^^^^^^^^^^^^^^^^^^^^^^^^^^^^\n",
      "  File \"/usr/local/Caskroom/miniconda/base/envs/BDA/lib/python3.11/site-packages/pytensor/link/c/op.py\", line 96, in make_c_thunk\n",
      "    outputs = cl.make_thunk(\n",
      "              ^^^^^^^^^^^^^^\n",
      "  File \"/usr/local/Caskroom/miniconda/base/envs/BDA/lib/python3.11/site-packages/pytensor/link/c/basic.py\", line 1200, in make_thunk\n",
      "    cthunk, module, in_storage, out_storage, error_storage = self.__compile__(\n",
      "                                                             ^^^^^^^^^^^^^^^^^\n",
      "  File \"/usr/local/Caskroom/miniconda/base/envs/BDA/lib/python3.11/site-packages/pytensor/link/c/basic.py\", line 1120, in __compile__\n",
      "    thunk, module = self.cthunk_factory(\n",
      "                    ^^^^^^^^^^^^^^^^^^^^\n",
      "  File \"/usr/local/Caskroom/miniconda/base/envs/BDA/lib/python3.11/site-packages/pytensor/link/c/basic.py\", line 1644, in cthunk_factory\n",
      "    module = cache.module_from_key(key=key, lnk=self)\n",
      "             ^^^^^^^^^^^^^^^^^^^^^^^^^^^^^^^^^^^^^^^^\n",
      "  File \"/usr/local/Caskroom/miniconda/base/envs/BDA/lib/python3.11/site-packages/pytensor/link/c/cmodule.py\", line 1240, in module_from_key\n",
      "    module = lnk.compile_cmodule(location)\n",
      "             ^^^^^^^^^^^^^^^^^^^^^^^^^^^^^\n",
      "  File \"/usr/local/Caskroom/miniconda/base/envs/BDA/lib/python3.11/site-packages/pytensor/link/c/basic.py\", line 1543, in compile_cmodule\n",
      "    module = c_compiler.compile_str(\n",
      "             ^^^^^^^^^^^^^^^^^^^^^^^\n",
      "  File \"/usr/local/Caskroom/miniconda/base/envs/BDA/lib/python3.11/site-packages/pytensor/link/c/cmodule.py\", line 2649, in compile_str\n",
      "    raise CompileError(\n",
      "pytensor.link.c.exceptions.CompileError: Compilation failed (return status=1):\n",
      "/usr/local/Caskroom/miniconda/base/envs/BDA/bin/clang++ -dynamiclib -g -O3 -fno-math-errno -Wno-unused-label -Wno-unused-variable -Wno-write-strings -Wno-c++11-narrowing -fno-exceptions -fno-unwind-tables -fno-asynchronous-unwind-tables -DNPY_NO_DEPRECATED_API=NPY_1_7_API_VERSION -m64 -fPIC -undefined dynamic_lookup -I/usr/local/Caskroom/miniconda/base/envs/BDA/lib/python3.11/site-packages/numpy/core/include -I/usr/local/Caskroom/miniconda/base/envs/BDA/include/python3.11 -I/usr/local/Caskroom/miniconda/base/envs/BDA/lib/python3.11/site-packages/pytensor/link/c/c_code -L/usr/local/Caskroom/miniconda/base/envs/BDA/lib -fvisibility=hidden -o /Users/hermeschen/.pytensor/compiledir_macOS-14.0-x86_64-i386-64bit-i386-3.11.3-64/tmppu7f7ge8/mdb3a1a186c6e0c789bc6494774a591ac6d8ab11d3ed19bf02a4ff96ab64fa9ba.so /Users/hermeschen/.pytensor/compiledir_macOS-14.0-x86_64-i386-64bit-i386-3.11.3-64/tmppu7f7ge8/mod.cpp\n",
      "ld: library not found for -lSystem\n",
      "clang-15: error: linker command failed with exit code 1 (use -v to see invocation)\n",
      "\n",
      "\n"
     ]
    },
    {
     "name": "stdout",
     "output_type": "stream",
     "text": [
      "\n",
      "You can find the C code in this temporary file: /var/folders/vv/93wphtyn4w15b8hssz_f1c500000gn/T/pytensor_compilation_error_daps3d61\n",
      "library System is not found.\n"
     ]
    },
    {
     "name": "stderr",
     "output_type": "stream",
     "text": [
      "ERROR (pytensor.graph.rewriting.basic): Rewrite failure due to: constant_folding\n",
      "ERROR (pytensor.graph.rewriting.basic): node: Elemwise{log,no_inplace}(TensorConstant{5.0})\n",
      "ERROR (pytensor.graph.rewriting.basic): TRACEBACK:\n",
      "ERROR (pytensor.graph.rewriting.basic): Traceback (most recent call last):\n",
      "  File \"/usr/local/Caskroom/miniconda/base/envs/BDA/lib/python3.11/site-packages/pytensor/graph/rewriting/basic.py\", line 1918, in process_node\n",
      "    replacements = node_rewriter.transform(fgraph, node)\n",
      "                   ^^^^^^^^^^^^^^^^^^^^^^^^^^^^^^^^^^^^^\n",
      "  File \"/usr/local/Caskroom/miniconda/base/envs/BDA/lib/python3.11/site-packages/pytensor/graph/rewriting/basic.py\", line 1078, in transform\n",
      "    return self.fn(fgraph, node)\n",
      "           ^^^^^^^^^^^^^^^^^^^^^\n",
      "  File \"/usr/local/Caskroom/miniconda/base/envs/BDA/lib/python3.11/site-packages/pytensor/tensor/rewriting/basic.py\", line 1138, in constant_folding\n",
      "    thunk = node.op.make_thunk(node, storage_map, compute_map, no_recycling=[])\n",
      "            ^^^^^^^^^^^^^^^^^^^^^^^^^^^^^^^^^^^^^^^^^^^^^^^^^^^^^^^^^^^^^^^^^^^\n",
      "  File \"/usr/local/Caskroom/miniconda/base/envs/BDA/lib/python3.11/site-packages/pytensor/link/c/op.py\", line 131, in make_thunk\n",
      "    return self.make_c_thunk(node, storage_map, compute_map, no_recycling)\n",
      "           ^^^^^^^^^^^^^^^^^^^^^^^^^^^^^^^^^^^^^^^^^^^^^^^^^^^^^^^^^^^^^^^\n",
      "  File \"/usr/local/Caskroom/miniconda/base/envs/BDA/lib/python3.11/site-packages/pytensor/link/c/op.py\", line 96, in make_c_thunk\n",
      "    outputs = cl.make_thunk(\n",
      "              ^^^^^^^^^^^^^^\n",
      "  File \"/usr/local/Caskroom/miniconda/base/envs/BDA/lib/python3.11/site-packages/pytensor/link/c/basic.py\", line 1200, in make_thunk\n",
      "    cthunk, module, in_storage, out_storage, error_storage = self.__compile__(\n",
      "                                                             ^^^^^^^^^^^^^^^^^\n",
      "  File \"/usr/local/Caskroom/miniconda/base/envs/BDA/lib/python3.11/site-packages/pytensor/link/c/basic.py\", line 1120, in __compile__\n",
      "    thunk, module = self.cthunk_factory(\n",
      "                    ^^^^^^^^^^^^^^^^^^^^\n",
      "  File \"/usr/local/Caskroom/miniconda/base/envs/BDA/lib/python3.11/site-packages/pytensor/link/c/basic.py\", line 1644, in cthunk_factory\n",
      "    module = cache.module_from_key(key=key, lnk=self)\n",
      "             ^^^^^^^^^^^^^^^^^^^^^^^^^^^^^^^^^^^^^^^^\n",
      "  File \"/usr/local/Caskroom/miniconda/base/envs/BDA/lib/python3.11/site-packages/pytensor/link/c/cmodule.py\", line 1240, in module_from_key\n",
      "    module = lnk.compile_cmodule(location)\n",
      "             ^^^^^^^^^^^^^^^^^^^^^^^^^^^^^\n",
      "  File \"/usr/local/Caskroom/miniconda/base/envs/BDA/lib/python3.11/site-packages/pytensor/link/c/basic.py\", line 1543, in compile_cmodule\n",
      "    module = c_compiler.compile_str(\n",
      "             ^^^^^^^^^^^^^^^^^^^^^^^\n",
      "  File \"/usr/local/Caskroom/miniconda/base/envs/BDA/lib/python3.11/site-packages/pytensor/link/c/cmodule.py\", line 2649, in compile_str\n",
      "    raise CompileError(\n",
      "pytensor.link.c.exceptions.CompileError: Compilation failed (return status=1):\n",
      "/usr/local/Caskroom/miniconda/base/envs/BDA/bin/clang++ -dynamiclib -g -O3 -fno-math-errno -Wno-unused-label -Wno-unused-variable -Wno-write-strings -Wno-c++11-narrowing -fno-exceptions -fno-unwind-tables -fno-asynchronous-unwind-tables -DNPY_NO_DEPRECATED_API=NPY_1_7_API_VERSION -m64 -fPIC -undefined dynamic_lookup -I/usr/local/Caskroom/miniconda/base/envs/BDA/lib/python3.11/site-packages/numpy/core/include -I/usr/local/Caskroom/miniconda/base/envs/BDA/include/python3.11 -I/usr/local/Caskroom/miniconda/base/envs/BDA/lib/python3.11/site-packages/pytensor/link/c/c_code -L/usr/local/Caskroom/miniconda/base/envs/BDA/lib -fvisibility=hidden -o /Users/hermeschen/.pytensor/compiledir_macOS-14.0-x86_64-i386-64bit-i386-3.11.3-64/tmpn_qbjsml/m73fbe7df58ef19075d64bb4cc94c017c722377f29ba137062e457ac34ef01995.so /Users/hermeschen/.pytensor/compiledir_macOS-14.0-x86_64-i386-64bit-i386-3.11.3-64/tmpn_qbjsml/mod.cpp\n",
      "ld: library not found for -lSystem\n",
      "clang-15: error: linker command failed with exit code 1 (use -v to see invocation)\n",
      "\n",
      "\n"
     ]
    },
    {
     "name": "stdout",
     "output_type": "stream",
     "text": [
      "\n",
      "You can find the C code in this temporary file: /var/folders/vv/93wphtyn4w15b8hssz_f1c500000gn/T/pytensor_compilation_error_7l4k63b3\n",
      "library System is not found.\n",
      "\n",
      "You can find the C code in this temporary file: /var/folders/vv/93wphtyn4w15b8hssz_f1c500000gn/T/pytensor_compilation_error_5z1rhys1\n",
      "library System is not found.\n"
     ]
    },
    {
     "ename": "CompileError",
     "evalue": "Compilation failed (return status=1):\n/usr/local/Caskroom/miniconda/base/envs/BDA/bin/clang++ -dynamiclib -g -Wno-c++11-narrowing -fno-exceptions -fno-unwind-tables -fno-asynchronous-unwind-tables -DNPY_NO_DEPRECATED_API=NPY_1_7_API_VERSION -m64 -fPIC -undefined dynamic_lookup -I/usr/local/Caskroom/miniconda/base/envs/BDA/lib/python3.11/site-packages/numpy/core/include -I/usr/local/Caskroom/miniconda/base/envs/BDA/include/python3.11 -I/usr/local/Caskroom/miniconda/base/envs/BDA/lib/python3.11/site-packages/pytensor/link/c/c_code -L/usr/local/Caskroom/miniconda/base/envs/BDA/lib -fvisibility=hidden -o /Users/hermeschen/.pytensor/compiledir_macOS-14.0-x86_64-i386-64bit-i386-3.11.3-64/lazylinker_ext/lazylinker_ext.so /Users/hermeschen/.pytensor/compiledir_macOS-14.0-x86_64-i386-64bit-i386-3.11.3-64/lazylinker_ext/mod.cpp\nld: library not found for -lSystem\nclang-15: error: linker command failed with exit code 1 (use -v to see invocation)\n",
     "output_type": "error",
     "traceback": [
      "\u001B[0;31m---------------------------------------------------------------------------\u001B[0m",
      "\u001B[0;31mImportError\u001B[0m                               Traceback (most recent call last)",
      "File \u001B[0;32m/usr/local/Caskroom/miniconda/base/envs/BDA/lib/python3.11/site-packages/pytensor/link/c/lazylinker_c.py:79\u001B[0m\n\u001B[1;32m     78\u001B[0m         \u001B[38;5;28;01mif\u001B[39;00m version \u001B[38;5;241m!=\u001B[39m actual_version:\n\u001B[0;32m---> 79\u001B[0m             \u001B[38;5;28;01mraise\u001B[39;00m \u001B[38;5;167;01mImportError\u001B[39;00m(\n\u001B[1;32m     80\u001B[0m                 \u001B[38;5;124m\"\u001B[39m\u001B[38;5;124mVersion check of the existing lazylinker compiled file.\u001B[39m\u001B[38;5;124m\"\u001B[39m\n\u001B[1;32m     81\u001B[0m                 \u001B[38;5;124mf\u001B[39m\u001B[38;5;124m\"\u001B[39m\u001B[38;5;124m Looking for version \u001B[39m\u001B[38;5;132;01m{\u001B[39;00mversion\u001B[38;5;132;01m}\u001B[39;00m\u001B[38;5;124m, but found \u001B[39m\u001B[38;5;132;01m{\u001B[39;00mactual_version\u001B[38;5;132;01m}\u001B[39;00m\u001B[38;5;124m. \u001B[39m\u001B[38;5;124m\"\u001B[39m\n\u001B[1;32m     82\u001B[0m                 \u001B[38;5;124mf\u001B[39m\u001B[38;5;124m\"\u001B[39m\u001B[38;5;124mExtra debug information: force_compile=\u001B[39m\u001B[38;5;132;01m{\u001B[39;00mforce_compile\u001B[38;5;132;01m}\u001B[39;00m\u001B[38;5;124m, _need_reload=\u001B[39m\u001B[38;5;132;01m{\u001B[39;00m_need_reload\u001B[38;5;132;01m}\u001B[39;00m\u001B[38;5;124m\"\u001B[39m\n\u001B[1;32m     83\u001B[0m             )\n\u001B[1;32m     84\u001B[0m \u001B[38;5;28;01mexcept\u001B[39;00m \u001B[38;5;167;01mImportError\u001B[39;00m:\n",
      "\u001B[0;31mImportError\u001B[0m: Version check of the existing lazylinker compiled file. Looking for version 0.212, but found None. Extra debug information: force_compile=False, _need_reload=True",
      "\nDuring handling of the above exception, another exception occurred:\n",
      "\u001B[0;31mImportError\u001B[0m                               Traceback (most recent call last)",
      "File \u001B[0;32m/usr/local/Caskroom/miniconda/base/envs/BDA/lib/python3.11/site-packages/pytensor/link/c/lazylinker_c.py:100\u001B[0m\n\u001B[1;32m     99\u001B[0m     \u001B[38;5;28;01mif\u001B[39;00m version \u001B[38;5;241m!=\u001B[39m actual_version:\n\u001B[0;32m--> 100\u001B[0m         \u001B[38;5;28;01mraise\u001B[39;00m \u001B[38;5;167;01mImportError\u001B[39;00m(\n\u001B[1;32m    101\u001B[0m             \u001B[38;5;124m\"\u001B[39m\u001B[38;5;124mVersion check of the existing lazylinker compiled file.\u001B[39m\u001B[38;5;124m\"\u001B[39m\n\u001B[1;32m    102\u001B[0m             \u001B[38;5;124mf\u001B[39m\u001B[38;5;124m\"\u001B[39m\u001B[38;5;124m Looking for version \u001B[39m\u001B[38;5;132;01m{\u001B[39;00mversion\u001B[38;5;132;01m}\u001B[39;00m\u001B[38;5;124m, but found \u001B[39m\u001B[38;5;132;01m{\u001B[39;00mactual_version\u001B[38;5;132;01m}\u001B[39;00m\u001B[38;5;124m. \u001B[39m\u001B[38;5;124m\"\u001B[39m\n\u001B[1;32m    103\u001B[0m             \u001B[38;5;124mf\u001B[39m\u001B[38;5;124m\"\u001B[39m\u001B[38;5;124mExtra debug information: force_compile=\u001B[39m\u001B[38;5;132;01m{\u001B[39;00mforce_compile\u001B[38;5;132;01m}\u001B[39;00m\u001B[38;5;124m, _need_reload=\u001B[39m\u001B[38;5;132;01m{\u001B[39;00m_need_reload\u001B[38;5;132;01m}\u001B[39;00m\u001B[38;5;124m\"\u001B[39m\n\u001B[1;32m    104\u001B[0m         )\n\u001B[1;32m    105\u001B[0m \u001B[38;5;28;01mexcept\u001B[39;00m \u001B[38;5;167;01mImportError\u001B[39;00m:\n\u001B[1;32m    106\u001B[0m     \u001B[38;5;66;03m# It is useless to try to compile if there isn't any\u001B[39;00m\n\u001B[1;32m    107\u001B[0m     \u001B[38;5;66;03m# compiler!  But we still want to try to load it, in case\u001B[39;00m\n\u001B[1;32m    108\u001B[0m     \u001B[38;5;66;03m# the cache was copied from another computer.\u001B[39;00m\n",
      "\u001B[0;31mImportError\u001B[0m: Version check of the existing lazylinker compiled file. Looking for version 0.212, but found None. Extra debug information: force_compile=False, _need_reload=True",
      "\nDuring handling of the above exception, another exception occurred:\n",
      "\u001B[0;31mCompileError\u001B[0m                              Traceback (most recent call last)",
      "Cell \u001B[0;32mIn[12], line 9\u001B[0m\n\u001B[1;32m      5\u001B[0m model \u001B[38;5;241m=\u001B[39m pm\u001B[38;5;241m.\u001B[39mDeterministic(\u001B[38;5;124m'\u001B[39m\u001B[38;5;124mmodel\u001B[39m\u001B[38;5;124m'\u001B[39m, intercept \u001B[38;5;241m+\u001B[39m pm\u001B[38;5;241m.\u001B[39mmath\u001B[38;5;241m.\u001B[39mdot(coefficients, train_variables))\n\u001B[1;32m      7\u001B[0m prediction \u001B[38;5;241m=\u001B[39m pm\u001B[38;5;241m.\u001B[39mNormal(name\u001B[38;5;241m=\u001B[39m\u001B[38;5;124m'\u001B[39m\u001B[38;5;124mprediction\u001B[39m\u001B[38;5;124m'\u001B[39m, mu\u001B[38;5;241m=\u001B[39mmodel, sigma\u001B[38;5;241m=\u001B[39merror, observed\u001B[38;5;241m=\u001B[39mtrain_target)\n\u001B[0;32m----> 9\u001B[0m trace \u001B[38;5;241m=\u001B[39m \u001B[43mpm\u001B[49m\u001B[38;5;241;43m.\u001B[39;49m\u001B[43msample\u001B[49m\u001B[43m(\u001B[49m\u001B[43mtune\u001B[49m\u001B[38;5;241;43m=\u001B[39;49m\u001B[38;5;241;43m2000\u001B[39;49m\u001B[43m,\u001B[49m\u001B[43m \u001B[49m\u001B[43mchains\u001B[49m\u001B[38;5;241;43m=\u001B[39;49m\u001B[38;5;241;43m2\u001B[39;49m\u001B[43m,\u001B[49m\u001B[43m \u001B[49m\u001B[43mcores\u001B[49m\u001B[38;5;241;43m=\u001B[39;49m\u001B[38;5;241;43m8\u001B[39;49m\u001B[43m)\u001B[49m\n\u001B[1;32m     10\u001B[0m ppc \u001B[38;5;241m=\u001B[39m pm\u001B[38;5;241m.\u001B[39msample_posterior_predictive(trace, samples\u001B[38;5;241m=\u001B[39m\u001B[38;5;241m2000\u001B[39m)\n",
      "File \u001B[0;32m/usr/local/Caskroom/miniconda/base/envs/BDA/lib/python3.11/site-packages/pymc/sampling/mcmc.py:653\u001B[0m, in \u001B[0;36msample\u001B[0;34m(draws, tune, chains, cores, random_seed, progressbar, step, nuts_sampler, initvals, init, jitter_max_retries, n_init, trace, discard_tuned_samples, compute_convergence_checks, keep_warning_stat, return_inferencedata, idata_kwargs, nuts_sampler_kwargs, callback, mp_ctx, model, **kwargs)\u001B[0m\n\u001B[1;32m    650\u001B[0m         auto_nuts_init \u001B[38;5;241m=\u001B[39m \u001B[38;5;28;01mFalse\u001B[39;00m\n\u001B[1;32m    652\u001B[0m initial_points \u001B[38;5;241m=\u001B[39m \u001B[38;5;28;01mNone\u001B[39;00m\n\u001B[0;32m--> 653\u001B[0m step \u001B[38;5;241m=\u001B[39m \u001B[43massign_step_methods\u001B[49m\u001B[43m(\u001B[49m\u001B[43mmodel\u001B[49m\u001B[43m,\u001B[49m\u001B[43m \u001B[49m\u001B[43mstep\u001B[49m\u001B[43m,\u001B[49m\u001B[43m \u001B[49m\u001B[43mmethods\u001B[49m\u001B[38;5;241;43m=\u001B[39;49m\u001B[43mpm\u001B[49m\u001B[38;5;241;43m.\u001B[39;49m\u001B[43mSTEP_METHODS\u001B[49m\u001B[43m,\u001B[49m\u001B[43m \u001B[49m\u001B[43mstep_kwargs\u001B[49m\u001B[38;5;241;43m=\u001B[39;49m\u001B[43mkwargs\u001B[49m\u001B[43m)\u001B[49m\n\u001B[1;32m    655\u001B[0m \u001B[38;5;28;01mif\u001B[39;00m nuts_sampler \u001B[38;5;241m!=\u001B[39m \u001B[38;5;124m\"\u001B[39m\u001B[38;5;124mpymc\u001B[39m\u001B[38;5;124m\"\u001B[39m:\n\u001B[1;32m    656\u001B[0m     \u001B[38;5;28;01mif\u001B[39;00m \u001B[38;5;129;01mnot\u001B[39;00m \u001B[38;5;28misinstance\u001B[39m(step, NUTS):\n",
      "File \u001B[0;32m/usr/local/Caskroom/miniconda/base/envs/BDA/lib/python3.11/site-packages/pymc/sampling/mcmc.py:233\u001B[0m, in \u001B[0;36massign_step_methods\u001B[0;34m(model, step, methods, step_kwargs)\u001B[0m\n\u001B[1;32m    225\u001B[0m         selected \u001B[38;5;241m=\u001B[39m \u001B[38;5;28mmax\u001B[39m(\n\u001B[1;32m    226\u001B[0m             methods_list,\n\u001B[1;32m    227\u001B[0m             key\u001B[38;5;241m=\u001B[39m\u001B[38;5;28;01mlambda\u001B[39;00m method, var\u001B[38;5;241m=\u001B[39mrv_var, has_gradient\u001B[38;5;241m=\u001B[39mhas_gradient: method\u001B[38;5;241m.\u001B[39m_competence(  \u001B[38;5;66;03m# type: ignore\u001B[39;00m\n\u001B[1;32m    228\u001B[0m                 var, has_gradient\n\u001B[1;32m    229\u001B[0m             ),\n\u001B[1;32m    230\u001B[0m         )\n\u001B[1;32m    231\u001B[0m         selected_steps\u001B[38;5;241m.\u001B[39msetdefault(selected, [])\u001B[38;5;241m.\u001B[39mappend(var)\n\u001B[0;32m--> 233\u001B[0m \u001B[38;5;28;01mreturn\u001B[39;00m \u001B[43minstantiate_steppers\u001B[49m\u001B[43m(\u001B[49m\u001B[43mmodel\u001B[49m\u001B[43m,\u001B[49m\u001B[43m \u001B[49m\u001B[43msteps\u001B[49m\u001B[43m,\u001B[49m\u001B[43m \u001B[49m\u001B[43mselected_steps\u001B[49m\u001B[43m,\u001B[49m\u001B[43m \u001B[49m\u001B[43mstep_kwargs\u001B[49m\u001B[43m)\u001B[49m\n",
      "File \u001B[0;32m/usr/local/Caskroom/miniconda/base/envs/BDA/lib/python3.11/site-packages/pymc/sampling/mcmc.py:134\u001B[0m, in \u001B[0;36minstantiate_steppers\u001B[0;34m(model, steps, selected_steps, step_kwargs)\u001B[0m\n\u001B[1;32m    132\u001B[0m         args \u001B[38;5;241m=\u001B[39m step_kwargs\u001B[38;5;241m.\u001B[39mget(name, {})\n\u001B[1;32m    133\u001B[0m         used_keys\u001B[38;5;241m.\u001B[39madd(name)\n\u001B[0;32m--> 134\u001B[0m         step \u001B[38;5;241m=\u001B[39m \u001B[43mstep_class\u001B[49m\u001B[43m(\u001B[49m\u001B[38;5;28;43mvars\u001B[39;49m\u001B[38;5;241;43m=\u001B[39;49m\u001B[38;5;28;43mvars\u001B[39;49m\u001B[43m,\u001B[49m\u001B[43m \u001B[49m\u001B[43mmodel\u001B[49m\u001B[38;5;241;43m=\u001B[39;49m\u001B[43mmodel\u001B[49m\u001B[43m,\u001B[49m\u001B[43m \u001B[49m\u001B[38;5;241;43m*\u001B[39;49m\u001B[38;5;241;43m*\u001B[39;49m\u001B[43margs\u001B[49m\u001B[43m)\u001B[49m\n\u001B[1;32m    135\u001B[0m         steps\u001B[38;5;241m.\u001B[39mappend(step)\n\u001B[1;32m    137\u001B[0m unused_args \u001B[38;5;241m=\u001B[39m \u001B[38;5;28mset\u001B[39m(step_kwargs)\u001B[38;5;241m.\u001B[39mdifference(used_keys)\n",
      "File \u001B[0;32m/usr/local/Caskroom/miniconda/base/envs/BDA/lib/python3.11/site-packages/pymc/step_methods/hmc/nuts.py:180\u001B[0m, in \u001B[0;36mNUTS.__init__\u001B[0;34m(self, vars, max_treedepth, early_max_treedepth, **kwargs)\u001B[0m\n\u001B[1;32m    122\u001B[0m \u001B[38;5;28;01mdef\u001B[39;00m \u001B[38;5;21m__init__\u001B[39m(\u001B[38;5;28mself\u001B[39m, \u001B[38;5;28mvars\u001B[39m\u001B[38;5;241m=\u001B[39m\u001B[38;5;28;01mNone\u001B[39;00m, max_treedepth\u001B[38;5;241m=\u001B[39m\u001B[38;5;241m10\u001B[39m, early_max_treedepth\u001B[38;5;241m=\u001B[39m\u001B[38;5;241m8\u001B[39m, \u001B[38;5;241m*\u001B[39m\u001B[38;5;241m*\u001B[39mkwargs):\n\u001B[1;32m    123\u001B[0m \u001B[38;5;250m    \u001B[39m\u001B[38;5;124mr\u001B[39m\u001B[38;5;124;03m\"\"\"Set up the No-U-Turn sampler.\u001B[39;00m\n\u001B[1;32m    124\u001B[0m \n\u001B[1;32m    125\u001B[0m \u001B[38;5;124;03m    Parameters\u001B[39;00m\n\u001B[0;32m   (...)\u001B[0m\n\u001B[1;32m    178\u001B[0m \u001B[38;5;124;03m    `pm.sample` to the desired number of tuning steps.\u001B[39;00m\n\u001B[1;32m    179\u001B[0m \u001B[38;5;124;03m    \"\"\"\u001B[39;00m\n\u001B[0;32m--> 180\u001B[0m     \u001B[38;5;28;43msuper\u001B[39;49m\u001B[43m(\u001B[49m\u001B[43m)\u001B[49m\u001B[38;5;241;43m.\u001B[39;49m\u001B[38;5;21;43m__init__\u001B[39;49m\u001B[43m(\u001B[49m\u001B[38;5;28;43mvars\u001B[39;49m\u001B[43m,\u001B[49m\u001B[43m \u001B[49m\u001B[38;5;241;43m*\u001B[39;49m\u001B[38;5;241;43m*\u001B[39;49m\u001B[43mkwargs\u001B[49m\u001B[43m)\u001B[49m\n\u001B[1;32m    182\u001B[0m     \u001B[38;5;28mself\u001B[39m\u001B[38;5;241m.\u001B[39mmax_treedepth \u001B[38;5;241m=\u001B[39m max_treedepth\n\u001B[1;32m    183\u001B[0m     \u001B[38;5;28mself\u001B[39m\u001B[38;5;241m.\u001B[39mearly_max_treedepth \u001B[38;5;241m=\u001B[39m early_max_treedepth\n",
      "File \u001B[0;32m/usr/local/Caskroom/miniconda/base/envs/BDA/lib/python3.11/site-packages/pymc/step_methods/hmc/base_hmc.py:109\u001B[0m, in \u001B[0;36mBaseHMC.__init__\u001B[0;34m(self, vars, scaling, step_scale, is_cov, model, blocked, potential, dtype, Emax, target_accept, gamma, k, t0, adapt_step_size, step_rand, **pytensor_kwargs)\u001B[0m\n\u001B[1;32m    107\u001B[0m \u001B[38;5;28;01melse\u001B[39;00m:\n\u001B[1;32m    108\u001B[0m     \u001B[38;5;28mvars\u001B[39m \u001B[38;5;241m=\u001B[39m get_value_vars_from_user_vars(\u001B[38;5;28mvars\u001B[39m, \u001B[38;5;28mself\u001B[39m\u001B[38;5;241m.\u001B[39m_model)\n\u001B[0;32m--> 109\u001B[0m \u001B[38;5;28;43msuper\u001B[39;49m\u001B[43m(\u001B[49m\u001B[43m)\u001B[49m\u001B[38;5;241;43m.\u001B[39;49m\u001B[38;5;21;43m__init__\u001B[39;49m\u001B[43m(\u001B[49m\u001B[38;5;28;43mvars\u001B[39;49m\u001B[43m,\u001B[49m\u001B[43m \u001B[49m\u001B[43mblocked\u001B[49m\u001B[38;5;241;43m=\u001B[39;49m\u001B[43mblocked\u001B[49m\u001B[43m,\u001B[49m\u001B[43m \u001B[49m\u001B[43mmodel\u001B[49m\u001B[38;5;241;43m=\u001B[39;49m\u001B[38;5;28;43mself\u001B[39;49m\u001B[38;5;241;43m.\u001B[39;49m\u001B[43m_model\u001B[49m\u001B[43m,\u001B[49m\u001B[43m \u001B[49m\u001B[43mdtype\u001B[49m\u001B[38;5;241;43m=\u001B[39;49m\u001B[43mdtype\u001B[49m\u001B[43m,\u001B[49m\u001B[43m \u001B[49m\u001B[38;5;241;43m*\u001B[39;49m\u001B[38;5;241;43m*\u001B[39;49m\u001B[43mpytensor_kwargs\u001B[49m\u001B[43m)\u001B[49m\n\u001B[1;32m    111\u001B[0m \u001B[38;5;28mself\u001B[39m\u001B[38;5;241m.\u001B[39madapt_step_size \u001B[38;5;241m=\u001B[39m adapt_step_size\n\u001B[1;32m    112\u001B[0m \u001B[38;5;28mself\u001B[39m\u001B[38;5;241m.\u001B[39mEmax \u001B[38;5;241m=\u001B[39m Emax\n",
      "File \u001B[0;32m/usr/local/Caskroom/miniconda/base/envs/BDA/lib/python3.11/site-packages/pymc/step_methods/arraystep.py:164\u001B[0m, in \u001B[0;36mGradientSharedStep.__init__\u001B[0;34m(self, vars, model, blocked, dtype, logp_dlogp_func, **pytensor_kwargs)\u001B[0m\n\u001B[1;32m    161\u001B[0m model \u001B[38;5;241m=\u001B[39m modelcontext(model)\n\u001B[1;32m    163\u001B[0m \u001B[38;5;28;01mif\u001B[39;00m logp_dlogp_func \u001B[38;5;129;01mis\u001B[39;00m \u001B[38;5;28;01mNone\u001B[39;00m:\n\u001B[0;32m--> 164\u001B[0m     func \u001B[38;5;241m=\u001B[39m \u001B[43mmodel\u001B[49m\u001B[38;5;241;43m.\u001B[39;49m\u001B[43mlogp_dlogp_function\u001B[49m\u001B[43m(\u001B[49m\u001B[38;5;28;43mvars\u001B[39;49m\u001B[43m,\u001B[49m\u001B[43m \u001B[49m\u001B[43mdtype\u001B[49m\u001B[38;5;241;43m=\u001B[39;49m\u001B[43mdtype\u001B[49m\u001B[43m,\u001B[49m\u001B[43m \u001B[49m\u001B[38;5;241;43m*\u001B[39;49m\u001B[38;5;241;43m*\u001B[39;49m\u001B[43mpytensor_kwargs\u001B[49m\u001B[43m)\u001B[49m\n\u001B[1;32m    165\u001B[0m \u001B[38;5;28;01melse\u001B[39;00m:\n\u001B[1;32m    166\u001B[0m     func \u001B[38;5;241m=\u001B[39m logp_dlogp_func\n",
      "File \u001B[0;32m/usr/local/Caskroom/miniconda/base/envs/BDA/lib/python3.11/site-packages/pymc/model.py:649\u001B[0m, in \u001B[0;36mModel.logp_dlogp_function\u001B[0;34m(self, grad_vars, tempered, **kwargs)\u001B[0m\n\u001B[1;32m    646\u001B[0m     costs \u001B[38;5;241m=\u001B[39m [\u001B[38;5;28mself\u001B[39m\u001B[38;5;241m.\u001B[39mlogp()]\n\u001B[1;32m    648\u001B[0m input_vars \u001B[38;5;241m=\u001B[39m {i \u001B[38;5;28;01mfor\u001B[39;00m i \u001B[38;5;129;01min\u001B[39;00m graph_inputs(costs) \u001B[38;5;28;01mif\u001B[39;00m \u001B[38;5;129;01mnot\u001B[39;00m \u001B[38;5;28misinstance\u001B[39m(i, Constant)}\n\u001B[0;32m--> 649\u001B[0m ip \u001B[38;5;241m=\u001B[39m \u001B[38;5;28;43mself\u001B[39;49m\u001B[38;5;241;43m.\u001B[39;49m\u001B[43minitial_point\u001B[49m\u001B[43m(\u001B[49m\u001B[38;5;241;43m0\u001B[39;49m\u001B[43m)\u001B[49m\n\u001B[1;32m    650\u001B[0m extra_vars_and_values \u001B[38;5;241m=\u001B[39m {\n\u001B[1;32m    651\u001B[0m     var: ip[var\u001B[38;5;241m.\u001B[39mname]\n\u001B[1;32m    652\u001B[0m     \u001B[38;5;28;01mfor\u001B[39;00m var \u001B[38;5;129;01min\u001B[39;00m \u001B[38;5;28mself\u001B[39m\u001B[38;5;241m.\u001B[39mvalue_vars\n\u001B[1;32m    653\u001B[0m     \u001B[38;5;28;01mif\u001B[39;00m var \u001B[38;5;129;01min\u001B[39;00m input_vars \u001B[38;5;129;01mand\u001B[39;00m var \u001B[38;5;129;01mnot\u001B[39;00m \u001B[38;5;129;01min\u001B[39;00m grad_vars\n\u001B[1;32m    654\u001B[0m }\n\u001B[1;32m    655\u001B[0m \u001B[38;5;28;01mreturn\u001B[39;00m ValueGradFunction(costs, grad_vars, extra_vars_and_values, \u001B[38;5;241m*\u001B[39m\u001B[38;5;241m*\u001B[39mkwargs)\n",
      "File \u001B[0;32m/usr/local/Caskroom/miniconda/base/envs/BDA/lib/python3.11/site-packages/pymc/model.py:1132\u001B[0m, in \u001B[0;36mModel.initial_point\u001B[0;34m(self, random_seed)\u001B[0m\n\u001B[1;32m   1119\u001B[0m \u001B[38;5;28;01mdef\u001B[39;00m \u001B[38;5;21minitial_point\u001B[39m(\u001B[38;5;28mself\u001B[39m, random_seed: SeedSequenceSeed \u001B[38;5;241m=\u001B[39m \u001B[38;5;28;01mNone\u001B[39;00m) \u001B[38;5;241m-\u001B[39m\u001B[38;5;241m>\u001B[39m Dict[\u001B[38;5;28mstr\u001B[39m, np\u001B[38;5;241m.\u001B[39mndarray]:\n\u001B[1;32m   1120\u001B[0m \u001B[38;5;250m    \u001B[39m\u001B[38;5;124;03m\"\"\"Computes the initial point of the model.\u001B[39;00m\n\u001B[1;32m   1121\u001B[0m \n\u001B[1;32m   1122\u001B[0m \u001B[38;5;124;03m    Parameters\u001B[39;00m\n\u001B[0;32m   (...)\u001B[0m\n\u001B[1;32m   1130\u001B[0m \u001B[38;5;124;03m        Maps names of transformed variables to numeric initial values in the transformed space.\u001B[39;00m\n\u001B[1;32m   1131\u001B[0m \u001B[38;5;124;03m    \"\"\"\u001B[39;00m\n\u001B[0;32m-> 1132\u001B[0m     fn \u001B[38;5;241m=\u001B[39m \u001B[43mmake_initial_point_fn\u001B[49m\u001B[43m(\u001B[49m\u001B[43mmodel\u001B[49m\u001B[38;5;241;43m=\u001B[39;49m\u001B[38;5;28;43mself\u001B[39;49m\u001B[43m,\u001B[49m\u001B[43m \u001B[49m\u001B[43mreturn_transformed\u001B[49m\u001B[38;5;241;43m=\u001B[39;49m\u001B[38;5;28;43;01mTrue\u001B[39;49;00m\u001B[43m)\u001B[49m\n\u001B[1;32m   1133\u001B[0m     \u001B[38;5;28;01mreturn\u001B[39;00m Point(fn(random_seed), model\u001B[38;5;241m=\u001B[39m\u001B[38;5;28mself\u001B[39m)\n",
      "File \u001B[0;32m/usr/local/Caskroom/miniconda/base/envs/BDA/lib/python3.11/site-packages/pymc/initial_point.py:152\u001B[0m, in \u001B[0;36mmake_initial_point_fn\u001B[0;34m(model, overrides, jitter_rvs, default_strategy, return_transformed)\u001B[0m\n\u001B[1;32m    149\u001B[0m \u001B[38;5;66;03m# Replace original rng shared variables so that we don't mess with them\u001B[39;00m\n\u001B[1;32m    150\u001B[0m \u001B[38;5;66;03m# when calling the final seeded function\u001B[39;00m\n\u001B[1;32m    151\u001B[0m initial_values \u001B[38;5;241m=\u001B[39m replace_rng_nodes(initial_values)\n\u001B[0;32m--> 152\u001B[0m func \u001B[38;5;241m=\u001B[39m \u001B[43mcompile_pymc\u001B[49m\u001B[43m(\u001B[49m\u001B[43minputs\u001B[49m\u001B[38;5;241;43m=\u001B[39;49m\u001B[43m[\u001B[49m\u001B[43m]\u001B[49m\u001B[43m,\u001B[49m\u001B[43m \u001B[49m\u001B[43moutputs\u001B[49m\u001B[38;5;241;43m=\u001B[39;49m\u001B[43minitial_values\u001B[49m\u001B[43m,\u001B[49m\u001B[43m \u001B[49m\u001B[43mmode\u001B[49m\u001B[38;5;241;43m=\u001B[39;49m\u001B[43mpytensor\u001B[49m\u001B[38;5;241;43m.\u001B[39;49m\u001B[43mcompile\u001B[49m\u001B[38;5;241;43m.\u001B[39;49m\u001B[43mmode\u001B[49m\u001B[38;5;241;43m.\u001B[39;49m\u001B[43mFAST_COMPILE\u001B[49m\u001B[43m)\u001B[49m\n\u001B[1;32m    154\u001B[0m varnames \u001B[38;5;241m=\u001B[39m []\n\u001B[1;32m    155\u001B[0m \u001B[38;5;28;01mfor\u001B[39;00m var \u001B[38;5;129;01min\u001B[39;00m model\u001B[38;5;241m.\u001B[39mfree_RVs:\n",
      "File \u001B[0;32m/usr/local/Caskroom/miniconda/base/envs/BDA/lib/python3.11/site-packages/pymc/pytensorf.py:1196\u001B[0m, in \u001B[0;36mcompile_pymc\u001B[0;34m(inputs, outputs, random_seed, mode, **kwargs)\u001B[0m\n\u001B[1;32m   1194\u001B[0m opt_qry \u001B[38;5;241m=\u001B[39m mode\u001B[38;5;241m.\u001B[39mprovided_optimizer\u001B[38;5;241m.\u001B[39mincluding(\u001B[38;5;124m\"\u001B[39m\u001B[38;5;124mrandom_make_inplace\u001B[39m\u001B[38;5;124m\"\u001B[39m, check_parameter_opt)\n\u001B[1;32m   1195\u001B[0m mode \u001B[38;5;241m=\u001B[39m Mode(linker\u001B[38;5;241m=\u001B[39mmode\u001B[38;5;241m.\u001B[39mlinker, optimizer\u001B[38;5;241m=\u001B[39mopt_qry)\n\u001B[0;32m-> 1196\u001B[0m pytensor_function \u001B[38;5;241m=\u001B[39m \u001B[43mpytensor\u001B[49m\u001B[38;5;241;43m.\u001B[39;49m\u001B[43mfunction\u001B[49m\u001B[43m(\u001B[49m\n\u001B[1;32m   1197\u001B[0m \u001B[43m    \u001B[49m\u001B[43minputs\u001B[49m\u001B[43m,\u001B[49m\n\u001B[1;32m   1198\u001B[0m \u001B[43m    \u001B[49m\u001B[43moutputs\u001B[49m\u001B[43m,\u001B[49m\n\u001B[1;32m   1199\u001B[0m \u001B[43m    \u001B[49m\u001B[43mupdates\u001B[49m\u001B[38;5;241;43m=\u001B[39;49m\u001B[43m{\u001B[49m\u001B[38;5;241;43m*\u001B[39;49m\u001B[38;5;241;43m*\u001B[39;49m\u001B[43mrng_updates\u001B[49m\u001B[43m,\u001B[49m\u001B[43m \u001B[49m\u001B[38;5;241;43m*\u001B[39;49m\u001B[38;5;241;43m*\u001B[39;49m\u001B[43mkwargs\u001B[49m\u001B[38;5;241;43m.\u001B[39;49m\u001B[43mpop\u001B[49m\u001B[43m(\u001B[49m\u001B[38;5;124;43m\"\u001B[39;49m\u001B[38;5;124;43mupdates\u001B[39;49m\u001B[38;5;124;43m\"\u001B[39;49m\u001B[43m,\u001B[49m\u001B[43m \u001B[49m\u001B[43m{\u001B[49m\u001B[43m}\u001B[49m\u001B[43m)\u001B[49m\u001B[43m}\u001B[49m\u001B[43m,\u001B[49m\n\u001B[1;32m   1200\u001B[0m \u001B[43m    \u001B[49m\u001B[43mmode\u001B[49m\u001B[38;5;241;43m=\u001B[39;49m\u001B[43mmode\u001B[49m\u001B[43m,\u001B[49m\n\u001B[1;32m   1201\u001B[0m \u001B[43m    \u001B[49m\u001B[38;5;241;43m*\u001B[39;49m\u001B[38;5;241;43m*\u001B[39;49m\u001B[43mkwargs\u001B[49m\u001B[43m,\u001B[49m\n\u001B[1;32m   1202\u001B[0m \u001B[43m\u001B[49m\u001B[43m)\u001B[49m\n\u001B[1;32m   1203\u001B[0m \u001B[38;5;28;01mreturn\u001B[39;00m pytensor_function\n",
      "File \u001B[0;32m/usr/local/Caskroom/miniconda/base/envs/BDA/lib/python3.11/site-packages/pytensor/compile/function/__init__.py:315\u001B[0m, in \u001B[0;36mfunction\u001B[0;34m(inputs, outputs, mode, updates, givens, no_default_updates, accept_inplace, name, rebuild_strict, allow_input_downcast, profile, on_unused_input)\u001B[0m\n\u001B[1;32m    309\u001B[0m     fn \u001B[38;5;241m=\u001B[39m orig_function(\n\u001B[1;32m    310\u001B[0m         inputs, outputs, mode\u001B[38;5;241m=\u001B[39mmode, accept_inplace\u001B[38;5;241m=\u001B[39maccept_inplace, name\u001B[38;5;241m=\u001B[39mname\n\u001B[1;32m    311\u001B[0m     )\n\u001B[1;32m    312\u001B[0m \u001B[38;5;28;01melse\u001B[39;00m:\n\u001B[1;32m    313\u001B[0m     \u001B[38;5;66;03m# note: pfunc will also call orig_function -- orig_function is\u001B[39;00m\n\u001B[1;32m    314\u001B[0m     \u001B[38;5;66;03m#      a choke point that all compilation must pass through\u001B[39;00m\n\u001B[0;32m--> 315\u001B[0m     fn \u001B[38;5;241m=\u001B[39m \u001B[43mpfunc\u001B[49m\u001B[43m(\u001B[49m\n\u001B[1;32m    316\u001B[0m \u001B[43m        \u001B[49m\u001B[43mparams\u001B[49m\u001B[38;5;241;43m=\u001B[39;49m\u001B[43minputs\u001B[49m\u001B[43m,\u001B[49m\n\u001B[1;32m    317\u001B[0m \u001B[43m        \u001B[49m\u001B[43moutputs\u001B[49m\u001B[38;5;241;43m=\u001B[39;49m\u001B[43moutputs\u001B[49m\u001B[43m,\u001B[49m\n\u001B[1;32m    318\u001B[0m \u001B[43m        \u001B[49m\u001B[43mmode\u001B[49m\u001B[38;5;241;43m=\u001B[39;49m\u001B[43mmode\u001B[49m\u001B[43m,\u001B[49m\n\u001B[1;32m    319\u001B[0m \u001B[43m        \u001B[49m\u001B[43mupdates\u001B[49m\u001B[38;5;241;43m=\u001B[39;49m\u001B[43mupdates\u001B[49m\u001B[43m,\u001B[49m\n\u001B[1;32m    320\u001B[0m \u001B[43m        \u001B[49m\u001B[43mgivens\u001B[49m\u001B[38;5;241;43m=\u001B[39;49m\u001B[43mgivens\u001B[49m\u001B[43m,\u001B[49m\n\u001B[1;32m    321\u001B[0m \u001B[43m        \u001B[49m\u001B[43mno_default_updates\u001B[49m\u001B[38;5;241;43m=\u001B[39;49m\u001B[43mno_default_updates\u001B[49m\u001B[43m,\u001B[49m\n\u001B[1;32m    322\u001B[0m \u001B[43m        \u001B[49m\u001B[43maccept_inplace\u001B[49m\u001B[38;5;241;43m=\u001B[39;49m\u001B[43maccept_inplace\u001B[49m\u001B[43m,\u001B[49m\n\u001B[1;32m    323\u001B[0m \u001B[43m        \u001B[49m\u001B[43mname\u001B[49m\u001B[38;5;241;43m=\u001B[39;49m\u001B[43mname\u001B[49m\u001B[43m,\u001B[49m\n\u001B[1;32m    324\u001B[0m \u001B[43m        \u001B[49m\u001B[43mrebuild_strict\u001B[49m\u001B[38;5;241;43m=\u001B[39;49m\u001B[43mrebuild_strict\u001B[49m\u001B[43m,\u001B[49m\n\u001B[1;32m    325\u001B[0m \u001B[43m        \u001B[49m\u001B[43mallow_input_downcast\u001B[49m\u001B[38;5;241;43m=\u001B[39;49m\u001B[43mallow_input_downcast\u001B[49m\u001B[43m,\u001B[49m\n\u001B[1;32m    326\u001B[0m \u001B[43m        \u001B[49m\u001B[43mon_unused_input\u001B[49m\u001B[38;5;241;43m=\u001B[39;49m\u001B[43mon_unused_input\u001B[49m\u001B[43m,\u001B[49m\n\u001B[1;32m    327\u001B[0m \u001B[43m        \u001B[49m\u001B[43mprofile\u001B[49m\u001B[38;5;241;43m=\u001B[39;49m\u001B[43mprofile\u001B[49m\u001B[43m,\u001B[49m\n\u001B[1;32m    328\u001B[0m \u001B[43m        \u001B[49m\u001B[43moutput_keys\u001B[49m\u001B[38;5;241;43m=\u001B[39;49m\u001B[43moutput_keys\u001B[49m\u001B[43m,\u001B[49m\n\u001B[1;32m    329\u001B[0m \u001B[43m    \u001B[49m\u001B[43m)\u001B[49m\n\u001B[1;32m    330\u001B[0m \u001B[38;5;28;01mreturn\u001B[39;00m fn\n",
      "File \u001B[0;32m/usr/local/Caskroom/miniconda/base/envs/BDA/lib/python3.11/site-packages/pytensor/compile/function/pfunc.py:367\u001B[0m, in \u001B[0;36mpfunc\u001B[0;34m(params, outputs, mode, updates, givens, no_default_updates, accept_inplace, name, rebuild_strict, allow_input_downcast, profile, on_unused_input, output_keys, fgraph)\u001B[0m\n\u001B[1;32m    353\u001B[0m     profile \u001B[38;5;241m=\u001B[39m ProfileStats(message\u001B[38;5;241m=\u001B[39mprofile)\n\u001B[1;32m    355\u001B[0m inputs, cloned_outputs \u001B[38;5;241m=\u001B[39m construct_pfunc_ins_and_outs(\n\u001B[1;32m    356\u001B[0m     params,\n\u001B[1;32m    357\u001B[0m     outputs,\n\u001B[0;32m   (...)\u001B[0m\n\u001B[1;32m    364\u001B[0m     fgraph\u001B[38;5;241m=\u001B[39mfgraph,\n\u001B[1;32m    365\u001B[0m )\n\u001B[0;32m--> 367\u001B[0m \u001B[38;5;28;01mreturn\u001B[39;00m \u001B[43morig_function\u001B[49m\u001B[43m(\u001B[49m\n\u001B[1;32m    368\u001B[0m \u001B[43m    \u001B[49m\u001B[43minputs\u001B[49m\u001B[43m,\u001B[49m\n\u001B[1;32m    369\u001B[0m \u001B[43m    \u001B[49m\u001B[43mcloned_outputs\u001B[49m\u001B[43m,\u001B[49m\n\u001B[1;32m    370\u001B[0m \u001B[43m    \u001B[49m\u001B[43mmode\u001B[49m\u001B[43m,\u001B[49m\n\u001B[1;32m    371\u001B[0m \u001B[43m    \u001B[49m\u001B[43maccept_inplace\u001B[49m\u001B[38;5;241;43m=\u001B[39;49m\u001B[43maccept_inplace\u001B[49m\u001B[43m,\u001B[49m\n\u001B[1;32m    372\u001B[0m \u001B[43m    \u001B[49m\u001B[43mname\u001B[49m\u001B[38;5;241;43m=\u001B[39;49m\u001B[43mname\u001B[49m\u001B[43m,\u001B[49m\n\u001B[1;32m    373\u001B[0m \u001B[43m    \u001B[49m\u001B[43mprofile\u001B[49m\u001B[38;5;241;43m=\u001B[39;49m\u001B[43mprofile\u001B[49m\u001B[43m,\u001B[49m\n\u001B[1;32m    374\u001B[0m \u001B[43m    \u001B[49m\u001B[43mon_unused_input\u001B[49m\u001B[38;5;241;43m=\u001B[39;49m\u001B[43mon_unused_input\u001B[49m\u001B[43m,\u001B[49m\n\u001B[1;32m    375\u001B[0m \u001B[43m    \u001B[49m\u001B[43moutput_keys\u001B[49m\u001B[38;5;241;43m=\u001B[39;49m\u001B[43moutput_keys\u001B[49m\u001B[43m,\u001B[49m\n\u001B[1;32m    376\u001B[0m \u001B[43m    \u001B[49m\u001B[43mfgraph\u001B[49m\u001B[38;5;241;43m=\u001B[39;49m\u001B[43mfgraph\u001B[49m\u001B[43m,\u001B[49m\n\u001B[1;32m    377\u001B[0m \u001B[43m\u001B[49m\u001B[43m)\u001B[49m\n",
      "File \u001B[0;32m/usr/local/Caskroom/miniconda/base/envs/BDA/lib/python3.11/site-packages/pytensor/compile/function/types.py:1756\u001B[0m, in \u001B[0;36morig_function\u001B[0;34m(inputs, outputs, mode, accept_inplace, name, profile, on_unused_input, output_keys, fgraph)\u001B[0m\n\u001B[1;32m   1744\u001B[0m     m \u001B[38;5;241m=\u001B[39m Maker(\n\u001B[1;32m   1745\u001B[0m         inputs,\n\u001B[1;32m   1746\u001B[0m         outputs,\n\u001B[0;32m   (...)\u001B[0m\n\u001B[1;32m   1753\u001B[0m         fgraph\u001B[38;5;241m=\u001B[39mfgraph,\n\u001B[1;32m   1754\u001B[0m     )\n\u001B[1;32m   1755\u001B[0m     \u001B[38;5;28;01mwith\u001B[39;00m config\u001B[38;5;241m.\u001B[39mchange_flags(compute_test_value\u001B[38;5;241m=\u001B[39m\u001B[38;5;124m\"\u001B[39m\u001B[38;5;124moff\u001B[39m\u001B[38;5;124m\"\u001B[39m):\n\u001B[0;32m-> 1756\u001B[0m         fn \u001B[38;5;241m=\u001B[39m \u001B[43mm\u001B[49m\u001B[38;5;241;43m.\u001B[39;49m\u001B[43mcreate\u001B[49m\u001B[43m(\u001B[49m\u001B[43mdefaults\u001B[49m\u001B[43m)\u001B[49m\n\u001B[1;32m   1757\u001B[0m \u001B[38;5;28;01mfinally\u001B[39;00m:\n\u001B[1;32m   1758\u001B[0m     t2 \u001B[38;5;241m=\u001B[39m time\u001B[38;5;241m.\u001B[39mperf_counter()\n",
      "File \u001B[0;32m/usr/local/Caskroom/miniconda/base/envs/BDA/lib/python3.11/site-packages/pytensor/compile/function/types.py:1649\u001B[0m, in \u001B[0;36mFunctionMaker.create\u001B[0;34m(self, input_storage, storage_map)\u001B[0m\n\u001B[1;32m   1646\u001B[0m start_import_time \u001B[38;5;241m=\u001B[39m pytensor\u001B[38;5;241m.\u001B[39mlink\u001B[38;5;241m.\u001B[39mc\u001B[38;5;241m.\u001B[39mcmodule\u001B[38;5;241m.\u001B[39mimport_time\n\u001B[1;32m   1648\u001B[0m \u001B[38;5;28;01mwith\u001B[39;00m config\u001B[38;5;241m.\u001B[39mchange_flags(traceback__limit\u001B[38;5;241m=\u001B[39mconfig\u001B[38;5;241m.\u001B[39mtraceback__compile_limit):\n\u001B[0;32m-> 1649\u001B[0m     _fn, _i, _o \u001B[38;5;241m=\u001B[39m \u001B[38;5;28;43mself\u001B[39;49m\u001B[38;5;241;43m.\u001B[39;49m\u001B[43mlinker\u001B[49m\u001B[38;5;241;43m.\u001B[39;49m\u001B[43mmake_thunk\u001B[49m\u001B[43m(\u001B[49m\n\u001B[1;32m   1650\u001B[0m \u001B[43m        \u001B[49m\u001B[43minput_storage\u001B[49m\u001B[38;5;241;43m=\u001B[39;49m\u001B[43minput_storage_lists\u001B[49m\u001B[43m,\u001B[49m\u001B[43m \u001B[49m\u001B[43mstorage_map\u001B[49m\u001B[38;5;241;43m=\u001B[39;49m\u001B[43mstorage_map\u001B[49m\n\u001B[1;32m   1651\u001B[0m \u001B[43m    \u001B[49m\u001B[43m)\u001B[49m\n\u001B[1;32m   1653\u001B[0m end_linker \u001B[38;5;241m=\u001B[39m time\u001B[38;5;241m.\u001B[39mperf_counter()\n\u001B[1;32m   1655\u001B[0m linker_time \u001B[38;5;241m=\u001B[39m end_linker \u001B[38;5;241m-\u001B[39m start_linker\n",
      "File \u001B[0;32m/usr/local/Caskroom/miniconda/base/envs/BDA/lib/python3.11/site-packages/pytensor/link/basic.py:254\u001B[0m, in \u001B[0;36mLocalLinker.make_thunk\u001B[0;34m(self, input_storage, output_storage, storage_map, **kwargs)\u001B[0m\n\u001B[1;32m    247\u001B[0m \u001B[38;5;28;01mdef\u001B[39;00m \u001B[38;5;21mmake_thunk\u001B[39m(\n\u001B[1;32m    248\u001B[0m     \u001B[38;5;28mself\u001B[39m,\n\u001B[1;32m    249\u001B[0m     input_storage: Optional[\u001B[38;5;124m\"\u001B[39m\u001B[38;5;124mInputStorageType\u001B[39m\u001B[38;5;124m\"\u001B[39m] \u001B[38;5;241m=\u001B[39m \u001B[38;5;28;01mNone\u001B[39;00m,\n\u001B[0;32m   (...)\u001B[0m\n\u001B[1;32m    252\u001B[0m     \u001B[38;5;241m*\u001B[39m\u001B[38;5;241m*\u001B[39mkwargs,\n\u001B[1;32m    253\u001B[0m ) \u001B[38;5;241m-\u001B[39m\u001B[38;5;241m>\u001B[39m Tuple[\u001B[38;5;124m\"\u001B[39m\u001B[38;5;124mBasicThunkType\u001B[39m\u001B[38;5;124m\"\u001B[39m, \u001B[38;5;124m\"\u001B[39m\u001B[38;5;124mInputStorageType\u001B[39m\u001B[38;5;124m\"\u001B[39m, \u001B[38;5;124m\"\u001B[39m\u001B[38;5;124mOutputStorageType\u001B[39m\u001B[38;5;124m\"\u001B[39m]:\n\u001B[0;32m--> 254\u001B[0m     \u001B[38;5;28;01mreturn\u001B[39;00m \u001B[38;5;28;43mself\u001B[39;49m\u001B[38;5;241;43m.\u001B[39;49m\u001B[43mmake_all\u001B[49m\u001B[43m(\u001B[49m\n\u001B[1;32m    255\u001B[0m \u001B[43m        \u001B[49m\u001B[43minput_storage\u001B[49m\u001B[38;5;241;43m=\u001B[39;49m\u001B[43minput_storage\u001B[49m\u001B[43m,\u001B[49m\n\u001B[1;32m    256\u001B[0m \u001B[43m        \u001B[49m\u001B[43moutput_storage\u001B[49m\u001B[38;5;241;43m=\u001B[39;49m\u001B[43moutput_storage\u001B[49m\u001B[43m,\u001B[49m\n\u001B[1;32m    257\u001B[0m \u001B[43m        \u001B[49m\u001B[43mstorage_map\u001B[49m\u001B[38;5;241;43m=\u001B[39;49m\u001B[43mstorage_map\u001B[49m\u001B[43m,\u001B[49m\n\u001B[1;32m    258\u001B[0m \u001B[43m    \u001B[49m\u001B[43m)\u001B[49m[:\u001B[38;5;241m3\u001B[39m]\n",
      "File \u001B[0;32m/usr/local/Caskroom/miniconda/base/envs/BDA/lib/python3.11/site-packages/pytensor/link/vm.py:1297\u001B[0m, in \u001B[0;36mVMLinker.make_all\u001B[0;34m(self, profiler, input_storage, output_storage, storage_map)\u001B[0m\n\u001B[1;32m   1294\u001B[0m \u001B[38;5;28;01melse\u001B[39;00m:\n\u001B[1;32m   1295\u001B[0m     post_thunk_clear \u001B[38;5;241m=\u001B[39m \u001B[38;5;28;01mNone\u001B[39;00m\n\u001B[0;32m-> 1297\u001B[0m vm \u001B[38;5;241m=\u001B[39m \u001B[38;5;28;43mself\u001B[39;49m\u001B[38;5;241;43m.\u001B[39;49m\u001B[43mmake_vm\u001B[49m\u001B[43m(\u001B[49m\n\u001B[1;32m   1298\u001B[0m \u001B[43m    \u001B[49m\u001B[43morder\u001B[49m\u001B[43m,\u001B[49m\n\u001B[1;32m   1299\u001B[0m \u001B[43m    \u001B[49m\u001B[43mthunks\u001B[49m\u001B[43m,\u001B[49m\n\u001B[1;32m   1300\u001B[0m \u001B[43m    \u001B[49m\u001B[43minput_storage\u001B[49m\u001B[43m,\u001B[49m\n\u001B[1;32m   1301\u001B[0m \u001B[43m    \u001B[49m\u001B[43moutput_storage\u001B[49m\u001B[43m,\u001B[49m\n\u001B[1;32m   1302\u001B[0m \u001B[43m    \u001B[49m\u001B[43mstorage_map\u001B[49m\u001B[43m,\u001B[49m\n\u001B[1;32m   1303\u001B[0m \u001B[43m    \u001B[49m\u001B[43mpost_thunk_clear\u001B[49m\u001B[43m,\u001B[49m\n\u001B[1;32m   1304\u001B[0m \u001B[43m    \u001B[49m\u001B[43mcomputed\u001B[49m\u001B[43m,\u001B[49m\n\u001B[1;32m   1305\u001B[0m \u001B[43m    \u001B[49m\u001B[43mcompute_map\u001B[49m\u001B[43m,\u001B[49m\n\u001B[1;32m   1306\u001B[0m \u001B[43m    \u001B[49m\u001B[38;5;28;43mself\u001B[39;49m\u001B[38;5;241;43m.\u001B[39;49m\u001B[43mupdated_vars\u001B[49m\u001B[43m,\u001B[49m\n\u001B[1;32m   1307\u001B[0m \u001B[43m\u001B[49m\u001B[43m)\u001B[49m\n\u001B[1;32m   1309\u001B[0m vm\u001B[38;5;241m.\u001B[39mstorage_map \u001B[38;5;241m=\u001B[39m storage_map\n\u001B[1;32m   1310\u001B[0m vm\u001B[38;5;241m.\u001B[39mcompute_map \u001B[38;5;241m=\u001B[39m compute_map\n",
      "File \u001B[0;32m/usr/local/Caskroom/miniconda/base/envs/BDA/lib/python3.11/site-packages/pytensor/link/vm.py:1020\u001B[0m, in \u001B[0;36mVMLinker.make_vm\u001B[0;34m(self, nodes, thunks, input_storage, output_storage, storage_map, post_thunk_clear, computed, compute_map, updated_vars)\u001B[0m\n\u001B[1;32m   1017\u001B[0m pre_call_clear \u001B[38;5;241m=\u001B[39m [storage_map[v] \u001B[38;5;28;01mfor\u001B[39;00m v \u001B[38;5;129;01min\u001B[39;00m \u001B[38;5;28mself\u001B[39m\u001B[38;5;241m.\u001B[39mno_recycling]\n\u001B[1;32m   1019\u001B[0m \u001B[38;5;28;01mtry\u001B[39;00m:\n\u001B[0;32m-> 1020\u001B[0m     \u001B[38;5;28;01mfrom\u001B[39;00m \u001B[38;5;21;01mpytensor\u001B[39;00m\u001B[38;5;21;01m.\u001B[39;00m\u001B[38;5;21;01mlink\u001B[39;00m\u001B[38;5;21;01m.\u001B[39;00m\u001B[38;5;21;01mc\u001B[39;00m\u001B[38;5;21;01m.\u001B[39;00m\u001B[38;5;21;01mcvm\u001B[39;00m \u001B[38;5;28;01mimport\u001B[39;00m CVM\n\u001B[1;32m   1021\u001B[0m \u001B[38;5;28;01mexcept\u001B[39;00m (MissingGXX, \u001B[38;5;167;01mImportError\u001B[39;00m):\n\u001B[1;32m   1022\u001B[0m     CVM \u001B[38;5;241m=\u001B[39m \u001B[38;5;28;01mNone\u001B[39;00m\n",
      "File \u001B[0;32m/usr/local/Caskroom/miniconda/base/envs/BDA/lib/python3.11/site-packages/pytensor/link/c/cvm.py:13\u001B[0m\n\u001B[1;32m      9\u001B[0m \u001B[38;5;28;01mif\u001B[39;00m \u001B[38;5;129;01mnot\u001B[39;00m config\u001B[38;5;241m.\u001B[39mcxx:\n\u001B[1;32m     10\u001B[0m     \u001B[38;5;28;01mraise\u001B[39;00m MissingGXX(\n\u001B[1;32m     11\u001B[0m         \u001B[38;5;124m\"\u001B[39m\u001B[38;5;124mlazylinker will not be imported if pytensor.config.cxx is not set.\u001B[39m\u001B[38;5;124m\"\u001B[39m\n\u001B[1;32m     12\u001B[0m     )\n\u001B[0;32m---> 13\u001B[0m \u001B[38;5;28;01mfrom\u001B[39;00m \u001B[38;5;21;01mpytensor\u001B[39;00m\u001B[38;5;21;01m.\u001B[39;00m\u001B[38;5;21;01mlink\u001B[39;00m\u001B[38;5;21;01m.\u001B[39;00m\u001B[38;5;21;01mc\u001B[39;00m\u001B[38;5;21;01m.\u001B[39;00m\u001B[38;5;21;01mlazylinker_c\u001B[39;00m \u001B[38;5;28;01mimport\u001B[39;00m CLazyLinker\n\u001B[1;32m     15\u001B[0m \u001B[38;5;28;01mclass\u001B[39;00m \u001B[38;5;21;01mCVM\u001B[39;00m(CLazyLinker, VM):\n\u001B[1;32m     16\u001B[0m     \u001B[38;5;28;01mdef\u001B[39;00m \u001B[38;5;21m__init__\u001B[39m(\u001B[38;5;28mself\u001B[39m, fgraph, \u001B[38;5;241m*\u001B[39margs, \u001B[38;5;241m*\u001B[39m\u001B[38;5;241m*\u001B[39mkwargs):\n",
      "File \u001B[0;32m/usr/local/Caskroom/miniconda/base/envs/BDA/lib/python3.11/site-packages/pytensor/link/c/lazylinker_c.py:143\u001B[0m\n\u001B[1;32m    140\u001B[0m         \u001B[38;5;28;01massert\u001B[39;00m os\u001B[38;5;241m.\u001B[39mpath\u001B[38;5;241m.\u001B[39mexists(loc)\n\u001B[1;32m    142\u001B[0m args \u001B[38;5;241m=\u001B[39m GCC_compiler\u001B[38;5;241m.\u001B[39mcompile_args()\n\u001B[0;32m--> 143\u001B[0m \u001B[43mGCC_compiler\u001B[49m\u001B[38;5;241;43m.\u001B[39;49m\u001B[43mcompile_str\u001B[49m\u001B[43m(\u001B[49m\u001B[43mdirname\u001B[49m\u001B[43m,\u001B[49m\u001B[43m \u001B[49m\u001B[43mcode\u001B[49m\u001B[43m,\u001B[49m\u001B[43m \u001B[49m\u001B[43mlocation\u001B[49m\u001B[38;5;241;43m=\u001B[39;49m\u001B[43mloc\u001B[49m\u001B[43m,\u001B[49m\u001B[43m \u001B[49m\u001B[43mpreargs\u001B[49m\u001B[38;5;241;43m=\u001B[39;49m\u001B[43margs\u001B[49m\u001B[43m)\u001B[49m\n\u001B[1;32m    144\u001B[0m \u001B[38;5;66;03m# Save version into the __init__.py file.\u001B[39;00m\n\u001B[1;32m    145\u001B[0m init_py \u001B[38;5;241m=\u001B[39m os\u001B[38;5;241m.\u001B[39mpath\u001B[38;5;241m.\u001B[39mjoin(loc, \u001B[38;5;124m\"\u001B[39m\u001B[38;5;124m__init__.py\u001B[39m\u001B[38;5;124m\"\u001B[39m)\n",
      "File \u001B[0;32m/usr/local/Caskroom/miniconda/base/envs/BDA/lib/python3.11/site-packages/pytensor/link/c/cmodule.py:2649\u001B[0m, in \u001B[0;36mGCC_compiler.compile_str\u001B[0;34m(module_name, src_code, location, include_dirs, lib_dirs, libs, preargs, py_module, hide_symbols)\u001B[0m\n\u001B[1;32m   2641\u001B[0m                 \u001B[38;5;28mprint\u001B[39m(\n\u001B[1;32m   2642\u001B[0m                     \u001B[38;5;124m\"\u001B[39m\u001B[38;5;124mCheck if package python-dev or python-devel is installed.\u001B[39m\u001B[38;5;124m\"\u001B[39m\n\u001B[1;32m   2643\u001B[0m                 )\n\u001B[1;32m   2645\u001B[0m     \u001B[38;5;66;03m# We replace '\\n' by '. ' in the error message because when Python\u001B[39;00m\n\u001B[1;32m   2646\u001B[0m     \u001B[38;5;66;03m# prints the exception, having '\\n' in the text makes it more\u001B[39;00m\n\u001B[1;32m   2647\u001B[0m     \u001B[38;5;66;03m# difficult to read.\u001B[39;00m\n\u001B[1;32m   2648\u001B[0m     \u001B[38;5;66;03m# compile_stderr = compile_stderr.replace(\"\\n\", \". \")\u001B[39;00m\n\u001B[0;32m-> 2649\u001B[0m     \u001B[38;5;28;01mraise\u001B[39;00m CompileError(\n\u001B[1;32m   2650\u001B[0m         \u001B[38;5;124mf\u001B[39m\u001B[38;5;124m\"\u001B[39m\u001B[38;5;124mCompilation failed (return status=\u001B[39m\u001B[38;5;132;01m{\u001B[39;00mstatus\u001B[38;5;132;01m}\u001B[39;00m\u001B[38;5;124m):\u001B[39m\u001B[38;5;130;01m\\n\u001B[39;00m\u001B[38;5;132;01m{\u001B[39;00m\u001B[38;5;124m'\u001B[39m\u001B[38;5;124m \u001B[39m\u001B[38;5;124m'\u001B[39m\u001B[38;5;241m.\u001B[39mjoin(cmd)\u001B[38;5;132;01m}\u001B[39;00m\u001B[38;5;130;01m\\n\u001B[39;00m\u001B[38;5;132;01m{\u001B[39;00mcompile_stderr\u001B[38;5;132;01m}\u001B[39;00m\u001B[38;5;124m\"\u001B[39m\n\u001B[1;32m   2651\u001B[0m     )\n\u001B[1;32m   2652\u001B[0m \u001B[38;5;28;01melif\u001B[39;00m config\u001B[38;5;241m.\u001B[39mcmodule__compilation_warning \u001B[38;5;129;01mand\u001B[39;00m compile_stderr:\n\u001B[1;32m   2653\u001B[0m     \u001B[38;5;66;03m# Print errors just below the command line.\u001B[39;00m\n\u001B[1;32m   2654\u001B[0m     \u001B[38;5;28mprint\u001B[39m(compile_stderr)\n",
      "\u001B[0;31mCompileError\u001B[0m: Compilation failed (return status=1):\n/usr/local/Caskroom/miniconda/base/envs/BDA/bin/clang++ -dynamiclib -g -Wno-c++11-narrowing -fno-exceptions -fno-unwind-tables -fno-asynchronous-unwind-tables -DNPY_NO_DEPRECATED_API=NPY_1_7_API_VERSION -m64 -fPIC -undefined dynamic_lookup -I/usr/local/Caskroom/miniconda/base/envs/BDA/lib/python3.11/site-packages/numpy/core/include -I/usr/local/Caskroom/miniconda/base/envs/BDA/include/python3.11 -I/usr/local/Caskroom/miniconda/base/envs/BDA/lib/python3.11/site-packages/pytensor/link/c/c_code -L/usr/local/Caskroom/miniconda/base/envs/BDA/lib -fvisibility=hidden -o /Users/hermeschen/.pytensor/compiledir_macOS-14.0-x86_64-i386-64bit-i386-3.11.3-64/lazylinker_ext/lazylinker_ext.so /Users/hermeschen/.pytensor/compiledir_macOS-14.0-x86_64-i386-64bit-i386-3.11.3-64/lazylinker_ext/mod.cpp\nld: library not found for -lSystem\nclang-15: error: linker command failed with exit code 1 (use -v to see invocation)\n"
     ]
    }
   ],
   "source": [
    "with pm.Model() as predictor:\n",
    "\tintercept = pm.Normal(name='intercept', sigma=10)\n",
    "\tcoefficients = pm.Normal(name='coefficients', mu=0, sigma=1, shape=5)\n",
    "\terror = pm.HalfCauchy(name='error', beta=5)\n",
    "\tmodel = pm.Deterministic('model', intercept + pm.math.dot(coefficients, train_variables))\n",
    "\t\n",
    "\tprediction = pm.Normal(name='prediction', mu=model, sigma=error, observed=train_target)\n",
    "\n",
    "\ttrace = pm.sample(tune=2000, chains=2, cores=8)\n",
    "\tppc = pm.sample_posterior_predictive(trace, samples=2000)"
   ],
   "metadata": {
    "collapsed": false,
    "ExecuteTime": {
     "end_time": "2023-06-10T15:09:14.756008Z",
     "start_time": "2023-06-10T15:08:30.027899Z"
    }
   }
  },
  {
   "cell_type": "markdown",
   "source": [
    "# Performance Analysis"
   ],
   "metadata": {
    "collapsed": false
   }
  },
  {
   "cell_type": "code",
   "execution_count": null,
   "outputs": [],
   "source": [
    "az.plot_trace(trace, var_names=['intercept', 'coefficients', 'error'])"
   ],
   "metadata": {
    "collapsed": false
   }
  },
  {
   "cell_type": "code",
   "execution_count": null,
   "outputs": [],
   "source": [
    "az.summary(trace, var_names=['intercept', 'coefficients', 'error'])"
   ],
   "metadata": {
    "collapsed": false
   }
  },
  {
   "cell_type": "markdown",
   "source": [
    "## MSE"
   ],
   "metadata": {
    "collapsed": false
   }
  },
  {
   "cell_type": "code",
   "execution_count": 78,
   "outputs": [],
   "source": [
    "def predict_function(test_variable: np.array) -> float:\n",
    "\tformula_intercept: float = 1\n",
    "\tformula_coefficients: np.array = np.array([1, 1, 1, 1, 1]).reshape(-1, 1)\n",
    "\treturn float(np.dot(test_variable.reshape(1, -1), formula_coefficients)) + formula_intercept"
   ],
   "metadata": {
    "collapsed": false,
    "ExecuteTime": {
     "end_time": "2023-06-10T15:41:19.903202Z",
     "start_time": "2023-06-10T15:41:19.894973Z"
    }
   }
  },
  {
   "cell_type": "code",
   "execution_count": 79,
   "outputs": [],
   "source": [
    "predictions: np.array = np.array([predict_function(variable) for variable in test_variables]).reshape(-1, 1)"
   ],
   "metadata": {
    "collapsed": false,
    "ExecuteTime": {
     "end_time": "2023-06-10T15:41:20.317873Z",
     "start_time": "2023-06-10T15:41:20.309324Z"
    }
   }
  },
  {
   "cell_type": "code",
   "execution_count": 80,
   "outputs": [],
   "source": [
    "def mean_square_error(target_prediction: list, target_truth: list) -> float:\n",
    "\treturn np.square(np.subtract(target_prediction, target_truth)).mean()"
   ],
   "metadata": {
    "collapsed": false,
    "ExecuteTime": {
     "end_time": "2023-06-10T15:41:20.774199Z",
     "start_time": "2023-06-10T15:41:20.760821Z"
    }
   }
  },
  {
   "cell_type": "code",
   "execution_count": 82,
   "outputs": [
    {
     "name": "stdout",
     "output_type": "stream",
     "text": [
      "MSE: 4405.61\n"
     ]
    }
   ],
   "source": [
    "print('MSE: {:.2f}'.format(mean_square_error(predictions, test_target)))"
   ],
   "metadata": {
    "collapsed": false,
    "ExecuteTime": {
     "end_time": "2023-06-10T15:41:27.473732Z",
     "start_time": "2023-06-10T15:41:27.463957Z"
    }
   }
  },
  {
   "cell_type": "code",
   "execution_count": null,
   "outputs": [],
   "source": [],
   "metadata": {
    "collapsed": false
   }
  }
 ],
 "metadata": {
  "kernelspec": {
   "display_name": "Python 3",
   "language": "python",
   "name": "python3"
  },
  "language_info": {
   "codemirror_mode": {
    "name": "ipython",
    "version": 2
   },
   "file_extension": ".py",
   "mimetype": "text/x-python",
   "name": "python",
   "nbconvert_exporter": "python",
   "pygments_lexer": "ipython2",
   "version": "2.7.6"
  }
 },
 "nbformat": 4,
 "nbformat_minor": 0
}
