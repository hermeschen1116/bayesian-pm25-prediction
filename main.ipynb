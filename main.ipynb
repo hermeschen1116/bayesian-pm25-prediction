{
 "cells": [
  {
   "cell_type": "code",
   "execution_count": 90,
   "metadata": {
    "collapsed": true,
    "ExecuteTime": {
     "end_time": "2023-05-31T02:07:48.483898Z",
     "start_time": "2023-05-31T02:07:48.474496Z"
    }
   },
   "outputs": [],
   "source": [
    "from pathlib import Path\n",
    "\n",
    "import pandas as pd\n",
    "import polars as ps\n",
    "import seaborn as sb"
   ]
  },
  {
   "cell_type": "markdown",
   "source": [
    "# Data Preprocessing"
   ],
   "metadata": {
    "collapsed": false
   }
  },
  {
   "cell_type": "markdown",
   "source": [
    "## Load Datasets"
   ],
   "metadata": {
    "collapsed": false
   }
  },
  {
   "cell_type": "code",
   "execution_count": 91,
   "outputs": [],
   "source": [
    "type_map: list = [ps.Utf8, ps.Utf8, ps.Int32, ps.Utf8, ps.Utf8,\n",
    "                  ps.Float32, ps.Float32, ps.Float32, ps.Float32,\n",
    "                  ps.Float32, ps.Float32, ps.Float32, ps.Float32, ps.Float32,\n",
    "                  ps.Float32, ps.Float32, ps.Float32, ps.Float32,\n",
    "                  ps.Int32, ps.Datetime, ps.Float32, ps.Float32, ps.Float32, ps.Int32]\n",
    "null_values: list = ['', '-']"
   ],
   "metadata": {
    "collapsed": false,
    "ExecuteTime": {
     "end_time": "2023-05-31T02:07:50.542568Z",
     "start_time": "2023-05-31T02:07:50.536474Z"
    }
   }
  },
  {
   "cell_type": "code",
   "execution_count": 92,
   "outputs": [],
   "source": [
    "datasets: list = [ps.read_csv(file, encoding='utf8', dtypes=type_map, null_values=null_values, n_threads=8)\n",
    "                  for file in Path('data').glob('*.csv')]\n",
    "dataset: ps.DataFrame = ps.concat(datasets)"
   ],
   "metadata": {
    "collapsed": false,
    "ExecuteTime": {
     "end_time": "2023-05-31T02:07:55.076890Z",
     "start_time": "2023-05-31T02:07:51.137486Z"
    }
   }
  },
  {
   "cell_type": "markdown",
   "source": [
    "## Remove Duplicate Rows and Add New Column"
   ],
   "metadata": {
    "collapsed": false
   }
  },
  {
   "cell_type": "code",
   "execution_count": 93,
   "outputs": [],
   "source": [
    "dataset = dataset.unique()\n",
    "dataset = dataset.with_columns(ps.col('PublishTime').dt.strftime('%Y-%m').alias('PublishYearAndMonth'))"
   ],
   "metadata": {
    "collapsed": false,
    "ExecuteTime": {
     "end_time": "2023-05-31T02:07:57.581854Z",
     "start_time": "2023-05-31T02:07:55.084679Z"
    }
   }
  },
  {
   "cell_type": "markdown",
   "source": [
    "## Convert Non-numerical Data to Numbers"
   ],
   "metadata": {
    "collapsed": false
   }
  },
  {
   "cell_type": "code",
   "execution_count": 94,
   "outputs": [
    {
     "data": {
      "text/plain": "shape: (8, 2)\n┌────────────┬────────┐\n│ Pollutant  ┆ counts │\n│ ---        ┆ ---    │\n│ str        ┆ u32    │\n╞════════════╪════════╡\n│ null       ┆ 758757 │\n│ 細懸浮微粒 ┆ 394179 │\n│ 臭氧八小時 ┆ 46944  │\n│ 二氧化氮   ┆ 9469   │\n│ 懸浮微粒   ┆ 8893   │\n│ 二氧化硫   ┆ 128    │\n│ 臭氧       ┆ 9      │\n│ 一氧化碳   ┆ 2      │\n└────────────┴────────┘",
      "text/html": "<div><style>\n.dataframe > thead > tr > th,\n.dataframe > tbody > tr > td {\n  text-align: right;\n}\n</style>\n<small>shape: (8, 2)</small><table border=\"1\" class=\"dataframe\"><thead><tr><th>Pollutant</th><th>counts</th></tr><tr><td>str</td><td>u32</td></tr></thead><tbody><tr><td>null</td><td>758757</td></tr><tr><td>&quot;細懸浮微粒&quot;</td><td>394179</td></tr><tr><td>&quot;臭氧八小時&quot;</td><td>46944</td></tr><tr><td>&quot;二氧化氮&quot;</td><td>9469</td></tr><tr><td>&quot;懸浮微粒&quot;</td><td>8893</td></tr><tr><td>&quot;二氧化硫&quot;</td><td>128</td></tr><tr><td>&quot;臭氧&quot;</td><td>9</td></tr><tr><td>&quot;一氧化碳&quot;</td><td>2</td></tr></tbody></table></div>"
     },
     "execution_count": 94,
     "metadata": {},
     "output_type": "execute_result"
    }
   ],
   "source": [
    "dataset['Pollutant'].value_counts(sort=True)"
   ],
   "metadata": {
    "collapsed": false,
    "ExecuteTime": {
     "end_time": "2023-05-31T02:07:57.706666Z",
     "start_time": "2023-05-31T02:07:57.697710Z"
    }
   }
  },
  {
   "cell_type": "code",
   "execution_count": 95,
   "outputs": [],
   "source": [
    "pollutant_type: list = dataset['Pollutant'].value_counts(sort=True)['Pollutant'].to_list()\n",
    "pollutant_type.remove(None)\n",
    "pollutant_map: dict = dict(zip(pollutant_type, [i for i in range(len(pollutant_type))]))"
   ],
   "metadata": {
    "collapsed": false,
    "ExecuteTime": {
     "end_time": "2023-05-31T02:07:59.734601Z",
     "start_time": "2023-05-31T02:07:59.725856Z"
    }
   }
  },
  {
   "cell_type": "code",
   "execution_count": 96,
   "outputs": [],
   "source": [
    "dataset = dataset.with_columns(ps.col('Pollutant').map_dict(pollutant_map, default='unknown').alias('Pollutant').cast(ps.Int32, strict=False))"
   ],
   "metadata": {
    "collapsed": false,
    "ExecuteTime": {
     "end_time": "2023-05-31T02:08:01.756049Z",
     "start_time": "2023-05-31T02:08:01.578176Z"
    }
   }
  },
  {
   "cell_type": "code",
   "execution_count": 97,
   "outputs": [
    {
     "data": {
      "text/plain": "shape: (7, 2)\n┌──────────────────┬────────┐\n│ Status           ┆ counts │\n│ ---              ┆ ---    │\n│ str              ┆ u32    │\n╞══════════════════╪════════╡\n│ 良好             ┆ 755203 │\n│ 普通             ┆ 385681 │\n│ 對敏感族群不健康 ┆ 64309  │\n│ 對所有族群不健康 ┆ 9610   │\n│ null             ┆ 3554   │\n│ 非常不健康       ┆ 22     │\n│ 危害             ┆ 2      │\n└──────────────────┴────────┘",
      "text/html": "<div><style>\n.dataframe > thead > tr > th,\n.dataframe > tbody > tr > td {\n  text-align: right;\n}\n</style>\n<small>shape: (7, 2)</small><table border=\"1\" class=\"dataframe\"><thead><tr><th>Status</th><th>counts</th></tr><tr><td>str</td><td>u32</td></tr></thead><tbody><tr><td>&quot;良好&quot;</td><td>755203</td></tr><tr><td>&quot;普通&quot;</td><td>385681</td></tr><tr><td>&quot;對敏感族群不健康&quot;</td><td>64309</td></tr><tr><td>&quot;對所有族群不健康&quot;</td><td>9610</td></tr><tr><td>null</td><td>3554</td></tr><tr><td>&quot;非常不健康&quot;</td><td>22</td></tr><tr><td>&quot;危害&quot;</td><td>2</td></tr></tbody></table></div>"
     },
     "execution_count": 97,
     "metadata": {},
     "output_type": "execute_result"
    }
   ],
   "source": [
    "dataset['Status'].value_counts(sort=True)"
   ],
   "metadata": {
    "collapsed": false,
    "ExecuteTime": {
     "end_time": "2023-05-31T02:08:02.940490Z",
     "start_time": "2023-05-31T02:08:02.933700Z"
    }
   }
  },
  {
   "cell_type": "code",
   "execution_count": 98,
   "outputs": [],
   "source": [
    "status_type: list = dataset['Status'].value_counts(sort=True)['Status'].to_list()\n",
    "status_type.remove(None)\n",
    "status_map: dict = dict(zip(status_type, [i for i in range(len(status_type))]))"
   ],
   "metadata": {
    "collapsed": false,
    "ExecuteTime": {
     "end_time": "2023-05-31T02:08:04.547916Z",
     "start_time": "2023-05-31T02:08:04.540241Z"
    }
   }
  },
  {
   "cell_type": "code",
   "execution_count": 99,
   "outputs": [],
   "source": [
    "dataset = dataset.with_columns(ps.col('Status').map_dict(status_map, default='unknown').alias('Status').cast(ps.Int32, strict=False))"
   ],
   "metadata": {
    "collapsed": false,
    "ExecuteTime": {
     "end_time": "2023-05-31T02:08:06.253624Z",
     "start_time": "2023-05-31T02:08:06.123206Z"
    }
   }
  },
  {
   "cell_type": "markdown",
   "source": [
    "## Fill Missing Values"
   ],
   "metadata": {
    "collapsed": false
   }
  },
  {
   "cell_type": "code",
   "execution_count": 80,
   "outputs": [],
   "source": [
    "dataset: pd.DataFrame = dataset.to_pandas()"
   ],
   "metadata": {
    "collapsed": false,
    "ExecuteTime": {
     "end_time": "2023-05-31T02:06:50.719266Z",
     "start_time": "2023-05-31T02:06:50.196084Z"
    }
   }
  },
  {
   "cell_type": "code",
   "execution_count": 81,
   "outputs": [
    {
     "data": {
      "text/plain": "SiteName               False\nCounty                 False\nAQI                     True\nPollutant               True\nStatus                  True\nSO2                     True\nCO                      True\nCO_8hr                  True\nO3                      True\nO3_8hr                  True\nPM10                    True\nPM10_AVG                True\nPM2.5                   True\nPM2.5_AVG               True\nNO2                     True\nNOx                     True\nNO                      True\nWindSpeed               True\nWindDirec               True\nPublishTime            False\nSO2_AVG                 True\nLongitude              False\nLatitude               False\nSiteId                 False\nPublishYearAndMonth    False\ndtype: bool"
     },
     "execution_count": 81,
     "metadata": {},
     "output_type": "execute_result"
    }
   ],
   "source": [
    "dataset.isnull().any()"
   ],
   "metadata": {
    "collapsed": false,
    "ExecuteTime": {
     "end_time": "2023-05-31T02:06:50.810133Z",
     "start_time": "2023-05-31T02:06:50.610646Z"
    }
   }
  },
  {
   "cell_type": "code",
   "execution_count": 82,
   "outputs": [],
   "source": [
    "dataset['AQI'] = dataset.groupby(['County', 'PublishYearAndMonth'])['AQI'].transform(\n",
    "  lambda group: group.fillna(group.median()))"
   ],
   "metadata": {
    "collapsed": false,
    "ExecuteTime": {
     "end_time": "2023-05-31T02:06:51.513435Z",
     "start_time": "2023-05-31T02:06:50.679281Z"
    }
   }
  },
  {
   "cell_type": "code",
   "execution_count": 83,
   "outputs": [
    {
     "name": "stderr",
     "output_type": "stream",
     "text": [
      "/Users/hermeschen/.pyenv/versions/miniconda3-latest/envs/BDA/lib/python3.9/site-packages/numpy/lib/nanfunctions.py:1216: RuntimeWarning: Mean of empty slice\n",
      "  return np.nanmean(a, axis, out=out, keepdims=keepdims)\n",
      "/Users/hermeschen/.pyenv/versions/miniconda3-latest/envs/BDA/lib/python3.9/site-packages/numpy/lib/nanfunctions.py:1216: RuntimeWarning: Mean of empty slice\n",
      "  return np.nanmean(a, axis, out=out, keepdims=keepdims)\n",
      "/Users/hermeschen/.pyenv/versions/miniconda3-latest/envs/BDA/lib/python3.9/site-packages/numpy/lib/nanfunctions.py:1216: RuntimeWarning: Mean of empty slice\n",
      "  return np.nanmean(a, axis, out=out, keepdims=keepdims)\n",
      "/Users/hermeschen/.pyenv/versions/miniconda3-latest/envs/BDA/lib/python3.9/site-packages/numpy/lib/nanfunctions.py:1216: RuntimeWarning: Mean of empty slice\n",
      "  return np.nanmean(a, axis, out=out, keepdims=keepdims)\n",
      "/Users/hermeschen/.pyenv/versions/miniconda3-latest/envs/BDA/lib/python3.9/site-packages/numpy/lib/nanfunctions.py:1216: RuntimeWarning: Mean of empty slice\n",
      "  return np.nanmean(a, axis, out=out, keepdims=keepdims)\n",
      "/Users/hermeschen/.pyenv/versions/miniconda3-latest/envs/BDA/lib/python3.9/site-packages/numpy/lib/nanfunctions.py:1216: RuntimeWarning: Mean of empty slice\n",
      "  return np.nanmean(a, axis, out=out, keepdims=keepdims)\n",
      "/Users/hermeschen/.pyenv/versions/miniconda3-latest/envs/BDA/lib/python3.9/site-packages/numpy/lib/nanfunctions.py:1216: RuntimeWarning: Mean of empty slice\n",
      "  return np.nanmean(a, axis, out=out, keepdims=keepdims)\n",
      "/Users/hermeschen/.pyenv/versions/miniconda3-latest/envs/BDA/lib/python3.9/site-packages/numpy/lib/nanfunctions.py:1216: RuntimeWarning: Mean of empty slice\n",
      "  return np.nanmean(a, axis, out=out, keepdims=keepdims)\n",
      "/Users/hermeschen/.pyenv/versions/miniconda3-latest/envs/BDA/lib/python3.9/site-packages/numpy/lib/nanfunctions.py:1216: RuntimeWarning: Mean of empty slice\n",
      "  return np.nanmean(a, axis, out=out, keepdims=keepdims)\n",
      "/Users/hermeschen/.pyenv/versions/miniconda3-latest/envs/BDA/lib/python3.9/site-packages/numpy/lib/nanfunctions.py:1216: RuntimeWarning: Mean of empty slice\n",
      "  return np.nanmean(a, axis, out=out, keepdims=keepdims)\n",
      "/Users/hermeschen/.pyenv/versions/miniconda3-latest/envs/BDA/lib/python3.9/site-packages/numpy/lib/nanfunctions.py:1216: RuntimeWarning: Mean of empty slice\n",
      "  return np.nanmean(a, axis, out=out, keepdims=keepdims)\n",
      "/Users/hermeschen/.pyenv/versions/miniconda3-latest/envs/BDA/lib/python3.9/site-packages/numpy/lib/nanfunctions.py:1216: RuntimeWarning: Mean of empty slice\n",
      "  return np.nanmean(a, axis, out=out, keepdims=keepdims)\n",
      "/Users/hermeschen/.pyenv/versions/miniconda3-latest/envs/BDA/lib/python3.9/site-packages/numpy/lib/nanfunctions.py:1216: RuntimeWarning: Mean of empty slice\n",
      "  return np.nanmean(a, axis, out=out, keepdims=keepdims)\n",
      "/Users/hermeschen/.pyenv/versions/miniconda3-latest/envs/BDA/lib/python3.9/site-packages/numpy/lib/nanfunctions.py:1216: RuntimeWarning: Mean of empty slice\n",
      "  return np.nanmean(a, axis, out=out, keepdims=keepdims)\n"
     ]
    }
   ],
   "source": [
    "dataset['Pollutant'] = dataset.groupby(['County', 'PublishYearAndMonth'])['Pollutant'].transform(\n",
    "  lambda group: group.fillna(group.median()))"
   ],
   "metadata": {
    "collapsed": false,
    "ExecuteTime": {
     "end_time": "2023-05-31T02:06:52.252471Z",
     "start_time": "2023-05-31T02:06:51.531129Z"
    }
   }
  },
  {
   "cell_type": "code",
   "execution_count": 84,
   "outputs": [],
   "source": [
    "dataset['Status'] = dataset.groupby(['County', 'PublishYearAndMonth'])['Status'].transform(\n",
    "  lambda group: group.fillna(group.median()))"
   ],
   "metadata": {
    "collapsed": false,
    "ExecuteTime": {
     "end_time": "2023-05-31T02:06:52.252889Z",
     "start_time": "2023-05-31T02:06:52.229654Z"
    }
   }
  },
  {
   "cell_type": "code",
   "execution_count": 85,
   "outputs": [
    {
     "name": "stderr",
     "output_type": "stream",
     "text": [
      "/Users/hermeschen/.pyenv/versions/miniconda3-latest/envs/BDA/lib/python3.9/site-packages/numpy/lib/nanfunctions.py:1216: RuntimeWarning: Mean of empty slice\n",
      "  return np.nanmean(a, axis, out=out, keepdims=keepdims)\n",
      "/Users/hermeschen/.pyenv/versions/miniconda3-latest/envs/BDA/lib/python3.9/site-packages/numpy/lib/nanfunctions.py:1216: RuntimeWarning: Mean of empty slice\n",
      "  return np.nanmean(a, axis, out=out, keepdims=keepdims)\n",
      "/Users/hermeschen/.pyenv/versions/miniconda3-latest/envs/BDA/lib/python3.9/site-packages/numpy/lib/nanfunctions.py:1216: RuntimeWarning: Mean of empty slice\n",
      "  return np.nanmean(a, axis, out=out, keepdims=keepdims)\n",
      "/Users/hermeschen/.pyenv/versions/miniconda3-latest/envs/BDA/lib/python3.9/site-packages/numpy/lib/nanfunctions.py:1216: RuntimeWarning: Mean of empty slice\n",
      "  return np.nanmean(a, axis, out=out, keepdims=keepdims)\n",
      "/Users/hermeschen/.pyenv/versions/miniconda3-latest/envs/BDA/lib/python3.9/site-packages/numpy/lib/nanfunctions.py:1216: RuntimeWarning: Mean of empty slice\n",
      "  return np.nanmean(a, axis, out=out, keepdims=keepdims)\n",
      "/Users/hermeschen/.pyenv/versions/miniconda3-latest/envs/BDA/lib/python3.9/site-packages/numpy/lib/nanfunctions.py:1216: RuntimeWarning: Mean of empty slice\n",
      "  return np.nanmean(a, axis, out=out, keepdims=keepdims)\n",
      "/Users/hermeschen/.pyenv/versions/miniconda3-latest/envs/BDA/lib/python3.9/site-packages/numpy/lib/nanfunctions.py:1216: RuntimeWarning: Mean of empty slice\n",
      "  return np.nanmean(a, axis, out=out, keepdims=keepdims)\n",
      "/Users/hermeschen/.pyenv/versions/miniconda3-latest/envs/BDA/lib/python3.9/site-packages/numpy/lib/nanfunctions.py:1216: RuntimeWarning: Mean of empty slice\n",
      "  return np.nanmean(a, axis, out=out, keepdims=keepdims)\n",
      "/Users/hermeschen/.pyenv/versions/miniconda3-latest/envs/BDA/lib/python3.9/site-packages/numpy/lib/nanfunctions.py:1216: RuntimeWarning: Mean of empty slice\n",
      "  return np.nanmean(a, axis, out=out, keepdims=keepdims)\n",
      "/Users/hermeschen/.pyenv/versions/miniconda3-latest/envs/BDA/lib/python3.9/site-packages/numpy/lib/nanfunctions.py:1216: RuntimeWarning: Mean of empty slice\n",
      "  return np.nanmean(a, axis, out=out, keepdims=keepdims)\n",
      "/Users/hermeschen/.pyenv/versions/miniconda3-latest/envs/BDA/lib/python3.9/site-packages/numpy/lib/nanfunctions.py:1216: RuntimeWarning: Mean of empty slice\n",
      "  return np.nanmean(a, axis, out=out, keepdims=keepdims)\n",
      "/Users/hermeschen/.pyenv/versions/miniconda3-latest/envs/BDA/lib/python3.9/site-packages/numpy/lib/nanfunctions.py:1216: RuntimeWarning: Mean of empty slice\n",
      "  return np.nanmean(a, axis, out=out, keepdims=keepdims)\n",
      "/Users/hermeschen/.pyenv/versions/miniconda3-latest/envs/BDA/lib/python3.9/site-packages/numpy/lib/nanfunctions.py:1216: RuntimeWarning: Mean of empty slice\n",
      "  return np.nanmean(a, axis, out=out, keepdims=keepdims)\n",
      "/Users/hermeschen/.pyenv/versions/miniconda3-latest/envs/BDA/lib/python3.9/site-packages/numpy/lib/nanfunctions.py:1216: RuntimeWarning: Mean of empty slice\n",
      "  return np.nanmean(a, axis, out=out, keepdims=keepdims)\n",
      "/Users/hermeschen/.pyenv/versions/miniconda3-latest/envs/BDA/lib/python3.9/site-packages/numpy/lib/nanfunctions.py:1216: RuntimeWarning: Mean of empty slice\n",
      "  return np.nanmean(a, axis, out=out, keepdims=keepdims)\n",
      "/Users/hermeschen/.pyenv/versions/miniconda3-latest/envs/BDA/lib/python3.9/site-packages/numpy/lib/nanfunctions.py:1216: RuntimeWarning: Mean of empty slice\n",
      "  return np.nanmean(a, axis, out=out, keepdims=keepdims)\n",
      "/Users/hermeschen/.pyenv/versions/miniconda3-latest/envs/BDA/lib/python3.9/site-packages/numpy/lib/nanfunctions.py:1216: RuntimeWarning: Mean of empty slice\n",
      "  return np.nanmean(a, axis, out=out, keepdims=keepdims)\n",
      "/Users/hermeschen/.pyenv/versions/miniconda3-latest/envs/BDA/lib/python3.9/site-packages/numpy/lib/nanfunctions.py:1216: RuntimeWarning: Mean of empty slice\n",
      "  return np.nanmean(a, axis, out=out, keepdims=keepdims)\n",
      "/Users/hermeschen/.pyenv/versions/miniconda3-latest/envs/BDA/lib/python3.9/site-packages/numpy/lib/nanfunctions.py:1216: RuntimeWarning: Mean of empty slice\n",
      "  return np.nanmean(a, axis, out=out, keepdims=keepdims)\n",
      "/Users/hermeschen/.pyenv/versions/miniconda3-latest/envs/BDA/lib/python3.9/site-packages/numpy/lib/nanfunctions.py:1216: RuntimeWarning: Mean of empty slice\n",
      "  return np.nanmean(a, axis, out=out, keepdims=keepdims)\n",
      "/Users/hermeschen/.pyenv/versions/miniconda3-latest/envs/BDA/lib/python3.9/site-packages/numpy/lib/nanfunctions.py:1216: RuntimeWarning: Mean of empty slice\n",
      "  return np.nanmean(a, axis, out=out, keepdims=keepdims)\n",
      "/Users/hermeschen/.pyenv/versions/miniconda3-latest/envs/BDA/lib/python3.9/site-packages/numpy/lib/nanfunctions.py:1216: RuntimeWarning: Mean of empty slice\n",
      "  return np.nanmean(a, axis, out=out, keepdims=keepdims)\n",
      "/Users/hermeschen/.pyenv/versions/miniconda3-latest/envs/BDA/lib/python3.9/site-packages/numpy/lib/nanfunctions.py:1216: RuntimeWarning: Mean of empty slice\n",
      "  return np.nanmean(a, axis, out=out, keepdims=keepdims)\n",
      "/Users/hermeschen/.pyenv/versions/miniconda3-latest/envs/BDA/lib/python3.9/site-packages/numpy/lib/nanfunctions.py:1216: RuntimeWarning: Mean of empty slice\n",
      "  return np.nanmean(a, axis, out=out, keepdims=keepdims)\n",
      "/Users/hermeschen/.pyenv/versions/miniconda3-latest/envs/BDA/lib/python3.9/site-packages/numpy/lib/nanfunctions.py:1216: RuntimeWarning: Mean of empty slice\n",
      "  return np.nanmean(a, axis, out=out, keepdims=keepdims)\n",
      "/Users/hermeschen/.pyenv/versions/miniconda3-latest/envs/BDA/lib/python3.9/site-packages/numpy/lib/nanfunctions.py:1216: RuntimeWarning: Mean of empty slice\n",
      "  return np.nanmean(a, axis, out=out, keepdims=keepdims)\n",
      "/Users/hermeschen/.pyenv/versions/miniconda3-latest/envs/BDA/lib/python3.9/site-packages/numpy/lib/nanfunctions.py:1216: RuntimeWarning: Mean of empty slice\n",
      "  return np.nanmean(a, axis, out=out, keepdims=keepdims)\n",
      "/Users/hermeschen/.pyenv/versions/miniconda3-latest/envs/BDA/lib/python3.9/site-packages/numpy/lib/nanfunctions.py:1216: RuntimeWarning: Mean of empty slice\n",
      "  return np.nanmean(a, axis, out=out, keepdims=keepdims)\n",
      "/Users/hermeschen/.pyenv/versions/miniconda3-latest/envs/BDA/lib/python3.9/site-packages/numpy/lib/nanfunctions.py:1216: RuntimeWarning: Mean of empty slice\n",
      "  return np.nanmean(a, axis, out=out, keepdims=keepdims)\n",
      "/Users/hermeschen/.pyenv/versions/miniconda3-latest/envs/BDA/lib/python3.9/site-packages/numpy/lib/nanfunctions.py:1216: RuntimeWarning: Mean of empty slice\n",
      "  return np.nanmean(a, axis, out=out, keepdims=keepdims)\n",
      "/Users/hermeschen/.pyenv/versions/miniconda3-latest/envs/BDA/lib/python3.9/site-packages/numpy/lib/nanfunctions.py:1216: RuntimeWarning: Mean of empty slice\n",
      "  return np.nanmean(a, axis, out=out, keepdims=keepdims)\n",
      "/Users/hermeschen/.pyenv/versions/miniconda3-latest/envs/BDA/lib/python3.9/site-packages/numpy/lib/nanfunctions.py:1216: RuntimeWarning: Mean of empty slice\n",
      "  return np.nanmean(a, axis, out=out, keepdims=keepdims)\n",
      "/Users/hermeschen/.pyenv/versions/miniconda3-latest/envs/BDA/lib/python3.9/site-packages/numpy/lib/nanfunctions.py:1216: RuntimeWarning: Mean of empty slice\n",
      "  return np.nanmean(a, axis, out=out, keepdims=keepdims)\n",
      "/Users/hermeschen/.pyenv/versions/miniconda3-latest/envs/BDA/lib/python3.9/site-packages/numpy/lib/nanfunctions.py:1216: RuntimeWarning: Mean of empty slice\n",
      "  return np.nanmean(a, axis, out=out, keepdims=keepdims)\n",
      "/Users/hermeschen/.pyenv/versions/miniconda3-latest/envs/BDA/lib/python3.9/site-packages/numpy/lib/nanfunctions.py:1216: RuntimeWarning: Mean of empty slice\n",
      "  return np.nanmean(a, axis, out=out, keepdims=keepdims)\n",
      "/Users/hermeschen/.pyenv/versions/miniconda3-latest/envs/BDA/lib/python3.9/site-packages/numpy/lib/nanfunctions.py:1216: RuntimeWarning: Mean of empty slice\n",
      "  return np.nanmean(a, axis, out=out, keepdims=keepdims)\n",
      "/Users/hermeschen/.pyenv/versions/miniconda3-latest/envs/BDA/lib/python3.9/site-packages/numpy/lib/nanfunctions.py:1216: RuntimeWarning: Mean of empty slice\n",
      "  return np.nanmean(a, axis, out=out, keepdims=keepdims)\n",
      "/Users/hermeschen/.pyenv/versions/miniconda3-latest/envs/BDA/lib/python3.9/site-packages/numpy/lib/nanfunctions.py:1216: RuntimeWarning: Mean of empty slice\n",
      "  return np.nanmean(a, axis, out=out, keepdims=keepdims)\n",
      "/Users/hermeschen/.pyenv/versions/miniconda3-latest/envs/BDA/lib/python3.9/site-packages/numpy/lib/nanfunctions.py:1216: RuntimeWarning: Mean of empty slice\n",
      "  return np.nanmean(a, axis, out=out, keepdims=keepdims)\n",
      "/Users/hermeschen/.pyenv/versions/miniconda3-latest/envs/BDA/lib/python3.9/site-packages/numpy/lib/nanfunctions.py:1216: RuntimeWarning: Mean of empty slice\n",
      "  return np.nanmean(a, axis, out=out, keepdims=keepdims)\n",
      "/Users/hermeschen/.pyenv/versions/miniconda3-latest/envs/BDA/lib/python3.9/site-packages/numpy/lib/nanfunctions.py:1216: RuntimeWarning: Mean of empty slice\n",
      "  return np.nanmean(a, axis, out=out, keepdims=keepdims)\n",
      "/Users/hermeschen/.pyenv/versions/miniconda3-latest/envs/BDA/lib/python3.9/site-packages/numpy/lib/nanfunctions.py:1216: RuntimeWarning: Mean of empty slice\n",
      "  return np.nanmean(a, axis, out=out, keepdims=keepdims)\n",
      "/Users/hermeschen/.pyenv/versions/miniconda3-latest/envs/BDA/lib/python3.9/site-packages/numpy/lib/nanfunctions.py:1216: RuntimeWarning: Mean of empty slice\n",
      "  return np.nanmean(a, axis, out=out, keepdims=keepdims)\n",
      "/Users/hermeschen/.pyenv/versions/miniconda3-latest/envs/BDA/lib/python3.9/site-packages/numpy/lib/nanfunctions.py:1216: RuntimeWarning: Mean of empty slice\n",
      "  return np.nanmean(a, axis, out=out, keepdims=keepdims)\n"
     ]
    }
   ],
   "source": [
    "dataset['WindDirec'] = dataset.groupby(['County', 'PublishYearAndMonth'])['WindDirec'].transform(\n",
    "  lambda group: group.fillna(group.median()))"
   ],
   "metadata": {
    "collapsed": false,
    "ExecuteTime": {
     "end_time": "2023-05-31T02:06:53.011360Z",
     "start_time": "2023-05-31T02:06:52.235997Z"
    }
   }
  },
  {
   "cell_type": "code",
   "execution_count": 86,
   "outputs": [],
   "source": [
    "dataset['SO2'] = dataset.groupby(['County', 'PublishYearAndMonth'])['SO2'].transform(\n",
    "  lambda group: group.fillna(group.median()))"
   ],
   "metadata": {
    "collapsed": false,
    "ExecuteTime": {
     "end_time": "2023-05-31T02:06:54.202478Z",
     "start_time": "2023-05-31T02:06:53.011761Z"
    }
   }
  },
  {
   "cell_type": "code",
   "execution_count": 87,
   "outputs": [
    {
     "data": {
      "text/plain": "SiteName               False\nCounty                 False\nAQI                    False\nPollutant               True\nStatus                  True\nSO2                    False\nCO                      True\nCO_8hr                  True\nO3                      True\nO3_8hr                  True\nPM10                    True\nPM10_AVG                True\nPM2.5                   True\nPM2.5_AVG               True\nNO2                     True\nNOx                     True\nNO                      True\nWindSpeed               True\nWindDirec               True\nPublishTime            False\nSO2_AVG                 True\nLongitude              False\nLatitude               False\nSiteId                 False\nPublishYearAndMonth    False\ndtype: bool"
     },
     "execution_count": 87,
     "metadata": {},
     "output_type": "execute_result"
    }
   ],
   "source": [
    "dataset.isnull().any()"
   ],
   "metadata": {
    "collapsed": false,
    "ExecuteTime": {
     "end_time": "2023-05-31T02:06:54.364455Z",
     "start_time": "2023-05-31T02:06:54.327112Z"
    }
   }
  },
  {
   "cell_type": "markdown",
   "source": [
    "# Data Analysis"
   ],
   "metadata": {
    "collapsed": false
   }
  },
  {
   "cell_type": "code",
   "execution_count": 88,
   "outputs": [
    {
     "ename": "ValueError",
     "evalue": "could not convert string to float: '菜寮'",
     "output_type": "error",
     "traceback": [
      "\u001B[0;31m---------------------------------------------------------------------------\u001B[0m",
      "\u001B[0;31mValueError\u001B[0m                                Traceback (most recent call last)",
      "Cell \u001B[0;32mIn[88], line 1\u001B[0m\n\u001B[0;32m----> 1\u001B[0m sb\u001B[38;5;241m.\u001B[39mheatmap(\u001B[43mdataset\u001B[49m\u001B[38;5;241;43m.\u001B[39;49m\u001B[43mcorr\u001B[49m\u001B[43m(\u001B[49m\u001B[43m)\u001B[49m, annot\u001B[38;5;241m=\u001B[39m\u001B[38;5;28;01mTrue\u001B[39;00m)\n",
      "File \u001B[0;32m~/.pyenv/versions/miniconda3-latest/envs/BDA/lib/python3.9/site-packages/pandas/core/frame.py:10059\u001B[0m, in \u001B[0;36mDataFrame.corr\u001B[0;34m(self, method, min_periods, numeric_only)\u001B[0m\n\u001B[1;32m  10057\u001B[0m cols \u001B[38;5;241m=\u001B[39m data\u001B[38;5;241m.\u001B[39mcolumns\n\u001B[1;32m  10058\u001B[0m idx \u001B[38;5;241m=\u001B[39m cols\u001B[38;5;241m.\u001B[39mcopy()\n\u001B[0;32m> 10059\u001B[0m mat \u001B[38;5;241m=\u001B[39m \u001B[43mdata\u001B[49m\u001B[38;5;241;43m.\u001B[39;49m\u001B[43mto_numpy\u001B[49m\u001B[43m(\u001B[49m\u001B[43mdtype\u001B[49m\u001B[38;5;241;43m=\u001B[39;49m\u001B[38;5;28;43mfloat\u001B[39;49m\u001B[43m,\u001B[49m\u001B[43m \u001B[49m\u001B[43mna_value\u001B[49m\u001B[38;5;241;43m=\u001B[39;49m\u001B[43mnp\u001B[49m\u001B[38;5;241;43m.\u001B[39;49m\u001B[43mnan\u001B[49m\u001B[43m,\u001B[49m\u001B[43m \u001B[49m\u001B[43mcopy\u001B[49m\u001B[38;5;241;43m=\u001B[39;49m\u001B[38;5;28;43;01mFalse\u001B[39;49;00m\u001B[43m)\u001B[49m\n\u001B[1;32m  10061\u001B[0m \u001B[38;5;28;01mif\u001B[39;00m method \u001B[38;5;241m==\u001B[39m \u001B[38;5;124m\"\u001B[39m\u001B[38;5;124mpearson\u001B[39m\u001B[38;5;124m\"\u001B[39m:\n\u001B[1;32m  10062\u001B[0m     correl \u001B[38;5;241m=\u001B[39m libalgos\u001B[38;5;241m.\u001B[39mnancorr(mat, minp\u001B[38;5;241m=\u001B[39mmin_periods)\n",
      "File \u001B[0;32m~/.pyenv/versions/miniconda3-latest/envs/BDA/lib/python3.9/site-packages/pandas/core/frame.py:1838\u001B[0m, in \u001B[0;36mDataFrame.to_numpy\u001B[0;34m(self, dtype, copy, na_value)\u001B[0m\n\u001B[1;32m   1836\u001B[0m \u001B[38;5;28;01mif\u001B[39;00m dtype \u001B[38;5;129;01mis\u001B[39;00m \u001B[38;5;129;01mnot\u001B[39;00m \u001B[38;5;28;01mNone\u001B[39;00m:\n\u001B[1;32m   1837\u001B[0m     dtype \u001B[38;5;241m=\u001B[39m np\u001B[38;5;241m.\u001B[39mdtype(dtype)\n\u001B[0;32m-> 1838\u001B[0m result \u001B[38;5;241m=\u001B[39m \u001B[38;5;28;43mself\u001B[39;49m\u001B[38;5;241;43m.\u001B[39;49m\u001B[43m_mgr\u001B[49m\u001B[38;5;241;43m.\u001B[39;49m\u001B[43mas_array\u001B[49m\u001B[43m(\u001B[49m\u001B[43mdtype\u001B[49m\u001B[38;5;241;43m=\u001B[39;49m\u001B[43mdtype\u001B[49m\u001B[43m,\u001B[49m\u001B[43m \u001B[49m\u001B[43mcopy\u001B[49m\u001B[38;5;241;43m=\u001B[39;49m\u001B[43mcopy\u001B[49m\u001B[43m,\u001B[49m\u001B[43m \u001B[49m\u001B[43mna_value\u001B[49m\u001B[38;5;241;43m=\u001B[39;49m\u001B[43mna_value\u001B[49m\u001B[43m)\u001B[49m\n\u001B[1;32m   1839\u001B[0m \u001B[38;5;28;01mif\u001B[39;00m result\u001B[38;5;241m.\u001B[39mdtype \u001B[38;5;129;01mis\u001B[39;00m \u001B[38;5;129;01mnot\u001B[39;00m dtype:\n\u001B[1;32m   1840\u001B[0m     result \u001B[38;5;241m=\u001B[39m np\u001B[38;5;241m.\u001B[39marray(result, dtype\u001B[38;5;241m=\u001B[39mdtype, copy\u001B[38;5;241m=\u001B[39m\u001B[38;5;28;01mFalse\u001B[39;00m)\n",
      "File \u001B[0;32m~/.pyenv/versions/miniconda3-latest/envs/BDA/lib/python3.9/site-packages/pandas/core/internals/managers.py:1732\u001B[0m, in \u001B[0;36mBlockManager.as_array\u001B[0;34m(self, dtype, copy, na_value)\u001B[0m\n\u001B[1;32m   1730\u001B[0m         arr\u001B[38;5;241m.\u001B[39mflags\u001B[38;5;241m.\u001B[39mwriteable \u001B[38;5;241m=\u001B[39m \u001B[38;5;28;01mFalse\u001B[39;00m\n\u001B[1;32m   1731\u001B[0m \u001B[38;5;28;01melse\u001B[39;00m:\n\u001B[0;32m-> 1732\u001B[0m     arr \u001B[38;5;241m=\u001B[39m \u001B[38;5;28;43mself\u001B[39;49m\u001B[38;5;241;43m.\u001B[39;49m\u001B[43m_interleave\u001B[49m\u001B[43m(\u001B[49m\u001B[43mdtype\u001B[49m\u001B[38;5;241;43m=\u001B[39;49m\u001B[43mdtype\u001B[49m\u001B[43m,\u001B[49m\u001B[43m \u001B[49m\u001B[43mna_value\u001B[49m\u001B[38;5;241;43m=\u001B[39;49m\u001B[43mna_value\u001B[49m\u001B[43m)\u001B[49m\n\u001B[1;32m   1733\u001B[0m     \u001B[38;5;66;03m# The underlying data was copied within _interleave, so no need\u001B[39;00m\n\u001B[1;32m   1734\u001B[0m     \u001B[38;5;66;03m# to further copy if copy=True or setting na_value\u001B[39;00m\n\u001B[1;32m   1736\u001B[0m \u001B[38;5;28;01mif\u001B[39;00m na_value \u001B[38;5;129;01mis\u001B[39;00m \u001B[38;5;129;01mnot\u001B[39;00m lib\u001B[38;5;241m.\u001B[39mno_default:\n",
      "File \u001B[0;32m~/.pyenv/versions/miniconda3-latest/envs/BDA/lib/python3.9/site-packages/pandas/core/internals/managers.py:1794\u001B[0m, in \u001B[0;36mBlockManager._interleave\u001B[0;34m(self, dtype, na_value)\u001B[0m\n\u001B[1;32m   1792\u001B[0m     \u001B[38;5;28;01melse\u001B[39;00m:\n\u001B[1;32m   1793\u001B[0m         arr \u001B[38;5;241m=\u001B[39m blk\u001B[38;5;241m.\u001B[39mget_values(dtype)\n\u001B[0;32m-> 1794\u001B[0m     \u001B[43mresult\u001B[49m\u001B[43m[\u001B[49m\u001B[43mrl\u001B[49m\u001B[38;5;241;43m.\u001B[39;49m\u001B[43mindexer\u001B[49m\u001B[43m]\u001B[49m \u001B[38;5;241m=\u001B[39m arr\n\u001B[1;32m   1795\u001B[0m     itemmask[rl\u001B[38;5;241m.\u001B[39mindexer] \u001B[38;5;241m=\u001B[39m \u001B[38;5;241m1\u001B[39m\n\u001B[1;32m   1797\u001B[0m \u001B[38;5;28;01mif\u001B[39;00m \u001B[38;5;129;01mnot\u001B[39;00m itemmask\u001B[38;5;241m.\u001B[39mall():\n",
      "\u001B[0;31mValueError\u001B[0m: could not convert string to float: '菜寮'"
     ]
    }
   ],
   "source": [
    "sb.heatmap(dataset.corr(), annot=True)"
   ],
   "metadata": {
    "collapsed": false,
    "ExecuteTime": {
     "end_time": "2023-05-31T02:06:54.437561Z",
     "start_time": "2023-05-31T02:06:54.370108Z"
    }
   }
  },
  {
   "cell_type": "code",
   "execution_count": null,
   "outputs": [],
   "source": [],
   "metadata": {
    "collapsed": false
   }
  },
  {
   "cell_type": "markdown",
   "source": [],
   "metadata": {
    "collapsed": false
   }
  }
 ],
 "metadata": {
  "kernelspec": {
   "display_name": "Python 3",
   "language": "python",
   "name": "python3"
  },
  "language_info": {
   "codemirror_mode": {
    "name": "ipython",
    "version": 2
   },
   "file_extension": ".py",
   "mimetype": "text/x-python",
   "name": "python",
   "nbconvert_exporter": "python",
   "pygments_lexer": "ipython2",
   "version": "2.7.6"
  }
 },
 "nbformat": 4,
 "nbformat_minor": 0
}
