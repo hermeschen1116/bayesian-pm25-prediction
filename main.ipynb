{
 "cells": [
  {
   "cell_type": "code",
   "execution_count": 64,
   "metadata": {
    "collapsed": true,
    "ExecuteTime": {
     "end_time": "2023-05-31T12:29:11.880974Z",
     "start_time": "2023-05-31T12:29:11.477549Z"
    }
   },
   "outputs": [],
   "source": [
    "import polars as ps\n",
    "import pymc3 as pm\n",
    "import matplotlib.pyplot as plt\n",
    "import seaborn as sb\n",
    "from theano import shared, tensor\n",
    "import arviz as az"
   ]
  },
  {
   "cell_type": "code",
   "execution_count": 65,
   "outputs": [],
   "source": [
    "type_map: list = [ps.Int32, ps.Datetime, ps.Int32, ps.Int32, ps.Int32, ps.Float32, ps.Float32, ps.Float32, ps.Float32,\n",
    "                  ps.Float32, ps.Float32, ps.Float32, ps.Float32, ps.Float32, ps.Float32, ps.Float32, ps.Int32,\n",
    "                  ps.Float32, ps.Float32, ps.Float32]"
   ],
   "metadata": {
    "collapsed": false,
    "ExecuteTime": {
     "end_time": "2023-05-31T12:29:11.884386Z",
     "start_time": "2023-05-31T12:29:11.500461Z"
    }
   }
  },
  {
   "cell_type": "code",
   "execution_count": 66,
   "outputs": [],
   "source": [
    "dataset: ps.DataFrame = ps.read_csv('full_dataset.csv', dtypes=type_map, encoding='utf8', n_threads=8, use_pyarrow=True)"
   ],
   "metadata": {
    "collapsed": false,
    "ExecuteTime": {
     "end_time": "2023-05-31T12:29:13.099779Z",
     "start_time": "2023-05-31T12:29:11.528339Z"
    }
   }
  },
  {
   "cell_type": "code",
   "execution_count": 67,
   "outputs": [
    {
     "data": {
      "text/plain": "shape: (5, 20)\n┌────────┬─────────────────────┬─────┬───────────┬───┬───────────┬───────────┬───────┬───────────┐\n│ SiteId ┆ PublishTime         ┆ AQI ┆ Pollutant ┆ … ┆ WindDirec ┆ WindSpeed ┆ PM2.5 ┆ PM2.5_AVG │\n│ ---    ┆ ---                 ┆ --- ┆ ---       ┆   ┆ ---       ┆ ---       ┆ ---   ┆ ---       │\n│ i32    ┆ datetime[μs]        ┆ i32 ┆ i32       ┆   ┆ i32       ┆ f32       ┆ f32   ┆ f32       │\n╞════════╪═════════════════════╪═════╪═══════════╪═══╪═══════════╪═══════════╪═══════╪═══════════╡\n│ 67     ┆ 2022-06-01 00:00:00 ┆ 43  ┆ 1         ┆ … ┆ 188       ┆ 1.7       ┆ 5.0   ┆ 8.0       │\n│ 43     ┆ 2022-06-01 01:00:00 ┆ 20  ┆ 0         ┆ … ┆ 215       ┆ 1.3       ┆ 5.0   ┆ 5.0       │\n│ 27     ┆ 2022-06-01 03:00:00 ┆ 18  ┆ 0         ┆ … ┆ 190       ┆ 2.1       ┆ 8.0   ┆ 5.0       │\n│ 67     ┆ 2022-06-01 05:00:00 ┆ 19  ┆ 1         ┆ … ┆ 188       ┆ 1.7       ┆ 3.0   ┆ 5.0       │\n│ 16     ┆ 2022-06-01 06:00:00 ┆ 26  ┆ 1         ┆ … ┆ 168       ┆ 1.2       ┆ 8.0   ┆ 8.0       │\n└────────┴─────────────────────┴─────┴───────────┴───┴───────────┴───────────┴───────┴───────────┘",
      "text/html": "<div><style>\n.dataframe > thead > tr > th,\n.dataframe > tbody > tr > td {\n  text-align: right;\n}\n</style>\n<small>shape: (5, 20)</small><table border=\"1\" class=\"dataframe\"><thead><tr><th>SiteId</th><th>PublishTime</th><th>AQI</th><th>Pollutant</th><th>Status</th><th>SO2</th><th>SO2_AVG</th><th>CO</th><th>CO_8hr</th><th>O3</th><th>O3_8hr</th><th>PM10</th><th>PM10_AVG</th><th>NO</th><th>NO2</th><th>NOx</th><th>WindDirec</th><th>WindSpeed</th><th>PM2.5</th><th>PM2.5_AVG</th></tr><tr><td>i32</td><td>datetime[μs]</td><td>i32</td><td>i32</td><td>i32</td><td>f32</td><td>f32</td><td>f32</td><td>f32</td><td>f32</td><td>f32</td><td>f32</td><td>f32</td><td>f32</td><td>f32</td><td>f32</td><td>i32</td><td>f32</td><td>f32</td><td>f32</td></tr></thead><tbody><tr><td>67</td><td>2022-06-01 00:00:00</td><td>43</td><td>1</td><td>0</td><td>0.5</td><td>0.0</td><td>1.0</td><td>1.4</td><td>0.3</td><td>1.5</td><td>8.0</td><td>14.0</td><td>25.5</td><td>26.9</td><td>52.400002</td><td>188</td><td>1.7</td><td>5.0</td><td>8.0</td></tr><tr><td>43</td><td>2022-06-01 01:00:00</td><td>20</td><td>0</td><td>0</td><td>0.6</td><td>0.0</td><td>0.2</td><td>0.1</td><td>11.2</td><td>14.9</td><td>23.0</td><td>20.0</td><td>0.7</td><td>5.9</td><td>6.6</td><td>215</td><td>1.3</td><td>5.0</td><td>5.0</td></tr><tr><td>27</td><td>2022-06-01 03:00:00</td><td>18</td><td>0</td><td>0</td><td>0.9</td><td>1.0</td><td>0.1</td><td>0.1</td><td>12.4</td><td>16.799999</td><td>23.0</td><td>17.0</td><td>0.0</td><td>2.9</td><td>2.9</td><td>190</td><td>2.1</td><td>8.0</td><td>5.0</td></tr><tr><td>67</td><td>2022-06-01 05:00:00</td><td>19</td><td>1</td><td>0</td><td>0.4</td><td>0.0</td><td>0.4</td><td>0.8</td><td>4.9</td><td>1.9</td><td>18.0</td><td>15.0</td><td>13.0</td><td>10.2</td><td>23.299999</td><td>188</td><td>1.7</td><td>3.0</td><td>5.0</td></tr><tr><td>16</td><td>2022-06-01 06:00:00</td><td>26</td><td>1</td><td>0</td><td>0.6</td><td>0.0</td><td>0.5</td><td>1.0</td><td>2.9</td><td>1.9</td><td>21.0</td><td>18.0</td><td>5.5</td><td>9.6</td><td>15.1</td><td>168</td><td>1.2</td><td>8.0</td><td>8.0</td></tr></tbody></table></div>"
     },
     "execution_count": 67,
     "metadata": {},
     "output_type": "execute_result"
    }
   ],
   "source": [
    "dataset.head()"
   ],
   "metadata": {
    "collapsed": false,
    "ExecuteTime": {
     "end_time": "2023-05-31T12:29:13.189490Z",
     "start_time": "2023-05-31T12:29:13.130364Z"
    }
   }
  },
  {
   "cell_type": "markdown",
   "source": [
    "# Features"
   ],
   "metadata": {
    "collapsed": false
   }
  },
  {
   "cell_type": "code",
   "execution_count": 68,
   "outputs": [],
   "source": [
    "features: list = ['AQI', 'Status', 'PM10', 'PM10_AVG', 'PM2.5_AVG']"
   ],
   "metadata": {
    "collapsed": false,
    "ExecuteTime": {
     "end_time": "2023-05-31T12:29:13.189973Z",
     "start_time": "2023-05-31T12:29:13.157208Z"
    }
   }
  },
  {
   "cell_type": "code",
   "execution_count": 69,
   "outputs": [],
   "source": [
    "variables: list = [shared(dataset[feature].to_numpy(writable=True)) for feature in features]"
   ],
   "metadata": {
    "collapsed": false,
    "ExecuteTime": {
     "end_time": "2023-05-31T12:29:13.528876Z",
     "start_time": "2023-05-31T12:29:13.157671Z"
    }
   }
  },
  {
   "cell_type": "code",
   "execution_count": 70,
   "outputs": [],
   "source": [
    "target = dataset['PM2.5'].to_numpy(writable=True)"
   ],
   "metadata": {
    "collapsed": false,
    "ExecuteTime": {
     "end_time": "2023-05-31T12:29:13.529404Z",
     "start_time": "2023-05-31T12:29:13.308996Z"
    }
   }
  },
  {
   "cell_type": "markdown",
   "source": [
    "# Model"
   ],
   "metadata": {
    "collapsed": false
   }
  },
  {
   "cell_type": "code",
   "execution_count": 71,
   "outputs": [
    {
     "name": "stdout",
     "output_type": "stream",
     "text": [
      "\n",
      "You can find the C code in this temporary file: /var/folders/vv/93wphtyn4w15b8hssz_f1c500000gn/T/theano_compilation_error__2ijm2ht\n",
      "library atest/envs/BDA/include/python3.9/Python.h:27:5: is not found.\n",
      "library atest/envs/BDA/include/python3.9/Python.h:30: is not found.\n",
      "library atest/envs/BDA/bin/../include/c++/v1/string.h:95:102: is not found.\n",
      "library atest/envs/BDA/bin/../include/c++/v1/string.h:98:90: is not found.\n",
      "library atest/envs/BDA/include/python3.9/Python.h:34: is not found.\n",
      "library atest/envs/BDA/bin/../include/c++/v1/stdlib.h:150:34: is not found.\n",
      "library atest/envs/BDA/bin/../include/c++/v1/stdlib.h:151:12: is not found.\n",
      "library atest/envs/BDA/bin/../include/c++/v1/stdlib.h:154:34: is not found.\n",
      "library atest/envs/BDA/bin/../include/c++/v1/stdlib.h:156:12: is not found.\n",
      "library atest/envs/BDA/include/python3.9/Python.h:36:10: is not found.\n"
     ]
    },
    {
     "ename": "Exception",
     "evalue": "('Compilation failed (return status=1): In file included from /Users/hermeschen/.theano/compiledir_macOS-13.5-x86_64-i386-64bit-i386-3.9.16-64/tmpe5g7p5r4/mod.cpp:1:. /Users/hermeschen/.pyenv/versions/miniconda3-latest/envs/BDA/include/python3.9/Python.h:27:5: error: \"Python.h requires that stdio.h define NULL.\". #   error \"Python.h requires that stdio.h define NULL.\".     ^. In file included from /Users/hermeschen/.theano/compiledir_macOS-13.5-x86_64-i386-64bit-i386-3.9.16-64/tmpe5g7p5r4/mod.cpp:1:. In file included from /Users/hermeschen/.pyenv/versions/miniconda3-latest/envs/BDA/include/python3.9/Python.h:30:. /Users/hermeschen/.pyenv/versions/miniconda3-latest/envs/BDA/bin/../include/c++/v1/string.h:95:102: error: unknown type name \\'size_t\\'. inline _LIBCPP_HIDE_FROM_ABI _LIBCPP_PREFERRED_OVERLOAD const void* memchr(const void* __s, int __c, size_t __n) {.                                                                                                      ^. /Users/hermeschen/.pyenv/versions/miniconda3-latest/envs/BDA/bin/../include/c++/v1/string.h:98:90: error: unknown type name \\'size_t\\'. inline _LIBCPP_HIDE_FROM_ABI _LIBCPP_PREFERRED_OVERLOAD void* memchr(void* __s, int __c, size_t __n) {.                                                                                          ^. In file included from /Users/hermeschen/.theano/compiledir_macOS-13.5-x86_64-i386-64bit-i386-3.9.16-64/tmpe5g7p5r4/mod.cpp:1:. In file included from /Users/hermeschen/.pyenv/versions/miniconda3-latest/envs/BDA/include/python3.9/Python.h:34:. /Users/hermeschen/.pyenv/versions/miniconda3-latest/envs/BDA/bin/../include/c++/v1/stdlib.h:150:34: error: unknown type name \\'ldiv_t\\'. inline _LIBCPP_INLINE_VISIBILITY ldiv_t div(long __x, long __y) _NOEXCEPT {.                                  ^. /Users/hermeschen/.pyenv/versions/miniconda3-latest/envs/BDA/bin/../include/c++/v1/stdlib.h:151:12: error: no member named \\'ldiv\\' in the global namespace.   return ::ldiv(__x, __y);.          ~~^. /Users/hermeschen/.pyenv/versions/miniconda3-latest/envs/BDA/bin/../include/c++/v1/stdlib.h:154:34: error: unknown type name \\'lldiv_t\\'. inline _LIBCPP_INLINE_VISIBILITY lldiv_t div(long long __x,.                                  ^. /Users/hermeschen/.pyenv/versions/miniconda3-latest/envs/BDA/bin/../include/c++/v1/stdlib.h:156:12: error: no member named \\'lldiv\\' in the global namespace.   return ::lldiv(__x, __y);.          ~~^. In file included from /Users/hermeschen/.theano/compiledir_macOS-13.5-x86_64-i386-64bit-i386-3.9.16-64/tmpe5g7p5r4/mod.cpp:1:. /Users/hermeschen/.pyenv/versions/miniconda3-latest/envs/BDA/include/python3.9/Python.h:36:10: fatal error: \\'unistd.h\\' file not found. #include <unistd.h>.          ^~~~~~~~~~. 8 errors generated.. ', 'FunctionGraph(Elemwise{true_div,no_inplace}(TensorConstant{1.0}, TensorConstant{0.01}))')",
     "output_type": "error",
     "traceback": [
      "\u001B[0;31m---------------------------------------------------------------------------\u001B[0m",
      "\u001B[0;31mException\u001B[0m                                 Traceback (most recent call last)",
      "Cell \u001B[0;32mIn[71], line 2\u001B[0m\n\u001B[1;32m      1\u001B[0m \u001B[38;5;28;01mwith\u001B[39;00m pm\u001B[38;5;241m.\u001B[39mModel() \u001B[38;5;28;01mas\u001B[39;00m predictor:\n\u001B[0;32m----> 2\u001B[0m     intercept \u001B[38;5;241m=\u001B[39m \u001B[43mpm\u001B[49m\u001B[38;5;241;43m.\u001B[39;49m\u001B[43mNormal\u001B[49m\u001B[43m(\u001B[49m\u001B[43mname\u001B[49m\u001B[38;5;241;43m=\u001B[39;49m\u001B[38;5;124;43m'\u001B[39;49m\u001B[38;5;124;43mintercept\u001B[39;49m\u001B[38;5;124;43m'\u001B[39;49m\u001B[43m,\u001B[49m\u001B[43m \u001B[49m\u001B[43mmu\u001B[49m\u001B[38;5;241;43m=\u001B[39;49m\u001B[38;5;241;43m0\u001B[39;49m\u001B[43m,\u001B[49m\u001B[43m \u001B[49m\u001B[43msd\u001B[49m\u001B[38;5;241;43m=\u001B[39;49m\u001B[38;5;241;43m10\u001B[39;49m\u001B[43m)\u001B[49m\n\u001B[1;32m      3\u001B[0m     coefficients: \u001B[38;5;28mlist\u001B[39m \u001B[38;5;241m=\u001B[39m [pm\u001B[38;5;241m.\u001B[39mNormal(name\u001B[38;5;241m=\u001B[39m\u001B[38;5;124m'\u001B[39m\u001B[38;5;124mcoefficient\u001B[39m\u001B[38;5;132;01m{}\u001B[39;00m\u001B[38;5;124m'\u001B[39m\u001B[38;5;241m.\u001B[39mformat(i), mu\u001B[38;5;241m=\u001B[39m\u001B[38;5;241m0\u001B[39m, sd\u001B[38;5;241m=\u001B[39m\u001B[38;5;241m10\u001B[39m) \u001B[38;5;28;01mfor\u001B[39;00m i \u001B[38;5;129;01min\u001B[39;00m \u001B[38;5;28mrange\u001B[39m(\u001B[38;5;241m5\u001B[39m)]\n\u001B[1;32m      4\u001B[0m     error \u001B[38;5;241m=\u001B[39m pm\u001B[38;5;241m.\u001B[39mHalfNormal(name\u001B[38;5;241m=\u001B[39m\u001B[38;5;124m'\u001B[39m\u001B[38;5;124merror\u001B[39m\u001B[38;5;124m'\u001B[39m, sd\u001B[38;5;241m=\u001B[39m\u001B[38;5;241m1\u001B[39m)\n",
      "File \u001B[0;32m~/.pyenv/versions/miniconda3-latest/envs/BDA/lib/python3.9/site-packages/pymc3/distributions/distribution.py:124\u001B[0m, in \u001B[0;36mDistribution.__new__\u001B[0;34m(cls, name, *args, **kwargs)\u001B[0m\n\u001B[1;32m    122\u001B[0m     dist \u001B[38;5;241m=\u001B[39m \u001B[38;5;28mcls\u001B[39m\u001B[38;5;241m.\u001B[39mdist(\u001B[38;5;241m*\u001B[39margs, \u001B[38;5;241m*\u001B[39m\u001B[38;5;241m*\u001B[39mkwargs, shape\u001B[38;5;241m=\u001B[39mshape)\n\u001B[1;32m    123\u001B[0m \u001B[38;5;28;01melse\u001B[39;00m:\n\u001B[0;32m--> 124\u001B[0m     dist \u001B[38;5;241m=\u001B[39m \u001B[38;5;28;43mcls\u001B[39;49m\u001B[38;5;241;43m.\u001B[39;49m\u001B[43mdist\u001B[49m\u001B[43m(\u001B[49m\u001B[38;5;241;43m*\u001B[39;49m\u001B[43margs\u001B[49m\u001B[43m,\u001B[49m\u001B[43m \u001B[49m\u001B[38;5;241;43m*\u001B[39;49m\u001B[38;5;241;43m*\u001B[39;49m\u001B[43mkwargs\u001B[49m\u001B[43m)\u001B[49m\n\u001B[1;32m    125\u001B[0m \u001B[38;5;28;01mreturn\u001B[39;00m model\u001B[38;5;241m.\u001B[39mVar(name, dist, data, total_size, dims\u001B[38;5;241m=\u001B[39mdims)\n",
      "File \u001B[0;32m~/.pyenv/versions/miniconda3-latest/envs/BDA/lib/python3.9/site-packages/pymc3/distributions/distribution.py:133\u001B[0m, in \u001B[0;36mDistribution.dist\u001B[0;34m(cls, *args, **kwargs)\u001B[0m\n\u001B[1;32m    130\u001B[0m \u001B[38;5;129m@classmethod\u001B[39m\n\u001B[1;32m    131\u001B[0m \u001B[38;5;28;01mdef\u001B[39;00m \u001B[38;5;21mdist\u001B[39m(\u001B[38;5;28mcls\u001B[39m, \u001B[38;5;241m*\u001B[39margs, \u001B[38;5;241m*\u001B[39m\u001B[38;5;241m*\u001B[39mkwargs):\n\u001B[1;32m    132\u001B[0m     dist \u001B[38;5;241m=\u001B[39m \u001B[38;5;28mobject\u001B[39m\u001B[38;5;241m.\u001B[39m\u001B[38;5;21m__new__\u001B[39m(\u001B[38;5;28mcls\u001B[39m)\n\u001B[0;32m--> 133\u001B[0m     \u001B[43mdist\u001B[49m\u001B[38;5;241;43m.\u001B[39;49m\u001B[38;5;21;43m__init__\u001B[39;49m\u001B[43m(\u001B[49m\u001B[38;5;241;43m*\u001B[39;49m\u001B[43margs\u001B[49m\u001B[43m,\u001B[49m\u001B[43m \u001B[49m\u001B[38;5;241;43m*\u001B[39;49m\u001B[38;5;241;43m*\u001B[39;49m\u001B[43mkwargs\u001B[49m\u001B[43m)\u001B[49m\n\u001B[1;32m    134\u001B[0m     \u001B[38;5;28;01mreturn\u001B[39;00m dist\n",
      "File \u001B[0;32m~/.pyenv/versions/miniconda3-latest/envs/BDA/lib/python3.9/site-packages/pymc3/distributions/continuous.py:488\u001B[0m, in \u001B[0;36mNormal.__init__\u001B[0;34m(self, mu, sigma, tau, sd, **kwargs)\u001B[0m\n\u001B[1;32m    485\u001B[0m \u001B[38;5;28mself\u001B[39m\u001B[38;5;241m.\u001B[39mtau \u001B[38;5;241m=\u001B[39m tt\u001B[38;5;241m.\u001B[39mas_tensor_variable(tau)\n\u001B[1;32m    487\u001B[0m \u001B[38;5;28mself\u001B[39m\u001B[38;5;241m.\u001B[39mmean \u001B[38;5;241m=\u001B[39m \u001B[38;5;28mself\u001B[39m\u001B[38;5;241m.\u001B[39mmedian \u001B[38;5;241m=\u001B[39m \u001B[38;5;28mself\u001B[39m\u001B[38;5;241m.\u001B[39mmode \u001B[38;5;241m=\u001B[39m \u001B[38;5;28mself\u001B[39m\u001B[38;5;241m.\u001B[39mmu \u001B[38;5;241m=\u001B[39m mu \u001B[38;5;241m=\u001B[39m tt\u001B[38;5;241m.\u001B[39mas_tensor_variable(floatX(mu))\n\u001B[0;32m--> 488\u001B[0m \u001B[38;5;28mself\u001B[39m\u001B[38;5;241m.\u001B[39mvariance \u001B[38;5;241m=\u001B[39m \u001B[38;5;241;43m1.0\u001B[39;49m\u001B[43m \u001B[49m\u001B[38;5;241;43m/\u001B[39;49m\u001B[43m \u001B[49m\u001B[38;5;28;43mself\u001B[39;49m\u001B[38;5;241;43m.\u001B[39;49m\u001B[43mtau\u001B[49m\n\u001B[1;32m    490\u001B[0m assert_negative_support(sigma, \u001B[38;5;124m\"\u001B[39m\u001B[38;5;124msigma\u001B[39m\u001B[38;5;124m\"\u001B[39m, \u001B[38;5;124m\"\u001B[39m\u001B[38;5;124mNormal\u001B[39m\u001B[38;5;124m\"\u001B[39m)\n\u001B[1;32m    491\u001B[0m assert_negative_support(tau, \u001B[38;5;124m\"\u001B[39m\u001B[38;5;124mtau\u001B[39m\u001B[38;5;124m\"\u001B[39m, \u001B[38;5;124m\"\u001B[39m\u001B[38;5;124mNormal\u001B[39m\u001B[38;5;124m\"\u001B[39m)\n",
      "File \u001B[0;32m~/.pyenv/versions/miniconda3-latest/envs/BDA/lib/python3.9/site-packages/theano/tensor/var.py:176\u001B[0m, in \u001B[0;36m_tensor_py_operators.__rtruediv__\u001B[0;34m(self, other)\u001B[0m\n\u001B[1;32m    175\u001B[0m \u001B[38;5;28;01mdef\u001B[39;00m \u001B[38;5;21m__rtruediv__\u001B[39m(\u001B[38;5;28mself\u001B[39m, other):\n\u001B[0;32m--> 176\u001B[0m     \u001B[38;5;28;01mreturn\u001B[39;00m \u001B[43mtheano\u001B[49m\u001B[38;5;241;43m.\u001B[39;49m\u001B[43mtensor\u001B[49m\u001B[38;5;241;43m.\u001B[39;49m\u001B[43mbasic\u001B[49m\u001B[38;5;241;43m.\u001B[39;49m\u001B[43mtrue_div\u001B[49m\u001B[43m(\u001B[49m\u001B[43mother\u001B[49m\u001B[43m,\u001B[49m\u001B[43m \u001B[49m\u001B[38;5;28;43mself\u001B[39;49m\u001B[43m)\u001B[49m\n",
      "File \u001B[0;32m~/.pyenv/versions/miniconda3-latest/envs/BDA/lib/python3.9/site-packages/theano/graph/op.py:253\u001B[0m, in \u001B[0;36mOp.__call__\u001B[0;34m(self, *inputs, **kwargs)\u001B[0m\n\u001B[1;32m    250\u001B[0m node \u001B[38;5;241m=\u001B[39m \u001B[38;5;28mself\u001B[39m\u001B[38;5;241m.\u001B[39mmake_node(\u001B[38;5;241m*\u001B[39minputs, \u001B[38;5;241m*\u001B[39m\u001B[38;5;241m*\u001B[39mkwargs)\n\u001B[1;32m    252\u001B[0m \u001B[38;5;28;01mif\u001B[39;00m config\u001B[38;5;241m.\u001B[39mcompute_test_value \u001B[38;5;241m!=\u001B[39m \u001B[38;5;124m\"\u001B[39m\u001B[38;5;124moff\u001B[39m\u001B[38;5;124m\"\u001B[39m:\n\u001B[0;32m--> 253\u001B[0m     \u001B[43mcompute_test_value\u001B[49m\u001B[43m(\u001B[49m\u001B[43mnode\u001B[49m\u001B[43m)\u001B[49m\n\u001B[1;32m    255\u001B[0m \u001B[38;5;28;01mif\u001B[39;00m \u001B[38;5;28mself\u001B[39m\u001B[38;5;241m.\u001B[39mdefault_output \u001B[38;5;129;01mis\u001B[39;00m \u001B[38;5;129;01mnot\u001B[39;00m \u001B[38;5;28;01mNone\u001B[39;00m:\n\u001B[1;32m    256\u001B[0m     rval \u001B[38;5;241m=\u001B[39m node\u001B[38;5;241m.\u001B[39moutputs[\u001B[38;5;28mself\u001B[39m\u001B[38;5;241m.\u001B[39mdefault_output]\n",
      "File \u001B[0;32m~/.pyenv/versions/miniconda3-latest/envs/BDA/lib/python3.9/site-packages/theano/graph/op.py:126\u001B[0m, in \u001B[0;36mcompute_test_value\u001B[0;34m(node)\u001B[0m\n\u001B[1;32m    123\u001B[0m     compute_map[o] \u001B[38;5;241m=\u001B[39m [\u001B[38;5;28;01mFalse\u001B[39;00m]\n\u001B[1;32m    125\u001B[0m \u001B[38;5;66;03m# Create a thunk that performs the computation\u001B[39;00m\n\u001B[0;32m--> 126\u001B[0m thunk \u001B[38;5;241m=\u001B[39m \u001B[43mnode\u001B[49m\u001B[38;5;241;43m.\u001B[39;49m\u001B[43mop\u001B[49m\u001B[38;5;241;43m.\u001B[39;49m\u001B[43mmake_thunk\u001B[49m\u001B[43m(\u001B[49m\u001B[43mnode\u001B[49m\u001B[43m,\u001B[49m\u001B[43m \u001B[49m\u001B[43mstorage_map\u001B[49m\u001B[43m,\u001B[49m\u001B[43m \u001B[49m\u001B[43mcompute_map\u001B[49m\u001B[43m,\u001B[49m\u001B[43m \u001B[49m\u001B[43mno_recycling\u001B[49m\u001B[38;5;241;43m=\u001B[39;49m\u001B[43m[\u001B[49m\u001B[43m]\u001B[49m\u001B[43m)\u001B[49m\n\u001B[1;32m    127\u001B[0m thunk\u001B[38;5;241m.\u001B[39minputs \u001B[38;5;241m=\u001B[39m [storage_map[v] \u001B[38;5;28;01mfor\u001B[39;00m v \u001B[38;5;129;01min\u001B[39;00m node\u001B[38;5;241m.\u001B[39minputs]\n\u001B[1;32m    128\u001B[0m thunk\u001B[38;5;241m.\u001B[39moutputs \u001B[38;5;241m=\u001B[39m [storage_map[v] \u001B[38;5;28;01mfor\u001B[39;00m v \u001B[38;5;129;01min\u001B[39;00m node\u001B[38;5;241m.\u001B[39moutputs]\n",
      "File \u001B[0;32m~/.pyenv/versions/miniconda3-latest/envs/BDA/lib/python3.9/site-packages/theano/graph/op.py:634\u001B[0m, in \u001B[0;36mCOp.make_thunk\u001B[0;34m(self, node, storage_map, compute_map, no_recycling, impl)\u001B[0m\n\u001B[1;32m    630\u001B[0m \u001B[38;5;28mself\u001B[39m\u001B[38;5;241m.\u001B[39mprepare_node(\n\u001B[1;32m    631\u001B[0m     node, storage_map\u001B[38;5;241m=\u001B[39mstorage_map, compute_map\u001B[38;5;241m=\u001B[39mcompute_map, impl\u001B[38;5;241m=\u001B[39m\u001B[38;5;124m\"\u001B[39m\u001B[38;5;124mc\u001B[39m\u001B[38;5;124m\"\u001B[39m\n\u001B[1;32m    632\u001B[0m )\n\u001B[1;32m    633\u001B[0m \u001B[38;5;28;01mtry\u001B[39;00m:\n\u001B[0;32m--> 634\u001B[0m     \u001B[38;5;28;01mreturn\u001B[39;00m \u001B[38;5;28;43mself\u001B[39;49m\u001B[38;5;241;43m.\u001B[39;49m\u001B[43mmake_c_thunk\u001B[49m\u001B[43m(\u001B[49m\u001B[43mnode\u001B[49m\u001B[43m,\u001B[49m\u001B[43m \u001B[49m\u001B[43mstorage_map\u001B[49m\u001B[43m,\u001B[49m\u001B[43m \u001B[49m\u001B[43mcompute_map\u001B[49m\u001B[43m,\u001B[49m\u001B[43m \u001B[49m\u001B[43mno_recycling\u001B[49m\u001B[43m)\u001B[49m\n\u001B[1;32m    635\u001B[0m \u001B[38;5;28;01mexcept\u001B[39;00m (\u001B[38;5;167;01mNotImplementedError\u001B[39;00m, MethodNotDefined):\n\u001B[1;32m    636\u001B[0m     \u001B[38;5;66;03m# We requested the c code, so don't catch the error.\u001B[39;00m\n\u001B[1;32m    637\u001B[0m     \u001B[38;5;28;01mif\u001B[39;00m impl \u001B[38;5;241m==\u001B[39m \u001B[38;5;124m\"\u001B[39m\u001B[38;5;124mc\u001B[39m\u001B[38;5;124m\"\u001B[39m:\n",
      "File \u001B[0;32m~/.pyenv/versions/miniconda3-latest/envs/BDA/lib/python3.9/site-packages/theano/graph/op.py:600\u001B[0m, in \u001B[0;36mCOp.make_c_thunk\u001B[0;34m(self, node, storage_map, compute_map, no_recycling)\u001B[0m\n\u001B[1;32m    598\u001B[0m         \u001B[38;5;28mprint\u001B[39m(\u001B[38;5;124mf\u001B[39m\u001B[38;5;124m\"\u001B[39m\u001B[38;5;124mDisabling C code for \u001B[39m\u001B[38;5;132;01m{\u001B[39;00m\u001B[38;5;28mself\u001B[39m\u001B[38;5;132;01m}\u001B[39;00m\u001B[38;5;124m due to unsupported float16\u001B[39m\u001B[38;5;124m\"\u001B[39m)\n\u001B[1;32m    599\u001B[0m         \u001B[38;5;28;01mraise\u001B[39;00m \u001B[38;5;167;01mNotImplementedError\u001B[39;00m(\u001B[38;5;124m\"\u001B[39m\u001B[38;5;124mfloat16\u001B[39m\u001B[38;5;124m\"\u001B[39m)\n\u001B[0;32m--> 600\u001B[0m outputs \u001B[38;5;241m=\u001B[39m \u001B[43mcl\u001B[49m\u001B[38;5;241;43m.\u001B[39;49m\u001B[43mmake_thunk\u001B[49m\u001B[43m(\u001B[49m\n\u001B[1;32m    601\u001B[0m \u001B[43m    \u001B[49m\u001B[43minput_storage\u001B[49m\u001B[38;5;241;43m=\u001B[39;49m\u001B[43mnode_input_storage\u001B[49m\u001B[43m,\u001B[49m\u001B[43m \u001B[49m\u001B[43moutput_storage\u001B[49m\u001B[38;5;241;43m=\u001B[39;49m\u001B[43mnode_output_storage\u001B[49m\n\u001B[1;32m    602\u001B[0m \u001B[43m\u001B[49m\u001B[43m)\u001B[49m\n\u001B[1;32m    603\u001B[0m thunk, node_input_filters, node_output_filters \u001B[38;5;241m=\u001B[39m outputs\n\u001B[1;32m    605\u001B[0m \u001B[38;5;28;01mdef\u001B[39;00m \u001B[38;5;21mrval\u001B[39m():\n",
      "File \u001B[0;32m~/.pyenv/versions/miniconda3-latest/envs/BDA/lib/python3.9/site-packages/theano/link/c/basic.py:1203\u001B[0m, in \u001B[0;36mCLinker.make_thunk\u001B[0;34m(self, input_storage, output_storage, storage_map)\u001B[0m\n\u001B[1;32m   1175\u001B[0m \u001B[38;5;250m\u001B[39m\u001B[38;5;124;03m\"\"\"\u001B[39;00m\n\u001B[1;32m   1176\u001B[0m \u001B[38;5;124;03mCompiles this linker's fgraph and returns a function to perform the\u001B[39;00m\n\u001B[1;32m   1177\u001B[0m \u001B[38;5;124;03mcomputations, as well as lists of storage cells for both the inputs\u001B[39;00m\n\u001B[0;32m   (...)\u001B[0m\n\u001B[1;32m   1200\u001B[0m \u001B[38;5;124;03m  first_output = ostor[0].data\u001B[39;00m\n\u001B[1;32m   1201\u001B[0m \u001B[38;5;124;03m\"\"\"\u001B[39;00m\n\u001B[1;32m   1202\u001B[0m init_tasks, tasks \u001B[38;5;241m=\u001B[39m \u001B[38;5;28mself\u001B[39m\u001B[38;5;241m.\u001B[39mget_init_tasks()\n\u001B[0;32m-> 1203\u001B[0m cthunk, module, in_storage, out_storage, error_storage \u001B[38;5;241m=\u001B[39m \u001B[38;5;28;43mself\u001B[39;49m\u001B[38;5;241;43m.\u001B[39;49m\u001B[43m__compile__\u001B[49m\u001B[43m(\u001B[49m\n\u001B[1;32m   1204\u001B[0m \u001B[43m    \u001B[49m\u001B[43minput_storage\u001B[49m\u001B[43m,\u001B[49m\u001B[43m \u001B[49m\u001B[43moutput_storage\u001B[49m\u001B[43m,\u001B[49m\u001B[43m \u001B[49m\u001B[43mstorage_map\u001B[49m\n\u001B[1;32m   1205\u001B[0m \u001B[43m\u001B[49m\u001B[43m)\u001B[49m\n\u001B[1;32m   1207\u001B[0m res \u001B[38;5;241m=\u001B[39m _CThunk(cthunk, init_tasks, tasks, error_storage, module)\n\u001B[1;32m   1208\u001B[0m res\u001B[38;5;241m.\u001B[39mnodes \u001B[38;5;241m=\u001B[39m \u001B[38;5;28mself\u001B[39m\u001B[38;5;241m.\u001B[39mnode_order\n",
      "File \u001B[0;32m~/.pyenv/versions/miniconda3-latest/envs/BDA/lib/python3.9/site-packages/theano/link/c/basic.py:1138\u001B[0m, in \u001B[0;36mCLinker.__compile__\u001B[0;34m(self, input_storage, output_storage, storage_map)\u001B[0m\n\u001B[1;32m   1136\u001B[0m input_storage \u001B[38;5;241m=\u001B[39m \u001B[38;5;28mtuple\u001B[39m(input_storage)\n\u001B[1;32m   1137\u001B[0m output_storage \u001B[38;5;241m=\u001B[39m \u001B[38;5;28mtuple\u001B[39m(output_storage)\n\u001B[0;32m-> 1138\u001B[0m thunk, module \u001B[38;5;241m=\u001B[39m \u001B[38;5;28;43mself\u001B[39;49m\u001B[38;5;241;43m.\u001B[39;49m\u001B[43mcthunk_factory\u001B[49m\u001B[43m(\u001B[49m\n\u001B[1;32m   1139\u001B[0m \u001B[43m    \u001B[49m\u001B[43merror_storage\u001B[49m\u001B[43m,\u001B[49m\n\u001B[1;32m   1140\u001B[0m \u001B[43m    \u001B[49m\u001B[43minput_storage\u001B[49m\u001B[43m,\u001B[49m\n\u001B[1;32m   1141\u001B[0m \u001B[43m    \u001B[49m\u001B[43moutput_storage\u001B[49m\u001B[43m,\u001B[49m\n\u001B[1;32m   1142\u001B[0m \u001B[43m    \u001B[49m\u001B[43mstorage_map\u001B[49m\u001B[43m,\u001B[49m\n\u001B[1;32m   1143\u001B[0m \u001B[43m\u001B[49m\u001B[43m)\u001B[49m\n\u001B[1;32m   1144\u001B[0m \u001B[38;5;28;01mreturn\u001B[39;00m (\n\u001B[1;32m   1145\u001B[0m     thunk,\n\u001B[1;32m   1146\u001B[0m     module,\n\u001B[0;32m   (...)\u001B[0m\n\u001B[1;32m   1155\u001B[0m     error_storage,\n\u001B[1;32m   1156\u001B[0m )\n",
      "File \u001B[0;32m~/.pyenv/versions/miniconda3-latest/envs/BDA/lib/python3.9/site-packages/theano/link/c/basic.py:1634\u001B[0m, in \u001B[0;36mCLinker.cthunk_factory\u001B[0;34m(self, error_storage, in_storage, out_storage, storage_map)\u001B[0m\n\u001B[1;32m   1632\u001B[0m     \u001B[38;5;28;01mfor\u001B[39;00m node \u001B[38;5;129;01min\u001B[39;00m \u001B[38;5;28mself\u001B[39m\u001B[38;5;241m.\u001B[39mnode_order:\n\u001B[1;32m   1633\u001B[0m         node\u001B[38;5;241m.\u001B[39mop\u001B[38;5;241m.\u001B[39mprepare_node(node, storage_map, \u001B[38;5;28;01mNone\u001B[39;00m, \u001B[38;5;124m\"\u001B[39m\u001B[38;5;124mc\u001B[39m\u001B[38;5;124m\"\u001B[39m)\n\u001B[0;32m-> 1634\u001B[0m     module \u001B[38;5;241m=\u001B[39m \u001B[43mget_module_cache\u001B[49m\u001B[43m(\u001B[49m\u001B[43m)\u001B[49m\u001B[38;5;241;43m.\u001B[39;49m\u001B[43mmodule_from_key\u001B[49m\u001B[43m(\u001B[49m\u001B[43mkey\u001B[49m\u001B[38;5;241;43m=\u001B[39;49m\u001B[43mkey\u001B[49m\u001B[43m,\u001B[49m\u001B[43m \u001B[49m\u001B[43mlnk\u001B[49m\u001B[38;5;241;43m=\u001B[39;49m\u001B[38;5;28;43mself\u001B[39;49m\u001B[43m)\u001B[49m\n\u001B[1;32m   1636\u001B[0m \u001B[38;5;28mvars\u001B[39m \u001B[38;5;241m=\u001B[39m \u001B[38;5;28mself\u001B[39m\u001B[38;5;241m.\u001B[39minputs \u001B[38;5;241m+\u001B[39m \u001B[38;5;28mself\u001B[39m\u001B[38;5;241m.\u001B[39moutputs \u001B[38;5;241m+\u001B[39m \u001B[38;5;28mself\u001B[39m\u001B[38;5;241m.\u001B[39morphans\n\u001B[1;32m   1637\u001B[0m \u001B[38;5;66;03m# List of indices that should be ignored when passing the arguments\u001B[39;00m\n\u001B[1;32m   1638\u001B[0m \u001B[38;5;66;03m# (basically, everything that the previous call to uniq eliminated)\u001B[39;00m\n",
      "File \u001B[0;32m~/.pyenv/versions/miniconda3-latest/envs/BDA/lib/python3.9/site-packages/theano/link/c/cmodule.py:1191\u001B[0m, in \u001B[0;36mModuleCache.module_from_key\u001B[0;34m(self, key, lnk)\u001B[0m\n\u001B[1;32m   1189\u001B[0m \u001B[38;5;28;01mtry\u001B[39;00m:\n\u001B[1;32m   1190\u001B[0m     location \u001B[38;5;241m=\u001B[39m dlimport_workdir(\u001B[38;5;28mself\u001B[39m\u001B[38;5;241m.\u001B[39mdirname)\n\u001B[0;32m-> 1191\u001B[0m     module \u001B[38;5;241m=\u001B[39m \u001B[43mlnk\u001B[49m\u001B[38;5;241;43m.\u001B[39;49m\u001B[43mcompile_cmodule\u001B[49m\u001B[43m(\u001B[49m\u001B[43mlocation\u001B[49m\u001B[43m)\u001B[49m\n\u001B[1;32m   1192\u001B[0m     name \u001B[38;5;241m=\u001B[39m module\u001B[38;5;241m.\u001B[39m\u001B[38;5;18m__file__\u001B[39m\n\u001B[1;32m   1193\u001B[0m     \u001B[38;5;28;01massert\u001B[39;00m name\u001B[38;5;241m.\u001B[39mstartswith(location)\n",
      "File \u001B[0;32m~/.pyenv/versions/miniconda3-latest/envs/BDA/lib/python3.9/site-packages/theano/link/c/basic.py:1543\u001B[0m, in \u001B[0;36mCLinker.compile_cmodule\u001B[0;34m(self, location)\u001B[0m\n\u001B[1;32m   1541\u001B[0m \u001B[38;5;28;01mtry\u001B[39;00m:\n\u001B[1;32m   1542\u001B[0m     _logger\u001B[38;5;241m.\u001B[39mdebug(\u001B[38;5;124mf\u001B[39m\u001B[38;5;124m\"\u001B[39m\u001B[38;5;124mLOCATION \u001B[39m\u001B[38;5;132;01m{\u001B[39;00mlocation\u001B[38;5;132;01m}\u001B[39;00m\u001B[38;5;124m\"\u001B[39m)\n\u001B[0;32m-> 1543\u001B[0m     module \u001B[38;5;241m=\u001B[39m \u001B[43mc_compiler\u001B[49m\u001B[38;5;241;43m.\u001B[39;49m\u001B[43mcompile_str\u001B[49m\u001B[43m(\u001B[49m\n\u001B[1;32m   1544\u001B[0m \u001B[43m        \u001B[49m\u001B[43mmodule_name\u001B[49m\u001B[38;5;241;43m=\u001B[39;49m\u001B[43mmod\u001B[49m\u001B[38;5;241;43m.\u001B[39;49m\u001B[43mcode_hash\u001B[49m\u001B[43m,\u001B[49m\n\u001B[1;32m   1545\u001B[0m \u001B[43m        \u001B[49m\u001B[43msrc_code\u001B[49m\u001B[38;5;241;43m=\u001B[39;49m\u001B[43msrc_code\u001B[49m\u001B[43m,\u001B[49m\n\u001B[1;32m   1546\u001B[0m \u001B[43m        \u001B[49m\u001B[43mlocation\u001B[49m\u001B[38;5;241;43m=\u001B[39;49m\u001B[43mlocation\u001B[49m\u001B[43m,\u001B[49m\n\u001B[1;32m   1547\u001B[0m \u001B[43m        \u001B[49m\u001B[43minclude_dirs\u001B[49m\u001B[38;5;241;43m=\u001B[39;49m\u001B[38;5;28;43mself\u001B[39;49m\u001B[38;5;241;43m.\u001B[39;49m\u001B[43mheader_dirs\u001B[49m\u001B[43m(\u001B[49m\u001B[43m)\u001B[49m\u001B[43m,\u001B[49m\n\u001B[1;32m   1548\u001B[0m \u001B[43m        \u001B[49m\u001B[43mlib_dirs\u001B[49m\u001B[38;5;241;43m=\u001B[39;49m\u001B[38;5;28;43mself\u001B[39;49m\u001B[38;5;241;43m.\u001B[39;49m\u001B[43mlib_dirs\u001B[49m\u001B[43m(\u001B[49m\u001B[43m)\u001B[49m\u001B[43m,\u001B[49m\n\u001B[1;32m   1549\u001B[0m \u001B[43m        \u001B[49m\u001B[43mlibs\u001B[49m\u001B[38;5;241;43m=\u001B[39;49m\u001B[43mlibs\u001B[49m\u001B[43m,\u001B[49m\n\u001B[1;32m   1550\u001B[0m \u001B[43m        \u001B[49m\u001B[43mpreargs\u001B[49m\u001B[38;5;241;43m=\u001B[39;49m\u001B[43mpreargs\u001B[49m\u001B[43m,\u001B[49m\n\u001B[1;32m   1551\u001B[0m \u001B[43m    \u001B[49m\u001B[43m)\u001B[49m\n\u001B[1;32m   1552\u001B[0m \u001B[38;5;28;01mexcept\u001B[39;00m \u001B[38;5;167;01mException\u001B[39;00m \u001B[38;5;28;01mas\u001B[39;00m e:\n\u001B[1;32m   1553\u001B[0m     e\u001B[38;5;241m.\u001B[39margs \u001B[38;5;241m+\u001B[39m\u001B[38;5;241m=\u001B[39m (\u001B[38;5;28mstr\u001B[39m(\u001B[38;5;28mself\u001B[39m\u001B[38;5;241m.\u001B[39mfgraph),)\n",
      "File \u001B[0;32m~/.pyenv/versions/miniconda3-latest/envs/BDA/lib/python3.9/site-packages/theano/link/c/cmodule.py:2546\u001B[0m, in \u001B[0;36mGCC_compiler.compile_str\u001B[0;34m(module_name, src_code, location, include_dirs, lib_dirs, libs, preargs, py_module, hide_symbols)\u001B[0m\n\u001B[1;32m   2542\u001B[0m     \u001B[38;5;66;03m# We replace '\\n' by '. ' in the error message because when Python\u001B[39;00m\n\u001B[1;32m   2543\u001B[0m     \u001B[38;5;66;03m# prints the exception, having '\\n' in the text makes it more\u001B[39;00m\n\u001B[1;32m   2544\u001B[0m     \u001B[38;5;66;03m# difficult to read.\u001B[39;00m\n\u001B[1;32m   2545\u001B[0m     compile_stderr \u001B[38;5;241m=\u001B[39m compile_stderr\u001B[38;5;241m.\u001B[39mreplace(\u001B[38;5;124m\"\u001B[39m\u001B[38;5;130;01m\\n\u001B[39;00m\u001B[38;5;124m\"\u001B[39m, \u001B[38;5;124m\"\u001B[39m\u001B[38;5;124m. \u001B[39m\u001B[38;5;124m\"\u001B[39m)\n\u001B[0;32m-> 2546\u001B[0m     \u001B[38;5;28;01mraise\u001B[39;00m \u001B[38;5;167;01mException\u001B[39;00m(\n\u001B[1;32m   2547\u001B[0m         \u001B[38;5;124mf\u001B[39m\u001B[38;5;124m\"\u001B[39m\u001B[38;5;124mCompilation failed (return status=\u001B[39m\u001B[38;5;132;01m{\u001B[39;00mstatus\u001B[38;5;132;01m}\u001B[39;00m\u001B[38;5;124m): \u001B[39m\u001B[38;5;132;01m{\u001B[39;00mcompile_stderr\u001B[38;5;132;01m}\u001B[39;00m\u001B[38;5;124m\"\u001B[39m\n\u001B[1;32m   2548\u001B[0m     )\n\u001B[1;32m   2549\u001B[0m \u001B[38;5;28;01melif\u001B[39;00m config\u001B[38;5;241m.\u001B[39mcmodule__compilation_warning \u001B[38;5;129;01mand\u001B[39;00m compile_stderr:\n\u001B[1;32m   2550\u001B[0m     \u001B[38;5;66;03m# Print errors just below the command line.\u001B[39;00m\n\u001B[1;32m   2551\u001B[0m     \u001B[38;5;28mprint\u001B[39m(compile_stderr)\n",
      "\u001B[0;31mException\u001B[0m: ('Compilation failed (return status=1): In file included from /Users/hermeschen/.theano/compiledir_macOS-13.5-x86_64-i386-64bit-i386-3.9.16-64/tmpe5g7p5r4/mod.cpp:1:. /Users/hermeschen/.pyenv/versions/miniconda3-latest/envs/BDA/include/python3.9/Python.h:27:5: error: \"Python.h requires that stdio.h define NULL.\". #   error \"Python.h requires that stdio.h define NULL.\".     ^. In file included from /Users/hermeschen/.theano/compiledir_macOS-13.5-x86_64-i386-64bit-i386-3.9.16-64/tmpe5g7p5r4/mod.cpp:1:. In file included from /Users/hermeschen/.pyenv/versions/miniconda3-latest/envs/BDA/include/python3.9/Python.h:30:. /Users/hermeschen/.pyenv/versions/miniconda3-latest/envs/BDA/bin/../include/c++/v1/string.h:95:102: error: unknown type name \\'size_t\\'. inline _LIBCPP_HIDE_FROM_ABI _LIBCPP_PREFERRED_OVERLOAD const void* memchr(const void* __s, int __c, size_t __n) {.                                                                                                      ^. /Users/hermeschen/.pyenv/versions/miniconda3-latest/envs/BDA/bin/../include/c++/v1/string.h:98:90: error: unknown type name \\'size_t\\'. inline _LIBCPP_HIDE_FROM_ABI _LIBCPP_PREFERRED_OVERLOAD void* memchr(void* __s, int __c, size_t __n) {.                                                                                          ^. In file included from /Users/hermeschen/.theano/compiledir_macOS-13.5-x86_64-i386-64bit-i386-3.9.16-64/tmpe5g7p5r4/mod.cpp:1:. In file included from /Users/hermeschen/.pyenv/versions/miniconda3-latest/envs/BDA/include/python3.9/Python.h:34:. /Users/hermeschen/.pyenv/versions/miniconda3-latest/envs/BDA/bin/../include/c++/v1/stdlib.h:150:34: error: unknown type name \\'ldiv_t\\'. inline _LIBCPP_INLINE_VISIBILITY ldiv_t div(long __x, long __y) _NOEXCEPT {.                                  ^. /Users/hermeschen/.pyenv/versions/miniconda3-latest/envs/BDA/bin/../include/c++/v1/stdlib.h:151:12: error: no member named \\'ldiv\\' in the global namespace.   return ::ldiv(__x, __y);.          ~~^. /Users/hermeschen/.pyenv/versions/miniconda3-latest/envs/BDA/bin/../include/c++/v1/stdlib.h:154:34: error: unknown type name \\'lldiv_t\\'. inline _LIBCPP_INLINE_VISIBILITY lldiv_t div(long long __x,.                                  ^. /Users/hermeschen/.pyenv/versions/miniconda3-latest/envs/BDA/bin/../include/c++/v1/stdlib.h:156:12: error: no member named \\'lldiv\\' in the global namespace.   return ::lldiv(__x, __y);.          ~~^. In file included from /Users/hermeschen/.theano/compiledir_macOS-13.5-x86_64-i386-64bit-i386-3.9.16-64/tmpe5g7p5r4/mod.cpp:1:. /Users/hermeschen/.pyenv/versions/miniconda3-latest/envs/BDA/include/python3.9/Python.h:36:10: fatal error: \\'unistd.h\\' file not found. #include <unistd.h>.          ^~~~~~~~~~. 8 errors generated.. ', 'FunctionGraph(Elemwise{true_div,no_inplace}(TensorConstant{1.0}, TensorConstant{0.01}))')"
     ]
    }
   ],
   "source": [
    "with pm.Model() as predictor:\n",
    "    intercept = pm.Normal(name='intercept', mu=0, sd=10)\n",
    "    coefficients: list = [pm.Normal(name='coefficient{}'.format(i), mu=0, sd=10) for i in range(5)]\n",
    "    error = pm.HalfNormal(name='error', sd=1)\n",
    "    \n",
    "    model = pm.Deterministic('model', (intercept + (coefficients[i] * variables[i] for i in range(5))))\n",
    "    \n",
    "    prediction = pm.Normal(name='prediction', mu=model, sd=error, observed=target)\n",
    "\n",
    "    trace = pm.sample(tune=2000)\n",
    "    ppc = pm.sample_posterior_predictive(trace, samples=2000)"
   ],
   "metadata": {
    "collapsed": false,
    "ExecuteTime": {
     "end_time": "2023-05-31T12:29:19.117515Z",
     "start_time": "2023-05-31T12:29:13.431097Z"
    }
   }
  },
  {
   "cell_type": "code",
   "execution_count": null,
   "outputs": [],
   "source": [
    "az.plot_trace(trace, var_names=['intercept', 'coefficient0', 'coefficient1', 'coefficient2', 'coefficient3', 'coefficient4', 'error'])"
   ],
   "metadata": {
    "collapsed": false
   }
  },
  {
   "cell_type": "code",
   "execution_count": null,
   "outputs": [],
   "source": [],
   "metadata": {
    "collapsed": false
   }
  }
 ],
 "metadata": {
  "kernelspec": {
   "display_name": "Python 3",
   "language": "python",
   "name": "python3"
  },
  "language_info": {
   "codemirror_mode": {
    "name": "ipython",
    "version": 2
   },
   "file_extension": ".py",
   "mimetype": "text/x-python",
   "name": "python",
   "nbconvert_exporter": "python",
   "pygments_lexer": "ipython2",
   "version": "2.7.6"
  }
 },
 "nbformat": 4,
 "nbformat_minor": 0
}
