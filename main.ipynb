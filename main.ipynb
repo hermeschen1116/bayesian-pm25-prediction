{
  "cells": [
    {
      "cell_type": "code",
      "source": [
        "from google.colab import drive\n",
        "drive.mount('/content/drive')"
      ],
      "metadata": {
        "colab": {
          "base_uri": "https://localhost:8080/"
        },
        "id": "LLU7nwHj_lVA",
        "outputId": "67bb8761-c91b-47d9-fa49-1159b1961930"
      },
      "execution_count": 1,
      "outputs": [
        {
          "output_type": "stream",
          "name": "stdout",
          "text": [
            "Drive already mounted at /content/drive; to attempt to forcibly remount, call drive.mount(\"/content/drive\", force_remount=True).\n"
          ]
        }
      ]
    },
    {
      "cell_type": "code",
      "source": [
        "!pip install -U numpyro"
      ],
      "metadata": {
        "colab": {
          "base_uri": "https://localhost:8080/"
        },
        "id": "an1nggtaAumz",
        "outputId": "4fcd4d3b-6553-49d6-c951-06959e31af1e"
      },
      "execution_count": 2,
      "outputs": [
        {
          "output_type": "stream",
          "name": "stdout",
          "text": [
            "Looking in indexes: https://pypi.org/simple, https://us-python.pkg.dev/colab-wheels/public/simple/\n",
            "Requirement already satisfied: numpyro in /usr/local/lib/python3.10/dist-packages (0.12.1)\n",
            "Requirement already satisfied: jax>=0.4.7 in /usr/local/lib/python3.10/dist-packages (from numpyro) (0.4.10)\n",
            "Requirement already satisfied: jaxlib>=0.4.7 in /usr/local/lib/python3.10/dist-packages (from numpyro) (0.4.10+cuda11.cudnn86)\n",
            "Requirement already satisfied: multipledispatch in /usr/local/lib/python3.10/dist-packages (from numpyro) (0.6.0)\n",
            "Requirement already satisfied: numpy in /usr/local/lib/python3.10/dist-packages (from numpyro) (1.22.4)\n",
            "Requirement already satisfied: tqdm in /usr/local/lib/python3.10/dist-packages (from numpyro) (4.65.0)\n",
            "Requirement already satisfied: ml-dtypes>=0.1.0 in /usr/local/lib/python3.10/dist-packages (from jax>=0.4.7->numpyro) (0.1.0)\n",
            "Requirement already satisfied: opt-einsum in /usr/local/lib/python3.10/dist-packages (from jax>=0.4.7->numpyro) (3.3.0)\n",
            "Requirement already satisfied: scipy>=1.7 in /usr/local/lib/python3.10/dist-packages (from jax>=0.4.7->numpyro) (1.10.1)\n",
            "Requirement already satisfied: six in /usr/local/lib/python3.10/dist-packages (from multipledispatch->numpyro) (1.16.0)\n"
          ]
        }
      ]
    },
    {
      "cell_type": "code",
      "execution_count": 3,
      "metadata": {
        "collapsed": true,
        "ExecuteTime": {
          "end_time": "2023-06-10T15:08:02.328915Z",
          "start_time": "2023-06-10T15:07:50.481640Z"
        },
        "id": "MKCvQNW0-7TU"
      },
      "outputs": [],
      "source": [
        "import arviz as az\n",
        "import numpy as np\n",
        "import polars as ps\n",
        "import pymc as pm\n",
        "from pytensor import shared\n",
        "from sklearn.model_selection import train_test_split"
      ]
    },
    {
      "cell_type": "code",
      "execution_count": 4,
      "outputs": [],
      "source": [
        "%matplotlib inline\n",
        "%config InlineBackend.figure_format = 'retina'"
      ],
      "metadata": {
        "ExecuteTime": {
          "end_time": "2023-06-10T15:08:02.370998Z",
          "start_time": "2023-06-10T15:08:02.333149Z"
        },
        "id": "2RkaeEGa-7TY"
      }
    },
    {
      "cell_type": "markdown",
      "source": [
        "# Load Data"
      ],
      "metadata": {
        "collapsed": false,
        "id": "eRdbVOmF-7TY"
      }
    },
    {
      "cell_type": "code",
      "source": [
        "dataset_dir: str = '/content/drive/MyDrive/'"
      ],
      "metadata": {
        "id": "odI1sqVMGFCw"
      },
      "execution_count": 5,
      "outputs": []
    },
    {
      "cell_type": "code",
      "execution_count": 6,
      "outputs": [],
      "source": [
        "type_map: list = [ps.Int32, ps.Int32, ps.Int32, ps.Int32, ps.Int32, ps.Int32, ps.Int32, \n",
        "                  ps.Int32, ps.Float32, ps.Float32, ps.Float32, ps.Float32, ps.Float32, \n",
        "                  ps.Float32, ps.Float32, ps.Float32, ps.Float32, ps.Float32, \n",
        "                  ps.Float32, ps.Int32, ps.Float32, ps.Float32, ps.Float32]"
      ],
      "metadata": {
        "ExecuteTime": {
          "end_time": "2023-06-10T15:08:18.136748Z",
          "start_time": "2023-06-10T15:08:18.108445Z"
        },
        "id": "84ChZrFg-7Ta"
      }
    },
    {
      "cell_type": "code",
      "execution_count": 24,
      "outputs": [],
      "source": [
        "dataset: ps.DataFrame = ps.read_csv('{}full_dataset_train.csv'.format(dataset_dir), dtypes=type_map, encoding='utf8', n_threads=8, use_pyarrow=True)"
      ],
      "metadata": {
        "ExecuteTime": {
          "end_time": "2023-06-10T15:08:19.545957Z",
          "start_time": "2023-06-10T15:08:19.542402Z"
        },
        "id": "-nt__ntg-7Tb"
      }
    },
    {
      "cell_type": "code",
      "execution_count": 25,
      "outputs": [
        {
          "output_type": "execute_result",
          "data": {
            "text/plain": [
              "shape: (5, 23)\n",
              "┌────────┬─────────────┬──────────────┬────────────┬───┬───────────┬───────────┬───────┬───────────┐\n",
              "│ SiteId ┆ PublishYear ┆ PublishMonth ┆ PublishDay ┆ … ┆ WindDirec ┆ WindSpeed ┆ PM2.5 ┆ PM2.5_AVG │\n",
              "│ ---    ┆ ---         ┆ ---          ┆ ---        ┆   ┆ ---       ┆ ---       ┆ ---   ┆ ---       │\n",
              "│ i32    ┆ i32         ┆ i32          ┆ i32        ┆   ┆ i32       ┆ f32       ┆ f32   ┆ f32       │\n",
              "╞════════╪═════════════╪══════════════╪════════════╪═══╪═══════════╪═══════════╪═══════╪═══════════╡\n",
              "│ 48     ┆ 2022        ┆ 6            ┆ 1          ┆ … ┆ 85        ┆ 0.9       ┆ 7.0   ┆ 5.0       │\n",
              "│ 58     ┆ 2022        ┆ 6            ┆ 1          ┆ … ┆ 237       ┆ 0.4       ┆ 13.0  ┆ 8.0       │\n",
              "│ 71     ┆ 2022        ┆ 6            ┆ 1          ┆ … ┆ 253       ┆ 0.5       ┆ 8.0   ┆ 7.0       │\n",
              "│ 15     ┆ 2022        ┆ 6            ┆ 1          ┆ … ┆ 70        ┆ 0.3       ┆ 9.0   ┆ 7.0       │\n",
              "│ 8      ┆ 2022        ┆ 6            ┆ 1          ┆ … ┆ 161       ┆ 0.9       ┆ 8.0   ┆ 7.0       │\n",
              "└────────┴─────────────┴──────────────┴────────────┴───┴───────────┴───────────┴───────┴───────────┘"
            ],
            "text/html": [
              "<div><style>\n",
              ".dataframe > thead > tr > th,\n",
              ".dataframe > tbody > tr > td {\n",
              "  text-align: right;\n",
              "}\n",
              "</style>\n",
              "<small>shape: (5, 23)</small><table border=\"1\" class=\"dataframe\"><thead><tr><th>SiteId</th><th>PublishYear</th><th>PublishMonth</th><th>PublishDay</th><th>PublishHour</th><th>AQI</th><th>Pollutant</th><th>Status</th><th>SO2</th><th>SO2_AVG</th><th>CO</th><th>CO_8hr</th><th>O3</th><th>O3_8hr</th><th>PM10</th><th>PM10_AVG</th><th>NO</th><th>NO2</th><th>NOx</th><th>WindDirec</th><th>WindSpeed</th><th>PM2.5</th><th>PM2.5_AVG</th></tr><tr><td>i32</td><td>i32</td><td>i32</td><td>i32</td><td>i32</td><td>i32</td><td>i32</td><td>i32</td><td>f32</td><td>f32</td><td>f32</td><td>f32</td><td>f32</td><td>f32</td><td>f32</td><td>f32</td><td>f32</td><td>f32</td><td>f32</td><td>i32</td><td>f32</td><td>f32</td><td>f32</td></tr></thead><tbody><tr><td>48</td><td>2022</td><td>6</td><td>1</td><td>0</td><td>27</td><td>0</td><td>0</td><td>0.9</td><td>1.0</td><td>0.3</td><td>0.1</td><td>1.7</td><td>14.3</td><td>19.0</td><td>17.0</td><td>3.9</td><td>16.5</td><td>20.4</td><td>85</td><td>0.9</td><td>7.0</td><td>5.0</td></tr><tr><td>58</td><td>2022</td><td>6</td><td>1</td><td>1</td><td>40</td><td>0</td><td>0</td><td>2.1</td><td>3.0</td><td>0.1</td><td>0.1</td><td>0.4</td><td>3.3</td><td>21.0</td><td>16.0</td><td>22.4</td><td>24.6</td><td>47.0</td><td>237</td><td>0.4</td><td>13.0</td><td>8.0</td></tr><tr><td>71</td><td>2022</td><td>6</td><td>1</td><td>1</td><td>37</td><td>0</td><td>0</td><td>2.1</td><td>1.0</td><td>0.3</td><td>0.2</td><td>0.0</td><td>7.2</td><td>22.0</td><td>18.0</td><td>6.0</td><td>22.200001</td><td>28.200001</td><td>253</td><td>0.5</td><td>8.0</td><td>7.0</td></tr><tr><td>15</td><td>2022</td><td>6</td><td>1</td><td>2</td><td>23</td><td>1</td><td>0</td><td>0.7</td><td>1.0</td><td>0.4</td><td>0.5</td><td>0.7</td><td>3.4</td><td>16.0</td><td>13.0</td><td>3.7</td><td>14.0</td><td>17.799999</td><td>70</td><td>0.3</td><td>9.0</td><td>7.0</td></tr><tr><td>8</td><td>2022</td><td>6</td><td>1</td><td>4</td><td>23</td><td>1</td><td>0</td><td>0.6</td><td>0.0</td><td>0.3</td><td>0.5</td><td>4.2</td><td>3.6</td><td>14.0</td><td>12.0</td><td>1.5</td><td>10.3</td><td>11.8</td><td>161</td><td>0.9</td><td>8.0</td><td>7.0</td></tr></tbody></table></div>"
            ]
          },
          "metadata": {},
          "execution_count": 25
        }
      ],
      "source": [
        "dataset.head()"
      ],
      "metadata": {
        "ExecuteTime": {
          "end_time": "2023-06-10T15:08:20.986476Z",
          "start_time": "2023-06-10T15:08:20.961702Z"
        },
        "colab": {
          "base_uri": "https://localhost:8080/",
          "height": 275
        },
        "id": "Mu3gk48P-7Td",
        "outputId": "59c141a1-0a4e-4d7d-d44d-18a19b15beb4"
      }
    },
    {
      "cell_type": "markdown",
      "source": [
        "# Features"
      ],
      "metadata": {
        "collapsed": false,
        "id": "pMzOCGjG-7Td"
      }
    },
    {
      "cell_type": "code",
      "execution_count": 26,
      "outputs": [],
      "source": [
        "features: list = ['AQI', 'Status', 'PM10', 'PM10_AVG', 'PM2.5_AVG']\n",
        "target_feature: str = 'PM2.5'"
      ],
      "metadata": {
        "ExecuteTime": {
          "end_time": "2023-06-10T15:08:24.328002Z",
          "start_time": "2023-06-10T15:08:24.324358Z"
        },
        "id": "DQB5DQ4f-7Te"
      }
    },
    {
      "cell_type": "code",
      "source": [
        "dataset = dataset.sample(n=150000, seed=37710)"
      ],
      "metadata": {
        "id": "oMdTLqCsQWQw"
      },
      "execution_count": 27,
      "outputs": []
    },
    {
      "cell_type": "code",
      "execution_count": 28,
      "outputs": [],
      "source": [
        "variables: np.array = np.array([dataset[feature].to_numpy() for feature in features])\n",
        "variables = variables.transpose()"
      ],
      "metadata": {
        "ExecuteTime": {
          "end_time": "2023-06-10T15:08:25.144954Z",
          "start_time": "2023-06-10T15:08:25.123431Z"
        },
        "id": "jUlv-a7C-7Tf"
      }
    },
    {
      "cell_type": "code",
      "execution_count": 29,
      "outputs": [],
      "source": [
        "target: np.array = dataset[target_feature].to_numpy().reshape(1, -1)\n",
        "target = target.transpose()"
      ],
      "metadata": {
        "ExecuteTime": {
          "end_time": "2023-06-10T15:08:26.416565Z",
          "start_time": "2023-06-10T15:08:26.402353Z"
        },
        "id": "6tWuTUgY-7Tf"
      }
    },
    {
      "cell_type": "code",
      "execution_count": 30,
      "outputs": [],
      "source": [
        "train_variables, test_variables, train_target, test_target = train_test_split(variables, target, test_size=0.4, random_state=37710, shuffle=True)"
      ],
      "metadata": {
        "ExecuteTime": {
          "end_time": "2023-06-10T15:08:27.400705Z",
          "start_time": "2023-06-10T15:08:27.384750Z"
        },
        "id": "-F1PsDjO-7Tg"
      }
    },
    {
      "cell_type": "code",
      "execution_count": 31,
      "outputs": [],
      "source": [
        "train_variables = shared(train_variables.transpose())\n",
        "train_target = train_target.transpose()\n",
        "test_variables = test_variables\n",
        "test_target = test_target"
      ],
      "metadata": {
        "ExecuteTime": {
          "end_time": "2023-06-10T15:08:28.040462Z",
          "start_time": "2023-06-10T15:08:27.979070Z"
        },
        "id": "Qes6ju5--7Tg"
      }
    },
    {
      "cell_type": "markdown",
      "source": [
        "# Model"
      ],
      "metadata": {
        "collapsed": false,
        "ExecuteTime": {
          "end_time": "2023-05-31T12:58:15.912996Z",
          "start_time": "2023-05-31T12:58:15.906233Z"
        },
        "id": "buIWD7eX-7Th"
      }
    },
    {
      "cell_type": "code",
      "execution_count": null,
      "outputs": [
        {
          "output_type": "stream",
          "name": "stderr",
          "text": [
            "/usr/local/lib/python3.10/dist-packages/pymc/sampling/mcmc.py:243: UserWarning: Use of external NUTS sampler is still experimental\n",
            "  warnings.warn(\"Use of external NUTS sampler is still experimental\", UserWarning)\n"
          ]
        },
        {
          "output_type": "stream",
          "name": "stdout",
          "text": [
            "Compiling...\n"
          ]
        },
        {
          "output_type": "stream",
          "name": "stderr",
          "text": [
            "/usr/local/lib/python3.10/dist-packages/pymc/sampling/jax.py:641: UserWarning: There are not enough devices to run parallel chains: expected 2 but got 1. Chains will be drawn sequentially. If you are running MCMC in CPU, consider using `numpyro.set_host_device_count(2)` at the beginning of your program. You can double-check how many devices are available in your system using `jax.local_device_count()`.\n",
            "  pmap_numpyro = MCMC(\n"
          ]
        },
        {
          "output_type": "stream",
          "name": "stdout",
          "text": [
            "Compilation time =  0:00:01.001954\n",
            "Sampling...\n"
          ]
        },
        {
          "output_type": "stream",
          "name": "stderr",
          "text": [
            "sample: 100%|██████████| 3000/3000 [02:18<00:00, 21.65it/s, 31 steps of size 6.06e-02. acc. prob=0.92]\n",
            "warmup:  48%|████▊     | 1436/3000 [01:07<00:50, 30.96it/s, 63 steps of size 6.58e-02. acc. prob=0.79]"
          ]
        }
      ],
      "source": [
        "with pm.Model() as predictor:\n",
        "\tintercept = pm.Normal(name='intercept', sigma=10)\n",
        "\tcoefficients = pm.Normal(name='coefficients', mu=0, sigma=1, shape=5)\n",
        "\terror = pm.HalfCauchy(name='error', beta=5)\n",
        "\tmodel = pm.Deterministic('model', intercept + pm.math.dot(coefficients, train_variables))\n",
        "\t\n",
        "\tprediction = pm.Normal(name='prediction', mu=model, sigma=error, observed=train_target)\n",
        "\n",
        "\ttrace = trace = pm.sample(tune=2000, chains=2, random_seed=37710, cores=8, nuts_sampler='numpyro')\n",
        "\tppc = pm.sample_posterior_predictive(trace, random_seed=37710)"
      ],
      "metadata": {
        "ExecuteTime": {
          "end_time": "2023-06-10T15:09:14.756008Z",
          "start_time": "2023-06-10T15:08:30.027899Z"
        },
        "colab": {
          "base_uri": "https://localhost:8080/"
        },
        "id": "IeEIklMZ-7Th",
        "outputId": "4e154113-d26e-49db-dfcc-82c17c22c0ae"
      }
    },
    {
      "cell_type": "markdown",
      "source": [
        "# Performance Analysis"
      ],
      "metadata": {
        "collapsed": false,
        "id": "2d3bQp9o-7Tj"
      }
    },
    {
      "cell_type": "code",
      "execution_count": null,
      "outputs": [],
      "source": [
        "az.plot_trace(trace, var_names=['intercept', 'coefficients', 'error'])"
      ],
      "metadata": {
        "id": "qi5ANMEw-7Tj"
      }
    },
    {
      "cell_type": "code",
      "execution_count": null,
      "outputs": [],
      "source": [
        "summary = az.summary(trace, var_names=['intercept', 'coefficients', 'error'])\n",
        "summary"
      ],
      "metadata": {
        "id": "RRM0fobK-7Tk"
      }
    },
    {
      "cell_type": "markdown",
      "source": [
        "## MSE"
      ],
      "metadata": {
        "collapsed": false,
        "id": "CqSt7BE3-7Tk"
      }
    },
    {
      "cell_type": "code",
      "execution_count": null,
      "outputs": [],
      "source": [
        "def predict_function(test_variable: np.array, parameters: list) -> float:\n",
        "\tformula_intercept: float = parameters[0]\n",
        "\tformula_coefficients: np.array = np.array(parameters[1:-1]).reshape(-1, 1)\n",
        "\treturn float(np.dot(test_variable.reshape(1, -1), formula_coefficients)) + formula_intercept"
      ],
      "metadata": {
        "ExecuteTime": {
          "end_time": "2023-06-10T15:41:19.903202Z",
          "start_time": "2023-06-10T15:41:19.894973Z"
        },
        "id": "UVT9qylv-7Tk"
      }
    },
    {
      "cell_type": "code",
      "execution_count": null,
      "outputs": [],
      "source": [
        "predictions: np.array = np.array([predict_function(variable, summary['mean'].to_list()) for variable in test_variables]).reshape(-1, 1)"
      ],
      "metadata": {
        "ExecuteTime": {
          "end_time": "2023-06-10T15:41:20.317873Z",
          "start_time": "2023-06-10T15:41:20.309324Z"
        },
        "id": "0GZbayV6-7Tk"
      }
    },
    {
      "cell_type": "code",
      "execution_count": null,
      "outputs": [],
      "source": [
        "def mean_square_error(target_prediction: list, target_truth: list) -> float:\n",
        "\treturn np.square(np.subtract(target_prediction, target_truth)).mean()"
      ],
      "metadata": {
        "ExecuteTime": {
          "end_time": "2023-06-10T15:41:20.774199Z",
          "start_time": "2023-06-10T15:41:20.760821Z"
        },
        "id": "xo_kp-Jz-7Tk"
      }
    },
    {
      "cell_type": "code",
      "execution_count": null,
      "outputs": [],
      "source": [
        "print('MSE: {:.2f}'.format(mean_square_error(predictions, test_target)))"
      ],
      "metadata": {
        "ExecuteTime": {
          "end_time": "2023-06-10T15:41:27.473732Z",
          "start_time": "2023-06-10T15:41:27.463957Z"
        },
        "id": "YOO1AXds-7Tk"
      }
    },
    {
      "cell_type": "markdown",
      "source": [
        "## Test Data"
      ],
      "metadata": {
        "id": "ZdFuJfqzGwjY"
      }
    },
    {
      "cell_type": "code",
      "source": [
        "testset: ps.DataFrame = ps.read_csv('{}}full_dataset_test.csv'.format(dataset_dir), dtypes=type_map, encoding='utf8', n_threads=8, use_pyarrow=True)"
      ],
      "metadata": {
        "id": "QPb7eW7vGzJB"
      },
      "execution_count": null,
      "outputs": []
    },
    {
      "cell_type": "code",
      "source": [
        "testset.head()"
      ],
      "metadata": {
        "id": "xSKbz35uHEf9"
      },
      "execution_count": null,
      "outputs": []
    },
    {
      "cell_type": "code",
      "source": [
        "test_x: np.array = np.array([dataset[feature].to_numpy() for feature in features])\n",
        "test_x = test_x.transpose()"
      ],
      "metadata": {
        "id": "vX6-UVQ2HTu8"
      },
      "execution_count": null,
      "outputs": []
    },
    {
      "cell_type": "code",
      "source": [
        "test_y: np.array = dataset[target_feature].to_numpy().reshape(1, -1)\n",
        "test_y = test_y.transpose()"
      ],
      "metadata": {
        "id": "LIsS5hMNHdsy"
      },
      "execution_count": null,
      "outputs": []
    },
    {
      "cell_type": "code",
      "source": [
        "test_predictions: np.array = np.array([predict_function(variable, summary['mean']) for variable in test_x]).reshape(-1, 1)"
      ],
      "metadata": {
        "id": "kdW151nYHIBM"
      },
      "execution_count": null,
      "outputs": []
    },
    {
      "cell_type": "code",
      "source": [
        "print(\"Real Data Test's MSE: {:.2f}\".format(mean_square_error(test_predictions, test_y)))"
      ],
      "metadata": {
        "id": "3okiBJB6Ho56"
      },
      "execution_count": null,
      "outputs": []
    },
    {
      "cell_type": "code",
      "execution_count": null,
      "outputs": [],
      "source": [],
      "metadata": {
        "id": "a1tusZfD-7Tk"
      }
    }
  ],
  "metadata": {
    "kernelspec": {
      "display_name": "Python 3",
      "name": "python3"
    },
    "language_info": {
      "codemirror_mode": {
        "name": "ipython",
        "version": 2
      },
      "file_extension": ".py",
      "mimetype": "text/x-python",
      "name": "python",
      "nbconvert_exporter": "python",
      "pygments_lexer": "ipython2",
      "version": "2.7.6"
    },
    "colab": {
      "provenance": [],
      "gpuType": "T4"
    },
    "accelerator": "GPU"
  },
  "nbformat": 4,
  "nbformat_minor": 0
}