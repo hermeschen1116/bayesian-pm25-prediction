{
 "cells": [
  {
   "cell_type": "code",
   "execution_count": 98,
   "metadata": {
    "collapsed": true,
    "ExecuteTime": {
     "end_time": "2023-06-10T08:41:02.295402Z",
     "start_time": "2023-06-10T08:41:02.272729Z"
    }
   },
   "outputs": [],
   "source": [
    "import arviz as az\n",
    "import numpy as np\n",
    "import pandas as pd\n",
    "import polars as ps\n",
    "import pymc3 as pm\n",
    "from sklearn.model_selection import train_test_split\n",
    "from theano import shared"
   ]
  },
  {
   "cell_type": "code",
   "execution_count": 22,
   "outputs": [],
   "source": [
    "type_map: list = [ps.Int32, ps.Int32, ps.Int32, ps.Int32, ps.Int32, ps.Int32, ps.Int32, \n",
    "                  ps.Int32, ps.Float32, ps.Float32, ps.Float32, ps.Float32, ps.Float32, \n",
    "                  ps.Float32, ps.Float32, ps.Float32, ps.Float32, ps.Float32, \n",
    "                  ps.Float32, ps.Int32, ps.Float32, ps.Float32, ps.Float32]"
   ],
   "metadata": {
    "collapsed": false,
    "ExecuteTime": {
     "end_time": "2023-06-10T08:19:07.795170Z",
     "start_time": "2023-06-10T08:19:07.759951Z"
    }
   }
  },
  {
   "cell_type": "code",
   "execution_count": 84,
   "outputs": [],
   "source": [
    "dataset: ps.DataFrame = ps.read_csv('full_dataset_train.csv', dtypes=type_map, encoding='utf8', n_threads=8, use_pyarrow=True)"
   ],
   "metadata": {
    "collapsed": false,
    "ExecuteTime": {
     "end_time": "2023-06-10T08:30:53.965461Z",
     "start_time": "2023-06-10T08:30:53.949753Z"
    }
   }
  },
  {
   "cell_type": "code",
   "execution_count": 85,
   "outputs": [
    {
     "data": {
      "text/plain": "shape: (5, 23)\n┌────────┬─────────────┬──────────────┬────────────┬───┬───────────┬───────────┬───────┬───────────┐\n│ SiteId ┆ PublishYear ┆ PublishMonth ┆ PublishDay ┆ … ┆ WindDirec ┆ WindSpeed ┆ PM2.5 ┆ PM2.5_AVG │\n│ ---    ┆ ---         ┆ ---          ┆ ---        ┆   ┆ ---       ┆ ---       ┆ ---   ┆ ---       │\n│ i32    ┆ i32         ┆ i32          ┆ i32        ┆   ┆ i32       ┆ f32       ┆ f32   ┆ f32       │\n╞════════╪═════════════╪══════════════╪════════════╪═══╪═══════════╪═══════════╪═══════╪═══════════╡\n│ 67     ┆ 2022        ┆ 6            ┆ 1          ┆ … ┆ 188       ┆ 1.7       ┆ 4.0   ┆ 7.0       │\n│ 44     ┆ 2022        ┆ 6            ┆ 1          ┆ … ┆ 147       ┆ 1.1       ┆ 7.0   ┆ 6.0       │\n│ 20     ┆ 2022        ┆ 6            ┆ 1          ┆ … ┆ 136       ┆ 0.2       ┆ 14.0  ┆ 8.0       │\n│ 14     ┆ 2022        ┆ 6            ┆ 1          ┆ … ┆ 133       ┆ 0.6       ┆ 6.0   ┆ 6.0       │\n│ 72     ┆ 2022        ┆ 6            ┆ 1          ┆ … ┆ 149       ┆ 0.3       ┆ 5.0   ┆ 2.0       │\n└────────┴─────────────┴──────────────┴────────────┴───┴───────────┴───────────┴───────┴───────────┘",
      "text/html": "<div><style>\n.dataframe > thead > tr > th,\n.dataframe > tbody > tr > td {\n  text-align: right;\n}\n</style>\n<small>shape: (5, 23)</small><table border=\"1\" class=\"dataframe\"><thead><tr><th>SiteId</th><th>PublishYear</th><th>PublishMonth</th><th>PublishDay</th><th>PublishHour</th><th>AQI</th><th>Pollutant</th><th>Status</th><th>SO2</th><th>SO2_AVG</th><th>CO</th><th>CO_8hr</th><th>O3</th><th>O3_8hr</th><th>PM10</th><th>PM10_AVG</th><th>NO</th><th>NO2</th><th>NOx</th><th>WindDirec</th><th>WindSpeed</th><th>PM2.5</th><th>PM2.5_AVG</th></tr><tr><td>i32</td><td>i32</td><td>i32</td><td>i32</td><td>i32</td><td>i32</td><td>i32</td><td>i32</td><td>f32</td><td>f32</td><td>f32</td><td>f32</td><td>f32</td><td>f32</td><td>f32</td><td>f32</td><td>f32</td><td>f32</td><td>f32</td><td>i32</td><td>f32</td><td>f32</td><td>f32</td></tr></thead><tbody><tr><td>67</td><td>2022</td><td>6</td><td>1</td><td>1</td><td>38</td><td>1</td><td>0</td><td>0.5</td><td>0.0</td><td>0.8</td><td>1.4</td><td>1.3</td><td>1.1</td><td>13.0</td><td>14.0</td><td>25.299999</td><td>23.0</td><td>48.400002</td><td>188</td><td>1.7</td><td>4.0</td><td>7.0</td></tr><tr><td>44</td><td>2022</td><td>6</td><td>1</td><td>1</td><td>22</td><td>0</td><td>0</td><td>0.9</td><td>1.0</td><td>0.1</td><td>0.1</td><td>7.7</td><td>10.2</td><td>18.0</td><td>16.0</td><td>0.9</td><td>4.4</td><td>5.3</td><td>147</td><td>1.1</td><td>7.0</td><td>6.0</td></tr><tr><td>20</td><td>2022</td><td>6</td><td>1</td><td>1</td><td>28</td><td>0</td><td>0</td><td>0.8</td><td>0.0</td><td>0.3</td><td>0.3</td><td>8.0</td><td>11.0</td><td>21.0</td><td>17.0</td><td>0.3</td><td>14.1</td><td>14.4</td><td>136</td><td>0.2</td><td>14.0</td><td>8.0</td></tr><tr><td>14</td><td>2022</td><td>6</td><td>1</td><td>1</td><td>27</td><td>1</td><td>0</td><td>0.0</td><td>0.0</td><td>0.3</td><td>0.4</td><td>1.9</td><td>6.5</td><td>20.0</td><td>11.0</td><td>4.2</td><td>16.700001</td><td>20.9</td><td>133</td><td>0.6</td><td>6.0</td><td>6.0</td></tr><tr><td>72</td><td>2022</td><td>6</td><td>1</td><td>1</td><td>15</td><td>1</td><td>0</td><td>1.4</td><td>1.0</td><td>0.2</td><td>0.2</td><td>6.1</td><td>10.2</td><td>24.0</td><td>15.0</td><td>1.4</td><td>3.8</td><td>5.2</td><td>149</td><td>0.3</td><td>5.0</td><td>2.0</td></tr></tbody></table></div>"
     },
     "execution_count": 85,
     "metadata": {},
     "output_type": "execute_result"
    }
   ],
   "source": [
    "dataset.head()"
   ],
   "metadata": {
    "collapsed": false,
    "ExecuteTime": {
     "end_time": "2023-06-10T08:30:53.967959Z",
     "start_time": "2023-06-10T08:30:53.962178Z"
    }
   }
  },
  {
   "cell_type": "markdown",
   "source": [
    "# Features"
   ],
   "metadata": {
    "collapsed": false
   }
  },
  {
   "cell_type": "code",
   "execution_count": 100,
   "outputs": [],
   "source": [
    "features: list = ['AQI', 'Status', 'PM10', 'PM10_AVG', 'PM2.5_AVG']\n",
    "target_feature: str = 'PM2.5'"
   ],
   "metadata": {
    "collapsed": false,
    "ExecuteTime": {
     "end_time": "2023-06-10T08:45:39.152911Z",
     "start_time": "2023-06-10T08:45:39.139261Z"
    }
   }
  },
  {
   "cell_type": "code",
   "execution_count": 101,
   "outputs": [],
   "source": [
    "variables: np.array = np.array([dataset[feature].to_numpy() for feature in features])\n",
    "variables = variables.transpose()"
   ],
   "metadata": {
    "collapsed": false,
    "ExecuteTime": {
     "end_time": "2023-06-10T08:45:39.648207Z",
     "start_time": "2023-06-10T08:45:39.471600Z"
    }
   }
  },
  {
   "cell_type": "code",
   "execution_count": 102,
   "outputs": [],
   "source": [
    "target: np.array = dataset[target_feature].to_numpy().reshape(1, -1)\n",
    "target = target.transpose()"
   ],
   "metadata": {
    "collapsed": false,
    "ExecuteTime": {
     "end_time": "2023-06-10T08:45:40.088802Z",
     "start_time": "2023-06-10T08:45:40.078370Z"
    }
   }
  },
  {
   "cell_type": "code",
   "execution_count": 103,
   "outputs": [],
   "source": [
    "train_variables, test_variables, train_target, test_target = train_test_split(variables, target, \n",
    "                                                                              test_size=0.4, random_state=37710, \n",
    "                                                                              shuffle=True)"
   ],
   "metadata": {
    "collapsed": false,
    "ExecuteTime": {
     "end_time": "2023-06-10T08:45:41.101310Z",
     "start_time": "2023-06-10T08:45:40.811504Z"
    }
   }
  },
  {
   "cell_type": "code",
   "execution_count": 104,
   "outputs": [],
   "source": [
    "train_variables = shared(train_variables.transpose())\n",
    "train_target = train_target.transpose()\n",
    "test_variables = test_variables.transpose()\n",
    "test_target = test_target.transpose()"
   ],
   "metadata": {
    "collapsed": false,
    "ExecuteTime": {
     "end_time": "2023-06-10T08:45:41.777363Z",
     "start_time": "2023-06-10T08:45:41.726680Z"
    }
   }
  },
  {
   "cell_type": "code",
   "execution_count": 105,
   "outputs": [],
   "source": [
    "# train_variables: list = [shared(train_variables[i]) \n",
    "#                          for i in range(train_variables.shape[0])]\n",
    "# test_variables: list = [shared(test_variables[i]) \n",
    "#                         for i in range(test_variables.shape[0])]"
   ],
   "metadata": {
    "collapsed": false,
    "ExecuteTime": {
     "end_time": "2023-06-10T08:45:42.775323Z",
     "start_time": "2023-06-10T08:45:42.761457Z"
    }
   }
  },
  {
   "cell_type": "markdown",
   "source": [
    "# Model"
   ],
   "metadata": {
    "collapsed": false,
    "ExecuteTime": {
     "end_time": "2023-05-31T12:58:15.912996Z",
     "start_time": "2023-05-31T12:58:15.906233Z"
    }
   }
  },
  {
   "cell_type": "code",
   "execution_count": 97,
   "outputs": [
    {
     "name": "stdout",
     "output_type": "stream",
     "text": [
      "\n",
      "You can find the C code in this temporary file: /var/folders/vv/93wphtyn4w15b8hssz_f1c500000gn/T/theano_compilation_error_qzm0vifh\n",
      "library atest/envs/BDA/include/python3.9/Python.h:27:5: is not found.\n",
      "library atest/envs/BDA/include/python3.9/Python.h:30: is not found.\n",
      "library atest/envs/BDA/bin/../include/c++/v1/string.h:95:102: is not found.\n",
      "library atest/envs/BDA/bin/../include/c++/v1/string.h:98:90: is not found.\n",
      "library atest/envs/BDA/include/python3.9/Python.h:34: is not found.\n",
      "library atest/envs/BDA/bin/../include/c++/v1/stdlib.h:150:34: is not found.\n",
      "library atest/envs/BDA/bin/../include/c++/v1/stdlib.h:151:12: is not found.\n",
      "library atest/envs/BDA/bin/../include/c++/v1/stdlib.h:154:34: is not found.\n",
      "library atest/envs/BDA/bin/../include/c++/v1/stdlib.h:156:12: is not found.\n",
      "library atest/envs/BDA/include/python3.9/Python.h:36:10: is not found.\n"
     ]
    },
    {
     "ename": "Exception",
     "evalue": "('Compilation failed (return status=1): In file included from /Users/hermeschen/.theano/compiledir_macOS-14.0-x86_64-i386-64bit-i386-3.9.16-64/tmp5moyqjd4/mod.cpp:1:. /Users/hermeschen/.pyenv/versions/miniconda3-latest/envs/BDA/include/python3.9/Python.h:27:5: error: \"Python.h requires that stdio.h define NULL.\". #   error \"Python.h requires that stdio.h define NULL.\".     ^. In file included from /Users/hermeschen/.theano/compiledir_macOS-14.0-x86_64-i386-64bit-i386-3.9.16-64/tmp5moyqjd4/mod.cpp:1:. In file included from /Users/hermeschen/.pyenv/versions/miniconda3-latest/envs/BDA/include/python3.9/Python.h:30:. /Users/hermeschen/.pyenv/versions/miniconda3-latest/envs/BDA/bin/../include/c++/v1/string.h:95:102: error: unknown type name \\'size_t\\'. inline _LIBCPP_HIDE_FROM_ABI _LIBCPP_PREFERRED_OVERLOAD const void* memchr(const void* __s, int __c, size_t __n) {.                                                                                                      ^. /Users/hermeschen/.pyenv/versions/miniconda3-latest/envs/BDA/bin/../include/c++/v1/string.h:98:90: error: unknown type name \\'size_t\\'. inline _LIBCPP_HIDE_FROM_ABI _LIBCPP_PREFERRED_OVERLOAD void* memchr(void* __s, int __c, size_t __n) {.                                                                                          ^. In file included from /Users/hermeschen/.theano/compiledir_macOS-14.0-x86_64-i386-64bit-i386-3.9.16-64/tmp5moyqjd4/mod.cpp:1:. In file included from /Users/hermeschen/.pyenv/versions/miniconda3-latest/envs/BDA/include/python3.9/Python.h:34:. /Users/hermeschen/.pyenv/versions/miniconda3-latest/envs/BDA/bin/../include/c++/v1/stdlib.h:150:34: error: unknown type name \\'ldiv_t\\'. inline _LIBCPP_INLINE_VISIBILITY ldiv_t div(long __x, long __y) _NOEXCEPT {.                                  ^. /Users/hermeschen/.pyenv/versions/miniconda3-latest/envs/BDA/bin/../include/c++/v1/stdlib.h:151:12: error: no member named \\'ldiv\\' in the global namespace.   return ::ldiv(__x, __y);.          ~~^. /Users/hermeschen/.pyenv/versions/miniconda3-latest/envs/BDA/bin/../include/c++/v1/stdlib.h:154:34: error: unknown type name \\'lldiv_t\\'. inline _LIBCPP_INLINE_VISIBILITY lldiv_t div(long long __x,.                                  ^. /Users/hermeschen/.pyenv/versions/miniconda3-latest/envs/BDA/bin/../include/c++/v1/stdlib.h:156:12: error: no member named \\'lldiv\\' in the global namespace.   return ::lldiv(__x, __y);.          ~~^. In file included from /Users/hermeschen/.theano/compiledir_macOS-14.0-x86_64-i386-64bit-i386-3.9.16-64/tmp5moyqjd4/mod.cpp:1:. /Users/hermeschen/.pyenv/versions/miniconda3-latest/envs/BDA/include/python3.9/Python.h:36:10: fatal error: \\'unistd.h\\' file not found. #include <unistd.h>.          ^~~~~~~~~~. 8 errors generated.. ', 'FunctionGraph(Elemwise{true_div,no_inplace}(TensorConstant{1.0}, TensorConstant{0.01}))')",
     "output_type": "error",
     "traceback": [
      "\u001B[0;31m---------------------------------------------------------------------------\u001B[0m",
      "\u001B[0;31mException\u001B[0m                                 Traceback (most recent call last)",
      "Cell \u001B[0;32mIn[97], line 2\u001B[0m\n\u001B[1;32m      1\u001B[0m \u001B[38;5;28;01mwith\u001B[39;00m pm\u001B[38;5;241m.\u001B[39mModel() \u001B[38;5;28;01mas\u001B[39;00m predictor:\n\u001B[0;32m----> 2\u001B[0m \tintercept \u001B[38;5;241m=\u001B[39m \u001B[43mpm\u001B[49m\u001B[38;5;241;43m.\u001B[39;49m\u001B[43mNormal\u001B[49m\u001B[43m(\u001B[49m\u001B[43mname\u001B[49m\u001B[38;5;241;43m=\u001B[39;49m\u001B[38;5;124;43m'\u001B[39;49m\u001B[38;5;124;43mintercept\u001B[39;49m\u001B[38;5;124;43m'\u001B[39;49m\u001B[43m,\u001B[49m\u001B[43m \u001B[49m\u001B[43msd\u001B[49m\u001B[38;5;241;43m=\u001B[39;49m\u001B[38;5;241;43m10\u001B[39;49m\u001B[43m)\u001B[49m\n\u001B[1;32m      3\u001B[0m \tcoefficients \u001B[38;5;241m=\u001B[39m pm\u001B[38;5;241m.\u001B[39mNormal(name\u001B[38;5;241m=\u001B[39m\u001B[38;5;124m'\u001B[39m\u001B[38;5;124mcoefficients\u001B[39m\u001B[38;5;124m'\u001B[39m, mu\u001B[38;5;241m=\u001B[39m\u001B[38;5;241m0\u001B[39m, sd\u001B[38;5;241m=\u001B[39m\u001B[38;5;241m1\u001B[39m, shape\u001B[38;5;241m=\u001B[39m\u001B[38;5;241m5\u001B[39m)\n\u001B[1;32m      4\u001B[0m \terror \u001B[38;5;241m=\u001B[39m pm\u001B[38;5;241m.\u001B[39mHalfCauchy(name\u001B[38;5;241m=\u001B[39m\u001B[38;5;124m'\u001B[39m\u001B[38;5;124merror\u001B[39m\u001B[38;5;124m'\u001B[39m, beta\u001B[38;5;241m=\u001B[39m\u001B[38;5;241m5\u001B[39m)\n",
      "File \u001B[0;32m~/.pyenv/versions/miniconda3-latest/envs/BDA/lib/python3.9/site-packages/pymc3/distributions/distribution.py:124\u001B[0m, in \u001B[0;36mDistribution.__new__\u001B[0;34m(cls, name, *args, **kwargs)\u001B[0m\n\u001B[1;32m    122\u001B[0m     dist \u001B[38;5;241m=\u001B[39m \u001B[38;5;28mcls\u001B[39m\u001B[38;5;241m.\u001B[39mdist(\u001B[38;5;241m*\u001B[39margs, \u001B[38;5;241m*\u001B[39m\u001B[38;5;241m*\u001B[39mkwargs, shape\u001B[38;5;241m=\u001B[39mshape)\n\u001B[1;32m    123\u001B[0m \u001B[38;5;28;01melse\u001B[39;00m:\n\u001B[0;32m--> 124\u001B[0m     dist \u001B[38;5;241m=\u001B[39m \u001B[38;5;28;43mcls\u001B[39;49m\u001B[38;5;241;43m.\u001B[39;49m\u001B[43mdist\u001B[49m\u001B[43m(\u001B[49m\u001B[38;5;241;43m*\u001B[39;49m\u001B[43margs\u001B[49m\u001B[43m,\u001B[49m\u001B[43m \u001B[49m\u001B[38;5;241;43m*\u001B[39;49m\u001B[38;5;241;43m*\u001B[39;49m\u001B[43mkwargs\u001B[49m\u001B[43m)\u001B[49m\n\u001B[1;32m    125\u001B[0m \u001B[38;5;28;01mreturn\u001B[39;00m model\u001B[38;5;241m.\u001B[39mVar(name, dist, data, total_size, dims\u001B[38;5;241m=\u001B[39mdims)\n",
      "File \u001B[0;32m~/.pyenv/versions/miniconda3-latest/envs/BDA/lib/python3.9/site-packages/pymc3/distributions/distribution.py:133\u001B[0m, in \u001B[0;36mDistribution.dist\u001B[0;34m(cls, *args, **kwargs)\u001B[0m\n\u001B[1;32m    130\u001B[0m \u001B[38;5;129m@classmethod\u001B[39m\n\u001B[1;32m    131\u001B[0m \u001B[38;5;28;01mdef\u001B[39;00m \u001B[38;5;21mdist\u001B[39m(\u001B[38;5;28mcls\u001B[39m, \u001B[38;5;241m*\u001B[39margs, \u001B[38;5;241m*\u001B[39m\u001B[38;5;241m*\u001B[39mkwargs):\n\u001B[1;32m    132\u001B[0m     dist \u001B[38;5;241m=\u001B[39m \u001B[38;5;28mobject\u001B[39m\u001B[38;5;241m.\u001B[39m\u001B[38;5;21m__new__\u001B[39m(\u001B[38;5;28mcls\u001B[39m)\n\u001B[0;32m--> 133\u001B[0m     \u001B[43mdist\u001B[49m\u001B[38;5;241;43m.\u001B[39;49m\u001B[38;5;21;43m__init__\u001B[39;49m\u001B[43m(\u001B[49m\u001B[38;5;241;43m*\u001B[39;49m\u001B[43margs\u001B[49m\u001B[43m,\u001B[49m\u001B[43m \u001B[49m\u001B[38;5;241;43m*\u001B[39;49m\u001B[38;5;241;43m*\u001B[39;49m\u001B[43mkwargs\u001B[49m\u001B[43m)\u001B[49m\n\u001B[1;32m    134\u001B[0m     \u001B[38;5;28;01mreturn\u001B[39;00m dist\n",
      "File \u001B[0;32m~/.pyenv/versions/miniconda3-latest/envs/BDA/lib/python3.9/site-packages/pymc3/distributions/continuous.py:488\u001B[0m, in \u001B[0;36mNormal.__init__\u001B[0;34m(self, mu, sigma, tau, sd, **kwargs)\u001B[0m\n\u001B[1;32m    485\u001B[0m \u001B[38;5;28mself\u001B[39m\u001B[38;5;241m.\u001B[39mtau \u001B[38;5;241m=\u001B[39m tt\u001B[38;5;241m.\u001B[39mas_tensor_variable(tau)\n\u001B[1;32m    487\u001B[0m \u001B[38;5;28mself\u001B[39m\u001B[38;5;241m.\u001B[39mmean \u001B[38;5;241m=\u001B[39m \u001B[38;5;28mself\u001B[39m\u001B[38;5;241m.\u001B[39mmedian \u001B[38;5;241m=\u001B[39m \u001B[38;5;28mself\u001B[39m\u001B[38;5;241m.\u001B[39mmode \u001B[38;5;241m=\u001B[39m \u001B[38;5;28mself\u001B[39m\u001B[38;5;241m.\u001B[39mmu \u001B[38;5;241m=\u001B[39m mu \u001B[38;5;241m=\u001B[39m tt\u001B[38;5;241m.\u001B[39mas_tensor_variable(floatX(mu))\n\u001B[0;32m--> 488\u001B[0m \u001B[38;5;28mself\u001B[39m\u001B[38;5;241m.\u001B[39mvariance \u001B[38;5;241m=\u001B[39m \u001B[38;5;241;43m1.0\u001B[39;49m\u001B[43m \u001B[49m\u001B[38;5;241;43m/\u001B[39;49m\u001B[43m \u001B[49m\u001B[38;5;28;43mself\u001B[39;49m\u001B[38;5;241;43m.\u001B[39;49m\u001B[43mtau\u001B[49m\n\u001B[1;32m    490\u001B[0m assert_negative_support(sigma, \u001B[38;5;124m\"\u001B[39m\u001B[38;5;124msigma\u001B[39m\u001B[38;5;124m\"\u001B[39m, \u001B[38;5;124m\"\u001B[39m\u001B[38;5;124mNormal\u001B[39m\u001B[38;5;124m\"\u001B[39m)\n\u001B[1;32m    491\u001B[0m assert_negative_support(tau, \u001B[38;5;124m\"\u001B[39m\u001B[38;5;124mtau\u001B[39m\u001B[38;5;124m\"\u001B[39m, \u001B[38;5;124m\"\u001B[39m\u001B[38;5;124mNormal\u001B[39m\u001B[38;5;124m\"\u001B[39m)\n",
      "File \u001B[0;32m~/.pyenv/versions/miniconda3-latest/envs/BDA/lib/python3.9/site-packages/theano/tensor/var.py:176\u001B[0m, in \u001B[0;36m_tensor_py_operators.__rtruediv__\u001B[0;34m(self, other)\u001B[0m\n\u001B[1;32m    175\u001B[0m \u001B[38;5;28;01mdef\u001B[39;00m \u001B[38;5;21m__rtruediv__\u001B[39m(\u001B[38;5;28mself\u001B[39m, other):\n\u001B[0;32m--> 176\u001B[0m     \u001B[38;5;28;01mreturn\u001B[39;00m \u001B[43mtheano\u001B[49m\u001B[38;5;241;43m.\u001B[39;49m\u001B[43mtensor\u001B[49m\u001B[38;5;241;43m.\u001B[39;49m\u001B[43mbasic\u001B[49m\u001B[38;5;241;43m.\u001B[39;49m\u001B[43mtrue_div\u001B[49m\u001B[43m(\u001B[49m\u001B[43mother\u001B[49m\u001B[43m,\u001B[49m\u001B[43m \u001B[49m\u001B[38;5;28;43mself\u001B[39;49m\u001B[43m)\u001B[49m\n",
      "File \u001B[0;32m~/.pyenv/versions/miniconda3-latest/envs/BDA/lib/python3.9/site-packages/theano/graph/op.py:253\u001B[0m, in \u001B[0;36mOp.__call__\u001B[0;34m(self, *inputs, **kwargs)\u001B[0m\n\u001B[1;32m    250\u001B[0m node \u001B[38;5;241m=\u001B[39m \u001B[38;5;28mself\u001B[39m\u001B[38;5;241m.\u001B[39mmake_node(\u001B[38;5;241m*\u001B[39minputs, \u001B[38;5;241m*\u001B[39m\u001B[38;5;241m*\u001B[39mkwargs)\n\u001B[1;32m    252\u001B[0m \u001B[38;5;28;01mif\u001B[39;00m config\u001B[38;5;241m.\u001B[39mcompute_test_value \u001B[38;5;241m!=\u001B[39m \u001B[38;5;124m\"\u001B[39m\u001B[38;5;124moff\u001B[39m\u001B[38;5;124m\"\u001B[39m:\n\u001B[0;32m--> 253\u001B[0m     \u001B[43mcompute_test_value\u001B[49m\u001B[43m(\u001B[49m\u001B[43mnode\u001B[49m\u001B[43m)\u001B[49m\n\u001B[1;32m    255\u001B[0m \u001B[38;5;28;01mif\u001B[39;00m \u001B[38;5;28mself\u001B[39m\u001B[38;5;241m.\u001B[39mdefault_output \u001B[38;5;129;01mis\u001B[39;00m \u001B[38;5;129;01mnot\u001B[39;00m \u001B[38;5;28;01mNone\u001B[39;00m:\n\u001B[1;32m    256\u001B[0m     rval \u001B[38;5;241m=\u001B[39m node\u001B[38;5;241m.\u001B[39moutputs[\u001B[38;5;28mself\u001B[39m\u001B[38;5;241m.\u001B[39mdefault_output]\n",
      "File \u001B[0;32m~/.pyenv/versions/miniconda3-latest/envs/BDA/lib/python3.9/site-packages/theano/graph/op.py:126\u001B[0m, in \u001B[0;36mcompute_test_value\u001B[0;34m(node)\u001B[0m\n\u001B[1;32m    123\u001B[0m     compute_map[o] \u001B[38;5;241m=\u001B[39m [\u001B[38;5;28;01mFalse\u001B[39;00m]\n\u001B[1;32m    125\u001B[0m \u001B[38;5;66;03m# Create a thunk that performs the computation\u001B[39;00m\n\u001B[0;32m--> 126\u001B[0m thunk \u001B[38;5;241m=\u001B[39m \u001B[43mnode\u001B[49m\u001B[38;5;241;43m.\u001B[39;49m\u001B[43mop\u001B[49m\u001B[38;5;241;43m.\u001B[39;49m\u001B[43mmake_thunk\u001B[49m\u001B[43m(\u001B[49m\u001B[43mnode\u001B[49m\u001B[43m,\u001B[49m\u001B[43m \u001B[49m\u001B[43mstorage_map\u001B[49m\u001B[43m,\u001B[49m\u001B[43m \u001B[49m\u001B[43mcompute_map\u001B[49m\u001B[43m,\u001B[49m\u001B[43m \u001B[49m\u001B[43mno_recycling\u001B[49m\u001B[38;5;241;43m=\u001B[39;49m\u001B[43m[\u001B[49m\u001B[43m]\u001B[49m\u001B[43m)\u001B[49m\n\u001B[1;32m    127\u001B[0m thunk\u001B[38;5;241m.\u001B[39minputs \u001B[38;5;241m=\u001B[39m [storage_map[v] \u001B[38;5;28;01mfor\u001B[39;00m v \u001B[38;5;129;01min\u001B[39;00m node\u001B[38;5;241m.\u001B[39minputs]\n\u001B[1;32m    128\u001B[0m thunk\u001B[38;5;241m.\u001B[39moutputs \u001B[38;5;241m=\u001B[39m [storage_map[v] \u001B[38;5;28;01mfor\u001B[39;00m v \u001B[38;5;129;01min\u001B[39;00m node\u001B[38;5;241m.\u001B[39moutputs]\n",
      "File \u001B[0;32m~/.pyenv/versions/miniconda3-latest/envs/BDA/lib/python3.9/site-packages/theano/graph/op.py:634\u001B[0m, in \u001B[0;36mCOp.make_thunk\u001B[0;34m(self, node, storage_map, compute_map, no_recycling, impl)\u001B[0m\n\u001B[1;32m    630\u001B[0m \u001B[38;5;28mself\u001B[39m\u001B[38;5;241m.\u001B[39mprepare_node(\n\u001B[1;32m    631\u001B[0m     node, storage_map\u001B[38;5;241m=\u001B[39mstorage_map, compute_map\u001B[38;5;241m=\u001B[39mcompute_map, impl\u001B[38;5;241m=\u001B[39m\u001B[38;5;124m\"\u001B[39m\u001B[38;5;124mc\u001B[39m\u001B[38;5;124m\"\u001B[39m\n\u001B[1;32m    632\u001B[0m )\n\u001B[1;32m    633\u001B[0m \u001B[38;5;28;01mtry\u001B[39;00m:\n\u001B[0;32m--> 634\u001B[0m     \u001B[38;5;28;01mreturn\u001B[39;00m \u001B[38;5;28;43mself\u001B[39;49m\u001B[38;5;241;43m.\u001B[39;49m\u001B[43mmake_c_thunk\u001B[49m\u001B[43m(\u001B[49m\u001B[43mnode\u001B[49m\u001B[43m,\u001B[49m\u001B[43m \u001B[49m\u001B[43mstorage_map\u001B[49m\u001B[43m,\u001B[49m\u001B[43m \u001B[49m\u001B[43mcompute_map\u001B[49m\u001B[43m,\u001B[49m\u001B[43m \u001B[49m\u001B[43mno_recycling\u001B[49m\u001B[43m)\u001B[49m\n\u001B[1;32m    635\u001B[0m \u001B[38;5;28;01mexcept\u001B[39;00m (\u001B[38;5;167;01mNotImplementedError\u001B[39;00m, MethodNotDefined):\n\u001B[1;32m    636\u001B[0m     \u001B[38;5;66;03m# We requested the c code, so don't catch the error.\u001B[39;00m\n\u001B[1;32m    637\u001B[0m     \u001B[38;5;28;01mif\u001B[39;00m impl \u001B[38;5;241m==\u001B[39m \u001B[38;5;124m\"\u001B[39m\u001B[38;5;124mc\u001B[39m\u001B[38;5;124m\"\u001B[39m:\n",
      "File \u001B[0;32m~/.pyenv/versions/miniconda3-latest/envs/BDA/lib/python3.9/site-packages/theano/graph/op.py:600\u001B[0m, in \u001B[0;36mCOp.make_c_thunk\u001B[0;34m(self, node, storage_map, compute_map, no_recycling)\u001B[0m\n\u001B[1;32m    598\u001B[0m         \u001B[38;5;28mprint\u001B[39m(\u001B[38;5;124mf\u001B[39m\u001B[38;5;124m\"\u001B[39m\u001B[38;5;124mDisabling C code for \u001B[39m\u001B[38;5;132;01m{\u001B[39;00m\u001B[38;5;28mself\u001B[39m\u001B[38;5;132;01m}\u001B[39;00m\u001B[38;5;124m due to unsupported float16\u001B[39m\u001B[38;5;124m\"\u001B[39m)\n\u001B[1;32m    599\u001B[0m         \u001B[38;5;28;01mraise\u001B[39;00m \u001B[38;5;167;01mNotImplementedError\u001B[39;00m(\u001B[38;5;124m\"\u001B[39m\u001B[38;5;124mfloat16\u001B[39m\u001B[38;5;124m\"\u001B[39m)\n\u001B[0;32m--> 600\u001B[0m outputs \u001B[38;5;241m=\u001B[39m \u001B[43mcl\u001B[49m\u001B[38;5;241;43m.\u001B[39;49m\u001B[43mmake_thunk\u001B[49m\u001B[43m(\u001B[49m\n\u001B[1;32m    601\u001B[0m \u001B[43m    \u001B[49m\u001B[43minput_storage\u001B[49m\u001B[38;5;241;43m=\u001B[39;49m\u001B[43mnode_input_storage\u001B[49m\u001B[43m,\u001B[49m\u001B[43m \u001B[49m\u001B[43moutput_storage\u001B[49m\u001B[38;5;241;43m=\u001B[39;49m\u001B[43mnode_output_storage\u001B[49m\n\u001B[1;32m    602\u001B[0m \u001B[43m\u001B[49m\u001B[43m)\u001B[49m\n\u001B[1;32m    603\u001B[0m thunk, node_input_filters, node_output_filters \u001B[38;5;241m=\u001B[39m outputs\n\u001B[1;32m    605\u001B[0m \u001B[38;5;28;01mdef\u001B[39;00m \u001B[38;5;21mrval\u001B[39m():\n",
      "File \u001B[0;32m~/.pyenv/versions/miniconda3-latest/envs/BDA/lib/python3.9/site-packages/theano/link/c/basic.py:1203\u001B[0m, in \u001B[0;36mCLinker.make_thunk\u001B[0;34m(self, input_storage, output_storage, storage_map)\u001B[0m\n\u001B[1;32m   1175\u001B[0m \u001B[38;5;250m\u001B[39m\u001B[38;5;124;03m\"\"\"\u001B[39;00m\n\u001B[1;32m   1176\u001B[0m \u001B[38;5;124;03mCompiles this linker's fgraph and returns a function to perform the\u001B[39;00m\n\u001B[1;32m   1177\u001B[0m \u001B[38;5;124;03mcomputations, as well as lists of storage cells for both the inputs\u001B[39;00m\n\u001B[0;32m   (...)\u001B[0m\n\u001B[1;32m   1200\u001B[0m \u001B[38;5;124;03m  first_output = ostor[0].data\u001B[39;00m\n\u001B[1;32m   1201\u001B[0m \u001B[38;5;124;03m\"\"\"\u001B[39;00m\n\u001B[1;32m   1202\u001B[0m init_tasks, tasks \u001B[38;5;241m=\u001B[39m \u001B[38;5;28mself\u001B[39m\u001B[38;5;241m.\u001B[39mget_init_tasks()\n\u001B[0;32m-> 1203\u001B[0m cthunk, module, in_storage, out_storage, error_storage \u001B[38;5;241m=\u001B[39m \u001B[38;5;28;43mself\u001B[39;49m\u001B[38;5;241;43m.\u001B[39;49m\u001B[43m__compile__\u001B[49m\u001B[43m(\u001B[49m\n\u001B[1;32m   1204\u001B[0m \u001B[43m    \u001B[49m\u001B[43minput_storage\u001B[49m\u001B[43m,\u001B[49m\u001B[43m \u001B[49m\u001B[43moutput_storage\u001B[49m\u001B[43m,\u001B[49m\u001B[43m \u001B[49m\u001B[43mstorage_map\u001B[49m\n\u001B[1;32m   1205\u001B[0m \u001B[43m\u001B[49m\u001B[43m)\u001B[49m\n\u001B[1;32m   1207\u001B[0m res \u001B[38;5;241m=\u001B[39m _CThunk(cthunk, init_tasks, tasks, error_storage, module)\n\u001B[1;32m   1208\u001B[0m res\u001B[38;5;241m.\u001B[39mnodes \u001B[38;5;241m=\u001B[39m \u001B[38;5;28mself\u001B[39m\u001B[38;5;241m.\u001B[39mnode_order\n",
      "File \u001B[0;32m~/.pyenv/versions/miniconda3-latest/envs/BDA/lib/python3.9/site-packages/theano/link/c/basic.py:1138\u001B[0m, in \u001B[0;36mCLinker.__compile__\u001B[0;34m(self, input_storage, output_storage, storage_map)\u001B[0m\n\u001B[1;32m   1136\u001B[0m input_storage \u001B[38;5;241m=\u001B[39m \u001B[38;5;28mtuple\u001B[39m(input_storage)\n\u001B[1;32m   1137\u001B[0m output_storage \u001B[38;5;241m=\u001B[39m \u001B[38;5;28mtuple\u001B[39m(output_storage)\n\u001B[0;32m-> 1138\u001B[0m thunk, module \u001B[38;5;241m=\u001B[39m \u001B[38;5;28;43mself\u001B[39;49m\u001B[38;5;241;43m.\u001B[39;49m\u001B[43mcthunk_factory\u001B[49m\u001B[43m(\u001B[49m\n\u001B[1;32m   1139\u001B[0m \u001B[43m    \u001B[49m\u001B[43merror_storage\u001B[49m\u001B[43m,\u001B[49m\n\u001B[1;32m   1140\u001B[0m \u001B[43m    \u001B[49m\u001B[43minput_storage\u001B[49m\u001B[43m,\u001B[49m\n\u001B[1;32m   1141\u001B[0m \u001B[43m    \u001B[49m\u001B[43moutput_storage\u001B[49m\u001B[43m,\u001B[49m\n\u001B[1;32m   1142\u001B[0m \u001B[43m    \u001B[49m\u001B[43mstorage_map\u001B[49m\u001B[43m,\u001B[49m\n\u001B[1;32m   1143\u001B[0m \u001B[43m\u001B[49m\u001B[43m)\u001B[49m\n\u001B[1;32m   1144\u001B[0m \u001B[38;5;28;01mreturn\u001B[39;00m (\n\u001B[1;32m   1145\u001B[0m     thunk,\n\u001B[1;32m   1146\u001B[0m     module,\n\u001B[0;32m   (...)\u001B[0m\n\u001B[1;32m   1155\u001B[0m     error_storage,\n\u001B[1;32m   1156\u001B[0m )\n",
      "File \u001B[0;32m~/.pyenv/versions/miniconda3-latest/envs/BDA/lib/python3.9/site-packages/theano/link/c/basic.py:1634\u001B[0m, in \u001B[0;36mCLinker.cthunk_factory\u001B[0;34m(self, error_storage, in_storage, out_storage, storage_map)\u001B[0m\n\u001B[1;32m   1632\u001B[0m     \u001B[38;5;28;01mfor\u001B[39;00m node \u001B[38;5;129;01min\u001B[39;00m \u001B[38;5;28mself\u001B[39m\u001B[38;5;241m.\u001B[39mnode_order:\n\u001B[1;32m   1633\u001B[0m         node\u001B[38;5;241m.\u001B[39mop\u001B[38;5;241m.\u001B[39mprepare_node(node, storage_map, \u001B[38;5;28;01mNone\u001B[39;00m, \u001B[38;5;124m\"\u001B[39m\u001B[38;5;124mc\u001B[39m\u001B[38;5;124m\"\u001B[39m)\n\u001B[0;32m-> 1634\u001B[0m     module \u001B[38;5;241m=\u001B[39m \u001B[43mget_module_cache\u001B[49m\u001B[43m(\u001B[49m\u001B[43m)\u001B[49m\u001B[38;5;241;43m.\u001B[39;49m\u001B[43mmodule_from_key\u001B[49m\u001B[43m(\u001B[49m\u001B[43mkey\u001B[49m\u001B[38;5;241;43m=\u001B[39;49m\u001B[43mkey\u001B[49m\u001B[43m,\u001B[49m\u001B[43m \u001B[49m\u001B[43mlnk\u001B[49m\u001B[38;5;241;43m=\u001B[39;49m\u001B[38;5;28;43mself\u001B[39;49m\u001B[43m)\u001B[49m\n\u001B[1;32m   1636\u001B[0m \u001B[38;5;28mvars\u001B[39m \u001B[38;5;241m=\u001B[39m \u001B[38;5;28mself\u001B[39m\u001B[38;5;241m.\u001B[39minputs \u001B[38;5;241m+\u001B[39m \u001B[38;5;28mself\u001B[39m\u001B[38;5;241m.\u001B[39moutputs \u001B[38;5;241m+\u001B[39m \u001B[38;5;28mself\u001B[39m\u001B[38;5;241m.\u001B[39morphans\n\u001B[1;32m   1637\u001B[0m \u001B[38;5;66;03m# List of indices that should be ignored when passing the arguments\u001B[39;00m\n\u001B[1;32m   1638\u001B[0m \u001B[38;5;66;03m# (basically, everything that the previous call to uniq eliminated)\u001B[39;00m\n",
      "File \u001B[0;32m~/.pyenv/versions/miniconda3-latest/envs/BDA/lib/python3.9/site-packages/theano/link/c/cmodule.py:1191\u001B[0m, in \u001B[0;36mModuleCache.module_from_key\u001B[0;34m(self, key, lnk)\u001B[0m\n\u001B[1;32m   1189\u001B[0m \u001B[38;5;28;01mtry\u001B[39;00m:\n\u001B[1;32m   1190\u001B[0m     location \u001B[38;5;241m=\u001B[39m dlimport_workdir(\u001B[38;5;28mself\u001B[39m\u001B[38;5;241m.\u001B[39mdirname)\n\u001B[0;32m-> 1191\u001B[0m     module \u001B[38;5;241m=\u001B[39m \u001B[43mlnk\u001B[49m\u001B[38;5;241;43m.\u001B[39;49m\u001B[43mcompile_cmodule\u001B[49m\u001B[43m(\u001B[49m\u001B[43mlocation\u001B[49m\u001B[43m)\u001B[49m\n\u001B[1;32m   1192\u001B[0m     name \u001B[38;5;241m=\u001B[39m module\u001B[38;5;241m.\u001B[39m\u001B[38;5;18m__file__\u001B[39m\n\u001B[1;32m   1193\u001B[0m     \u001B[38;5;28;01massert\u001B[39;00m name\u001B[38;5;241m.\u001B[39mstartswith(location)\n",
      "File \u001B[0;32m~/.pyenv/versions/miniconda3-latest/envs/BDA/lib/python3.9/site-packages/theano/link/c/basic.py:1543\u001B[0m, in \u001B[0;36mCLinker.compile_cmodule\u001B[0;34m(self, location)\u001B[0m\n\u001B[1;32m   1541\u001B[0m \u001B[38;5;28;01mtry\u001B[39;00m:\n\u001B[1;32m   1542\u001B[0m     _logger\u001B[38;5;241m.\u001B[39mdebug(\u001B[38;5;124mf\u001B[39m\u001B[38;5;124m\"\u001B[39m\u001B[38;5;124mLOCATION \u001B[39m\u001B[38;5;132;01m{\u001B[39;00mlocation\u001B[38;5;132;01m}\u001B[39;00m\u001B[38;5;124m\"\u001B[39m)\n\u001B[0;32m-> 1543\u001B[0m     module \u001B[38;5;241m=\u001B[39m \u001B[43mc_compiler\u001B[49m\u001B[38;5;241;43m.\u001B[39;49m\u001B[43mcompile_str\u001B[49m\u001B[43m(\u001B[49m\n\u001B[1;32m   1544\u001B[0m \u001B[43m        \u001B[49m\u001B[43mmodule_name\u001B[49m\u001B[38;5;241;43m=\u001B[39;49m\u001B[43mmod\u001B[49m\u001B[38;5;241;43m.\u001B[39;49m\u001B[43mcode_hash\u001B[49m\u001B[43m,\u001B[49m\n\u001B[1;32m   1545\u001B[0m \u001B[43m        \u001B[49m\u001B[43msrc_code\u001B[49m\u001B[38;5;241;43m=\u001B[39;49m\u001B[43msrc_code\u001B[49m\u001B[43m,\u001B[49m\n\u001B[1;32m   1546\u001B[0m \u001B[43m        \u001B[49m\u001B[43mlocation\u001B[49m\u001B[38;5;241;43m=\u001B[39;49m\u001B[43mlocation\u001B[49m\u001B[43m,\u001B[49m\n\u001B[1;32m   1547\u001B[0m \u001B[43m        \u001B[49m\u001B[43minclude_dirs\u001B[49m\u001B[38;5;241;43m=\u001B[39;49m\u001B[38;5;28;43mself\u001B[39;49m\u001B[38;5;241;43m.\u001B[39;49m\u001B[43mheader_dirs\u001B[49m\u001B[43m(\u001B[49m\u001B[43m)\u001B[49m\u001B[43m,\u001B[49m\n\u001B[1;32m   1548\u001B[0m \u001B[43m        \u001B[49m\u001B[43mlib_dirs\u001B[49m\u001B[38;5;241;43m=\u001B[39;49m\u001B[38;5;28;43mself\u001B[39;49m\u001B[38;5;241;43m.\u001B[39;49m\u001B[43mlib_dirs\u001B[49m\u001B[43m(\u001B[49m\u001B[43m)\u001B[49m\u001B[43m,\u001B[49m\n\u001B[1;32m   1549\u001B[0m \u001B[43m        \u001B[49m\u001B[43mlibs\u001B[49m\u001B[38;5;241;43m=\u001B[39;49m\u001B[43mlibs\u001B[49m\u001B[43m,\u001B[49m\n\u001B[1;32m   1550\u001B[0m \u001B[43m        \u001B[49m\u001B[43mpreargs\u001B[49m\u001B[38;5;241;43m=\u001B[39;49m\u001B[43mpreargs\u001B[49m\u001B[43m,\u001B[49m\n\u001B[1;32m   1551\u001B[0m \u001B[43m    \u001B[49m\u001B[43m)\u001B[49m\n\u001B[1;32m   1552\u001B[0m \u001B[38;5;28;01mexcept\u001B[39;00m \u001B[38;5;167;01mException\u001B[39;00m \u001B[38;5;28;01mas\u001B[39;00m e:\n\u001B[1;32m   1553\u001B[0m     e\u001B[38;5;241m.\u001B[39margs \u001B[38;5;241m+\u001B[39m\u001B[38;5;241m=\u001B[39m (\u001B[38;5;28mstr\u001B[39m(\u001B[38;5;28mself\u001B[39m\u001B[38;5;241m.\u001B[39mfgraph),)\n",
      "File \u001B[0;32m~/.pyenv/versions/miniconda3-latest/envs/BDA/lib/python3.9/site-packages/theano/link/c/cmodule.py:2546\u001B[0m, in \u001B[0;36mGCC_compiler.compile_str\u001B[0;34m(module_name, src_code, location, include_dirs, lib_dirs, libs, preargs, py_module, hide_symbols)\u001B[0m\n\u001B[1;32m   2542\u001B[0m     \u001B[38;5;66;03m# We replace '\\n' by '. ' in the error message because when Python\u001B[39;00m\n\u001B[1;32m   2543\u001B[0m     \u001B[38;5;66;03m# prints the exception, having '\\n' in the text makes it more\u001B[39;00m\n\u001B[1;32m   2544\u001B[0m     \u001B[38;5;66;03m# difficult to read.\u001B[39;00m\n\u001B[1;32m   2545\u001B[0m     compile_stderr \u001B[38;5;241m=\u001B[39m compile_stderr\u001B[38;5;241m.\u001B[39mreplace(\u001B[38;5;124m\"\u001B[39m\u001B[38;5;130;01m\\n\u001B[39;00m\u001B[38;5;124m\"\u001B[39m, \u001B[38;5;124m\"\u001B[39m\u001B[38;5;124m. \u001B[39m\u001B[38;5;124m\"\u001B[39m)\n\u001B[0;32m-> 2546\u001B[0m     \u001B[38;5;28;01mraise\u001B[39;00m \u001B[38;5;167;01mException\u001B[39;00m(\n\u001B[1;32m   2547\u001B[0m         \u001B[38;5;124mf\u001B[39m\u001B[38;5;124m\"\u001B[39m\u001B[38;5;124mCompilation failed (return status=\u001B[39m\u001B[38;5;132;01m{\u001B[39;00mstatus\u001B[38;5;132;01m}\u001B[39;00m\u001B[38;5;124m): \u001B[39m\u001B[38;5;132;01m{\u001B[39;00mcompile_stderr\u001B[38;5;132;01m}\u001B[39;00m\u001B[38;5;124m\"\u001B[39m\n\u001B[1;32m   2548\u001B[0m     )\n\u001B[1;32m   2549\u001B[0m \u001B[38;5;28;01melif\u001B[39;00m config\u001B[38;5;241m.\u001B[39mcmodule__compilation_warning \u001B[38;5;129;01mand\u001B[39;00m compile_stderr:\n\u001B[1;32m   2550\u001B[0m     \u001B[38;5;66;03m# Print errors just below the command line.\u001B[39;00m\n\u001B[1;32m   2551\u001B[0m     \u001B[38;5;28mprint\u001B[39m(compile_stderr)\n",
      "\u001B[0;31mException\u001B[0m: ('Compilation failed (return status=1): In file included from /Users/hermeschen/.theano/compiledir_macOS-14.0-x86_64-i386-64bit-i386-3.9.16-64/tmp5moyqjd4/mod.cpp:1:. /Users/hermeschen/.pyenv/versions/miniconda3-latest/envs/BDA/include/python3.9/Python.h:27:5: error: \"Python.h requires that stdio.h define NULL.\". #   error \"Python.h requires that stdio.h define NULL.\".     ^. In file included from /Users/hermeschen/.theano/compiledir_macOS-14.0-x86_64-i386-64bit-i386-3.9.16-64/tmp5moyqjd4/mod.cpp:1:. In file included from /Users/hermeschen/.pyenv/versions/miniconda3-latest/envs/BDA/include/python3.9/Python.h:30:. /Users/hermeschen/.pyenv/versions/miniconda3-latest/envs/BDA/bin/../include/c++/v1/string.h:95:102: error: unknown type name \\'size_t\\'. inline _LIBCPP_HIDE_FROM_ABI _LIBCPP_PREFERRED_OVERLOAD const void* memchr(const void* __s, int __c, size_t __n) {.                                                                                                      ^. /Users/hermeschen/.pyenv/versions/miniconda3-latest/envs/BDA/bin/../include/c++/v1/string.h:98:90: error: unknown type name \\'size_t\\'. inline _LIBCPP_HIDE_FROM_ABI _LIBCPP_PREFERRED_OVERLOAD void* memchr(void* __s, int __c, size_t __n) {.                                                                                          ^. In file included from /Users/hermeschen/.theano/compiledir_macOS-14.0-x86_64-i386-64bit-i386-3.9.16-64/tmp5moyqjd4/mod.cpp:1:. In file included from /Users/hermeschen/.pyenv/versions/miniconda3-latest/envs/BDA/include/python3.9/Python.h:34:. /Users/hermeschen/.pyenv/versions/miniconda3-latest/envs/BDA/bin/../include/c++/v1/stdlib.h:150:34: error: unknown type name \\'ldiv_t\\'. inline _LIBCPP_INLINE_VISIBILITY ldiv_t div(long __x, long __y) _NOEXCEPT {.                                  ^. /Users/hermeschen/.pyenv/versions/miniconda3-latest/envs/BDA/bin/../include/c++/v1/stdlib.h:151:12: error: no member named \\'ldiv\\' in the global namespace.   return ::ldiv(__x, __y);.          ~~^. /Users/hermeschen/.pyenv/versions/miniconda3-latest/envs/BDA/bin/../include/c++/v1/stdlib.h:154:34: error: unknown type name \\'lldiv_t\\'. inline _LIBCPP_INLINE_VISIBILITY lldiv_t div(long long __x,.                                  ^. /Users/hermeschen/.pyenv/versions/miniconda3-latest/envs/BDA/bin/../include/c++/v1/stdlib.h:156:12: error: no member named \\'lldiv\\' in the global namespace.   return ::lldiv(__x, __y);.          ~~^. In file included from /Users/hermeschen/.theano/compiledir_macOS-14.0-x86_64-i386-64bit-i386-3.9.16-64/tmp5moyqjd4/mod.cpp:1:. /Users/hermeschen/.pyenv/versions/miniconda3-latest/envs/BDA/include/python3.9/Python.h:36:10: fatal error: \\'unistd.h\\' file not found. #include <unistd.h>.          ^~~~~~~~~~. 8 errors generated.. ', 'FunctionGraph(Elemwise{true_div,no_inplace}(TensorConstant{1.0}, TensorConstant{0.01}))')"
     ]
    }
   ],
   "source": [
    "with pm.Model() as predictor:\n",
    "\tintercept = pm.Normal(name='intercept', sd=10)\n",
    "\tcoefficients = pm.Normal(name='coefficients', mu=0, sd=1, shape=5)\n",
    "\terror = pm.HalfCauchy(name='error', beta=5)\n",
    "\tmodel = intercept + pm.math.dot(train_variables, coefficients)\n",
    "\t\n",
    "\tprediction = pm.Normal(name='prediction', mu=model, sd=error, observed=train_target)\n",
    "\n",
    "\ttrace = pm.sample(tune=2000, chains=2, cores=8)\n",
    "\tppc = pm.sample_posterior_predictive(trace, samples=2000)"
   ],
   "metadata": {
    "collapsed": false,
    "ExecuteTime": {
     "end_time": "2023-06-10T08:31:58.886569Z",
     "start_time": "2023-06-10T08:31:56.835517Z"
    }
   }
  },
  {
   "cell_type": "markdown",
   "source": [
    "# Performance Analysis"
   ],
   "metadata": {
    "collapsed": false
   }
  },
  {
   "cell_type": "code",
   "execution_count": 61,
   "outputs": [
    {
     "ename": "NameError",
     "evalue": "name 'trace' is not defined",
     "output_type": "error",
     "traceback": [
      "\u001B[0;31m---------------------------------------------------------------------------\u001B[0m",
      "\u001B[0;31mNameError\u001B[0m                                 Traceback (most recent call last)",
      "Cell \u001B[0;32mIn[61], line 1\u001B[0m\n\u001B[0;32m----> 1\u001B[0m az\u001B[38;5;241m.\u001B[39mplot_trace(\u001B[43mtrace\u001B[49m,\n\u001B[1;32m      2\u001B[0m \t\t\t  var_names\u001B[38;5;241m=\u001B[39m[\u001B[38;5;124m'\u001B[39m\u001B[38;5;124mintercept\u001B[39m\u001B[38;5;124m'\u001B[39m, \u001B[38;5;124m'\u001B[39m\u001B[38;5;124mcoefficient0\u001B[39m\u001B[38;5;124m'\u001B[39m, \u001B[38;5;124m'\u001B[39m\u001B[38;5;124mcoefficient1\u001B[39m\u001B[38;5;124m'\u001B[39m, \u001B[38;5;124m'\u001B[39m\u001B[38;5;124mcoefficient2\u001B[39m\u001B[38;5;124m'\u001B[39m, \u001B[38;5;124m'\u001B[39m\u001B[38;5;124mcoefficient3\u001B[39m\u001B[38;5;124m'\u001B[39m, \u001B[38;5;124m'\u001B[39m\u001B[38;5;124mcoefficient4\u001B[39m\u001B[38;5;124m'\u001B[39m,\n\u001B[1;32m      3\u001B[0m \t\t\t\t\t\t \u001B[38;5;124m'\u001B[39m\u001B[38;5;124merror\u001B[39m\u001B[38;5;124m'\u001B[39m])\n",
      "\u001B[0;31mNameError\u001B[0m: name 'trace' is not defined"
     ]
    }
   ],
   "source": [
    "az.plot_trace(trace, var_names=['intercept', 'coefficients', 'error'])"
   ],
   "metadata": {
    "collapsed": false,
    "ExecuteTime": {
     "end_time": "2023-06-03T08:28:02.368593Z",
     "start_time": "2023-06-03T08:28:02.322733Z"
    }
   }
  },
  {
   "cell_type": "code",
   "execution_count": null,
   "outputs": [],
   "source": [
    "summary: pd.DataFrame = az.summary(trace, var_names=['intercept', 'coefficients', 'error'])\n",
    "summary"
   ],
   "metadata": {
    "collapsed": false
   }
  },
  {
   "cell_type": "markdown",
   "source": [
    "## MSE"
   ],
   "metadata": {
    "collapsed": false
   }
  },
  {
   "cell_type": "code",
   "execution_count": 108,
   "outputs": [
    {
     "ename": "NameError",
     "evalue": "name 'summary' is not defined",
     "output_type": "error",
     "traceback": [
      "\u001B[0;31m---------------------------------------------------------------------------\u001B[0m",
      "\u001B[0;31mNameError\u001B[0m                                 Traceback (most recent call last)",
      "Cell \u001B[0;32mIn[108], line 2\u001B[0m\n\u001B[1;32m      1\u001B[0m number_of_test_data: \u001B[38;5;28mint\u001B[39m \u001B[38;5;241m=\u001B[39m \u001B[38;5;28mlen\u001B[39m(test_target)\n\u001B[0;32m----> 2\u001B[0m formula_intercept: \u001B[38;5;28mfloat\u001B[39m \u001B[38;5;241m=\u001B[39m \u001B[43msummary\u001B[49m[\u001B[38;5;124m'\u001B[39m\u001B[38;5;124mmean\u001B[39m\u001B[38;5;124m'\u001B[39m]\u001B[38;5;241m.\u001B[39mtolist()[\u001B[38;5;241m0\u001B[39m]\n\u001B[1;32m      3\u001B[0m formula_coefficients: np\u001B[38;5;241m.\u001B[39marray  \u001B[38;5;241m=\u001B[39m np\u001B[38;5;241m.\u001B[39marray(summary[\u001B[38;5;124m'\u001B[39m\u001B[38;5;124mmean\u001B[39m\u001B[38;5;124m'\u001B[39m]\u001B[38;5;241m.\u001B[39mto_list[\u001B[38;5;241m1\u001B[39m:\u001B[38;5;241m1\u001B[39m\u001B[38;5;241m+\u001B[39m\u001B[38;5;28mlen\u001B[39m(features)])\n\u001B[1;32m      4\u001B[0m MSE: \u001B[38;5;28mfloat\u001B[39m \u001B[38;5;241m=\u001B[39m \u001B[38;5;28msum\u001B[39m([\n\u001B[1;32m      5\u001B[0m \t(\u001B[38;5;28msum\u001B[39m(np\u001B[38;5;241m.\u001B[39mdot(test_variables[i], formula_coefficients)) \u001B[38;5;241m+\u001B[39m formula_intercept \u001B[38;5;241m-\u001B[39m test_target[i]) \n\u001B[1;32m      6\u001B[0m \t\u001B[38;5;28;01mfor\u001B[39;00m i \u001B[38;5;129;01min\u001B[39;00m \u001B[38;5;28mrange\u001B[39m(number_of_test_data)])\n",
      "\u001B[0;31mNameError\u001B[0m: name 'summary' is not defined"
     ]
    }
   ],
   "source": [
    "number_of_test_data: int = len(test_target)\n",
    "formula_intercept: float = summary['mean'].tolist()[0]\n",
    "formula_coefficients: np.array  = np.array(summary['mean'].to_list[1:1+len(features)])\n",
    "mean_squared_error: float = 0\n",
    "for i in range(number_of_test_data):\n",
    "\tmean_squared_error += (sum(np.dot(test_variables[i], formula_coefficients)) + formula_intercept - test_target[i])**2\n",
    "mean_squared_error /= number_of_test_data"
   ],
   "metadata": {
    "collapsed": false,
    "ExecuteTime": {
     "end_time": "2023-06-10T08:52:40.047884Z",
     "start_time": "2023-06-10T08:52:39.977855Z"
    }
   }
  },
  {
   "cell_type": "code",
   "execution_count": 111,
   "outputs": [
    {
     "name": "stdout",
     "output_type": "stream",
     "text": [
      "MSE:1.24\n"
     ]
    }
   ],
   "source": [
    "print('MSE:{:.2f}'.format(mean_squared_error))"
   ],
   "metadata": {
    "collapsed": false,
    "ExecuteTime": {
     "end_time": "2023-06-10T08:58:56.478167Z",
     "start_time": "2023-06-10T08:58:56.470423Z"
    }
   }
  },
  {
   "cell_type": "code",
   "execution_count": null,
   "outputs": [],
   "source": [],
   "metadata": {
    "collapsed": false
   }
  }
 ],
 "metadata": {
  "kernelspec": {
   "display_name": "Python 3",
   "language": "python",
   "name": "python3"
  },
  "language_info": {
   "codemirror_mode": {
    "name": "ipython",
    "version": 2
   },
   "file_extension": ".py",
   "mimetype": "text/x-python",
   "name": "python",
   "nbconvert_exporter": "python",
   "pygments_lexer": "ipython2",
   "version": "2.7.6"
  }
 },
 "nbformat": 4,
 "nbformat_minor": 0
}
