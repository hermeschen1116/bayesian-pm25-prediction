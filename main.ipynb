{
 "cells": [
  {
   "cell_type": "code",
   "execution_count": 12,
   "metadata": {
    "collapsed": true,
    "ExecuteTime": {
     "end_time": "2023-05-31T07:15:15.468123Z",
     "start_time": "2023-05-31T07:15:15.462038Z"
    }
   },
   "outputs": [],
   "source": [
    "import polars as ps"
   ]
  },
  {
   "cell_type": "code",
   "execution_count": 13,
   "outputs": [],
   "source": [
    "type_map: list = [ps.Int32, ps.Datetime, ps.Int32, ps.Int32, ps.Int32, ps.Float32, ps.Float32, ps.Float32, ps.Float32,\n",
    "                  ps.Float32, ps.Float32, ps.Float32, ps.Float32, ps.Float32, ps.Float32, ps.Float32, ps.Int32,\n",
    "                  ps.Float32, ps.Float32, ps.Float32]"
   ],
   "metadata": {
    "collapsed": false,
    "ExecuteTime": {
     "end_time": "2023-05-31T07:15:15.477273Z",
     "start_time": "2023-05-31T07:15:15.470085Z"
    }
   }
  },
  {
   "cell_type": "code",
   "execution_count": 14,
   "outputs": [],
   "source": [
    "dataset: ps.DataFrame = ps.read_csv('full_dataset.csv', dtypes=type_map, encoding='utf8', n_threads=8, use_pyarrow=True)"
   ],
   "metadata": {
    "collapsed": false
   }
  },
  {
   "cell_type": "code",
   "execution_count": 15,
   "outputs": [
    {
     "data": {
      "text/plain": "shape: (5, 20)\n┌────────┬─────────────────────┬─────┬───────────┬───┬───────────┬───────────┬───────┬───────────┐\n│ SiteId ┆ PublishTime         ┆ AQI ┆ Pollutant ┆ … ┆ WindDirec ┆ WindSpeed ┆ PM2.5 ┆ PM2.5_AVG │\n│ ---    ┆ ---                 ┆ --- ┆ ---       ┆   ┆ ---       ┆ ---       ┆ ---   ┆ ---       │\n│ i32    ┆ datetime[μs]        ┆ i32 ┆ i32       ┆   ┆ i32       ┆ f32       ┆ f32   ┆ f32       │\n╞════════╪═════════════════════╪═════╪═══════════╪═══╪═══════════╪═══════════╪═══════╪═══════════╡\n│ 33     ┆ 2022-06-01 00:00:00 ┆ 21  ┆ 0         ┆ … ┆ 182       ┆ 1.1       ┆ 11.0  ┆ 6.0       │\n│ 67     ┆ 2022-06-01 00:00:00 ┆ 43  ┆ 1         ┆ … ┆ 188       ┆ 1.7       ┆ 5.0   ┆ 8.0       │\n│ 45     ┆ 2022-06-01 01:00:00 ┆ 25  ┆ 0         ┆ … ┆ 153       ┆ 0.9       ┆ 12.0  ┆ 6.0       │\n│ 42     ┆ 2022-06-01 01:00:00 ┆ 28  ┆ 0         ┆ … ┆ 113       ┆ 0.3       ┆ 8.0   ┆ 8.0       │\n│ 83     ┆ 2022-06-01 01:00:00 ┆ 19  ┆ 0         ┆ … ┆ 197       ┆ 1.1       ┆ 8.0   ┆ 5.0       │\n└────────┴─────────────────────┴─────┴───────────┴───┴───────────┴───────────┴───────┴───────────┘",
      "text/html": "<div><style>\n.dataframe > thead > tr > th,\n.dataframe > tbody > tr > td {\n  text-align: right;\n}\n</style>\n<small>shape: (5, 20)</small><table border=\"1\" class=\"dataframe\"><thead><tr><th>SiteId</th><th>PublishTime</th><th>AQI</th><th>Pollutant</th><th>Status</th><th>SO2</th><th>SO2_AVG</th><th>CO</th><th>CO_8hr</th><th>O3</th><th>O3_8hr</th><th>PM10</th><th>PM10_AVG</th><th>NO</th><th>NO2</th><th>NOx</th><th>WindDirec</th><th>WindSpeed</th><th>PM2.5</th><th>PM2.5_AVG</th></tr><tr><td>i32</td><td>datetime[μs]</td><td>i32</td><td>i32</td><td>i32</td><td>f32</td><td>f32</td><td>f32</td><td>f32</td><td>f32</td><td>f32</td><td>f32</td><td>f32</td><td>f32</td><td>f32</td><td>f32</td><td>i32</td><td>f32</td><td>f32</td><td>f32</td></tr></thead><tbody><tr><td>33</td><td>2022-06-01 00:00:00</td><td>21</td><td>0</td><td>0</td><td>2.1</td><td>1.0</td><td>0.2</td><td>0.2</td><td>17.200001</td><td>19.799999</td><td>20.0</td><td>17.0</td><td>0.6</td><td>4.2</td><td>4.8</td><td>182</td><td>1.1</td><td>11.0</td><td>6.0</td></tr><tr><td>67</td><td>2022-06-01 00:00:00</td><td>43</td><td>1</td><td>0</td><td>0.5</td><td>0.0</td><td>1.0</td><td>1.4</td><td>0.3</td><td>1.5</td><td>8.0</td><td>14.0</td><td>25.5</td><td>26.9</td><td>52.400002</td><td>188</td><td>1.7</td><td>5.0</td><td>8.0</td></tr><tr><td>45</td><td>2022-06-01 01:00:00</td><td>25</td><td>0</td><td>0</td><td>1.5</td><td>1.0</td><td>0.2</td><td>0.2</td><td>5.5</td><td>13.3</td><td>26.0</td><td>19.0</td><td>1.2</td><td>15.1</td><td>16.4</td><td>153</td><td>0.9</td><td>12.0</td><td>6.0</td></tr><tr><td>42</td><td>2022-06-01 01:00:00</td><td>28</td><td>0</td><td>0</td><td>0.9</td><td>1.0</td><td>0.2</td><td>0.2</td><td>5.6</td><td>12.0</td><td>22.0</td><td>21.0</td><td>0.0</td><td>6.5</td><td>6.3</td><td>113</td><td>0.3</td><td>8.0</td><td>8.0</td></tr><tr><td>83</td><td>2022-06-01 01:00:00</td><td>19</td><td>0</td><td>0</td><td>1.4</td><td>1.0</td><td>0.2</td><td>0.1</td><td>10.2</td><td>19.4</td><td>21.0</td><td>19.0</td><td>0.9</td><td>6.5</td><td>7.5</td><td>197</td><td>1.1</td><td>8.0</td><td>5.0</td></tr></tbody></table></div>"
     },
     "execution_count": 15,
     "metadata": {},
     "output_type": "execute_result"
    }
   ],
   "source": [
    "dataset.head()"
   ],
   "metadata": {
    "collapsed": false,
    "ExecuteTime": {
     "end_time": "2023-05-31T07:15:15.953207Z",
     "start_time": "2023-05-31T07:15:15.947375Z"
    }
   }
  },
  {
   "cell_type": "code",
   "execution_count": 15,
   "outputs": [],
   "source": [],
   "metadata": {
    "collapsed": false,
    "ExecuteTime": {
     "end_time": "2023-05-31T07:15:15.955994Z",
     "start_time": "2023-05-31T07:15:15.954230Z"
    }
   }
  }
 ],
 "metadata": {
  "kernelspec": {
   "display_name": "Python 3",
   "language": "python",
   "name": "python3"
  },
  "language_info": {
   "codemirror_mode": {
    "name": "ipython",
    "version": 2
   },
   "file_extension": ".py",
   "mimetype": "text/x-python",
   "name": "python",
   "nbconvert_exporter": "python",
   "pygments_lexer": "ipython2",
   "version": "2.7.6"
  }
 },
 "nbformat": 4,
 "nbformat_minor": 0
}
