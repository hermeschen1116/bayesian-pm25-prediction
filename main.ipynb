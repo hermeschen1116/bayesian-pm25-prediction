{
 "cells": [
  {
   "cell_type": "code",
   "execution_count": 53,
   "metadata": {
    "collapsed": true,
    "ExecuteTime": {
     "end_time": "2023-05-28T08:43:28.769141Z",
     "start_time": "2023-05-28T08:43:28.766273Z"
    }
   },
   "outputs": [],
   "source": [
    "from pathlib import Path\n",
    "import polars as ps"
   ]
  },
  {
   "cell_type": "markdown",
   "source": [
    "# Data Preprocessing"
   ],
   "metadata": {
    "collapsed": false
   }
  },
  {
   "cell_type": "code",
   "execution_count": 54,
   "outputs": [],
   "source": [
    "type_map: list = [ps.Utf8, ps.Utf8, ps.Float32, ps.Utf8, ps.Utf8,\n",
    "                  ps.Float32, ps.Float32, ps.Float32, ps.Float32,\n",
    "                  ps.Float32, ps.Float32, ps.Float32, ps.Float32, ps.Float32,\n",
    "                  ps.Float32, ps.Float32, ps.Float32, ps.Float32,\n",
    "                  ps.Float32, ps.Datetime, ps.Float32, ps.Float32, ps.Float32, ps.Int32]\n",
    "null_values: list = ['', '-']\n",
    "datasets: list = [ps.read_csv(file, encoding='utf8', dtypes=type_map, null_values=null_values, n_threads=8)\n",
    "                  for file in Path('data').glob('*.csv')]"
   ],
   "metadata": {
    "collapsed": false,
    "ExecuteTime": {
     "end_time": "2023-05-28T08:43:33.251050Z",
     "start_time": "2023-05-28T08:43:29.290476Z"
    }
   }
  },
  {
   "cell_type": "code",
   "execution_count": 55,
   "outputs": [],
   "source": [
    "dataset: ps.DataFrame = ps.concat(datasets)\n",
    "dataset = dataset.unique(maintain_order=True)"
   ],
   "metadata": {
    "collapsed": false,
    "ExecuteTime": {
     "end_time": "2023-05-28T08:43:34.631640Z",
     "start_time": "2023-05-28T08:43:33.255395Z"
    }
   }
  },
  {
   "cell_type": "code",
   "execution_count": 56,
   "outputs": [
    {
     "data": {
      "text/plain": "shape: (5, 24)\n┌──────────┬────────┬──────┬───────────┬───┬─────────┬────────────┬───────────┬────────┐\n│ SiteName ┆ County ┆ AQI  ┆ Pollutant ┆ … ┆ SO2_AVG ┆ Longitude  ┆ Latitude  ┆ SiteId │\n│ ---      ┆ ---    ┆ ---  ┆ ---       ┆   ┆ ---     ┆ ---        ┆ ---       ┆ ---    │\n│ str      ┆ str    ┆ f32  ┆ str       ┆   ┆ f32     ┆ f32        ┆ f32       ┆ i32    │\n╞══════════╪════════╪══════╪═══════════╪═══╪═════════╪════════════╪═══════════╪════════╡\n│ 新莊     ┆ 新北市 ┆ 48.0 ┆ null      ┆ … ┆ 0.0     ┆ 121.432503 ┆ 25.037971 ┆ 7      │\n│ 菜寮     ┆ 新北市 ┆ 47.0 ┆ null      ┆ … ┆ 0.0     ┆ 121.481026 ┆ 25.068951 ┆ 8      │\n│ 平鎮     ┆ 桃園市 ┆ 27.0 ┆ null      ┆ … ┆ 0.0     ┆ 121.203987 ┆ 24.952785 ┆ 20     │\n│ 中山     ┆ 臺北市 ┆ 37.0 ┆ null      ┆ … ┆ 0.0     ┆ 121.526527 ┆ 25.062361 ┆ 12     │\n│ 基隆     ┆ 基隆市 ┆ 23.0 ┆ null      ┆ … ┆ 1.0     ┆ 121.760056 ┆ 25.129168 ┆ 1      │\n└──────────┴────────┴──────┴───────────┴───┴─────────┴────────────┴───────────┴────────┘",
      "text/html": "<div><style>\n.dataframe > thead > tr > th,\n.dataframe > tbody > tr > td {\n  text-align: right;\n}\n</style>\n<small>shape: (5, 24)</small><table border=\"1\" class=\"dataframe\"><thead><tr><th>SiteName</th><th>County</th><th>AQI</th><th>Pollutant</th><th>Status</th><th>SO2</th><th>CO</th><th>CO_8hr</th><th>O3</th><th>O3_8hr</th><th>PM10</th><th>PM10_AVG</th><th>PM2.5</th><th>PM2.5_AVG</th><th>NO2</th><th>NOx</th><th>NO</th><th>WindSpeed</th><th>WindDirec</th><th>PublishTime</th><th>SO2_AVG</th><th>Longitude</th><th>Latitude</th><th>SiteId</th></tr><tr><td>str</td><td>str</td><td>f32</td><td>str</td><td>str</td><td>f32</td><td>f32</td><td>f32</td><td>f32</td><td>f32</td><td>f32</td><td>f32</td><td>f32</td><td>f32</td><td>f32</td><td>f32</td><td>f32</td><td>f32</td><td>f32</td><td>datetime[μs]</td><td>f32</td><td>f32</td><td>f32</td><td>i32</td></tr></thead><tbody><tr><td>&quot;新莊&quot;</td><td>&quot;新北市&quot;</td><td>48.0</td><td>null</td><td>&quot;良好&quot;</td><td>0.7</td><td>0.62</td><td>0.6</td><td>2.6</td><td>6.9</td><td>12.0</td><td>15.0</td><td>8.0</td><td>7.0</td><td>29.200001</td><td>43.099998</td><td>13.8</td><td>1.0</td><td>13.0</td><td>2022-06-01 00:00:00</td><td>0.0</td><td>121.432503</td><td>25.037971</td><td>7</td></tr><tr><td>&quot;菜寮&quot;</td><td>&quot;新北市&quot;</td><td>47.0</td><td>null</td><td>&quot;良好&quot;</td><td>0.8</td><td>0.67</td><td>0.7</td><td>0.9</td><td>5.3</td><td>11.0</td><td>10.0</td><td>8.0</td><td>8.0</td><td>28.799999</td><td>36.599998</td><td>7.7</td><td>1.5</td><td>145.0</td><td>2022-06-01 00:00:00</td><td>0.0</td><td>121.481026</td><td>25.068951</td><td>8</td></tr><tr><td>&quot;平鎮&quot;</td><td>&quot;桃園市&quot;</td><td>27.0</td><td>null</td><td>&quot;良好&quot;</td><td>0.8</td><td>0.33</td><td>0.2</td><td>6.3</td><td>12.7</td><td>18.0</td><td>16.0</td><td>8.0</td><td>7.0</td><td>16.4</td><td>17.200001</td><td>0.7</td><td>0.2</td><td>147.0</td><td>2022-06-01 00:00:00</td><td>0.0</td><td>121.203987</td><td>24.952785</td><td>20</td></tr><tr><td>&quot;中山&quot;</td><td>&quot;臺北市&quot;</td><td>37.0</td><td>null</td><td>&quot;良好&quot;</td><td>0.5</td><td>0.5</td><td>0.7</td><td>3.0</td><td>4.2</td><td>12.0</td><td>11.0</td><td>1.0</td><td>4.0</td><td>22.799999</td><td>25.700001</td><td>2.8</td><td>0.4</td><td>186.0</td><td>2022-06-01 00:00:00</td><td>0.0</td><td>121.526527</td><td>25.062361</td><td>12</td></tr><tr><td>&quot;基隆&quot;</td><td>&quot;基隆市&quot;</td><td>23.0</td><td>null</td><td>&quot;良好&quot;</td><td>0.6</td><td>0.3</td><td>0.2</td><td>2.1</td><td>7.1</td><td>21.0</td><td>16.0</td><td>4.0</td><td>3.0</td><td>14.4</td><td>17.1</td><td>2.7</td><td>0.3</td><td>330.0</td><td>2022-06-01 00:00:00</td><td>1.0</td><td>121.760056</td><td>25.129168</td><td>1</td></tr></tbody></table></div>"
     },
     "execution_count": 56,
     "metadata": {},
     "output_type": "execute_result"
    }
   ],
   "source": [
    "dataset.head()"
   ],
   "metadata": {
    "collapsed": false,
    "ExecuteTime": {
     "end_time": "2023-05-28T08:43:34.651521Z",
     "start_time": "2023-05-28T08:43:34.644939Z"
    }
   }
  },
  {
   "cell_type": "code",
   "execution_count": null,
   "outputs": [],
   "source": [],
   "metadata": {
    "collapsed": false
   }
  },
  {
   "cell_type": "markdown",
   "source": [],
   "metadata": {
    "collapsed": false
   }
  }
 ],
 "metadata": {
  "kernelspec": {
   "display_name": "Python 3",
   "language": "python",
   "name": "python3"
  },
  "language_info": {
   "codemirror_mode": {
    "name": "ipython",
    "version": 2
   },
   "file_extension": ".py",
   "mimetype": "text/x-python",
   "name": "python",
   "nbconvert_exporter": "python",
   "pygments_lexer": "ipython2",
   "version": "2.7.6"
  }
 },
 "nbformat": 4,
 "nbformat_minor": 0
}
