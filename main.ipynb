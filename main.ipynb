{
 "cells": [
  {
   "cell_type": "code",
   "execution_count": 3,
   "metadata": {
    "collapsed": true,
    "ExecuteTime": {
     "end_time": "2023-06-10T13:52:33.574293Z",
     "start_time": "2023-06-10T13:52:32.734420Z"
    }
   },
   "outputs": [
    {
     "ename": "AttributeError",
     "evalue": "partially initialized module 'theano' has no attribute 'compile' (most likely due to a circular import)",
     "output_type": "error",
     "traceback": [
      "\u001B[0;31m---------------------------------------------------------------------------\u001B[0m",
      "\u001B[0;31mAttributeError\u001B[0m                            Traceback (most recent call last)",
      "Cell \u001B[0;32mIn[3], line 5\u001B[0m\n\u001B[1;32m      3\u001B[0m \u001B[38;5;28;01mimport\u001B[39;00m \u001B[38;5;21;01mpandas\u001B[39;00m \u001B[38;5;28;01mas\u001B[39;00m \u001B[38;5;21;01mpd\u001B[39;00m\n\u001B[1;32m      4\u001B[0m \u001B[38;5;28;01mimport\u001B[39;00m \u001B[38;5;21;01mpolars\u001B[39;00m \u001B[38;5;28;01mas\u001B[39;00m \u001B[38;5;21;01mps\u001B[39;00m\n\u001B[0;32m----> 5\u001B[0m \u001B[38;5;28;01mimport\u001B[39;00m \u001B[38;5;21;01mpymc\u001B[39;00m \u001B[38;5;28;01mas\u001B[39;00m \u001B[38;5;21;01mpm\u001B[39;00m\n\u001B[1;32m      6\u001B[0m \u001B[38;5;28;01mfrom\u001B[39;00m \u001B[38;5;21;01msklearn\u001B[39;00m\u001B[38;5;21;01m.\u001B[39;00m\u001B[38;5;21;01mmodel_selection\u001B[39;00m \u001B[38;5;28;01mimport\u001B[39;00m train_test_split\n\u001B[1;32m      7\u001B[0m \u001B[38;5;66;03m# from theano import shared\u001B[39;00m\n",
      "File \u001B[0;32m/usr/local/Caskroom/miniconda/base/envs/BDA/lib/python3.9/site-packages/pymc/__init__.py:61\u001B[0m\n\u001B[1;32m     57\u001B[0m     \u001B[38;5;28;01mexcept\u001B[39;00m \u001B[38;5;167;01mImportError\u001B[39;00m:\n\u001B[1;32m     58\u001B[0m         \u001B[38;5;28;01mpass\u001B[39;00m\n\u001B[0;32m---> 61\u001B[0m \u001B[43m_check_install_compatibilitites\u001B[49m\u001B[43m(\u001B[49m\u001B[43m)\u001B[49m\n\u001B[1;32m     64\u001B[0m \u001B[38;5;28;01mdef\u001B[39;00m \u001B[38;5;21m__set_compiler_flags\u001B[39m():\n\u001B[1;32m     65\u001B[0m     \u001B[38;5;66;03m# Workarounds for Aesara compiler problems on various platforms\u001B[39;00m\n\u001B[1;32m     66\u001B[0m     \u001B[38;5;28;01mimport\u001B[39;00m \u001B[38;5;21;01maesara\u001B[39;00m\n",
      "File \u001B[0;32m/usr/local/Caskroom/miniconda/base/envs/BDA/lib/python3.9/site-packages/pymc/__init__.py:33\u001B[0m, in \u001B[0;36m_check_install_compatibilitites\u001B[0;34m()\u001B[0m\n\u001B[1;32m     31\u001B[0m \u001B[38;5;28;01mdef\u001B[39;00m \u001B[38;5;21m_check_install_compatibilitites\u001B[39m():\n\u001B[1;32m     32\u001B[0m     \u001B[38;5;28;01mtry\u001B[39;00m:\n\u001B[0;32m---> 33\u001B[0m         \u001B[38;5;28;01mimport\u001B[39;00m \u001B[38;5;21;01mtheano\u001B[39;00m\n\u001B[1;32m     35\u001B[0m         _log\u001B[38;5;241m.\u001B[39mwarning(\n\u001B[1;32m     36\u001B[0m             \u001B[38;5;124m\"\u001B[39m\u001B[38;5;124m!\u001B[39m\u001B[38;5;124m\"\u001B[39m \u001B[38;5;241m*\u001B[39m \u001B[38;5;241m60\u001B[39m\n\u001B[1;32m     37\u001B[0m             \u001B[38;5;241m+\u001B[39m \u001B[38;5;124mf\u001B[39m\u001B[38;5;124m\"\u001B[39m\u001B[38;5;130;01m\\n\u001B[39;00m\u001B[38;5;124mYour Python environment has Theano(-PyMC) \u001B[39m\u001B[38;5;132;01m{\u001B[39;00mtheano\u001B[38;5;241m.\u001B[39m__version__\u001B[38;5;132;01m}\u001B[39;00m\u001B[38;5;124m installed, \u001B[39m\u001B[38;5;124m\"\u001B[39m\n\u001B[0;32m   (...)\u001B[0m\n\u001B[1;32m     41\u001B[0m             \u001B[38;5;241m+\u001B[39m \u001B[38;5;124m\"\u001B[39m\u001B[38;5;124m!\u001B[39m\u001B[38;5;124m\"\u001B[39m \u001B[38;5;241m*\u001B[39m \u001B[38;5;241m60\u001B[39m\n\u001B[1;32m     42\u001B[0m         )\n\u001B[1;32m     43\u001B[0m     \u001B[38;5;28;01mexcept\u001B[39;00m \u001B[38;5;167;01mImportError\u001B[39;00m:\n",
      "File \u001B[0;32m/usr/local/Caskroom/miniconda/base/envs/BDA/lib/python3.9/site-packages/theano/__init__.py:83\u001B[0m\n\u001B[1;32m     75\u001B[0m \u001B[38;5;66;03m# This is the api version for ops that generate C code.  External ops\u001B[39;00m\n\u001B[1;32m     76\u001B[0m \u001B[38;5;66;03m# might need manual changes if this number goes up.  An undefined\u001B[39;00m\n\u001B[1;32m     77\u001B[0m \u001B[38;5;66;03m# __api_version__ can be understood to mean api version 0.\u001B[39;00m\n\u001B[1;32m     78\u001B[0m \u001B[38;5;66;03m#\u001B[39;00m\n\u001B[1;32m     79\u001B[0m \u001B[38;5;66;03m# This number is not tied to the release version and should change\u001B[39;00m\n\u001B[1;32m     80\u001B[0m \u001B[38;5;66;03m# very rarely.\u001B[39;00m\n\u001B[1;32m     81\u001B[0m __api_version__ \u001B[38;5;241m=\u001B[39m \u001B[38;5;241m1\u001B[39m\n\u001B[0;32m---> 83\u001B[0m \u001B[38;5;28;01mfrom\u001B[39;00m \u001B[38;5;21;01mtheano\u001B[39;00m \u001B[38;5;28;01mimport\u001B[39;00m scalar, tensor\n\u001B[1;32m     84\u001B[0m \u001B[38;5;28;01mfrom\u001B[39;00m \u001B[38;5;21;01mtheano\u001B[39;00m\u001B[38;5;21;01m.\u001B[39;00m\u001B[38;5;21;01mcompile\u001B[39;00m \u001B[38;5;28;01mimport\u001B[39;00m (\n\u001B[1;32m     85\u001B[0m     In,\n\u001B[1;32m     86\u001B[0m     Mode,\n\u001B[0;32m   (...)\u001B[0m\n\u001B[1;32m     93\u001B[0m     shared,\n\u001B[1;32m     94\u001B[0m )\n\u001B[1;32m     95\u001B[0m \u001B[38;5;28;01mfrom\u001B[39;00m \u001B[38;5;21;01mtheano\u001B[39;00m\u001B[38;5;21;01m.\u001B[39;00m\u001B[38;5;21;01mcompile\u001B[39;00m\u001B[38;5;21;01m.\u001B[39;00m\u001B[38;5;21;01mfunction\u001B[39;00m \u001B[38;5;28;01mimport\u001B[39;00m function, function_dump\n",
      "File \u001B[0;32m/usr/local/Caskroom/miniconda/base/envs/BDA/lib/python3.9/site-packages/theano/scalar/__init__.py:1\u001B[0m\n\u001B[0;32m----> 1\u001B[0m \u001B[38;5;28;01mfrom\u001B[39;00m \u001B[38;5;21;01m.\u001B[39;00m\u001B[38;5;21;01mbasic\u001B[39;00m \u001B[38;5;28;01mimport\u001B[39;00m \u001B[38;5;241m*\u001B[39m\n\u001B[1;32m      2\u001B[0m \u001B[38;5;28;01mfrom\u001B[39;00m \u001B[38;5;21;01m.\u001B[39;00m\u001B[38;5;21;01mbasic_scipy\u001B[39;00m \u001B[38;5;28;01mimport\u001B[39;00m \u001B[38;5;241m*\u001B[39m\n",
      "File \u001B[0;32m/usr/local/Caskroom/miniconda/base/envs/BDA/lib/python3.9/site-packages/theano/scalar/basic.py:710\u001B[0m\n\u001B[1;32m    706\u001B[0m         \u001B[38;5;28;01mreturn\u001B[39;00m shape_info\n\u001B[1;32m    709\u001B[0m \u001B[38;5;66;03m# Register C code for ViewOp on Scalars.\u001B[39;00m\n\u001B[0;32m--> 710\u001B[0m \u001B[43mtheano\u001B[49m\u001B[38;5;241;43m.\u001B[39;49m\u001B[43mcompile\u001B[49m\u001B[38;5;241m.\u001B[39mregister_view_op_c_code(\n\u001B[1;32m    711\u001B[0m     Scalar,\n\u001B[1;32m    712\u001B[0m \u001B[38;5;250m    \u001B[39m\u001B[38;5;124;03m\"\"\"\u001B[39;00m\n\u001B[1;32m    713\u001B[0m \u001B[38;5;124;03m    %(oname)s = %(iname)s;\u001B[39;00m\n\u001B[1;32m    714\u001B[0m \u001B[38;5;124;03m    \"\"\"\u001B[39;00m,\n\u001B[1;32m    715\u001B[0m     \u001B[38;5;241m1\u001B[39m,\n\u001B[1;32m    716\u001B[0m )\n\u001B[1;32m    719\u001B[0m \u001B[38;5;28mbool\u001B[39m \u001B[38;5;241m=\u001B[39m get_scalar_type(\u001B[38;5;124m\"\u001B[39m\u001B[38;5;124mbool\u001B[39m\u001B[38;5;124m\"\u001B[39m)\n\u001B[1;32m    720\u001B[0m int8 \u001B[38;5;241m=\u001B[39m get_scalar_type(\u001B[38;5;124m\"\u001B[39m\u001B[38;5;124mint8\u001B[39m\u001B[38;5;124m\"\u001B[39m)\n",
      "\u001B[0;31mAttributeError\u001B[0m: partially initialized module 'theano' has no attribute 'compile' (most likely due to a circular import)"
     ]
    }
   ],
   "source": [
    "import arviz as az\n",
    "import numpy as np\n",
    "import pandas as pd\n",
    "import polars as ps\n",
    "import pymc as pm\n",
    "from sklearn.model_selection import train_test_split\n",
    "# from theano import shared"
   ]
  },
  {
   "cell_type": "code",
   "execution_count": null,
   "outputs": [],
   "source": [
    "%matplotlib inline\n",
    "%config InlineBackend.figure_format = 'retina'"
   ],
   "metadata": {
    "collapsed": false
   }
  },
  {
   "cell_type": "code",
   "execution_count": null,
   "outputs": [],
   "source": [
    "type_map: list = [ps.Int32, ps.Int32, ps.Int32, ps.Int32, ps.Int32, ps.Int32, ps.Int32, \n",
    "                  ps.Int32, ps.Float32, ps.Float32, ps.Float32, ps.Float32, ps.Float32, \n",
    "                  ps.Float32, ps.Float32, ps.Float32, ps.Float32, ps.Float32, \n",
    "                  ps.Float32, ps.Int32, ps.Float32, ps.Float32, ps.Float32]"
   ],
   "metadata": {
    "collapsed": false
   }
  },
  {
   "cell_type": "code",
   "execution_count": null,
   "outputs": [],
   "source": [
    "dataset: ps.DataFrame = ps.read_csv('full_dataset_train.csv', dtypes=type_map, encoding='utf8', n_threads=8, use_pyarrow=True)"
   ],
   "metadata": {
    "collapsed": false
   }
  },
  {
   "cell_type": "code",
   "execution_count": null,
   "outputs": [],
   "source": [
    "dataset = dataset[:1000]"
   ],
   "metadata": {
    "collapsed": false
   }
  },
  {
   "cell_type": "code",
   "execution_count": null,
   "outputs": [],
   "source": [
    "dataset.head()"
   ],
   "metadata": {
    "collapsed": false
   }
  },
  {
   "cell_type": "markdown",
   "source": [
    "# Features"
   ],
   "metadata": {
    "collapsed": false
   }
  },
  {
   "cell_type": "code",
   "execution_count": null,
   "outputs": [],
   "source": [
    "features: list = ['AQI', 'Status', 'PM10', 'PM10_AVG', 'PM2.5_AVG']\n",
    "target_feature: str = 'PM2.5'"
   ],
   "metadata": {
    "collapsed": false
   }
  },
  {
   "cell_type": "code",
   "execution_count": null,
   "outputs": [],
   "source": [
    "variables: np.array = np.array([dataset[feature].to_numpy() for feature in features])\n",
    "variables = variables.transpose()"
   ],
   "metadata": {
    "collapsed": false
   }
  },
  {
   "cell_type": "code",
   "execution_count": null,
   "outputs": [],
   "source": [
    "target: np.array = dataset[target_feature].to_numpy().reshape(1, -1)\n",
    "target = target.transpose()"
   ],
   "metadata": {
    "collapsed": false
   }
  },
  {
   "cell_type": "code",
   "execution_count": null,
   "outputs": [],
   "source": [
    "train_variables, test_variables, train_target, test_target = train_test_split(variables, target, test_size=0.4, random_state=37710, shuffle=True)"
   ],
   "metadata": {
    "collapsed": false
   }
  },
  {
   "cell_type": "code",
   "execution_count": null,
   "outputs": [],
   "source": [
    "# train_variables = shared(train_variables.transpose())\n",
    "train_variables = train_variables.transpose()\n",
    "train_target = train_target.transpose()\n",
    "test_variables = test_variables.transpose()\n",
    "test_target = test_target.transpose()"
   ],
   "metadata": {
    "collapsed": false
   }
  },
  {
   "cell_type": "markdown",
   "source": [
    "# Model"
   ],
   "metadata": {
    "collapsed": false,
    "ExecuteTime": {
     "end_time": "2023-05-31T12:58:15.912996Z",
     "start_time": "2023-05-31T12:58:15.906233Z"
    }
   }
  },
  {
   "cell_type": "code",
   "execution_count": null,
   "outputs": [],
   "source": [
    "with pm.Model() as predictor:\n",
    "\tintercept = pm.Normal(name='intercept', sd=10)\n",
    "\tcoefficients = pm.Normal(name='coefficients', mu=0, sd=1, shape=5)\n",
    "\terror = pm.HalfCauchy(name='error', beta=5)\n",
    "\tmodel = pm.Deterministic('model', intercept + pm.math.dot(coefficients, train_variables))\n",
    "\t\n",
    "\tprediction = pm.Normal(name='prediction', mu=model, sd=error, observed=train_target)\n",
    "\n",
    "\ttrace = pm.sample(tune=2000, chains=2, cores=8)\n",
    "\tppc = pm.sample_posterior_predictive(trace, samples=2000)"
   ],
   "metadata": {
    "collapsed": false
   }
  },
  {
   "cell_type": "markdown",
   "source": [
    "# Performance Analysis"
   ],
   "metadata": {
    "collapsed": false
   }
  },
  {
   "cell_type": "code",
   "execution_count": null,
   "outputs": [],
   "source": [
    "az.plot_trace(trace, var_names=['intercept', 'coefficients', 'error'])"
   ],
   "metadata": {
    "collapsed": false
   }
  },
  {
   "cell_type": "code",
   "execution_count": null,
   "outputs": [],
   "source": [
    "summary: pd.DataFrame = az.summary(trace, var_names=['intercept', 'coefficients', 'error'])\n",
    "summary"
   ],
   "metadata": {
    "collapsed": false
   }
  },
  {
   "cell_type": "markdown",
   "source": [
    "## MSE"
   ],
   "metadata": {
    "collapsed": false
   }
  },
  {
   "cell_type": "code",
   "execution_count": null,
   "outputs": [],
   "source": [
    "number_of_test_data: int = len(test_target)\n",
    "formula_intercept: float = summary['mean'].tolist()[0]\n",
    "formula_coefficients: np.array  = np.array(summary['mean'].to_list[1:1+len(features)])\n",
    "mean_squared_error: float = 0\n",
    "for i in range(number_of_test_data):\n",
    "\tmean_squared_error += (sum(np.dot(test_variables[i], formula_coefficients)) + formula_intercept - test_target[i])**2\n",
    "mean_squared_error /= number_of_test_data"
   ],
   "metadata": {
    "collapsed": false
   }
  },
  {
   "cell_type": "code",
   "execution_count": null,
   "outputs": [],
   "source": [
    "print('MSE:{:.2f}'.format(mean_squared_error))"
   ],
   "metadata": {
    "collapsed": false
   }
  },
  {
   "cell_type": "code",
   "execution_count": null,
   "outputs": [],
   "source": [],
   "metadata": {
    "collapsed": false
   }
  }
 ],
 "metadata": {
  "kernelspec": {
   "display_name": "Python 3",
   "language": "python",
   "name": "python3"
  },
  "language_info": {
   "codemirror_mode": {
    "name": "ipython",
    "version": 2
   },
   "file_extension": ".py",
   "mimetype": "text/x-python",
   "name": "python",
   "nbconvert_exporter": "python",
   "pygments_lexer": "ipython2",
   "version": "2.7.6"
  }
 },
 "nbformat": 4,
 "nbformat_minor": 0
}
