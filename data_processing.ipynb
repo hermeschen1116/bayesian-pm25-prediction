{
 "cells": [
  {
   "cell_type": "code",
   "execution_count": 2,
   "metadata": {
    "collapsed": true,
    "ExecuteTime": {
     "end_time": "2023-06-10T13:49:30.369615Z",
     "start_time": "2023-06-10T13:49:29.915510Z"
    }
   },
   "outputs": [],
   "source": [
    "from pathlib import Path\n",
    "\n",
    "import pandas as pd\n",
    "import polars as ps\n",
    "import seaborn as sb"
   ]
  },
  {
   "cell_type": "code",
   "execution_count": 3,
   "outputs": [],
   "source": [
    "%matplotlib inline\n",
    "%config InlineBackend.figure_format = 'retina'"
   ],
   "metadata": {
    "collapsed": false,
    "ExecuteTime": {
     "end_time": "2023-06-10T13:49:30.585625Z",
     "start_time": "2023-06-10T13:49:29.923067Z"
    }
   }
  },
  {
   "cell_type": "markdown",
   "source": [
    "# Data Preprocessing"
   ],
   "metadata": {
    "collapsed": false
   }
  },
  {
   "cell_type": "markdown",
   "source": [
    "## Load Datasets"
   ],
   "metadata": {
    "collapsed": false
   }
  },
  {
   "cell_type": "code",
   "execution_count": 4,
   "outputs": [],
   "source": [
    "type_map: list = [ps.Utf8, ps.Utf8, ps.Int32, ps.Utf8, ps.Utf8, ps.Float32, ps.Float32, \n",
    "                  ps.Float32, ps.Float32, ps.Float32, ps.Float32, ps.Float32, ps.Float32, \n",
    "                  ps.Float32, ps.Float32, ps.Float32, ps.Float32, ps.Float32, ps.Int32,\n",
    "                  ps.Datetime, ps.Float32, ps.Float32, ps.Float32, ps.Int32]\n",
    "null_values: list = ['', '-']"
   ],
   "metadata": {
    "collapsed": false,
    "ExecuteTime": {
     "end_time": "2023-06-10T13:49:30.586146Z",
     "start_time": "2023-06-10T13:49:29.952799Z"
    }
   }
  },
  {
   "cell_type": "code",
   "execution_count": 5,
   "outputs": [],
   "source": [
    "dataset_type: str = 'train'\n",
    "datasets: list = [\n",
    "\tps.read_csv(file, encoding='utf8', dtypes=type_map, null_values=null_values, n_threads=8, use_pyarrow=True)\n",
    "\tfor file in Path('data/{}'.format(dataset_type)).glob('*.csv')]\n",
    "dataset: ps.DataFrame = ps.concat(datasets)"
   ],
   "metadata": {
    "collapsed": false,
    "ExecuteTime": {
     "end_time": "2023-06-10T13:49:33.801639Z",
     "start_time": "2023-06-10T13:49:29.959720Z"
    }
   }
  },
  {
   "cell_type": "markdown",
   "source": [
    "## Remove Duplicate Rows and Add New Column"
   ],
   "metadata": {
    "collapsed": false
   }
  },
  {
   "cell_type": "code",
   "execution_count": 6,
   "outputs": [],
   "source": [
    "dataset = dataset.unique()\n",
    "dataset = dataset.with_columns(ps.col('PublishTime').dt.strftime('%Y-%m').alias('PublishYearAndMonth'))"
   ],
   "metadata": {
    "collapsed": false,
    "ExecuteTime": {
     "end_time": "2023-06-10T13:49:34.690827Z",
     "start_time": "2023-06-10T13:49:33.809111Z"
    }
   }
  },
  {
   "cell_type": "markdown",
   "source": [
    "## Convert Non-numerical Data to Numbers"
   ],
   "metadata": {
    "collapsed": false
   }
  },
  {
   "cell_type": "code",
   "execution_count": 7,
   "outputs": [
    {
     "data": {
      "text/plain": "shape: (22, 2)\n┌────────┬────────┐\n│ County ┆ counts │\n│ ---    ┆ ---    │\n│ str    ┆ u32    │\n╞════════╪════════╡\n│ 新北市 ┆ 193702 │\n│ 高雄市 ┆ 183183 │\n│ 臺北市 ┆ 112730 │\n│ 桃園市 ┆ 92530  │\n│ …      ┆ …      │\n│ 澎湖縣 ┆ 15272  │\n│ 嘉義市 ┆ 15269  │\n│ 花蓮縣 ┆ 15263  │\n│ 金門縣 ┆ 15259  │\n└────────┴────────┘",
      "text/html": "<div><style>\n.dataframe > thead > tr > th,\n.dataframe > tbody > tr > td {\n  text-align: right;\n}\n</style>\n<small>shape: (22, 2)</small><table border=\"1\" class=\"dataframe\"><thead><tr><th>County</th><th>counts</th></tr><tr><td>str</td><td>u32</td></tr></thead><tbody><tr><td>&quot;新北市&quot;</td><td>193702</td></tr><tr><td>&quot;高雄市&quot;</td><td>183183</td></tr><tr><td>&quot;臺北市&quot;</td><td>112730</td></tr><tr><td>&quot;桃園市&quot;</td><td>92530</td></tr><tr><td>&quot;臺中市&quot;</td><td>76110</td></tr><tr><td>&quot;臺南市&quot;</td><td>69482</td></tr><tr><td>&quot;雲林縣&quot;</td><td>61066</td></tr><tr><td>&quot;彰化縣&quot;</td><td>53641</td></tr><tr><td>&quot;屏東縣&quot;</td><td>53619</td></tr><tr><td>&quot;苗栗縣&quot;</td><td>45835</td></tr><tr><td>&quot;南投縣&quot;</td><td>45822</td></tr><tr><td>&quot;新竹縣&quot;</td><td>30599</td></tr><tr><td>&quot;嘉義縣&quot;</td><td>30555</td></tr><tr><td>&quot;宜蘭縣&quot;</td><td>30553</td></tr><tr><td>&quot;臺東縣&quot;</td><td>30507</td></tr><tr><td>&quot;新竹市&quot;</td><td>16824</td></tr><tr><td>&quot;基隆市&quot;</td><td>15284</td></tr><tr><td>&quot;連江縣&quot;</td><td>15276</td></tr><tr><td>&quot;澎湖縣&quot;</td><td>15272</td></tr><tr><td>&quot;嘉義市&quot;</td><td>15269</td></tr><tr><td>&quot;花蓮縣&quot;</td><td>15263</td></tr><tr><td>&quot;金門縣&quot;</td><td>15259</td></tr></tbody></table></div>"
     },
     "execution_count": 7,
     "metadata": {},
     "output_type": "execute_result"
    }
   ],
   "source": [
    "dataset['County'].value_counts(sort=True)"
   ],
   "metadata": {
    "collapsed": false,
    "ExecuteTime": {
     "end_time": "2023-06-10T13:49:34.796792Z",
     "start_time": "2023-06-10T13:49:34.775721Z"
    }
   }
  },
  {
   "cell_type": "code",
   "execution_count": 8,
   "outputs": [],
   "source": [
    "county_type: list = dataset['County'].value_counts(sort=True)['County'].to_list()\n",
    "county_map: dict = dict(zip(county_type, [i for i in range(len(county_type))]))"
   ],
   "metadata": {
    "collapsed": false,
    "ExecuteTime": {
     "end_time": "2023-06-10T13:49:34.896101Z",
     "start_time": "2023-06-10T13:49:34.824643Z"
    }
   }
  },
  {
   "cell_type": "code",
   "execution_count": 9,
   "outputs": [],
   "source": [
    "dataset = dataset.with_columns(\n",
    "\tps.col('County').map_dict(county_map, default='unknown').alias('County').cast(ps.Int32, strict=False))"
   ],
   "metadata": {
    "collapsed": false,
    "ExecuteTime": {
     "end_time": "2023-06-10T13:49:35.159554Z",
     "start_time": "2023-06-10T13:49:34.834953Z"
    }
   }
  },
  {
   "cell_type": "code",
   "execution_count": 10,
   "outputs": [
    {
     "data": {
      "text/plain": "shape: (8, 2)\n┌────────────┬────────┐\n│ Pollutant  ┆ counts │\n│ ---        ┆ ---    │\n│ str        ┆ u32    │\n╞════════════╪════════╡\n│ null       ┆ 758757 │\n│ 細懸浮微粒 ┆ 394179 │\n│ 臭氧八小時 ┆ 46944  │\n│ 二氧化氮   ┆ 9469   │\n│ 懸浮微粒   ┆ 8893   │\n│ 二氧化硫   ┆ 128    │\n│ 臭氧       ┆ 9      │\n│ 一氧化碳   ┆ 2      │\n└────────────┴────────┘",
      "text/html": "<div><style>\n.dataframe > thead > tr > th,\n.dataframe > tbody > tr > td {\n  text-align: right;\n}\n</style>\n<small>shape: (8, 2)</small><table border=\"1\" class=\"dataframe\"><thead><tr><th>Pollutant</th><th>counts</th></tr><tr><td>str</td><td>u32</td></tr></thead><tbody><tr><td>null</td><td>758757</td></tr><tr><td>&quot;細懸浮微粒&quot;</td><td>394179</td></tr><tr><td>&quot;臭氧八小時&quot;</td><td>46944</td></tr><tr><td>&quot;二氧化氮&quot;</td><td>9469</td></tr><tr><td>&quot;懸浮微粒&quot;</td><td>8893</td></tr><tr><td>&quot;二氧化硫&quot;</td><td>128</td></tr><tr><td>&quot;臭氧&quot;</td><td>9</td></tr><tr><td>&quot;一氧化碳&quot;</td><td>2</td></tr></tbody></table></div>"
     },
     "execution_count": 10,
     "metadata": {},
     "output_type": "execute_result"
    }
   ],
   "source": [
    "dataset['Pollutant'].value_counts(sort=True)"
   ],
   "metadata": {
    "collapsed": false,
    "ExecuteTime": {
     "end_time": "2023-06-10T13:49:35.182596Z",
     "start_time": "2023-06-10T13:49:34.989046Z"
    }
   }
  },
  {
   "cell_type": "code",
   "execution_count": 11,
   "outputs": [],
   "source": [
    "pollutant_type: list = dataset['Pollutant'].value_counts(sort=True)['Pollutant'].to_list()\n",
    "pollutant_type.remove(None)\n",
    "pollutant_map: dict = dict(zip(pollutant_type, [i for i in range(len(pollutant_type))]))"
   ],
   "metadata": {
    "collapsed": false,
    "ExecuteTime": {
     "end_time": "2023-06-10T13:49:35.183966Z",
     "start_time": "2023-06-10T13:49:35.031878Z"
    }
   }
  },
  {
   "cell_type": "code",
   "execution_count": 12,
   "outputs": [],
   "source": [
    "dataset = dataset.with_columns(\n",
    "\tps.col('Pollutant').map_dict(pollutant_map, default='unknown').alias('Pollutant').cast(ps.Int32, strict=False))"
   ],
   "metadata": {
    "collapsed": false,
    "ExecuteTime": {
     "end_time": "2023-06-10T13:49:35.676780Z",
     "start_time": "2023-06-10T13:49:35.086438Z"
    }
   }
  },
  {
   "cell_type": "code",
   "execution_count": 13,
   "outputs": [
    {
     "data": {
      "text/plain": "shape: (7, 2)\n┌──────────────────┬────────┐\n│ Status           ┆ counts │\n│ ---              ┆ ---    │\n│ str              ┆ u32    │\n╞══════════════════╪════════╡\n│ 良好             ┆ 755203 │\n│ 普通             ┆ 385681 │\n│ 對敏感族群不健康 ┆ 64309  │\n│ 對所有族群不健康 ┆ 9610   │\n│ null             ┆ 3554   │\n│ 非常不健康       ┆ 22     │\n│ 危害             ┆ 2      │\n└──────────────────┴────────┘",
      "text/html": "<div><style>\n.dataframe > thead > tr > th,\n.dataframe > tbody > tr > td {\n  text-align: right;\n}\n</style>\n<small>shape: (7, 2)</small><table border=\"1\" class=\"dataframe\"><thead><tr><th>Status</th><th>counts</th></tr><tr><td>str</td><td>u32</td></tr></thead><tbody><tr><td>&quot;良好&quot;</td><td>755203</td></tr><tr><td>&quot;普通&quot;</td><td>385681</td></tr><tr><td>&quot;對敏感族群不健康&quot;</td><td>64309</td></tr><tr><td>&quot;對所有族群不健康&quot;</td><td>9610</td></tr><tr><td>null</td><td>3554</td></tr><tr><td>&quot;非常不健康&quot;</td><td>22</td></tr><tr><td>&quot;危害&quot;</td><td>2</td></tr></tbody></table></div>"
     },
     "execution_count": 13,
     "metadata": {},
     "output_type": "execute_result"
    }
   ],
   "source": [
    "dataset['Status'].value_counts(sort=True)"
   ],
   "metadata": {
    "collapsed": false,
    "ExecuteTime": {
     "end_time": "2023-06-10T13:49:35.737350Z",
     "start_time": "2023-06-10T13:49:35.266770Z"
    }
   }
  },
  {
   "cell_type": "code",
   "execution_count": 14,
   "outputs": [],
   "source": [
    "status_type: list = dataset['Status'].value_counts(sort=True)['Status'].to_list()\n",
    "status_type.remove(None)\n",
    "status_map: dict = dict(zip(status_type, [i for i in range(len(status_type))]))"
   ],
   "metadata": {
    "collapsed": false,
    "ExecuteTime": {
     "end_time": "2023-06-10T13:49:35.738284Z",
     "start_time": "2023-06-10T13:49:35.304519Z"
    }
   }
  },
  {
   "cell_type": "code",
   "execution_count": 15,
   "outputs": [],
   "source": [
    "dataset = dataset.with_columns(\n",
    "\tps.col('Status').map_dict(status_map, default='unknown').alias('Status').cast(ps.Int32, strict=False))"
   ],
   "metadata": {
    "collapsed": false,
    "ExecuteTime": {
     "end_time": "2023-06-10T13:49:35.738758Z",
     "start_time": "2023-06-10T13:49:35.309082Z"
    }
   }
  },
  {
   "cell_type": "markdown",
   "source": [
    "## Fill Missing Values"
   ],
   "metadata": {
    "collapsed": false
   }
  },
  {
   "cell_type": "code",
   "execution_count": 16,
   "outputs": [
    {
     "data": {
      "text/plain": "shape: (1, 25)\n┌──────────┬────────┬──────┬───────────┬───┬───────────┬──────────┬────────┬─────────────────────┐\n│ SiteName ┆ County ┆ AQI  ┆ Pollutant ┆ … ┆ Longitude ┆ Latitude ┆ SiteId ┆ PublishYearAndMonth │\n│ ---      ┆ ---    ┆ ---  ┆ ---       ┆   ┆ ---       ┆ ---      ┆ ---    ┆ ---                 │\n│ u32      ┆ u32    ┆ u32  ┆ u32       ┆   ┆ u32       ┆ u32      ┆ u32    ┆ u32                 │\n╞══════════╪════════╪══════╪═══════════╪═══╪═══════════╪══════════╪════════╪═════════════════════╡\n│ 0        ┆ 0      ┆ 4500 ┆ 758757    ┆ … ┆ 0         ┆ 0        ┆ 0      ┆ 0                   │\n└──────────┴────────┴──────┴───────────┴───┴───────────┴──────────┴────────┴─────────────────────┘",
      "text/html": "<div><style>\n.dataframe > thead > tr > th,\n.dataframe > tbody > tr > td {\n  text-align: right;\n}\n</style>\n<small>shape: (1, 25)</small><table border=\"1\" class=\"dataframe\"><thead><tr><th>SiteName</th><th>County</th><th>AQI</th><th>Pollutant</th><th>Status</th><th>SO2</th><th>CO</th><th>CO_8hr</th><th>O3</th><th>O3_8hr</th><th>PM10</th><th>PM10_AVG</th><th>PM2.5</th><th>PM2.5_AVG</th><th>NO2</th><th>NOx</th><th>NO</th><th>WindSpeed</th><th>WindDirec</th><th>PublishTime</th><th>SO2_AVG</th><th>Longitude</th><th>Latitude</th><th>SiteId</th><th>PublishYearAndMonth</th></tr><tr><td>u32</td><td>u32</td><td>u32</td><td>u32</td><td>u32</td><td>u32</td><td>u32</td><td>u32</td><td>u32</td><td>u32</td><td>u32</td><td>u32</td><td>u32</td><td>u32</td><td>u32</td><td>u32</td><td>u32</td><td>u32</td><td>u32</td><td>u32</td><td>u32</td><td>u32</td><td>u32</td><td>u32</td><td>u32</td></tr></thead><tbody><tr><td>0</td><td>0</td><td>4500</td><td>758757</td><td>3554</td><td>26661</td><td>28101</td><td>17624</td><td>37485</td><td>22618</td><td>27914</td><td>16777</td><td>24383</td><td>13266</td><td>31769</td><td>31942</td><td>31897</td><td>268991</td><td>268863</td><td>0</td><td>11399</td><td>0</td><td>0</td><td>0</td><td>0</td></tr></tbody></table></div>"
     },
     "execution_count": 16,
     "metadata": {},
     "output_type": "execute_result"
    }
   ],
   "source": [
    "dataset.null_count()"
   ],
   "metadata": {
    "collapsed": false,
    "ExecuteTime": {
     "end_time": "2023-06-10T13:49:35.769167Z",
     "start_time": "2023-06-10T13:49:35.512603Z"
    }
   }
  },
  {
   "cell_type": "code",
   "execution_count": 17,
   "outputs": [],
   "source": [
    "dataset: pd.DataFrame = dataset.to_pandas(use_pyarrow_extension_array=True)"
   ],
   "metadata": {
    "collapsed": false,
    "ExecuteTime": {
     "end_time": "2023-06-10T13:49:36.137200Z",
     "start_time": "2023-06-10T13:49:35.513856Z"
    }
   }
  },
  {
   "cell_type": "code",
   "execution_count": 18,
   "outputs": [],
   "source": [
    "processed_columns: list = ['AQI', 'Pollutant', 'Status', 'WindDirec']\n",
    "for column in processed_columns:\n",
    "\tdataset[column] = dataset.groupby(['County', 'PublishYearAndMonth'])[column] \\\n",
    "\t\t.transform(lambda group: group.fillna(group.median()) if not group.isnull().all()\n",
    "\telse group.fillna(dataset[column].median()))"
   ],
   "metadata": {
    "collapsed": false,
    "ExecuteTime": {
     "end_time": "2023-06-10T13:49:39.586780Z",
     "start_time": "2023-06-10T13:49:35.575856Z"
    }
   }
  },
  {
   "cell_type": "code",
   "execution_count": 19,
   "outputs": [],
   "source": [
    "processed_columns: list = ['SO2', 'SO2_AVG', 'CO', 'CO_8hr', 'O3', 'O3_8hr', 'PM10', 'PM10_AVG', 'PM2.5', 'PM2.5_AVG', 'NO2', 'NOx', 'NO', 'WindSpeed']\n",
    "for column in processed_columns:\n",
    "\tdataset[column] = dataset.groupby(['County', 'PublishYearAndMonth'])[column] \\\n",
    "\t\t.transform(lambda group: group.fillna(group.mean()) if not group.isnull().all()\n",
    "\telse group.fillna(dataset[column].mean()))"
   ],
   "metadata": {
    "collapsed": false,
    "ExecuteTime": {
     "end_time": "2023-06-10T13:49:46.824618Z",
     "start_time": "2023-06-10T13:49:39.593456Z"
    }
   }
  },
  {
   "cell_type": "code",
   "execution_count": 20,
   "outputs": [],
   "source": [
    "dataset: ps.DataFrame = ps.from_pandas(dataset)"
   ],
   "metadata": {
    "collapsed": false,
    "ExecuteTime": {
     "end_time": "2023-06-10T13:49:46.838541Z",
     "start_time": "2023-06-10T13:49:46.827298Z"
    }
   }
  },
  {
   "cell_type": "code",
   "execution_count": 21,
   "outputs": [],
   "source": [
    "type_map.append(ps.Utf8)\n",
    "type_map[1], type_map[3], type_map[4] = ps.Int32, ps.Int32, ps.Int32\n",
    "for i, column in enumerate(dataset.columns):\n",
    "\tdataset = dataset.with_columns(ps.col(column).cast(type_map[i], strict=False))\n",
    "\tif type_map[i] is ps.Float32:\n",
    "\t\tdataset = dataset.with_columns(ps.col(column).round(1))"
   ],
   "metadata": {
    "collapsed": false,
    "ExecuteTime": {
     "end_time": "2023-06-10T13:49:46.944021Z",
     "start_time": "2023-06-10T13:49:46.843855Z"
    }
   }
  },
  {
   "cell_type": "markdown",
   "source": [
    "# Data Analysis"
   ],
   "metadata": {
    "collapsed": false
   }
  },
  {
   "cell_type": "code",
   "execution_count": 22,
   "outputs": [],
   "source": [
    "dataset = dataset.with_columns(ps.col('PublishTime').dt.year().cast(ps.Int32).alias('PublishYear'))\n",
    "dataset = dataset.with_columns(ps.col('PublishTime').dt.month().cast(ps.Int32).alias('PublishMonth'))\n",
    "dataset = dataset.with_columns(ps.col('PublishTime').dt.day().cast(ps.Int32).alias('PublishDay'))\n",
    "dataset = dataset.with_columns(ps.col('PublishTime').dt.hour().cast(ps.Int32).alias('PublishHour'))"
   ],
   "metadata": {
    "collapsed": false,
    "ExecuteTime": {
     "end_time": "2023-06-10T13:49:47.061835Z",
     "start_time": "2023-06-10T13:49:46.944297Z"
    }
   }
  },
  {
   "cell_type": "code",
   "execution_count": 23,
   "outputs": [],
   "source": [
    "dataset = dataset.drop(['SiteName', 'County', 'PublishTime', 'PublishYearAndMonth', 'Longitude', 'Latitude'])\n",
    "dataset = dataset.unique()\n",
    "dataset = dataset[['SiteId', 'PublishYear', 'PublishMonth', 'PublishDay', 'PublishHour', \n",
    "                   'AQI', 'Pollutant', 'Status', 'SO2', 'SO2_AVG', 'CO', 'CO_8hr', 'O3', \n",
    "                   'O3_8hr', 'PM10', 'PM10_AVG', 'NO', 'NO2', 'NOx', 'WindDirec', \n",
    "                   'WindSpeed', 'PM2.5', 'PM2.5_AVG']]"
   ],
   "metadata": {
    "collapsed": false,
    "ExecuteTime": {
     "end_time": "2023-06-10T13:49:47.453916Z",
     "start_time": "2023-06-10T13:49:47.115589Z"
    }
   }
  },
  {
   "cell_type": "code",
   "execution_count": 24,
   "outputs": [],
   "source": [
    "dataset.write_csv('full_dataset_{}.csv'.format(dataset_type))"
   ],
   "metadata": {
    "collapsed": false,
    "ExecuteTime": {
     "end_time": "2023-06-10T13:49:48.293437Z",
     "start_time": "2023-06-10T13:49:47.454499Z"
    }
   }
  },
  {
   "cell_type": "code",
   "execution_count": 25,
   "outputs": [
    {
     "data": {
      "text/plain": "shape: (1_218_300, 23)\n┌────────┬─────────────┬──────────────┬────────────┬───┬───────────┬───────────┬───────┬───────────┐\n│ SiteId ┆ PublishYear ┆ PublishMonth ┆ PublishDay ┆ … ┆ WindDirec ┆ WindSpeed ┆ PM2.5 ┆ PM2.5_AVG │\n│ ---    ┆ ---         ┆ ---          ┆ ---        ┆   ┆ ---       ┆ ---       ┆ ---   ┆ ---       │\n│ i32    ┆ i32         ┆ i32          ┆ i32        ┆   ┆ i32       ┆ f32       ┆ f32   ┆ f32       │\n╞════════╪═════════════╪══════════════╪════════════╪═══╪═══════════╪═══════════╪═══════╪═══════════╡\n│ 80     ┆ 2022        ┆ 6            ┆ 1          ┆ … ┆ 341       ┆ 0.8       ┆ 0.0   ┆ 2.0       │\n│ 56     ┆ 2022        ┆ 6            ┆ 1          ┆ … ┆ 227       ┆ 1.6       ┆ 6.0   ┆ 5.0       │\n│ 14     ┆ 2022        ┆ 6            ┆ 1          ┆ … ┆ 133       ┆ 0.6       ┆ 6.0   ┆ 6.0       │\n│ 72     ┆ 2022        ┆ 6            ┆ 1          ┆ … ┆ 149       ┆ 0.3       ┆ 5.0   ┆ 2.0       │\n│ …      ┆ …           ┆ …            ┆ …          ┆ … ┆ …         ┆ …         ┆ …     ┆ …         │\n│ 10     ┆ 2022        ┆ 8            ┆ 30         ┆ … ┆ 181       ┆ 1.8       ┆ 2.0   ┆ 6.0       │\n│ 66     ┆ 2022        ┆ 8            ┆ 30         ┆ … ┆ 240       ┆ 0.3       ┆ 4.6   ┆ 3.0       │\n│ 22     ┆ 2022        ┆ 8            ┆ 31         ┆ … ┆ 168       ┆ 0.5       ┆ 12.0  ┆ 11.0      │\n│ 30     ┆ 2022        ┆ 8            ┆ 31         ┆ … ┆ 249       ┆ 0.7       ┆ 13.0  ┆ 15.0      │\n└────────┴─────────────┴──────────────┴────────────┴───┴───────────┴───────────┴───────┴───────────┘",
      "text/html": "<div><style>\n.dataframe > thead > tr > th,\n.dataframe > tbody > tr > td {\n  text-align: right;\n}\n</style>\n<small>shape: (1_218_300, 23)</small><table border=\"1\" class=\"dataframe\"><thead><tr><th>SiteId</th><th>PublishYear</th><th>PublishMonth</th><th>PublishDay</th><th>PublishHour</th><th>AQI</th><th>Pollutant</th><th>Status</th><th>SO2</th><th>SO2_AVG</th><th>CO</th><th>CO_8hr</th><th>O3</th><th>O3_8hr</th><th>PM10</th><th>PM10_AVG</th><th>NO</th><th>NO2</th><th>NOx</th><th>WindDirec</th><th>WindSpeed</th><th>PM2.5</th><th>PM2.5_AVG</th></tr><tr><td>i32</td><td>i32</td><td>i32</td><td>i32</td><td>i32</td><td>i32</td><td>i32</td><td>i32</td><td>f32</td><td>f32</td><td>f32</td><td>f32</td><td>f32</td><td>f32</td><td>f32</td><td>f32</td><td>f32</td><td>f32</td><td>f32</td><td>i32</td><td>f32</td><td>f32</td><td>f32</td></tr></thead><tbody><tr><td>80</td><td>2022</td><td>6</td><td>1</td><td>0</td><td>15</td><td>0</td><td>0</td><td>0.9</td><td>0.0</td><td>0.1</td><td>0.1</td><td>11.4</td><td>16.4</td><td>11.0</td><td>12.0</td><td>0.6</td><td>2.1</td><td>2.8</td><td>341</td><td>0.8</td><td>0.0</td><td>2.0</td></tr><tr><td>56</td><td>2022</td><td>6</td><td>1</td><td>0</td><td>23</td><td>0</td><td>0</td><td>1.5</td><td>0.0</td><td>0.2</td><td>0.1</td><td>5.5</td><td>16.799999</td><td>16.0</td><td>13.0</td><td>1.3</td><td>14.9</td><td>16.200001</td><td>227</td><td>1.6</td><td>6.0</td><td>5.0</td></tr><tr><td>14</td><td>2022</td><td>6</td><td>1</td><td>1</td><td>27</td><td>1</td><td>0</td><td>0.0</td><td>0.0</td><td>0.3</td><td>0.4</td><td>1.9</td><td>6.5</td><td>20.0</td><td>11.0</td><td>4.2</td><td>16.700001</td><td>20.9</td><td>133</td><td>0.6</td><td>6.0</td><td>6.0</td></tr><tr><td>72</td><td>2022</td><td>6</td><td>1</td><td>1</td><td>15</td><td>1</td><td>0</td><td>1.4</td><td>1.0</td><td>0.2</td><td>0.2</td><td>6.1</td><td>10.2</td><td>24.0</td><td>15.0</td><td>1.4</td><td>3.8</td><td>5.2</td><td>149</td><td>0.3</td><td>5.0</td><td>2.0</td></tr><tr><td>24</td><td>2022</td><td>6</td><td>1</td><td>3</td><td>27</td><td>0</td><td>0</td><td>0.1</td><td>0.0</td><td>0.3</td><td>0.3</td><td>2.4</td><td>3.4</td><td>21.0</td><td>18.0</td><td>2.8</td><td>12.7</td><td>15.6</td><td>165</td><td>0.5</td><td>7.0</td><td>8.0</td></tr><tr><td>45</td><td>2022</td><td>6</td><td>1</td><td>6</td><td>33</td><td>0</td><td>0</td><td>1.4</td><td>1.0</td><td>0.2</td><td>0.2</td><td>5.4</td><td>5.0</td><td>23.0</td><td>25.0</td><td>1.2</td><td>8.1</td><td>9.3</td><td>132</td><td>1.4</td><td>7.0</td><td>10.0</td></tr><tr><td>28</td><td>2022</td><td>6</td><td>1</td><td>6</td><td>15</td><td>0</td><td>0</td><td>0.9</td><td>0.0</td><td>0.2</td><td>0.1</td><td>14.1</td><td>14.6</td><td>14.0</td><td>15.0</td><td>0.8</td><td>2.6</td><td>3.4</td><td>185</td><td>3.2</td><td>4.0</td><td>4.0</td></tr><tr><td>25</td><td>2022</td><td>6</td><td>1</td><td>6</td><td>21</td><td>0</td><td>0</td><td>1.8</td><td>1.0</td><td>0.3</td><td>0.2</td><td>5.8</td><td>3.2</td><td>20.0</td><td>19.0</td><td>3.0</td><td>10.3</td><td>13.4</td><td>199</td><td>0.7</td><td>7.0</td><td>6.0</td></tr><tr><td>62</td><td>2022</td><td>6</td><td>1</td><td>10</td><td>13</td><td>0</td><td>0</td><td>0.9</td><td>0.5</td><td>0.2</td><td>0.1</td><td>17.200001</td><td>10.9</td><td>15.0</td><td>13.0</td><td>2.7</td><td>3.0</td><td>5.7</td><td>166</td><td>1.7</td><td>3.0</td><td>3.0</td></tr><tr><td>24</td><td>2022</td><td>6</td><td>1</td><td>10</td><td>19</td><td>0</td><td>0</td><td>0.9</td><td>0.0</td><td>0.2</td><td>0.2</td><td>25.6</td><td>9.5</td><td>19.0</td><td>15.0</td><td>2.8</td><td>8.1</td><td>10.9</td><td>244</td><td>4.6</td><td>6.0</td><td>5.0</td></tr><tr><td>11</td><td>2022</td><td>6</td><td>1</td><td>11</td><td>30</td><td>1</td><td>0</td><td>0.8</td><td>0.0</td><td>0.3</td><td>0.3</td><td>23.0</td><td>7.4</td><td>20.0</td><td>20.0</td><td>8.7</td><td>18.5</td><td>27.299999</td><td>319</td><td>0.5</td><td>7.0</td><td>6.0</td></tr><tr><td>27</td><td>2022</td><td>6</td><td>1</td><td>13</td><td>26</td><td>0</td><td>0</td><td>2.6</td><td>1.0</td><td>0.2</td><td>0.1</td><td>40.299999</td><td>28.799999</td><td>30.0</td><td>18.0</td><td>1.2</td><td>6.6</td><td>7.9</td><td>240</td><td>3.4</td><td>17.0</td><td>8.0</td></tr><tr><td>&hellip;</td><td>&hellip;</td><td>&hellip;</td><td>&hellip;</td><td>&hellip;</td><td>&hellip;</td><td>&hellip;</td><td>&hellip;</td><td>&hellip;</td><td>&hellip;</td><td>&hellip;</td><td>&hellip;</td><td>&hellip;</td><td>&hellip;</td><td>&hellip;</td><td>&hellip;</td><td>&hellip;</td><td>&hellip;</td><td>&hellip;</td><td>&hellip;</td><td>&hellip;</td><td>&hellip;</td><td>&hellip;</td></tr><tr><td>80</td><td>2022</td><td>8</td><td>30</td><td>11</td><td>15</td><td>3</td><td>0</td><td>0.6</td><td>0.0</td><td>0.1</td><td>0.1</td><td>30.4</td><td>11.9</td><td>6.0</td><td>13.0</td><td>1.5</td><td>2.3</td><td>3.8</td><td>74</td><td>1.1</td><td>1.0</td><td>4.0</td></tr><tr><td>5</td><td>2022</td><td>8</td><td>30</td><td>12</td><td>21</td><td>0</td><td>0</td><td>1.1</td><td>0.6</td><td>0.3</td><td>0.2</td><td>64.400002</td><td>23.299999</td><td>31.0</td><td>20.0</td><td>0.9</td><td>11.3</td><td>12.3</td><td>214</td><td>2.4</td><td>11.0</td><td>8.4</td></tr><tr><td>43</td><td>2022</td><td>8</td><td>30</td><td>12</td><td>44</td><td>0</td><td>0</td><td>1.8</td><td>1.0</td><td>0.3</td><td>0.2</td><td>68.199997</td><td>32.599998</td><td>26.0</td><td>21.0</td><td>0.9</td><td>6.3</td><td>7.3</td><td>221</td><td>2.6</td><td>17.0</td><td>13.0</td></tr><tr><td>64</td><td>2022</td><td>8</td><td>30</td><td>13</td><td>28</td><td>0</td><td>0</td><td>0.6</td><td>0.0</td><td>0.2</td><td>0.1</td><td>37.099998</td><td>30.1</td><td>18.0</td><td>13.0</td><td>0.8</td><td>3.0</td><td>3.8</td><td>150</td><td>1.6</td><td>7.0</td><td>6.0</td></tr><tr><td>56</td><td>2022</td><td>8</td><td>30</td><td>15</td><td>41</td><td>0</td><td>0</td><td>1.6</td><td>1.0</td><td>0.2</td><td>0.2</td><td>46.5</td><td>44.0</td><td>13.0</td><td>16.0</td><td>0.8</td><td>1.4</td><td>2.2</td><td>247</td><td>3.2</td><td>10.0</td><td>11.0</td></tr><tr><td>65</td><td>2022</td><td>8</td><td>30</td><td>16</td><td>32</td><td>3</td><td>0</td><td>1.4</td><td>0.0</td><td>0.1</td><td>0.1</td><td>35.0</td><td>35.099998</td><td>10.0</td><td>12.0</td><td>1.1</td><td>3.2</td><td>4.3</td><td>107</td><td>2.4</td><td>7.0</td><td>4.0</td></tr><tr><td>10</td><td>2022</td><td>8</td><td>30</td><td>18</td><td>36</td><td>0</td><td>0</td><td>0.9</td><td>0.0</td><td>0.2</td><td>0.1</td><td>25.200001</td><td>39.799999</td><td>12.0</td><td>12.0</td><td>1.4</td><td>7.5</td><td>9.0</td><td>181</td><td>1.8</td><td>7.0</td><td>7.0</td></tr><tr><td>52</td><td>2022</td><td>8</td><td>30</td><td>20</td><td>31</td><td>0</td><td>0</td><td>0.4</td><td>0.0</td><td>0.2</td><td>0.1</td><td>26.9</td><td>34.599998</td><td>16.0</td><td>19.0</td><td>0.5</td><td>3.9</td><td>4.4</td><td>32</td><td>1.5</td><td>5.0</td><td>8.0</td></tr><tr><td>10</td><td>2022</td><td>8</td><td>30</td><td>23</td><td>22</td><td>0</td><td>0</td><td>2.4</td><td>1.0</td><td>0.1</td><td>0.2</td><td>19.4</td><td>21.1</td><td>8.0</td><td>12.0</td><td>0.7</td><td>5.9</td><td>6.6</td><td>181</td><td>1.8</td><td>2.0</td><td>6.0</td></tr><tr><td>66</td><td>2022</td><td>8</td><td>30</td><td>23</td><td>24</td><td>3</td><td>0</td><td>0.2</td><td>0.0</td><td>0.2</td><td>0.2</td><td>18.5</td><td>26.5</td><td>10.0</td><td>12.0</td><td>0.6</td><td>7.0</td><td>7.7</td><td>240</td><td>0.3</td><td>4.6</td><td>3.0</td></tr><tr><td>22</td><td>2022</td><td>8</td><td>31</td><td>0</td><td>37</td><td>0</td><td>0</td><td>0.9</td><td>0.0</td><td>0.2</td><td>0.2</td><td>9.3</td><td>21.9</td><td>21.0</td><td>18.0</td><td>0.6</td><td>13.9</td><td>14.6</td><td>168</td><td>0.5</td><td>12.0</td><td>11.0</td></tr><tr><td>30</td><td>2022</td><td>8</td><td>31</td><td>0</td><td>52</td><td>0</td><td>1</td><td>1.1</td><td>1.0</td><td>0.3</td><td>0.3</td><td>17.299999</td><td>31.299999</td><td>32.0</td><td>27.0</td><td>0.5</td><td>9.3</td><td>9.8</td><td>249</td><td>0.7</td><td>13.0</td><td>15.0</td></tr></tbody></table></div>"
     },
     "execution_count": 25,
     "metadata": {},
     "output_type": "execute_result"
    }
   ],
   "source": [
    "dataset"
   ],
   "metadata": {
    "collapsed": false,
    "ExecuteTime": {
     "end_time": "2023-06-10T13:49:48.316792Z",
     "start_time": "2023-06-10T13:49:48.306102Z"
    }
   }
  },
  {
   "cell_type": "code",
   "execution_count": null,
   "outputs": [],
   "source": [
    "if dataset_type == 'train':\n",
    "\tsb.set(rc={'figure.figsize': (20, 20)})\n",
    "\tsb.heatmap(dataset.to_pandas(use_pyarrow_extension_array=True).corr(), annot=True)"
   ],
   "metadata": {
    "collapsed": false,
    "is_executing": true,
    "ExecuteTime": {
     "start_time": "2023-06-10T13:49:48.311384Z"
    }
   }
  },
  {
   "cell_type": "code",
   "execution_count": null,
   "outputs": [],
   "source": [],
   "metadata": {
    "collapsed": false,
    "is_executing": true
   }
  },
  {
   "cell_type": "markdown",
   "source": [],
   "metadata": {
    "collapsed": false
   }
  }
 ],
 "metadata": {
  "kernelspec": {
   "display_name": "Python 3",
   "language": "python",
   "name": "python3"
  },
  "language_info": {
   "codemirror_mode": {
    "name": "ipython",
    "version": 2
   },
   "file_extension": ".py",
   "mimetype": "text/x-python",
   "name": "python",
   "nbconvert_exporter": "python",
   "pygments_lexer": "ipython2",
   "version": "2.7.6"
  }
 },
 "nbformat": 4,
 "nbformat_minor": 0
}
