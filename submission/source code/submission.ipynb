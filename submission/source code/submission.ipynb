{
 "cells": [
  {
   "cell_type": "code",
   "execution_count": 20,
   "metadata": {},
   "outputs": [],
   "source": [
    "import numpy as np\n",
    "import polars as pl"
   ]
  },
  {
   "cell_type": "code",
   "execution_count": 21,
   "metadata": {},
   "outputs": [],
   "source": [
    "def predict_function(test_variable: np.array) -> int:\n",
    "\tformula_intercept = 0.926\n",
    "\tformula_coefficients = [\n",
    "\t\t 0.001,   0.000,   0.001,  -0.001,  -0.020,\n",
    "\t\t 0.013,  -0.120,  -0.024,   0.145,  -0.210,\n",
    "\t\t 4.640,  -4.480,   0.009,  -0.019,   0.302,\n",
    "        -0.292,  -0.150,  -0.023,   0.089,  -0.001,\n",
    "        -0.075,   0.942\n",
    "\t]\n",
    "\tformula_coefficients = np.array(formula_coefficients).reshape(-1, 1)\n",
    "\treturn int(float(np.dot(test_variable.reshape(1, -1), formula_coefficients)) + formula_intercept)"
   ]
  },
  {
   "cell_type": "code",
   "execution_count": 22,
   "metadata": {},
   "outputs": [
    {
     "data": {
      "text/html": [
       "<div><style>\n",
       ".dataframe > thead > tr > th,\n",
       ".dataframe > tbody > tr > td {\n",
       "  text-align: right;\n",
       "}\n",
       "</style>\n",
       "<small>shape: (5, 23)</small><table border=\"1\" class=\"dataframe\"><thead><tr><th>SiteId</th><th>PublishYear</th><th>PublishMonth</th><th>PublishDay</th><th>PublishHour</th><th>AQI</th><th>Pollutant</th><th>Status</th><th>SO2</th><th>SO2_AVG</th><th>CO</th><th>CO_8hr</th><th>O3</th><th>O3_8hr</th><th>PM10</th><th>PM10_AVG</th><th>NO</th><th>NO2</th><th>NOx</th><th>WindDirec</th><th>WindSpeed</th><th>PM2.5</th><th>PM2.5_AVG</th></tr><tr><td>i64</td><td>i64</td><td>i64</td><td>i64</td><td>i64</td><td>i64</td><td>i64</td><td>i64</td><td>f64</td><td>f64</td><td>f64</td><td>f64</td><td>f64</td><td>f64</td><td>f64</td><td>f64</td><td>f64</td><td>f64</td><td>f64</td><td>i64</td><td>f64</td><td>f64</td><td>f64</td></tr></thead><tbody><tr><td>32</td><td>2022</td><td>7</td><td>13</td><td>23</td><td>23</td><td>0</td><td>0</td><td>0.7</td><td>1.0</td><td>0.2</td><td>0.1</td><td>19.5</td><td>25.3</td><td>8.0</td><td>13.0</td><td>1.0</td><td>5.6</td><td>6.6</td><td>358</td><td>0.5</td><td>4.0</td><td>5.0</td></tr><tr><td>32</td><td>2022</td><td>7</td><td>14</td><td>0</td><td>21</td><td>0</td><td>0</td><td>0.7</td><td>1.0</td><td>0.1</td><td>0.1</td><td>21.0</td><td>23.5</td><td>10.0</td><td>13.0</td><td>1.1</td><td>6.6</td><td>7.8</td><td>335</td><td>0.8</td><td>3.0</td><td>5.0</td></tr><tr><td>32</td><td>2022</td><td>7</td><td>14</td><td>1</td><td>19</td><td>0</td><td>0</td><td>0.7</td><td>1.0</td><td>0.1</td><td>0.1</td><td>20.4</td><td>21.7</td><td>12.0</td><td>12.0</td><td>1.1</td><td>7.3</td><td>8.4</td><td>162</td><td>0.5</td><td>2.0</td><td>4.0</td></tr><tr><td>32</td><td>2022</td><td>7</td><td>14</td><td>2</td><td>28</td><td>0</td><td>0</td><td>0.9</td><td>1.0</td><td>0.2</td><td>0.1</td><td>4.5</td><td>18.6</td><td>10.0</td><td>11.0</td><td>1.5</td><td>17.4</td><td>19.0</td><td>181</td><td>1.1</td><td>2.0</td><td>3.0</td></tr><tr><td>32</td><td>2022</td><td>7</td><td>14</td><td>3</td><td>23</td><td>0</td><td>0</td><td>1.3</td><td>1.0</td><td>0.2</td><td>0.1</td><td>6.4</td><td>16.2</td><td>17.0</td><td>12.0</td><td>1.5</td><td>14.9</td><td>16.5</td><td>175</td><td>1.7</td><td>7.0</td><td>3.0</td></tr></tbody></table></div>"
      ],
      "text/plain": [
       "shape: (5, 23)\n",
       "┌────────┬─────────────┬──────────────┬────────────┬───┬───────────┬───────────┬───────┬───────────┐\n",
       "│ SiteId ┆ PublishYear ┆ PublishMonth ┆ PublishDay ┆ … ┆ WindDirec ┆ WindSpeed ┆ PM2.5 ┆ PM2.5_AVG │\n",
       "│ ---    ┆ ---         ┆ ---          ┆ ---        ┆   ┆ ---       ┆ ---       ┆ ---   ┆ ---       │\n",
       "│ i64    ┆ i64         ┆ i64          ┆ i64        ┆   ┆ i64       ┆ f64       ┆ f64   ┆ f64       │\n",
       "╞════════╪═════════════╪══════════════╪════════════╪═══╪═══════════╪═══════════╪═══════╪═══════════╡\n",
       "│ 32     ┆ 2022        ┆ 7            ┆ 13         ┆ … ┆ 358       ┆ 0.5       ┆ 4.0   ┆ 5.0       │\n",
       "│ 32     ┆ 2022        ┆ 7            ┆ 14         ┆ … ┆ 335       ┆ 0.8       ┆ 3.0   ┆ 5.0       │\n",
       "│ 32     ┆ 2022        ┆ 7            ┆ 14         ┆ … ┆ 162       ┆ 0.5       ┆ 2.0   ┆ 4.0       │\n",
       "│ 32     ┆ 2022        ┆ 7            ┆ 14         ┆ … ┆ 181       ┆ 1.1       ┆ 2.0   ┆ 3.0       │\n",
       "│ 32     ┆ 2022        ┆ 7            ┆ 14         ┆ … ┆ 175       ┆ 1.7       ┆ 7.0   ┆ 3.0       │\n",
       "└────────┴─────────────┴──────────────┴────────────┴───┴───────────┴───────────┴───────┴───────────┘"
      ]
     },
     "execution_count": 22,
     "metadata": {},
     "output_type": "execute_result"
    }
   ],
   "source": [
    "dataset = pl.read_csv('full_dataset_train.csv')\n",
    "dataset = dataset.filter(\n",
    "    (pl.col('SiteId') == 32) & \\\n",
    "    (pl.col('PublishYear') == 2022) & \\\n",
    "    (pl.col('PublishMonth') == 7) & \\\n",
    "    (((pl.col('PublishDay') == 13) & (pl.col('PublishHour') == 23)) | ((pl.col('PublishDay') >= 14) & (pl.col('PublishDay') <= 18)))\n",
    ")\n",
    "dataset = dataset.sort(['PublishDay', 'PublishHour'])\n",
    "dataset.head()"
   ]
  },
  {
   "cell_type": "code",
   "execution_count": 23,
   "metadata": {},
   "outputs": [],
   "source": [
    "dataset_features = dataset.drop('PM2.5')\n",
    "dataset_target = dataset.select('PM2.5')"
   ]
  },
  {
   "cell_type": "code",
   "execution_count": 24,
   "metadata": {},
   "outputs": [
    {
     "data": {
      "text/html": [
       "<div><style>\n",
       ".dataframe > thead > tr > th,\n",
       ".dataframe > tbody > tr > td {\n",
       "  text-align: right;\n",
       "}\n",
       "</style>\n",
       "<small>shape: (5, 4)</small><table border=\"1\" class=\"dataframe\"><thead><tr><th>PublishTime</th><th>SiteId</th><th>PM2.5</th><th>Predict_PM2.5</th></tr><tr><td>str</td><td>i64</td><td>i64</td><td>i64</td></tr></thead><tbody><tr><td>&quot;2022/7/14 00:0…</td><td>32</td><td>3</td><td>4</td></tr><tr><td>&quot;2022/7/14 01:0…</td><td>32</td><td>2</td><td>4</td></tr><tr><td>&quot;2022/7/14 02:0…</td><td>32</td><td>2</td><td>4</td></tr><tr><td>&quot;2022/7/14 03:0…</td><td>32</td><td>7</td><td>4</td></tr><tr><td>&quot;2022/7/14 04:0…</td><td>32</td><td>7</td><td>6</td></tr></tbody></table></div>"
      ],
      "text/plain": [
       "shape: (5, 4)\n",
       "┌─────────────────┬────────┬───────┬───────────────┐\n",
       "│ PublishTime     ┆ SiteId ┆ PM2.5 ┆ Predict_PM2.5 │\n",
       "│ ---             ┆ ---    ┆ ---   ┆ ---           │\n",
       "│ str             ┆ i64    ┆ i64   ┆ i64           │\n",
       "╞═════════════════╪════════╪═══════╪═══════════════╡\n",
       "│ 2022/7/14 00:00 ┆ 32     ┆ 3     ┆ 4             │\n",
       "│ 2022/7/14 01:00 ┆ 32     ┆ 2     ┆ 4             │\n",
       "│ 2022/7/14 02:00 ┆ 32     ┆ 2     ┆ 4             │\n",
       "│ 2022/7/14 03:00 ┆ 32     ┆ 7     ┆ 4             │\n",
       "│ 2022/7/14 04:00 ┆ 32     ┆ 7     ┆ 6             │\n",
       "└─────────────────┴────────┴───────┴───────────────┘"
      ]
     },
     "execution_count": 24,
     "metadata": {},
     "output_type": "execute_result"
    }
   ],
   "source": [
    "result = pl.DataFrame(schema = {\n",
    "    'PublishTime': str,\n",
    "    'SiteId': pl.Int64,\n",
    "    'PM2.5': pl.Int64,\n",
    "    'Predict_PM2.5': pl.Int64 \n",
    "})\n",
    "last = None\n",
    "for features, target in zip(dataset_features.rows(), dataset_target.rows()):\n",
    "    if last:\n",
    "        time = f'{features[1]}/{features[2]}/{features[3]} {features[4]:02}:00'\n",
    "        real_val = int(target[0])\n",
    "        predict_val = predict_function(np.array(last))\n",
    "        result.extend(pl.DataFrame({\n",
    "            'PublishTime': time,\n",
    "            'SiteId': 32,\n",
    "            'PM2.5': real_val,\n",
    "            'Predict_PM2.5': predict_val \n",
    "        }))\n",
    "\n",
    "    last = features\n",
    "result.head()"
   ]
  },
  {
   "cell_type": "code",
   "execution_count": 25,
   "metadata": {},
   "outputs": [],
   "source": [
    "result.write_csv('./Submission.csv')"
   ]
  }
 ],
 "metadata": {
  "kernelspec": {
   "display_name": "bap",
   "language": "python",
   "name": "python3"
  },
  "language_info": {
   "codemirror_mode": {
    "name": "ipython",
    "version": 3
   },
   "file_extension": ".py",
   "mimetype": "text/x-python",
   "name": "python",
   "nbconvert_exporter": "python",
   "pygments_lexer": "ipython3",
   "version": "3.10.11"
  },
  "orig_nbformat": 4
 },
 "nbformat": 4,
 "nbformat_minor": 2
}
